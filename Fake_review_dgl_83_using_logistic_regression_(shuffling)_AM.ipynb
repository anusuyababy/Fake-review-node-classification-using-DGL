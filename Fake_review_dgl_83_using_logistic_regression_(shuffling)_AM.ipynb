{
  "cells": [
    {
      "cell_type": "markdown",
      "metadata": {
        "id": "zicTH6Fi8rIf"
      },
      "source": [
        "# FAKE REVIEW NODE EMBEDDING"
      ]
    },
    {
      "cell_type": "code",
      "source": [
        "# importing all necessary libraries\n",
        "import networkx as nx\n",
        "import pandas as pd\n",
        "import numpy as np\n",
        "import matplotlib.pyplot as plt\n",
        "import seaborn as sns\n",
        "import string\n",
        "import os\n",
        "import networkx as nx\n",
        "from sklearn import preprocessing, model_selection\n",
        "from IPython.display import display, HTML\n",
        "import matplotlib.pyplot as plt\n",
        "from sklearn.decomposition import PCA\n",
        "#from node2vec import Node2Vec as n2v\n",
        "sns.set()\n",
        "\n",
        "%matplotlib inline"
      ],
      "metadata": {
        "id": "QnCy6AgP5iwy"
      },
      "execution_count": 1,
      "outputs": []
    },
    {
      "cell_type": "code",
      "source": [
        "import os, sys\n",
        "from copy import deepcopy\n",
        "import numpy as np\n",
        "import pandas as pd\n",
        "\n",
        "import torch as th\n",
        "import torch.nn as nn\n",
        "from torch import optim\n",
        "import torch.nn.functional as F\n",
        "\n",
        "import matplotlib.pyplot as plt\n",
        "%matplotlib inline"
      ],
      "metadata": {
        "id": "KTxBYEEjBBc4"
      },
      "execution_count": 2,
      "outputs": []
    },
    {
      "cell_type": "code",
      "source": [
        "print(f\"Torch version: {th.__version__}.  CUDA version: {th.version.cuda}\")"
      ],
      "metadata": {
        "colab": {
          "base_uri": "https://localhost:8080/"
        },
        "id": "WfZg4oZpBD4X",
        "outputId": "7ef29b41-cd54-49bd-8c26-b5b6b3d29bb2"
      },
      "execution_count": 3,
      "outputs": [
        {
          "output_type": "stream",
          "name": "stdout",
          "text": [
            "Torch version: 1.12.1+cu113.  CUDA version: 11.3\n"
          ]
        }
      ]
    },
    {
      "cell_type": "code",
      "source": [
        "dgl_version = f\"dgl-cu{th.version.cuda.replace('.', '')}==0.7.2\"\n",
        "dgl_version"
      ],
      "metadata": {
        "colab": {
          "base_uri": "https://localhost:8080/",
          "height": 36
        },
        "id": "twxQrYR2BD7P",
        "outputId": "0c8c6fb0-4d88-4e7c-9675-ee0e032c3cb9"
      },
      "execution_count": 4,
      "outputs": [
        {
          "output_type": "execute_result",
          "data": {
            "text/plain": [
              "'dgl-cu113==0.7.2'"
            ],
            "application/vnd.google.colaboratory.intrinsic+json": {
              "type": "string"
            }
          },
          "metadata": {},
          "execution_count": 4
        }
      ]
    },
    {
      "cell_type": "code",
      "source": [
        "# Follow instructions at https://www.dgl.ai/pages/start.html\n",
        "!{sys.executable} -m pip install {dgl_version} -f https://data.dgl.ai/wheels/repo.html"
      ],
      "metadata": {
        "colab": {
          "base_uri": "https://localhost:8080/"
        },
        "id": "yMMKD4XJBD-A",
        "outputId": "ed916ab1-39c5-4d58-a7e5-f2b083714741"
      },
      "execution_count": 5,
      "outputs": [
        {
          "output_type": "stream",
          "name": "stdout",
          "text": [
            "Looking in indexes: https://pypi.org/simple, https://us-python.pkg.dev/colab-wheels/public/simple/\n",
            "Looking in links: https://data.dgl.ai/wheels/repo.html\n",
            "Collecting dgl-cu113==0.7.2\n",
            "  Downloading https://data.dgl.ai/wheels/dgl_cu113-0.7.2-cp37-cp37m-manylinux1_x86_64.whl (152.9 MB)\n",
            "\u001b[K     |████████████████████████████████| 152.9 MB 34 kB/s \n",
            "\u001b[?25hRequirement already satisfied: networkx>=2.1 in /usr/local/lib/python3.7/dist-packages (from dgl-cu113==0.7.2) (2.6.3)\n",
            "Requirement already satisfied: requests>=2.19.0 in /usr/local/lib/python3.7/dist-packages (from dgl-cu113==0.7.2) (2.23.0)\n",
            "Requirement already satisfied: numpy>=1.14.0 in /usr/local/lib/python3.7/dist-packages (from dgl-cu113==0.7.2) (1.21.6)\n",
            "Requirement already satisfied: scipy>=1.1.0 in /usr/local/lib/python3.7/dist-packages (from dgl-cu113==0.7.2) (1.7.3)\n",
            "Requirement already satisfied: idna<3,>=2.5 in /usr/local/lib/python3.7/dist-packages (from requests>=2.19.0->dgl-cu113==0.7.2) (2.10)\n",
            "Requirement already satisfied: certifi>=2017.4.17 in /usr/local/lib/python3.7/dist-packages (from requests>=2.19.0->dgl-cu113==0.7.2) (2022.9.24)\n",
            "Requirement already satisfied: urllib3!=1.25.0,!=1.25.1,<1.26,>=1.21.1 in /usr/local/lib/python3.7/dist-packages (from requests>=2.19.0->dgl-cu113==0.7.2) (1.24.3)\n",
            "Requirement already satisfied: chardet<4,>=3.0.2 in /usr/local/lib/python3.7/dist-packages (from requests>=2.19.0->dgl-cu113==0.7.2) (3.0.4)\n",
            "Installing collected packages: dgl-cu113\n",
            "Successfully installed dgl-cu113-0.7.2\n"
          ]
        }
      ]
    },
    {
      "cell_type": "code",
      "source": [
        "os.environ['DGLBACKEND'] = 'pytorch'\n",
        "import dgl\n",
        "from dgl import function as fn"
      ],
      "metadata": {
        "id": "XtlC3DSzBM1X",
        "colab": {
          "base_uri": "https://localhost:8080/"
        },
        "outputId": "bd5370dd-8f53-4531-b584-94eefd319343"
      },
      "execution_count": 6,
      "outputs": [
        {
          "output_type": "stream",
          "name": "stderr",
          "text": [
            "Using backend: pytorch\n"
          ]
        }
      ]
    },
    {
      "cell_type": "code",
      "source": [
        "dgl.__version__"
      ],
      "metadata": {
        "colab": {
          "base_uri": "https://localhost:8080/",
          "height": 36
        },
        "id": "lI7WmNtIBO4v",
        "outputId": "d13d6537-fd43-461d-a35f-29be7f16f4ba"
      },
      "execution_count": 7,
      "outputs": [
        {
          "output_type": "execute_result",
          "data": {
            "text/plain": [
              "'0.7.2'"
            ],
            "application/vnd.google.colaboratory.intrinsic+json": {
              "type": "string"
            }
          },
          "metadata": {},
          "execution_count": 7
        }
      ]
    },
    {
      "cell_type": "code",
      "source": [
        "from dgl.dataloading.pytorch import NodeDataLoader\n",
        "device = th.device('cuda' if th.cuda.is_available() else 'cpu')\n",
        "device"
      ],
      "metadata": {
        "colab": {
          "base_uri": "https://localhost:8080/"
        },
        "id": "KdAM2bOfBPlP",
        "outputId": "a6d4b98d-4a5c-412c-b812-b2e5c6de4e1d"
      },
      "execution_count": 8,
      "outputs": [
        {
          "output_type": "execute_result",
          "data": {
            "text/plain": [
              "device(type='cuda')"
            ]
          },
          "metadata": {},
          "execution_count": 8
        }
      ]
    },
    {
      "cell_type": "code",
      "source": [
        "import torch\n",
        "import torch.nn as nn\n",
        "from sklearn.linear_model import LogisticRegression\n",
        "from torch.utils.data import DataLoader\n",
        "import argparse\n",
        "\n",
        "from dgl.sampling import node2vec_random_walk"
      ],
      "metadata": {
        "id": "uP4cYiv4BgRa"
      },
      "execution_count": 9,
      "outputs": []
    },
    {
      "cell_type": "code",
      "source": [
        "#importing libraries\n",
        "import numpy as np\n",
        "import pandas as pd\n",
        "import nltk\n",
        "import matplotlib.pyplot as plt\n",
        "import statistics\n",
        "import math\n",
        "import os\n",
        "from sklearn.model_selection import KFold, StratifiedKFold, cross_val_score\n",
        "from sklearn.metrics import confusion_matrix\n",
        "nltk.download('stopwords')\n",
        "nltk.download('punkt')\n",
        "nltk.download('wordnet')\n",
        "nltk.download('omw-1.4')\n",
        "#nltk.download('all')\n",
        "import re\n",
        "pd.set_option('max_colwidth', 800)\n",
        "\n",
        "\n",
        "#importing Libraies\n",
        "import networkx as nx\n",
        "import matplotlib.pyplot as plt\n",
        "from numpy import genfromtxt\n",
        "import collections\n",
        "from collections import OrderedDict\n",
        "\n",
        "import matplotlib.pyplot as plt\n",
        "%matplotlib inline\n",
        "from sklearn.model_selection import train_test_split\n",
        "from sklearn.model_selection import KFold\n",
        "from sklearn.model_selection import cross_val_score\n",
        "from sklearn.tree import DecisionTreeClassifier\n",
        "from sklearn.feature_selection import SelectFromModel\n",
        "from sklearn.svm import SVC\n",
        "from sklearn.preprocessing import StandardScaler,MinMaxScaler\n",
        "from sklearn.linear_model import LinearRegression,LogisticRegression, RidgeClassifier\n",
        "from sklearn.discriminant_analysis import LinearDiscriminantAnalysis, QuadraticDiscriminantAnalysis\n",
        "from sklearn.ensemble import RandomForestClassifier, GradientBoostingClassifier, AdaBoostClassifier\n",
        "from sklearn.preprocessing import LabelEncoder\n",
        "from sklearn.metrics import classification_report,accuracy_score"
      ],
      "metadata": {
        "colab": {
          "base_uri": "https://localhost:8080/"
        },
        "id": "zvMyzp-I1CU6",
        "outputId": "9ca87f04-40ac-4c5d-dd0f-44ba5389e114"
      },
      "execution_count": 10,
      "outputs": [
        {
          "output_type": "stream",
          "name": "stderr",
          "text": [
            "[nltk_data] Downloading package stopwords to /root/nltk_data...\n",
            "[nltk_data]   Unzipping corpora/stopwords.zip.\n",
            "[nltk_data] Downloading package punkt to /root/nltk_data...\n",
            "[nltk_data]   Unzipping tokenizers/punkt.zip.\n",
            "[nltk_data] Downloading package wordnet to /root/nltk_data...\n",
            "[nltk_data] Downloading package omw-1.4 to /root/nltk_data...\n"
          ]
        }
      ]
    },
    {
      "cell_type": "code",
      "source": [
        "#loading dataset\n",
        "df=pd.read_csv('/content/deceptive.csv')\n",
        "df.head()"
      ],
      "metadata": {
        "colab": {
          "base_uri": "https://localhost:8080/",
          "height": 510
        },
        "id": "56yBSCmN1CSB",
        "outputId": "cf6f9045-8ce3-4c4e-b91e-52f1c3d071ed"
      },
      "execution_count": 11,
      "outputs": [
        {
          "output_type": "execute_result",
          "data": {
            "text/plain": [
              "  deceptive   hotel  polarity       source  \\\n",
              "0  truthful  conrad  positive  TripAdvisor   \n",
              "1  truthful   hyatt  positive  TripAdvisor   \n",
              "2  truthful   hyatt  positive  TripAdvisor   \n",
              "3  truthful    omni  positive  TripAdvisor   \n",
              "4  truthful   hyatt  positive  TripAdvisor   \n",
              "\n",
              "                                                                                                                                                                                                                                                                                                                                                                                                                                                                                                                                                                                                                                                                                                                                                                                                                              text  \\\n",
              "0                                                                                                                                                                                                                                    We stayed for a one night getaway with family on a thursday. Triple AAA rate of 173 was a steal. 7th floor room complete with 44in plasma TV bose stereo, voss and evian water, and gorgeous bathroom(no tub but was fine for us) Concierge was very helpful. You cannot beat this location... Only flaw was breakfast was pricey and service was very very slow(2hours for four kids and four adults on a friday morning) even though there were only two other tables in the restaurant. Food was very good so it was worth the wait. I would return in a heartbeat. A gem in chicago... \\n   \n",
              "1                                                                                                                                                                                                                                                                                                                                                                                                                                                                                                                                  Triple A rate with upgrade to view room was less than $200 which also included breakfast vouchers. Had a great view of river, lake, Wrigley Bldg. & Tribune Bldg. Most major restaurants, Shopping, Sightseeing attractions within walking distance. Large room with a very comfortable bed. \\n   \n",
              "2  This comes a little late as I'm finally catching up on my reviews from the past several months:) A dear friend and I stayed at the Hyatt Regency in late October 2007 for one night while visiting a friend and her husband from out of town. This hotel is perfect, IMO. Easy check in and check out. Lovely, clean, comfortable rooms with great views of the city. I know this area pretty well and it's very convenient to many downtown Chicago attractions. We had dinner and went clubing with our friends around Division St.. We had no problems getting cabs back and forth to the Hyatt and there's even public transportation right near by but we didn't bother since we only needed cabs from and to the hotel. Parking, as is usual for Chicago, was expensive but we were able to get our car out quickly (h...   \n",
              "3                                                                                             The Omni Chicago really delivers on all fronts, from the spaciousness of the rooms to the helpful staff to the prized location on Michigan Avenue. While this address in Chicago requires a high level of quality, the Omni delivers. Check in for myself and a whole group of people with me was under 3 minutes, the staff had plentiful recommendations for dining and events, and the rooms are some of the largest you'll find at this price range in Chicago. Even the 'standard' room has a separate living area and work desk. The fitness center has free weights, weight machines, and two rows of cardio equipment. I shared the room with 7 others and did not feel cramped in any way! All in all, a great property! \\n   \n",
              "4                                                                                                                                                                                                                                                                                                                                                                                                                                I asked for a high floor away from the elevator and that is what I got. The room was pleasantly decorated, functional and very clean. I didn't need a whole lot of service but when I did they were pleasant and prompt. I used the fitness center which was well equipped and everything was in working order. It is in a great location at one end of the Michigan Avenue shopping district. \\n   \n",
              "\n",
              "   Class  \n",
              "0      1  \n",
              "1      1  \n",
              "2      1  \n",
              "3      1  \n",
              "4      1  "
            ],
            "text/html": [
              "\n",
              "  <div id=\"df-4c2b1351-4207-47c8-bdb5-826c50b2636a\">\n",
              "    <div class=\"colab-df-container\">\n",
              "      <div>\n",
              "<style scoped>\n",
              "    .dataframe tbody tr th:only-of-type {\n",
              "        vertical-align: middle;\n",
              "    }\n",
              "\n",
              "    .dataframe tbody tr th {\n",
              "        vertical-align: top;\n",
              "    }\n",
              "\n",
              "    .dataframe thead th {\n",
              "        text-align: right;\n",
              "    }\n",
              "</style>\n",
              "<table border=\"1\" class=\"dataframe\">\n",
              "  <thead>\n",
              "    <tr style=\"text-align: right;\">\n",
              "      <th></th>\n",
              "      <th>deceptive</th>\n",
              "      <th>hotel</th>\n",
              "      <th>polarity</th>\n",
              "      <th>source</th>\n",
              "      <th>text</th>\n",
              "      <th>Class</th>\n",
              "    </tr>\n",
              "  </thead>\n",
              "  <tbody>\n",
              "    <tr>\n",
              "      <th>0</th>\n",
              "      <td>truthful</td>\n",
              "      <td>conrad</td>\n",
              "      <td>positive</td>\n",
              "      <td>TripAdvisor</td>\n",
              "      <td>We stayed for a one night getaway with family on a thursday. Triple AAA rate of 173 was a steal. 7th floor room complete with 44in plasma TV bose stereo, voss and evian water, and gorgeous bathroom(no tub but was fine for us) Concierge was very helpful. You cannot beat this location... Only flaw was breakfast was pricey and service was very very slow(2hours for four kids and four adults on a friday morning) even though there were only two other tables in the restaurant. Food was very good so it was worth the wait. I would return in a heartbeat. A gem in chicago... \\n</td>\n",
              "      <td>1</td>\n",
              "    </tr>\n",
              "    <tr>\n",
              "      <th>1</th>\n",
              "      <td>truthful</td>\n",
              "      <td>hyatt</td>\n",
              "      <td>positive</td>\n",
              "      <td>TripAdvisor</td>\n",
              "      <td>Triple A rate with upgrade to view room was less than $200 which also included breakfast vouchers. Had a great view of river, lake, Wrigley Bldg. &amp; Tribune Bldg. Most major restaurants, Shopping, Sightseeing attractions within walking distance. Large room with a very comfortable bed. \\n</td>\n",
              "      <td>1</td>\n",
              "    </tr>\n",
              "    <tr>\n",
              "      <th>2</th>\n",
              "      <td>truthful</td>\n",
              "      <td>hyatt</td>\n",
              "      <td>positive</td>\n",
              "      <td>TripAdvisor</td>\n",
              "      <td>This comes a little late as I'm finally catching up on my reviews from the past several months:) A dear friend and I stayed at the Hyatt Regency in late October 2007 for one night while visiting a friend and her husband from out of town. This hotel is perfect, IMO. Easy check in and check out. Lovely, clean, comfortable rooms with great views of the city. I know this area pretty well and it's very convenient to many downtown Chicago attractions. We had dinner and went clubing with our friends around Division St.. We had no problems getting cabs back and forth to the Hyatt and there's even public transportation right near by but we didn't bother since we only needed cabs from and to the hotel. Parking, as is usual for Chicago, was expensive but we were able to get our car out quickly (h...</td>\n",
              "      <td>1</td>\n",
              "    </tr>\n",
              "    <tr>\n",
              "      <th>3</th>\n",
              "      <td>truthful</td>\n",
              "      <td>omni</td>\n",
              "      <td>positive</td>\n",
              "      <td>TripAdvisor</td>\n",
              "      <td>The Omni Chicago really delivers on all fronts, from the spaciousness of the rooms to the helpful staff to the prized location on Michigan Avenue. While this address in Chicago requires a high level of quality, the Omni delivers. Check in for myself and a whole group of people with me was under 3 minutes, the staff had plentiful recommendations for dining and events, and the rooms are some of the largest you'll find at this price range in Chicago. Even the 'standard' room has a separate living area and work desk. The fitness center has free weights, weight machines, and two rows of cardio equipment. I shared the room with 7 others and did not feel cramped in any way! All in all, a great property! \\n</td>\n",
              "      <td>1</td>\n",
              "    </tr>\n",
              "    <tr>\n",
              "      <th>4</th>\n",
              "      <td>truthful</td>\n",
              "      <td>hyatt</td>\n",
              "      <td>positive</td>\n",
              "      <td>TripAdvisor</td>\n",
              "      <td>I asked for a high floor away from the elevator and that is what I got. The room was pleasantly decorated, functional and very clean. I didn't need a whole lot of service but when I did they were pleasant and prompt. I used the fitness center which was well equipped and everything was in working order. It is in a great location at one end of the Michigan Avenue shopping district. \\n</td>\n",
              "      <td>1</td>\n",
              "    </tr>\n",
              "  </tbody>\n",
              "</table>\n",
              "</div>\n",
              "      <button class=\"colab-df-convert\" onclick=\"convertToInteractive('df-4c2b1351-4207-47c8-bdb5-826c50b2636a')\"\n",
              "              title=\"Convert this dataframe to an interactive table.\"\n",
              "              style=\"display:none;\">\n",
              "        \n",
              "  <svg xmlns=\"http://www.w3.org/2000/svg\" height=\"24px\"viewBox=\"0 0 24 24\"\n",
              "       width=\"24px\">\n",
              "    <path d=\"M0 0h24v24H0V0z\" fill=\"none\"/>\n",
              "    <path d=\"M18.56 5.44l.94 2.06.94-2.06 2.06-.94-2.06-.94-.94-2.06-.94 2.06-2.06.94zm-11 1L8.5 8.5l.94-2.06 2.06-.94-2.06-.94L8.5 2.5l-.94 2.06-2.06.94zm10 10l.94 2.06.94-2.06 2.06-.94-2.06-.94-.94-2.06-.94 2.06-2.06.94z\"/><path d=\"M17.41 7.96l-1.37-1.37c-.4-.4-.92-.59-1.43-.59-.52 0-1.04.2-1.43.59L10.3 9.45l-7.72 7.72c-.78.78-.78 2.05 0 2.83L4 21.41c.39.39.9.59 1.41.59.51 0 1.02-.2 1.41-.59l7.78-7.78 2.81-2.81c.8-.78.8-2.07 0-2.86zM5.41 20L4 18.59l7.72-7.72 1.47 1.35L5.41 20z\"/>\n",
              "  </svg>\n",
              "      </button>\n",
              "      \n",
              "  <style>\n",
              "    .colab-df-container {\n",
              "      display:flex;\n",
              "      flex-wrap:wrap;\n",
              "      gap: 12px;\n",
              "    }\n",
              "\n",
              "    .colab-df-convert {\n",
              "      background-color: #E8F0FE;\n",
              "      border: none;\n",
              "      border-radius: 50%;\n",
              "      cursor: pointer;\n",
              "      display: none;\n",
              "      fill: #1967D2;\n",
              "      height: 32px;\n",
              "      padding: 0 0 0 0;\n",
              "      width: 32px;\n",
              "    }\n",
              "\n",
              "    .colab-df-convert:hover {\n",
              "      background-color: #E2EBFA;\n",
              "      box-shadow: 0px 1px 2px rgba(60, 64, 67, 0.3), 0px 1px 3px 1px rgba(60, 64, 67, 0.15);\n",
              "      fill: #174EA6;\n",
              "    }\n",
              "\n",
              "    [theme=dark] .colab-df-convert {\n",
              "      background-color: #3B4455;\n",
              "      fill: #D2E3FC;\n",
              "    }\n",
              "\n",
              "    [theme=dark] .colab-df-convert:hover {\n",
              "      background-color: #434B5C;\n",
              "      box-shadow: 0px 1px 3px 1px rgba(0, 0, 0, 0.15);\n",
              "      filter: drop-shadow(0px 1px 2px rgba(0, 0, 0, 0.3));\n",
              "      fill: #FFFFFF;\n",
              "    }\n",
              "  </style>\n",
              "\n",
              "      <script>\n",
              "        const buttonEl =\n",
              "          document.querySelector('#df-4c2b1351-4207-47c8-bdb5-826c50b2636a button.colab-df-convert');\n",
              "        buttonEl.style.display =\n",
              "          google.colab.kernel.accessAllowed ? 'block' : 'none';\n",
              "\n",
              "        async function convertToInteractive(key) {\n",
              "          const element = document.querySelector('#df-4c2b1351-4207-47c8-bdb5-826c50b2636a');\n",
              "          const dataTable =\n",
              "            await google.colab.kernel.invokeFunction('convertToInteractive',\n",
              "                                                     [key], {});\n",
              "          if (!dataTable) return;\n",
              "\n",
              "          const docLinkHtml = 'Like what you see? Visit the ' +\n",
              "            '<a target=\"_blank\" href=https://colab.research.google.com/notebooks/data_table.ipynb>data table notebook</a>'\n",
              "            + ' to learn more about interactive tables.';\n",
              "          element.innerHTML = '';\n",
              "          dataTable['output_type'] = 'display_data';\n",
              "          await google.colab.output.renderOutput(dataTable, element);\n",
              "          const docLink = document.createElement('div');\n",
              "          docLink.innerHTML = docLinkHtml;\n",
              "          element.appendChild(docLink);\n",
              "        }\n",
              "      </script>\n",
              "    </div>\n",
              "  </div>\n",
              "  "
            ]
          },
          "metadata": {},
          "execution_count": 11
        }
      ]
    },
    {
      "cell_type": "code",
      "source": [
        "df = df.sample(frac=1, random_state=42).reset_index(drop=True)"
      ],
      "metadata": {
        "id": "ydjQBjajXhta"
      },
      "execution_count": 12,
      "outputs": []
    },
    {
      "cell_type": "code",
      "source": [
        "df.shape"
      ],
      "metadata": {
        "colab": {
          "base_uri": "https://localhost:8080/"
        },
        "id": "fhz_MORRXlrS",
        "outputId": "65e65da0-d8e7-4d88-a478-1921ef524d6a"
      },
      "execution_count": 13,
      "outputs": [
        {
          "output_type": "execute_result",
          "data": {
            "text/plain": [
              "(1600, 6)"
            ]
          },
          "metadata": {},
          "execution_count": 13
        }
      ]
    },
    {
      "cell_type": "code",
      "source": [
        "df['Class'].value_counts()"
      ],
      "metadata": {
        "colab": {
          "base_uri": "https://localhost:8080/"
        },
        "id": "gIqg1tqk1CL5",
        "outputId": "d01c859b-e711-437b-8385-bfdde047a3b6"
      },
      "execution_count": 14,
      "outputs": [
        {
          "output_type": "execute_result",
          "data": {
            "text/plain": [
              "0    800\n",
              "1    800\n",
              "Name: Class, dtype: int64"
            ]
          },
          "metadata": {},
          "execution_count": 14
        }
      ]
    },
    {
      "cell_type": "code",
      "source": [
        "# dropping unnecessary columns. \n",
        "df.drop(['deceptive', 'hotel', 'polarity', 'source'], axis = 1, inplace=True)\n",
        "df.head()"
      ],
      "metadata": {
        "colab": {
          "base_uri": "https://localhost:8080/",
          "height": 424
        },
        "id": "PCAf1wlZ1CI5",
        "outputId": "a8e87102-c505-456c-d61b-3b933bb28697"
      },
      "execution_count": 15,
      "outputs": [
        {
          "output_type": "execute_result",
          "data": {
            "text/plain": [
              "                                                                                                                                                                                                                                                                                                                                                                                                                                                                                                                                                                                                                                                                                                                                                                                                                              text  \\\n",
              "0                                                                                                                                                                                                                                                                                                                                                                                         This is the hotel for the discriminating business traveler. It offers spacious rooms that are elegant and refined. With a cozy area complete with chairs and fireplace, they are the perfect place to entertain clients or discuss strategy for a business meeting with a colleague. The restaurant offers just the location to impress a perspective client. And all of this elegance and refinement in the heart of downtown Chicago\\n   \n",
              "1                                                                                                                                                                                                                                                                                                                                                                         What a wonderful experience, super great, helpful, friendly staff. Angie at the front desk made sure my husbands birthday would be great. Our room was beautiful. Angie suggested we go to Sullivans for dinner..perfect choice, make the reservation for us.(best seat in the house and a special dessert) wow...Above and beyond what any other hotel or staff has done for us before..Looking forward to staying there again & again. THANKS AGAIN \\n   \n",
              "2                                                                                                                                                                                                                                                                                                                                                                                                                                                                                                                                    I stayed at the Talbott twice in the last few weeks. I was very pleased with every facet of my stays. The staff, from doormen to front desk, to concierge, to housekeeping, were wonderful. The rooms were nicely sized and clean, and well stocked. I will return to the Talbott anytime! \\n   \n",
              "3                                                                                                                                                                                                                                                                                                                                                                                                                                                                                                                                                                                                    My boyfriend and I were amazed by the breathtaking view of Lake Michigan! We are from Texas so the view of the city was very important to us. We had no problems at this hotel... rooms, service, location were top notch. \\n   \n",
              "4  Rude, rude, rude! We stayed here on July 4th weekend. We drove from Michigan, we called customer service to get directions from I-95 w/c is a major highway to Chicago-- calling them from a cellphone, telling them we're in a middle of a storm and that we're lost....we were put on hold, forwarded to another person who did not know how to get to the hotel and we were on hold again. Giving up we decided to just exit the highway and try our luck at a 7-11 store. When we finally arrived at the hotel at 2 am no one was there to take care of our car so we looked for parking ourselves. Checking in we were not greeted by anyone, even the receptionist did not greet us!! no welcome to the knickerbocker, nothing! The man at the reception was rude, which makes me think what kind of customer service ...   \n",
              "\n",
              "   Class  \n",
              "0      0  \n",
              "1      1  \n",
              "2      1  \n",
              "3      1  \n",
              "4      1  "
            ],
            "text/html": [
              "\n",
              "  <div id=\"df-57fdb2d4-c14d-4f6b-89d6-ecbcdba12554\">\n",
              "    <div class=\"colab-df-container\">\n",
              "      <div>\n",
              "<style scoped>\n",
              "    .dataframe tbody tr th:only-of-type {\n",
              "        vertical-align: middle;\n",
              "    }\n",
              "\n",
              "    .dataframe tbody tr th {\n",
              "        vertical-align: top;\n",
              "    }\n",
              "\n",
              "    .dataframe thead th {\n",
              "        text-align: right;\n",
              "    }\n",
              "</style>\n",
              "<table border=\"1\" class=\"dataframe\">\n",
              "  <thead>\n",
              "    <tr style=\"text-align: right;\">\n",
              "      <th></th>\n",
              "      <th>text</th>\n",
              "      <th>Class</th>\n",
              "    </tr>\n",
              "  </thead>\n",
              "  <tbody>\n",
              "    <tr>\n",
              "      <th>0</th>\n",
              "      <td>This is the hotel for the discriminating business traveler. It offers spacious rooms that are elegant and refined. With a cozy area complete with chairs and fireplace, they are the perfect place to entertain clients or discuss strategy for a business meeting with a colleague. The restaurant offers just the location to impress a perspective client. And all of this elegance and refinement in the heart of downtown Chicago\\n</td>\n",
              "      <td>0</td>\n",
              "    </tr>\n",
              "    <tr>\n",
              "      <th>1</th>\n",
              "      <td>What a wonderful experience, super great, helpful, friendly staff. Angie at the front desk made sure my husbands birthday would be great. Our room was beautiful. Angie suggested we go to Sullivans for dinner..perfect choice, make the reservation for us.(best seat in the house and a special dessert) wow...Above and beyond what any other hotel or staff has done for us before..Looking forward to staying there again &amp; again. THANKS AGAIN \\n</td>\n",
              "      <td>1</td>\n",
              "    </tr>\n",
              "    <tr>\n",
              "      <th>2</th>\n",
              "      <td>I stayed at the Talbott twice in the last few weeks. I was very pleased with every facet of my stays. The staff, from doormen to front desk, to concierge, to housekeeping, were wonderful. The rooms were nicely sized and clean, and well stocked. I will return to the Talbott anytime! \\n</td>\n",
              "      <td>1</td>\n",
              "    </tr>\n",
              "    <tr>\n",
              "      <th>3</th>\n",
              "      <td>My boyfriend and I were amazed by the breathtaking view of Lake Michigan! We are from Texas so the view of the city was very important to us. We had no problems at this hotel... rooms, service, location were top notch. \\n</td>\n",
              "      <td>1</td>\n",
              "    </tr>\n",
              "    <tr>\n",
              "      <th>4</th>\n",
              "      <td>Rude, rude, rude! We stayed here on July 4th weekend. We drove from Michigan, we called customer service to get directions from I-95 w/c is a major highway to Chicago-- calling them from a cellphone, telling them we're in a middle of a storm and that we're lost....we were put on hold, forwarded to another person who did not know how to get to the hotel and we were on hold again. Giving up we decided to just exit the highway and try our luck at a 7-11 store. When we finally arrived at the hotel at 2 am no one was there to take care of our car so we looked for parking ourselves. Checking in we were not greeted by anyone, even the receptionist did not greet us!! no welcome to the knickerbocker, nothing! The man at the reception was rude, which makes me think what kind of customer service ...</td>\n",
              "      <td>1</td>\n",
              "    </tr>\n",
              "  </tbody>\n",
              "</table>\n",
              "</div>\n",
              "      <button class=\"colab-df-convert\" onclick=\"convertToInteractive('df-57fdb2d4-c14d-4f6b-89d6-ecbcdba12554')\"\n",
              "              title=\"Convert this dataframe to an interactive table.\"\n",
              "              style=\"display:none;\">\n",
              "        \n",
              "  <svg xmlns=\"http://www.w3.org/2000/svg\" height=\"24px\"viewBox=\"0 0 24 24\"\n",
              "       width=\"24px\">\n",
              "    <path d=\"M0 0h24v24H0V0z\" fill=\"none\"/>\n",
              "    <path d=\"M18.56 5.44l.94 2.06.94-2.06 2.06-.94-2.06-.94-.94-2.06-.94 2.06-2.06.94zm-11 1L8.5 8.5l.94-2.06 2.06-.94-2.06-.94L8.5 2.5l-.94 2.06-2.06.94zm10 10l.94 2.06.94-2.06 2.06-.94-2.06-.94-.94-2.06-.94 2.06-2.06.94z\"/><path d=\"M17.41 7.96l-1.37-1.37c-.4-.4-.92-.59-1.43-.59-.52 0-1.04.2-1.43.59L10.3 9.45l-7.72 7.72c-.78.78-.78 2.05 0 2.83L4 21.41c.39.39.9.59 1.41.59.51 0 1.02-.2 1.41-.59l7.78-7.78 2.81-2.81c.8-.78.8-2.07 0-2.86zM5.41 20L4 18.59l7.72-7.72 1.47 1.35L5.41 20z\"/>\n",
              "  </svg>\n",
              "      </button>\n",
              "      \n",
              "  <style>\n",
              "    .colab-df-container {\n",
              "      display:flex;\n",
              "      flex-wrap:wrap;\n",
              "      gap: 12px;\n",
              "    }\n",
              "\n",
              "    .colab-df-convert {\n",
              "      background-color: #E8F0FE;\n",
              "      border: none;\n",
              "      border-radius: 50%;\n",
              "      cursor: pointer;\n",
              "      display: none;\n",
              "      fill: #1967D2;\n",
              "      height: 32px;\n",
              "      padding: 0 0 0 0;\n",
              "      width: 32px;\n",
              "    }\n",
              "\n",
              "    .colab-df-convert:hover {\n",
              "      background-color: #E2EBFA;\n",
              "      box-shadow: 0px 1px 2px rgba(60, 64, 67, 0.3), 0px 1px 3px 1px rgba(60, 64, 67, 0.15);\n",
              "      fill: #174EA6;\n",
              "    }\n",
              "\n",
              "    [theme=dark] .colab-df-convert {\n",
              "      background-color: #3B4455;\n",
              "      fill: #D2E3FC;\n",
              "    }\n",
              "\n",
              "    [theme=dark] .colab-df-convert:hover {\n",
              "      background-color: #434B5C;\n",
              "      box-shadow: 0px 1px 3px 1px rgba(0, 0, 0, 0.15);\n",
              "      filter: drop-shadow(0px 1px 2px rgba(0, 0, 0, 0.3));\n",
              "      fill: #FFFFFF;\n",
              "    }\n",
              "  </style>\n",
              "\n",
              "      <script>\n",
              "        const buttonEl =\n",
              "          document.querySelector('#df-57fdb2d4-c14d-4f6b-89d6-ecbcdba12554 button.colab-df-convert');\n",
              "        buttonEl.style.display =\n",
              "          google.colab.kernel.accessAllowed ? 'block' : 'none';\n",
              "\n",
              "        async function convertToInteractive(key) {\n",
              "          const element = document.querySelector('#df-57fdb2d4-c14d-4f6b-89d6-ecbcdba12554');\n",
              "          const dataTable =\n",
              "            await google.colab.kernel.invokeFunction('convertToInteractive',\n",
              "                                                     [key], {});\n",
              "          if (!dataTable) return;\n",
              "\n",
              "          const docLinkHtml = 'Like what you see? Visit the ' +\n",
              "            '<a target=\"_blank\" href=https://colab.research.google.com/notebooks/data_table.ipynb>data table notebook</a>'\n",
              "            + ' to learn more about interactive tables.';\n",
              "          element.innerHTML = '';\n",
              "          dataTable['output_type'] = 'display_data';\n",
              "          await google.colab.output.renderOutput(dataTable, element);\n",
              "          const docLink = document.createElement('div');\n",
              "          docLink.innerHTML = docLinkHtml;\n",
              "          element.appendChild(docLink);\n",
              "        }\n",
              "      </script>\n",
              "    </div>\n",
              "  </div>\n",
              "  "
            ]
          },
          "metadata": {},
          "execution_count": 15
        }
      ]
    },
    {
      "cell_type": "code",
      "source": [
        "# Cleaning Raw tweets\n",
        "def clean_text(text):\n",
        "    \n",
        "    #remove emails\n",
        "    text = ' '.join([i for i in text.split() if '@' not in i])\n",
        "    \n",
        "    #remove web address\n",
        "    text = re.sub('http[s]?://\\S+', '', text)\n",
        "\n",
        "    #remove brackets and parantheses (and removing the text inside the brackets and parantheses)\n",
        "    text = re.sub(\"[\\(\\[].*?[\\)\\]]\", \"\", text)\n",
        "\n",
        "    #remove punctuations\n",
        "    text = re.sub(r'[^\\w\\s]', ' ', text)\n",
        "    \n",
        "    #Filter to allow only alphabets and numbers\n",
        "    text = re.sub(r'[^a-zA-Z\\']', ' ', text)\n",
        "    \n",
        "    #Remove Unicode characters\n",
        "    text = re.sub(r'[^\\x00-\\x7F]+', '', text)\n",
        "\n",
        "    #remove double spaces \n",
        "    text = re.sub('\\s+', ' ', text)\n",
        "    \n",
        "    return text"
      ],
      "metadata": {
        "id": "iFvbHYi_1CFx"
      },
      "execution_count": 16,
      "outputs": []
    },
    {
      "cell_type": "code",
      "source": [
        "# applying that into function.\n",
        "df[\"clean_text\"] = df['text'].apply(lambda x: clean_text(x))\n",
        "df.head(10)"
      ],
      "metadata": {
        "colab": {
          "base_uri": "https://localhost:8080/",
          "height": 1000
        },
        "id": "v6Mp22wd1CCr",
        "outputId": "bb3a7d9d-9079-45da-c417-e3d0e0bfce47"
      },
      "execution_count": 17,
      "outputs": [
        {
          "output_type": "execute_result",
          "data": {
            "text/plain": [
              "                                                                                                                                                                                                                                                                                                                                                                                                                                                                                                                                                                                                                                                                                                                                                                                                                              text  \\\n",
              "0                                                                                                                                                                                                                                                                                                                                                                                         This is the hotel for the discriminating business traveler. It offers spacious rooms that are elegant and refined. With a cozy area complete with chairs and fireplace, they are the perfect place to entertain clients or discuss strategy for a business meeting with a colleague. The restaurant offers just the location to impress a perspective client. And all of this elegance and refinement in the heart of downtown Chicago\\n   \n",
              "1                                                                                                                                                                                                                                                                                                                                                                         What a wonderful experience, super great, helpful, friendly staff. Angie at the front desk made sure my husbands birthday would be great. Our room was beautiful. Angie suggested we go to Sullivans for dinner..perfect choice, make the reservation for us.(best seat in the house and a special dessert) wow...Above and beyond what any other hotel or staff has done for us before..Looking forward to staying there again & again. THANKS AGAIN \\n   \n",
              "2                                                                                                                                                                                                                                                                                                                                                                                                                                                                                                                                    I stayed at the Talbott twice in the last few weeks. I was very pleased with every facet of my stays. The staff, from doormen to front desk, to concierge, to housekeeping, were wonderful. The rooms were nicely sized and clean, and well stocked. I will return to the Talbott anytime! \\n   \n",
              "3                                                                                                                                                                                                                                                                                                                                                                                                                                                                                                                                                                                                    My boyfriend and I were amazed by the breathtaking view of Lake Michigan! We are from Texas so the view of the city was very important to us. We had no problems at this hotel... rooms, service, location were top notch. \\n   \n",
              "4  Rude, rude, rude! We stayed here on July 4th weekend. We drove from Michigan, we called customer service to get directions from I-95 w/c is a major highway to Chicago-- calling them from a cellphone, telling them we're in a middle of a storm and that we're lost....we were put on hold, forwarded to another person who did not know how to get to the hotel and we were on hold again. Giving up we decided to just exit the highway and try our luck at a 7-11 store. When we finally arrived at the hotel at 2 am no one was there to take care of our car so we looked for parking ourselves. Checking in we were not greeted by anyone, even the receptionist did not greet us!! no welcome to the knickerbocker, nothing! The man at the reception was rude, which makes me think what kind of customer service ...   \n",
              "5  My husband and I stayed at this hotel the weekend of Sept. 17-18, 2011. When we were planning our vacation, we were impressed with the hotel. The exterior is very lovely and we looked forward to enjoying the view from our room. We first started to wonder if we'd made the right choice when there was no one waiting to help us with our bags. We had to carry our luggage up to our room ourselves as the hotel was in the middle of a shift change. This seems like something a supposedly 'world class' hotel should be able to avoid. The good: Our room did have a nice view and when I sat down on the bed it was like sitting on a cloud. The shower was very pleasant. The bad: The room was very small and the bed was not the King size we had requested. We felt very cramped and uncomfortable throughout ...   \n",
              "6  I was extremely disappointed with my stay at the Omni Chicago Hotel. It was a hot summer day and I turned on the shower and only drips of hot water came out. I called to complain and they assured me that someone would be in my room to fix the shower or show me how to use it. I felt the person I spoke to was rude to me. They were not accepting responsibility, but talking down to me as if I was stupid. After waiting 30 minutes a bell hop came up to show me how to use the shower. This was not a service person. He could not get the shower to work either and apologized for the problem I was having. He expected a tip and complained when I did not give him one. Nobody came up after that. I was told I could switch to a different room, so I had to pack up my belongings and move to another floor...   \n",
              "7                                                                                                                                                                                                                                                                                                                                                                                                                                                                                                                         We visited for my 40th birthday. We had never been to Chicago so was not sure where to stay. Found the deal on this hotel from Travelzoo. Great rate, staff was awesome, very helpful and nice, location was great. Enjoyed our stay but still like NYC better. Great, great hotel. Would stay again. \\n   \n",
              "8                                        My experience at the Hyatt Regency Chicago was simply amazing. I had a wonderful stay there will my husband. My husband has allergy problems nearly everywhere we go, and we were worried about that so we talked to the desk clerk there. They were able to provide us with a Hyatt allergy-friendly room. We were so relieved and the room was beautiful. The furniture in the room was actually cleaned with pure tea tree oil. It was the most comfortable stay we have ever had. On top of that my husband had to spend some time in the room working on some business, so the high speed internet they provided was very convenient. We took full advantage of the 24 hour room service. I will definitely stay there again. It is a vacation simply staying in your hotel room. \\n   \n",
              "9                                                                                                                                                                                                                                                                                             I would like to add a comment, maybe this will help others when choosing for a wedding destination. My daughter was married in May of 2010 and we decided to have the special event at the Sofitel Water Tower; we were amazed. She always wanted a ballroom type of wedding, and Sofitel made this happen for her. They took care of all the invitations, cake decor, and so much more. The special day for my daughter was worth everything. If you are going to be in the Chicago area, check them out; you will not regret it!\\n   \n",
              "\n",
              "   Class  \\\n",
              "0      0   \n",
              "1      1   \n",
              "2      1   \n",
              "3      1   \n",
              "4      1   \n",
              "5      0   \n",
              "6      0   \n",
              "7      1   \n",
              "8      0   \n",
              "9      0   \n",
              "\n",
              "                                                                                                                                                                                                                                                                                                                                                                                                                                                                                                                                                                                                                                                                                                                                                                                                                        clean_text  \n",
              "0                                                                                                                                                                                                                                                                                                                                                                                                This is the hotel for the discriminating business traveler It offers spacious rooms that are elegant and refined With a cozy area complete with chairs and fireplace they are the perfect place to entertain clients or discuss strategy for a business meeting with a colleague The restaurant offers just the location to impress a perspective client And all of this elegance and refinement in the heart of downtown Chicago  \n",
              "1                                                                                                                                                                                                                                                                                                                                                                                                                                         What a wonderful experience super great helpful friendly staff Angie at the front desk made sure my husbands birthday would be great Our room was beautiful Angie suggested we go to Sullivans for dinner perfect choice make the reservation for us wow Above and beyond what any other hotel or staff has done for us before Looking forward to staying there again again THANKS AGAIN  \n",
              "2                                                                                                                                                                                                                                                                                                                                                                                                                                                                                                                                                I stayed at the Talbott twice in the last few weeks I was very pleased with every facet of my stays The staff from doormen to front desk to concierge to housekeeping were wonderful The rooms were nicely sized and clean and well stocked I will return to the Talbott anytime   \n",
              "3                                                                                                                                                                                                                                                                                                                                                                                                                                                                                                                                                                                                              My boyfriend and I were amazed by the breathtaking view of Lake Michigan We are from Texas so the view of the city was very important to us We had no problems at this hotel rooms service location were top notch   \n",
              "4  Rude rude rude We stayed here on July th weekend We drove from Michigan we called customer service to get directions from I w c is a major highway to Chicago calling them from a cellphone telling them we re in a middle of a storm and that we re lost we were put on hold forwarded to another person who did not know how to get to the hotel and we were on hold again Giving up we decided to just exit the highway and try our luck at a store When we finally arrived at the hotel at am no one was there to take care of our car so we looked for parking ourselves Checking in we were not greeted by anyone even the receptionist did not greet us no welcome to the knickerbocker nothing The man at the reception was rude which makes me think what kind of customer service training this hotel has The guy ...  \n",
              "5  My husband and I stayed at this hotel the weekend of Sept When we were planning our vacation we were impressed with the hotel The exterior is very lovely and we looked forward to enjoying the view from our room We first started to wonder if we d made the right choice when there was no one waiting to help us with our bags We had to carry our luggage up to our room ourselves as the hotel was in the middle of a shift change This seems like something a supposedly world class hotel should be able to avoid The good Our room did have a nice view and when I sat down on the bed it was like sitting on a cloud The shower was very pleasant The bad The room was very small and the bed was not the King size we had requested We felt very cramped and uncomfortable throughout our stay We have stayed at ...  \n",
              "6  I was extremely disappointed with my stay at the Omni Chicago Hotel It was a hot summer day and I turned on the shower and only drips of hot water came out I called to complain and they assured me that someone would be in my room to fix the shower or show me how to use it I felt the person I spoke to was rude to me They were not accepting responsibility but talking down to me as if I was stupid After waiting minutes a bell hop came up to show me how to use the shower This was not a service person He could not get the shower to work either and apologized for the problem I was having He expected a tip and complained when I did not give him one Nobody came up after that I was told I could switch to a different room so I had to pack up my belongings and move to another floor The shower did...  \n",
              "7                                                                                                                                                                                                                                                                                                                                                                                                                                                                                                                                        We visited for my th birthday We had never been to Chicago so was not sure where to stay Found the deal on this hotel from Travelzoo Great rate staff was awesome very helpful and nice location was great Enjoyed our stay but still like NYC better Great great hotel Would stay again   \n",
              "8                                                          My experience at the Hyatt Regency Chicago was simply amazing I had a wonderful stay there will my husband My husband has allergy problems nearly everywhere we go and we were worried about that so we talked to the desk clerk there They were able to provide us with a Hyatt allergy friendly room We were so relieved and the room was beautiful The furniture in the room was actually cleaned with pure tea tree oil It was the most comfortable stay we have ever had On top of that my husband had to spend some time in the room working on some business so the high speed internet they provided was very convenient We took full advantage of the hour room service I will definitely stay there again It is a vacation simply staying in your hotel room   \n",
              "9                                                                                                                                                                                                                                                                                                                I would like to add a comment maybe this will help others when choosing for a wedding destination My daughter was married in May of and we decided to have the special event at the Sofitel Water Tower we were amazed She always wanted a ballroom type of wedding and Sofitel made this happen for her They took care of all the invitations cake decor and so much more The special day for my daughter was worth everything If you are going to be in the Chicago area check them out you will not regret it   "
            ],
            "text/html": [
              "\n",
              "  <div id=\"df-343cf0a3-55ad-4464-a94e-8efa2f73caa7\">\n",
              "    <div class=\"colab-df-container\">\n",
              "      <div>\n",
              "<style scoped>\n",
              "    .dataframe tbody tr th:only-of-type {\n",
              "        vertical-align: middle;\n",
              "    }\n",
              "\n",
              "    .dataframe tbody tr th {\n",
              "        vertical-align: top;\n",
              "    }\n",
              "\n",
              "    .dataframe thead th {\n",
              "        text-align: right;\n",
              "    }\n",
              "</style>\n",
              "<table border=\"1\" class=\"dataframe\">\n",
              "  <thead>\n",
              "    <tr style=\"text-align: right;\">\n",
              "      <th></th>\n",
              "      <th>text</th>\n",
              "      <th>Class</th>\n",
              "      <th>clean_text</th>\n",
              "    </tr>\n",
              "  </thead>\n",
              "  <tbody>\n",
              "    <tr>\n",
              "      <th>0</th>\n",
              "      <td>This is the hotel for the discriminating business traveler. It offers spacious rooms that are elegant and refined. With a cozy area complete with chairs and fireplace, they are the perfect place to entertain clients or discuss strategy for a business meeting with a colleague. The restaurant offers just the location to impress a perspective client. And all of this elegance and refinement in the heart of downtown Chicago\\n</td>\n",
              "      <td>0</td>\n",
              "      <td>This is the hotel for the discriminating business traveler It offers spacious rooms that are elegant and refined With a cozy area complete with chairs and fireplace they are the perfect place to entertain clients or discuss strategy for a business meeting with a colleague The restaurant offers just the location to impress a perspective client And all of this elegance and refinement in the heart of downtown Chicago</td>\n",
              "    </tr>\n",
              "    <tr>\n",
              "      <th>1</th>\n",
              "      <td>What a wonderful experience, super great, helpful, friendly staff. Angie at the front desk made sure my husbands birthday would be great. Our room was beautiful. Angie suggested we go to Sullivans for dinner..perfect choice, make the reservation for us.(best seat in the house and a special dessert) wow...Above and beyond what any other hotel or staff has done for us before..Looking forward to staying there again &amp; again. THANKS AGAIN \\n</td>\n",
              "      <td>1</td>\n",
              "      <td>What a wonderful experience super great helpful friendly staff Angie at the front desk made sure my husbands birthday would be great Our room was beautiful Angie suggested we go to Sullivans for dinner perfect choice make the reservation for us wow Above and beyond what any other hotel or staff has done for us before Looking forward to staying there again again THANKS AGAIN</td>\n",
              "    </tr>\n",
              "    <tr>\n",
              "      <th>2</th>\n",
              "      <td>I stayed at the Talbott twice in the last few weeks. I was very pleased with every facet of my stays. The staff, from doormen to front desk, to concierge, to housekeeping, were wonderful. The rooms were nicely sized and clean, and well stocked. I will return to the Talbott anytime! \\n</td>\n",
              "      <td>1</td>\n",
              "      <td>I stayed at the Talbott twice in the last few weeks I was very pleased with every facet of my stays The staff from doormen to front desk to concierge to housekeeping were wonderful The rooms were nicely sized and clean and well stocked I will return to the Talbott anytime</td>\n",
              "    </tr>\n",
              "    <tr>\n",
              "      <th>3</th>\n",
              "      <td>My boyfriend and I were amazed by the breathtaking view of Lake Michigan! We are from Texas so the view of the city was very important to us. We had no problems at this hotel... rooms, service, location were top notch. \\n</td>\n",
              "      <td>1</td>\n",
              "      <td>My boyfriend and I were amazed by the breathtaking view of Lake Michigan We are from Texas so the view of the city was very important to us We had no problems at this hotel rooms service location were top notch</td>\n",
              "    </tr>\n",
              "    <tr>\n",
              "      <th>4</th>\n",
              "      <td>Rude, rude, rude! We stayed here on July 4th weekend. We drove from Michigan, we called customer service to get directions from I-95 w/c is a major highway to Chicago-- calling them from a cellphone, telling them we're in a middle of a storm and that we're lost....we were put on hold, forwarded to another person who did not know how to get to the hotel and we were on hold again. Giving up we decided to just exit the highway and try our luck at a 7-11 store. When we finally arrived at the hotel at 2 am no one was there to take care of our car so we looked for parking ourselves. Checking in we were not greeted by anyone, even the receptionist did not greet us!! no welcome to the knickerbocker, nothing! The man at the reception was rude, which makes me think what kind of customer service ...</td>\n",
              "      <td>1</td>\n",
              "      <td>Rude rude rude We stayed here on July th weekend We drove from Michigan we called customer service to get directions from I w c is a major highway to Chicago calling them from a cellphone telling them we re in a middle of a storm and that we re lost we were put on hold forwarded to another person who did not know how to get to the hotel and we were on hold again Giving up we decided to just exit the highway and try our luck at a store When we finally arrived at the hotel at am no one was there to take care of our car so we looked for parking ourselves Checking in we were not greeted by anyone even the receptionist did not greet us no welcome to the knickerbocker nothing The man at the reception was rude which makes me think what kind of customer service training this hotel has The guy ...</td>\n",
              "    </tr>\n",
              "    <tr>\n",
              "      <th>5</th>\n",
              "      <td>My husband and I stayed at this hotel the weekend of Sept. 17-18, 2011. When we were planning our vacation, we were impressed with the hotel. The exterior is very lovely and we looked forward to enjoying the view from our room. We first started to wonder if we'd made the right choice when there was no one waiting to help us with our bags. We had to carry our luggage up to our room ourselves as the hotel was in the middle of a shift change. This seems like something a supposedly 'world class' hotel should be able to avoid. The good: Our room did have a nice view and when I sat down on the bed it was like sitting on a cloud. The shower was very pleasant. The bad: The room was very small and the bed was not the King size we had requested. We felt very cramped and uncomfortable throughout ...</td>\n",
              "      <td>0</td>\n",
              "      <td>My husband and I stayed at this hotel the weekend of Sept When we were planning our vacation we were impressed with the hotel The exterior is very lovely and we looked forward to enjoying the view from our room We first started to wonder if we d made the right choice when there was no one waiting to help us with our bags We had to carry our luggage up to our room ourselves as the hotel was in the middle of a shift change This seems like something a supposedly world class hotel should be able to avoid The good Our room did have a nice view and when I sat down on the bed it was like sitting on a cloud The shower was very pleasant The bad The room was very small and the bed was not the King size we had requested We felt very cramped and uncomfortable throughout our stay We have stayed at ...</td>\n",
              "    </tr>\n",
              "    <tr>\n",
              "      <th>6</th>\n",
              "      <td>I was extremely disappointed with my stay at the Omni Chicago Hotel. It was a hot summer day and I turned on the shower and only drips of hot water came out. I called to complain and they assured me that someone would be in my room to fix the shower or show me how to use it. I felt the person I spoke to was rude to me. They were not accepting responsibility, but talking down to me as if I was stupid. After waiting 30 minutes a bell hop came up to show me how to use the shower. This was not a service person. He could not get the shower to work either and apologized for the problem I was having. He expected a tip and complained when I did not give him one. Nobody came up after that. I was told I could switch to a different room, so I had to pack up my belongings and move to another floor...</td>\n",
              "      <td>0</td>\n",
              "      <td>I was extremely disappointed with my stay at the Omni Chicago Hotel It was a hot summer day and I turned on the shower and only drips of hot water came out I called to complain and they assured me that someone would be in my room to fix the shower or show me how to use it I felt the person I spoke to was rude to me They were not accepting responsibility but talking down to me as if I was stupid After waiting minutes a bell hop came up to show me how to use the shower This was not a service person He could not get the shower to work either and apologized for the problem I was having He expected a tip and complained when I did not give him one Nobody came up after that I was told I could switch to a different room so I had to pack up my belongings and move to another floor The shower did...</td>\n",
              "    </tr>\n",
              "    <tr>\n",
              "      <th>7</th>\n",
              "      <td>We visited for my 40th birthday. We had never been to Chicago so was not sure where to stay. Found the deal on this hotel from Travelzoo. Great rate, staff was awesome, very helpful and nice, location was great. Enjoyed our stay but still like NYC better. Great, great hotel. Would stay again. \\n</td>\n",
              "      <td>1</td>\n",
              "      <td>We visited for my th birthday We had never been to Chicago so was not sure where to stay Found the deal on this hotel from Travelzoo Great rate staff was awesome very helpful and nice location was great Enjoyed our stay but still like NYC better Great great hotel Would stay again</td>\n",
              "    </tr>\n",
              "    <tr>\n",
              "      <th>8</th>\n",
              "      <td>My experience at the Hyatt Regency Chicago was simply amazing. I had a wonderful stay there will my husband. My husband has allergy problems nearly everywhere we go, and we were worried about that so we talked to the desk clerk there. They were able to provide us with a Hyatt allergy-friendly room. We were so relieved and the room was beautiful. The furniture in the room was actually cleaned with pure tea tree oil. It was the most comfortable stay we have ever had. On top of that my husband had to spend some time in the room working on some business, so the high speed internet they provided was very convenient. We took full advantage of the 24 hour room service. I will definitely stay there again. It is a vacation simply staying in your hotel room. \\n</td>\n",
              "      <td>0</td>\n",
              "      <td>My experience at the Hyatt Regency Chicago was simply amazing I had a wonderful stay there will my husband My husband has allergy problems nearly everywhere we go and we were worried about that so we talked to the desk clerk there They were able to provide us with a Hyatt allergy friendly room We were so relieved and the room was beautiful The furniture in the room was actually cleaned with pure tea tree oil It was the most comfortable stay we have ever had On top of that my husband had to spend some time in the room working on some business so the high speed internet they provided was very convenient We took full advantage of the hour room service I will definitely stay there again It is a vacation simply staying in your hotel room</td>\n",
              "    </tr>\n",
              "    <tr>\n",
              "      <th>9</th>\n",
              "      <td>I would like to add a comment, maybe this will help others when choosing for a wedding destination. My daughter was married in May of 2010 and we decided to have the special event at the Sofitel Water Tower; we were amazed. She always wanted a ballroom type of wedding, and Sofitel made this happen for her. They took care of all the invitations, cake decor, and so much more. The special day for my daughter was worth everything. If you are going to be in the Chicago area, check them out; you will not regret it!\\n</td>\n",
              "      <td>0</td>\n",
              "      <td>I would like to add a comment maybe this will help others when choosing for a wedding destination My daughter was married in May of and we decided to have the special event at the Sofitel Water Tower we were amazed She always wanted a ballroom type of wedding and Sofitel made this happen for her They took care of all the invitations cake decor and so much more The special day for my daughter was worth everything If you are going to be in the Chicago area check them out you will not regret it</td>\n",
              "    </tr>\n",
              "  </tbody>\n",
              "</table>\n",
              "</div>\n",
              "      <button class=\"colab-df-convert\" onclick=\"convertToInteractive('df-343cf0a3-55ad-4464-a94e-8efa2f73caa7')\"\n",
              "              title=\"Convert this dataframe to an interactive table.\"\n",
              "              style=\"display:none;\">\n",
              "        \n",
              "  <svg xmlns=\"http://www.w3.org/2000/svg\" height=\"24px\"viewBox=\"0 0 24 24\"\n",
              "       width=\"24px\">\n",
              "    <path d=\"M0 0h24v24H0V0z\" fill=\"none\"/>\n",
              "    <path d=\"M18.56 5.44l.94 2.06.94-2.06 2.06-.94-2.06-.94-.94-2.06-.94 2.06-2.06.94zm-11 1L8.5 8.5l.94-2.06 2.06-.94-2.06-.94L8.5 2.5l-.94 2.06-2.06.94zm10 10l.94 2.06.94-2.06 2.06-.94-2.06-.94-.94-2.06-.94 2.06-2.06.94z\"/><path d=\"M17.41 7.96l-1.37-1.37c-.4-.4-.92-.59-1.43-.59-.52 0-1.04.2-1.43.59L10.3 9.45l-7.72 7.72c-.78.78-.78 2.05 0 2.83L4 21.41c.39.39.9.59 1.41.59.51 0 1.02-.2 1.41-.59l7.78-7.78 2.81-2.81c.8-.78.8-2.07 0-2.86zM5.41 20L4 18.59l7.72-7.72 1.47 1.35L5.41 20z\"/>\n",
              "  </svg>\n",
              "      </button>\n",
              "      \n",
              "  <style>\n",
              "    .colab-df-container {\n",
              "      display:flex;\n",
              "      flex-wrap:wrap;\n",
              "      gap: 12px;\n",
              "    }\n",
              "\n",
              "    .colab-df-convert {\n",
              "      background-color: #E8F0FE;\n",
              "      border: none;\n",
              "      border-radius: 50%;\n",
              "      cursor: pointer;\n",
              "      display: none;\n",
              "      fill: #1967D2;\n",
              "      height: 32px;\n",
              "      padding: 0 0 0 0;\n",
              "      width: 32px;\n",
              "    }\n",
              "\n",
              "    .colab-df-convert:hover {\n",
              "      background-color: #E2EBFA;\n",
              "      box-shadow: 0px 1px 2px rgba(60, 64, 67, 0.3), 0px 1px 3px 1px rgba(60, 64, 67, 0.15);\n",
              "      fill: #174EA6;\n",
              "    }\n",
              "\n",
              "    [theme=dark] .colab-df-convert {\n",
              "      background-color: #3B4455;\n",
              "      fill: #D2E3FC;\n",
              "    }\n",
              "\n",
              "    [theme=dark] .colab-df-convert:hover {\n",
              "      background-color: #434B5C;\n",
              "      box-shadow: 0px 1px 3px 1px rgba(0, 0, 0, 0.15);\n",
              "      filter: drop-shadow(0px 1px 2px rgba(0, 0, 0, 0.3));\n",
              "      fill: #FFFFFF;\n",
              "    }\n",
              "  </style>\n",
              "\n",
              "      <script>\n",
              "        const buttonEl =\n",
              "          document.querySelector('#df-343cf0a3-55ad-4464-a94e-8efa2f73caa7 button.colab-df-convert');\n",
              "        buttonEl.style.display =\n",
              "          google.colab.kernel.accessAllowed ? 'block' : 'none';\n",
              "\n",
              "        async function convertToInteractive(key) {\n",
              "          const element = document.querySelector('#df-343cf0a3-55ad-4464-a94e-8efa2f73caa7');\n",
              "          const dataTable =\n",
              "            await google.colab.kernel.invokeFunction('convertToInteractive',\n",
              "                                                     [key], {});\n",
              "          if (!dataTable) return;\n",
              "\n",
              "          const docLinkHtml = 'Like what you see? Visit the ' +\n",
              "            '<a target=\"_blank\" href=https://colab.research.google.com/notebooks/data_table.ipynb>data table notebook</a>'\n",
              "            + ' to learn more about interactive tables.';\n",
              "          element.innerHTML = '';\n",
              "          dataTable['output_type'] = 'display_data';\n",
              "          await google.colab.output.renderOutput(dataTable, element);\n",
              "          const docLink = document.createElement('div');\n",
              "          docLink.innerHTML = docLinkHtml;\n",
              "          element.appendChild(docLink);\n",
              "        }\n",
              "      </script>\n",
              "    </div>\n",
              "  </div>\n",
              "  "
            ]
          },
          "metadata": {},
          "execution_count": 17
        }
      ]
    },
    {
      "cell_type": "code",
      "source": [
        "# dropping the uncleaned text column \"text\"\n",
        "df = df.drop(['text'], axis=1)"
      ],
      "metadata": {
        "id": "8Z23FwIO1B_Z"
      },
      "execution_count": 18,
      "outputs": []
    },
    {
      "cell_type": "code",
      "source": [
        "# renaming the column\n",
        "df.rename(columns = {'clean_text':'text'}, inplace = True)\n",
        "df.head()"
      ],
      "metadata": {
        "colab": {
          "base_uri": "https://localhost:8080/",
          "height": 406
        },
        "id": "PA6IV9PC1B8B",
        "outputId": "77e44c75-214f-4562-bb25-ef888c9b63df"
      },
      "execution_count": 19,
      "outputs": [
        {
          "output_type": "execute_result",
          "data": {
            "text/plain": [
              "   Class  \\\n",
              "0      0   \n",
              "1      1   \n",
              "2      1   \n",
              "3      1   \n",
              "4      1   \n",
              "\n",
              "                                                                                                                                                                                                                                                                                                                                                                                                                                                                                                                                                                                                                                                                                                                                                                                                                              text  \n",
              "0                                                                                                                                                                                                                                                                                                                                                                                                This is the hotel for the discriminating business traveler It offers spacious rooms that are elegant and refined With a cozy area complete with chairs and fireplace they are the perfect place to entertain clients or discuss strategy for a business meeting with a colleague The restaurant offers just the location to impress a perspective client And all of this elegance and refinement in the heart of downtown Chicago  \n",
              "1                                                                                                                                                                                                                                                                                                                                                                                                                                         What a wonderful experience super great helpful friendly staff Angie at the front desk made sure my husbands birthday would be great Our room was beautiful Angie suggested we go to Sullivans for dinner perfect choice make the reservation for us wow Above and beyond what any other hotel or staff has done for us before Looking forward to staying there again again THANKS AGAIN  \n",
              "2                                                                                                                                                                                                                                                                                                                                                                                                                                                                                                                                                I stayed at the Talbott twice in the last few weeks I was very pleased with every facet of my stays The staff from doormen to front desk to concierge to housekeeping were wonderful The rooms were nicely sized and clean and well stocked I will return to the Talbott anytime   \n",
              "3                                                                                                                                                                                                                                                                                                                                                                                                                                                                                                                                                                                                              My boyfriend and I were amazed by the breathtaking view of Lake Michigan We are from Texas so the view of the city was very important to us We had no problems at this hotel rooms service location were top notch   \n",
              "4  Rude rude rude We stayed here on July th weekend We drove from Michigan we called customer service to get directions from I w c is a major highway to Chicago calling them from a cellphone telling them we re in a middle of a storm and that we re lost we were put on hold forwarded to another person who did not know how to get to the hotel and we were on hold again Giving up we decided to just exit the highway and try our luck at a store When we finally arrived at the hotel at am no one was there to take care of our car so we looked for parking ourselves Checking in we were not greeted by anyone even the receptionist did not greet us no welcome to the knickerbocker nothing The man at the reception was rude which makes me think what kind of customer service training this hotel has The guy ...  "
            ],
            "text/html": [
              "\n",
              "  <div id=\"df-1fadbcfd-ba30-4868-8280-35812834e20d\">\n",
              "    <div class=\"colab-df-container\">\n",
              "      <div>\n",
              "<style scoped>\n",
              "    .dataframe tbody tr th:only-of-type {\n",
              "        vertical-align: middle;\n",
              "    }\n",
              "\n",
              "    .dataframe tbody tr th {\n",
              "        vertical-align: top;\n",
              "    }\n",
              "\n",
              "    .dataframe thead th {\n",
              "        text-align: right;\n",
              "    }\n",
              "</style>\n",
              "<table border=\"1\" class=\"dataframe\">\n",
              "  <thead>\n",
              "    <tr style=\"text-align: right;\">\n",
              "      <th></th>\n",
              "      <th>Class</th>\n",
              "      <th>text</th>\n",
              "    </tr>\n",
              "  </thead>\n",
              "  <tbody>\n",
              "    <tr>\n",
              "      <th>0</th>\n",
              "      <td>0</td>\n",
              "      <td>This is the hotel for the discriminating business traveler It offers spacious rooms that are elegant and refined With a cozy area complete with chairs and fireplace they are the perfect place to entertain clients or discuss strategy for a business meeting with a colleague The restaurant offers just the location to impress a perspective client And all of this elegance and refinement in the heart of downtown Chicago</td>\n",
              "    </tr>\n",
              "    <tr>\n",
              "      <th>1</th>\n",
              "      <td>1</td>\n",
              "      <td>What a wonderful experience super great helpful friendly staff Angie at the front desk made sure my husbands birthday would be great Our room was beautiful Angie suggested we go to Sullivans for dinner perfect choice make the reservation for us wow Above and beyond what any other hotel or staff has done for us before Looking forward to staying there again again THANKS AGAIN</td>\n",
              "    </tr>\n",
              "    <tr>\n",
              "      <th>2</th>\n",
              "      <td>1</td>\n",
              "      <td>I stayed at the Talbott twice in the last few weeks I was very pleased with every facet of my stays The staff from doormen to front desk to concierge to housekeeping were wonderful The rooms were nicely sized and clean and well stocked I will return to the Talbott anytime</td>\n",
              "    </tr>\n",
              "    <tr>\n",
              "      <th>3</th>\n",
              "      <td>1</td>\n",
              "      <td>My boyfriend and I were amazed by the breathtaking view of Lake Michigan We are from Texas so the view of the city was very important to us We had no problems at this hotel rooms service location were top notch</td>\n",
              "    </tr>\n",
              "    <tr>\n",
              "      <th>4</th>\n",
              "      <td>1</td>\n",
              "      <td>Rude rude rude We stayed here on July th weekend We drove from Michigan we called customer service to get directions from I w c is a major highway to Chicago calling them from a cellphone telling them we re in a middle of a storm and that we re lost we were put on hold forwarded to another person who did not know how to get to the hotel and we were on hold again Giving up we decided to just exit the highway and try our luck at a store When we finally arrived at the hotel at am no one was there to take care of our car so we looked for parking ourselves Checking in we were not greeted by anyone even the receptionist did not greet us no welcome to the knickerbocker nothing The man at the reception was rude which makes me think what kind of customer service training this hotel has The guy ...</td>\n",
              "    </tr>\n",
              "  </tbody>\n",
              "</table>\n",
              "</div>\n",
              "      <button class=\"colab-df-convert\" onclick=\"convertToInteractive('df-1fadbcfd-ba30-4868-8280-35812834e20d')\"\n",
              "              title=\"Convert this dataframe to an interactive table.\"\n",
              "              style=\"display:none;\">\n",
              "        \n",
              "  <svg xmlns=\"http://www.w3.org/2000/svg\" height=\"24px\"viewBox=\"0 0 24 24\"\n",
              "       width=\"24px\">\n",
              "    <path d=\"M0 0h24v24H0V0z\" fill=\"none\"/>\n",
              "    <path d=\"M18.56 5.44l.94 2.06.94-2.06 2.06-.94-2.06-.94-.94-2.06-.94 2.06-2.06.94zm-11 1L8.5 8.5l.94-2.06 2.06-.94-2.06-.94L8.5 2.5l-.94 2.06-2.06.94zm10 10l.94 2.06.94-2.06 2.06-.94-2.06-.94-.94-2.06-.94 2.06-2.06.94z\"/><path d=\"M17.41 7.96l-1.37-1.37c-.4-.4-.92-.59-1.43-.59-.52 0-1.04.2-1.43.59L10.3 9.45l-7.72 7.72c-.78.78-.78 2.05 0 2.83L4 21.41c.39.39.9.59 1.41.59.51 0 1.02-.2 1.41-.59l7.78-7.78 2.81-2.81c.8-.78.8-2.07 0-2.86zM5.41 20L4 18.59l7.72-7.72 1.47 1.35L5.41 20z\"/>\n",
              "  </svg>\n",
              "      </button>\n",
              "      \n",
              "  <style>\n",
              "    .colab-df-container {\n",
              "      display:flex;\n",
              "      flex-wrap:wrap;\n",
              "      gap: 12px;\n",
              "    }\n",
              "\n",
              "    .colab-df-convert {\n",
              "      background-color: #E8F0FE;\n",
              "      border: none;\n",
              "      border-radius: 50%;\n",
              "      cursor: pointer;\n",
              "      display: none;\n",
              "      fill: #1967D2;\n",
              "      height: 32px;\n",
              "      padding: 0 0 0 0;\n",
              "      width: 32px;\n",
              "    }\n",
              "\n",
              "    .colab-df-convert:hover {\n",
              "      background-color: #E2EBFA;\n",
              "      box-shadow: 0px 1px 2px rgba(60, 64, 67, 0.3), 0px 1px 3px 1px rgba(60, 64, 67, 0.15);\n",
              "      fill: #174EA6;\n",
              "    }\n",
              "\n",
              "    [theme=dark] .colab-df-convert {\n",
              "      background-color: #3B4455;\n",
              "      fill: #D2E3FC;\n",
              "    }\n",
              "\n",
              "    [theme=dark] .colab-df-convert:hover {\n",
              "      background-color: #434B5C;\n",
              "      box-shadow: 0px 1px 3px 1px rgba(0, 0, 0, 0.15);\n",
              "      filter: drop-shadow(0px 1px 2px rgba(0, 0, 0, 0.3));\n",
              "      fill: #FFFFFF;\n",
              "    }\n",
              "  </style>\n",
              "\n",
              "      <script>\n",
              "        const buttonEl =\n",
              "          document.querySelector('#df-1fadbcfd-ba30-4868-8280-35812834e20d button.colab-df-convert');\n",
              "        buttonEl.style.display =\n",
              "          google.colab.kernel.accessAllowed ? 'block' : 'none';\n",
              "\n",
              "        async function convertToInteractive(key) {\n",
              "          const element = document.querySelector('#df-1fadbcfd-ba30-4868-8280-35812834e20d');\n",
              "          const dataTable =\n",
              "            await google.colab.kernel.invokeFunction('convertToInteractive',\n",
              "                                                     [key], {});\n",
              "          if (!dataTable) return;\n",
              "\n",
              "          const docLinkHtml = 'Like what you see? Visit the ' +\n",
              "            '<a target=\"_blank\" href=https://colab.research.google.com/notebooks/data_table.ipynb>data table notebook</a>'\n",
              "            + ' to learn more about interactive tables.';\n",
              "          element.innerHTML = '';\n",
              "          dataTable['output_type'] = 'display_data';\n",
              "          await google.colab.output.renderOutput(dataTable, element);\n",
              "          const docLink = document.createElement('div');\n",
              "          docLink.innerHTML = docLinkHtml;\n",
              "          element.appendChild(docLink);\n",
              "        }\n",
              "      </script>\n",
              "    </div>\n",
              "  </div>\n",
              "  "
            ]
          },
          "metadata": {},
          "execution_count": 19
        }
      ]
    },
    {
      "cell_type": "code",
      "source": [
        "import spacy\n",
        "#loading the english language small model of spacy\n",
        "en = spacy.load('en_core_web_sm')\n",
        "sw_spacy = en.Defaults.stop_words\n",
        "print(sw_spacy)"
      ],
      "metadata": {
        "colab": {
          "base_uri": "https://localhost:8080/"
        },
        "id": "TS03aaDy1B4p",
        "outputId": "1458c7c3-9904-4bf5-c039-24ced4de4bd2"
      },
      "execution_count": 20,
      "outputs": [
        {
          "output_type": "stream",
          "name": "stdout",
          "text": [
            "{'will', 'thereby', 'whereby', 'perhaps', 'take', 'while', 'neither', 'hereupon', \"'s\", 'whose', 'whither', 'ever', 'give', 'twelve', 'none', 'such', 'n’t', 'yourselves', 'back', 'along', 'everything', 'were', 'somehow', 'one', 'five', 'therein', 'whom', 'whether', 'else', 'as', 'once', 'hundred', '‘ve', 'each', 'among', 'between', 'during', 'two', 'whatever', 'herself', 'top', 'all', 'or', 'say', 'did', 'next', 'down', 'quite', \"'m\", 'i', 'myself', 'whereupon', 'full', 'except', 'before', 'name', 'call', 'however', 'rather', 'thereupon', 'very', '‘s', 'to', 'three', 'how', '’ve', 'show', 'against', 'which', 'seem', 'he', 'until', 'it', 'in', 'ours', 'through', 'fifty', 'via', 'toward', 'are', 'have', 'of', 'be', 'empty', 'anywhere', 'amount', 'eleven', 'over', 'here', 'may', 'was', 'herein', 'where', 'my', 'beforehand', 'indeed', 'enough', 'onto', 'me', 'sometimes', 'do', 'four', 'across', 'using', 'towards', 'afterwards', 'anyone', 'every', 'n‘t', 'otherwise', '‘re', 'side', 'former', 'eight', 'anyhow', 'had', 'something', 'your', 'therefore', 'thereafter', 'what', 'someone', 'already', 'with', 'regarding', 'wherein', 'because', 'either', 'from', 'seemed', 'beside', 'himself', 'some', 'though', 'has', 'whereas', 'ten', 'move', 'meanwhile', 'up', 'others', 'wherever', 'not', 'us', 'nothing', 'at', \"'d\", 'themselves', 'several', 'even', '’s', 'same', 'above', 'sometime', 'becomes', 'nevertheless', 'often', 'whole', 'anything', 'mine', 'go', 'these', \"'re\", 'throughout', 'noone', 'latter', 'yet', 'an', 'always', 'get', 'since', 'cannot', 'first', '’re', 'this', '‘ll', 'no', 'but', 'behind', 'there', 'out', 'on', 'too', 'mostly', 'we', 'thru', 'seems', 'might', 'only', 'other', 'her', 'his', 'done', 'would', 'many', 'per', 'ca', 'she', 'various', 'last', 'few', 'still', 'put', 'make', 'used', 'been', 'formerly', 'that', 'another', 'much', 'really', 'by', 'part', 'anyway', 'without', 'so', 'whoever', 'everyone', 'sixty', \"'ll\", 'for', 'whereafter', 'the', 'become', 'who', 'well', 'doing', 'you', 'least', 'nowhere', 'own', 'now', 'a', 'and', 'unless', 'does', 'about', 'alone', 'besides', 'made', 'bottom', 'after', 'further', 'any', 'became', 'is', 'itself', 'see', 'can', 'its', 'less', 'more', 'six', '’d', 'hence', 'hereafter', 'just', 'elsewhere', 'whenever', 'they', 'amongst', 'thence', 'why', 'forty', 'twenty', 'into', 'around', 'then', 'please', 'within', 'than', \"'ve\", 'hers', 'both', 'our', 'never', 'beyond', 'if', 'upon', '’m', 'being', 'could', 'seeming', 'them', 'hereby', 'keep', '‘m', 'namely', 'together', 'nobody', 'although', 'him', 'nine', 'fifteen', 'their', 'under', 'whence', 'latterly', 'due', 'thus', 're', 'should', 'almost', 'also', 'everywhere', 'yours', 'off', 'below', 'am', 'nor', 'most', \"n't\", 'third', 'yourself', 'somewhere', 'serious', 'when', '’ll', 'front', 'those', 'becoming', 'ourselves', 'must', 'moreover', '‘d', 'again'}\n"
          ]
        }
      ]
    },
    {
      "cell_type": "code",
      "source": [
        "import nltk\n",
        "from nltk.corpus import stopwords\n",
        "sw_nltk = stopwords.words('english')\n",
        "print(sw_nltk)"
      ],
      "metadata": {
        "colab": {
          "base_uri": "https://localhost:8080/"
        },
        "id": "HQ43oOMR1B1N",
        "outputId": "7db5c9e2-79cb-4dce-c916-7bc6fc09681f"
      },
      "execution_count": 21,
      "outputs": [
        {
          "output_type": "stream",
          "name": "stdout",
          "text": [
            "['i', 'me', 'my', 'myself', 'we', 'our', 'ours', 'ourselves', 'you', \"you're\", \"you've\", \"you'll\", \"you'd\", 'your', 'yours', 'yourself', 'yourselves', 'he', 'him', 'his', 'himself', 'she', \"she's\", 'her', 'hers', 'herself', 'it', \"it's\", 'its', 'itself', 'they', 'them', 'their', 'theirs', 'themselves', 'what', 'which', 'who', 'whom', 'this', 'that', \"that'll\", 'these', 'those', 'am', 'is', 'are', 'was', 'were', 'be', 'been', 'being', 'have', 'has', 'had', 'having', 'do', 'does', 'did', 'doing', 'a', 'an', 'the', 'and', 'but', 'if', 'or', 'because', 'as', 'until', 'while', 'of', 'at', 'by', 'for', 'with', 'about', 'against', 'between', 'into', 'through', 'during', 'before', 'after', 'above', 'below', 'to', 'from', 'up', 'down', 'in', 'out', 'on', 'off', 'over', 'under', 'again', 'further', 'then', 'once', 'here', 'there', 'when', 'where', 'why', 'how', 'all', 'any', 'both', 'each', 'few', 'more', 'most', 'other', 'some', 'such', 'no', 'nor', 'not', 'only', 'own', 'same', 'so', 'than', 'too', 'very', 's', 't', 'can', 'will', 'just', 'don', \"don't\", 'should', \"should've\", 'now', 'd', 'll', 'm', 'o', 're', 've', 'y', 'ain', 'aren', \"aren't\", 'couldn', \"couldn't\", 'didn', \"didn't\", 'doesn', \"doesn't\", 'hadn', \"hadn't\", 'hasn', \"hasn't\", 'haven', \"haven't\", 'isn', \"isn't\", 'ma', 'mightn', \"mightn't\", 'mustn', \"mustn't\", 'needn', \"needn't\", 'shan', \"shan't\", 'shouldn', \"shouldn't\", 'wasn', \"wasn't\", 'weren', \"weren't\", 'won', \"won't\", 'wouldn', \"wouldn't\"]\n"
          ]
        }
      ]
    },
    {
      "cell_type": "code",
      "source": [
        "sw_nltk.extend(['th','stay'])\n",
        "print(len(sw_nltk))"
      ],
      "metadata": {
        "colab": {
          "base_uri": "https://localhost:8080/"
        },
        "id": "OedFNhJ01BxZ",
        "outputId": "dbd5cc44-7d25-47b6-dda4-96fb494de84e"
      },
      "execution_count": 22,
      "outputs": [
        {
          "output_type": "stream",
          "name": "stdout",
          "text": [
            "181\n"
          ]
        }
      ]
    },
    {
      "cell_type": "code",
      "source": [
        "# preprocessing the data (removing stopwords, convert the sentence to lower case, and also applying lemmatization to get meaningful words )\n",
        "from nltk.corpus import stopwords\n",
        "from nltk.stem import WordNetLemmatizer, PorterStemmer\n",
        "#stop_words = set(stopwords.words('english'))\n",
        "ps=PorterStemmer()\n",
        "wnl=WordNetLemmatizer()\n",
        "def clean_lemma(review):\n",
        "    review = review.lower()\n",
        "    review = review.split()\n",
        "    review = [wnl.lemmatize(word) for word in review if word not in sw_nltk]\n",
        "    review = [wnl.lemmatize(word) for word in review if word not in sw_spacy]\n",
        "    review = ' '.join(review)\n",
        "    return review"
      ],
      "metadata": {
        "id": "NllSe3Fh1Bt7"
      },
      "execution_count": 23,
      "outputs": []
    },
    {
      "cell_type": "code",
      "source": [
        "# using lemmatization\n",
        "df['text']=df['text'].apply(clean_lemma)\n",
        "df.head()"
      ],
      "metadata": {
        "colab": {
          "base_uri": "https://localhost:8080/",
          "height": 319
        },
        "id": "JYZt0NMn1Bqx",
        "outputId": "a6a8fec2-cb3b-4c70-f8cd-d1a7f3cdc1e3"
      },
      "execution_count": 24,
      "outputs": [
        {
          "output_type": "execute_result",
          "data": {
            "text/plain": [
              "   Class  \\\n",
              "0      0   \n",
              "1      1   \n",
              "2      1   \n",
              "3      1   \n",
              "4      1   \n",
              "\n",
              "                                                                                                                                                                                                                                                                                                                                                                                                                                                                                                                                                             text  \n",
              "0                                                                                                                                                                                                                                                                         hotel discriminating business traveler offer spacious room elegant refined cozy area complete chair fireplace perfect place entertain client discus strategy business meeting colleague restaurant offer location impress perspective client elegance refinement heart downtown chicago  \n",
              "1                                                                                                                                                                                                                                                                                                                                     wonderful experience super great helpful friendly staff angie desk sure husband birthday great room beautiful angie suggested sullivan dinner perfect choice reservation u wow hotel staff u looking forward staying thanks  \n",
              "2                                                                                                                                                                                                                                                                                                                                                                                                         stayed talbott twice week pleased facet stay staff doorman desk concierge housekeeping wonderful room nicely sized clean stocked return talbott anytime  \n",
              "3                                                                                                                                                                                                                                                                                                                                                                                                                                          boyfriend amazed breathtaking view lake michigan texas view city important u problem hotel room service location notch  \n",
              "4  rude rude rude stayed july weekend drove michigan called customer service direction w c major highway chicago calling cellphone telling middle storm lost hold forwarded person know hotel hold giving decided exit highway try luck store finally arrived hotel care car looked parking checking greeted receptionist greet u welcome knickerbocker man reception rude think kind customer service training hotel guy find reservation frustrated checking able u direction maybe hour earlier room spectacular small probably little bigger walk closet risk  "
            ],
            "text/html": [
              "\n",
              "  <div id=\"df-9364485a-b0e4-480f-9f80-ae0b5d794a91\">\n",
              "    <div class=\"colab-df-container\">\n",
              "      <div>\n",
              "<style scoped>\n",
              "    .dataframe tbody tr th:only-of-type {\n",
              "        vertical-align: middle;\n",
              "    }\n",
              "\n",
              "    .dataframe tbody tr th {\n",
              "        vertical-align: top;\n",
              "    }\n",
              "\n",
              "    .dataframe thead th {\n",
              "        text-align: right;\n",
              "    }\n",
              "</style>\n",
              "<table border=\"1\" class=\"dataframe\">\n",
              "  <thead>\n",
              "    <tr style=\"text-align: right;\">\n",
              "      <th></th>\n",
              "      <th>Class</th>\n",
              "      <th>text</th>\n",
              "    </tr>\n",
              "  </thead>\n",
              "  <tbody>\n",
              "    <tr>\n",
              "      <th>0</th>\n",
              "      <td>0</td>\n",
              "      <td>hotel discriminating business traveler offer spacious room elegant refined cozy area complete chair fireplace perfect place entertain client discus strategy business meeting colleague restaurant offer location impress perspective client elegance refinement heart downtown chicago</td>\n",
              "    </tr>\n",
              "    <tr>\n",
              "      <th>1</th>\n",
              "      <td>1</td>\n",
              "      <td>wonderful experience super great helpful friendly staff angie desk sure husband birthday great room beautiful angie suggested sullivan dinner perfect choice reservation u wow hotel staff u looking forward staying thanks</td>\n",
              "    </tr>\n",
              "    <tr>\n",
              "      <th>2</th>\n",
              "      <td>1</td>\n",
              "      <td>stayed talbott twice week pleased facet stay staff doorman desk concierge housekeeping wonderful room nicely sized clean stocked return talbott anytime</td>\n",
              "    </tr>\n",
              "    <tr>\n",
              "      <th>3</th>\n",
              "      <td>1</td>\n",
              "      <td>boyfriend amazed breathtaking view lake michigan texas view city important u problem hotel room service location notch</td>\n",
              "    </tr>\n",
              "    <tr>\n",
              "      <th>4</th>\n",
              "      <td>1</td>\n",
              "      <td>rude rude rude stayed july weekend drove michigan called customer service direction w c major highway chicago calling cellphone telling middle storm lost hold forwarded person know hotel hold giving decided exit highway try luck store finally arrived hotel care car looked parking checking greeted receptionist greet u welcome knickerbocker man reception rude think kind customer service training hotel guy find reservation frustrated checking able u direction maybe hour earlier room spectacular small probably little bigger walk closet risk</td>\n",
              "    </tr>\n",
              "  </tbody>\n",
              "</table>\n",
              "</div>\n",
              "      <button class=\"colab-df-convert\" onclick=\"convertToInteractive('df-9364485a-b0e4-480f-9f80-ae0b5d794a91')\"\n",
              "              title=\"Convert this dataframe to an interactive table.\"\n",
              "              style=\"display:none;\">\n",
              "        \n",
              "  <svg xmlns=\"http://www.w3.org/2000/svg\" height=\"24px\"viewBox=\"0 0 24 24\"\n",
              "       width=\"24px\">\n",
              "    <path d=\"M0 0h24v24H0V0z\" fill=\"none\"/>\n",
              "    <path d=\"M18.56 5.44l.94 2.06.94-2.06 2.06-.94-2.06-.94-.94-2.06-.94 2.06-2.06.94zm-11 1L8.5 8.5l.94-2.06 2.06-.94-2.06-.94L8.5 2.5l-.94 2.06-2.06.94zm10 10l.94 2.06.94-2.06 2.06-.94-2.06-.94-.94-2.06-.94 2.06-2.06.94z\"/><path d=\"M17.41 7.96l-1.37-1.37c-.4-.4-.92-.59-1.43-.59-.52 0-1.04.2-1.43.59L10.3 9.45l-7.72 7.72c-.78.78-.78 2.05 0 2.83L4 21.41c.39.39.9.59 1.41.59.51 0 1.02-.2 1.41-.59l7.78-7.78 2.81-2.81c.8-.78.8-2.07 0-2.86zM5.41 20L4 18.59l7.72-7.72 1.47 1.35L5.41 20z\"/>\n",
              "  </svg>\n",
              "      </button>\n",
              "      \n",
              "  <style>\n",
              "    .colab-df-container {\n",
              "      display:flex;\n",
              "      flex-wrap:wrap;\n",
              "      gap: 12px;\n",
              "    }\n",
              "\n",
              "    .colab-df-convert {\n",
              "      background-color: #E8F0FE;\n",
              "      border: none;\n",
              "      border-radius: 50%;\n",
              "      cursor: pointer;\n",
              "      display: none;\n",
              "      fill: #1967D2;\n",
              "      height: 32px;\n",
              "      padding: 0 0 0 0;\n",
              "      width: 32px;\n",
              "    }\n",
              "\n",
              "    .colab-df-convert:hover {\n",
              "      background-color: #E2EBFA;\n",
              "      box-shadow: 0px 1px 2px rgba(60, 64, 67, 0.3), 0px 1px 3px 1px rgba(60, 64, 67, 0.15);\n",
              "      fill: #174EA6;\n",
              "    }\n",
              "\n",
              "    [theme=dark] .colab-df-convert {\n",
              "      background-color: #3B4455;\n",
              "      fill: #D2E3FC;\n",
              "    }\n",
              "\n",
              "    [theme=dark] .colab-df-convert:hover {\n",
              "      background-color: #434B5C;\n",
              "      box-shadow: 0px 1px 3px 1px rgba(0, 0, 0, 0.15);\n",
              "      filter: drop-shadow(0px 1px 2px rgba(0, 0, 0, 0.3));\n",
              "      fill: #FFFFFF;\n",
              "    }\n",
              "  </style>\n",
              "\n",
              "      <script>\n",
              "        const buttonEl =\n",
              "          document.querySelector('#df-9364485a-b0e4-480f-9f80-ae0b5d794a91 button.colab-df-convert');\n",
              "        buttonEl.style.display =\n",
              "          google.colab.kernel.accessAllowed ? 'block' : 'none';\n",
              "\n",
              "        async function convertToInteractive(key) {\n",
              "          const element = document.querySelector('#df-9364485a-b0e4-480f-9f80-ae0b5d794a91');\n",
              "          const dataTable =\n",
              "            await google.colab.kernel.invokeFunction('convertToInteractive',\n",
              "                                                     [key], {});\n",
              "          if (!dataTable) return;\n",
              "\n",
              "          const docLinkHtml = 'Like what you see? Visit the ' +\n",
              "            '<a target=\"_blank\" href=https://colab.research.google.com/notebooks/data_table.ipynb>data table notebook</a>'\n",
              "            + ' to learn more about interactive tables.';\n",
              "          element.innerHTML = '';\n",
              "          dataTable['output_type'] = 'display_data';\n",
              "          await google.colab.output.renderOutput(dataTable, element);\n",
              "          const docLink = document.createElement('div');\n",
              "          docLink.innerHTML = docLinkHtml;\n",
              "          element.appendChild(docLink);\n",
              "        }\n",
              "      </script>\n",
              "    </div>\n",
              "  </div>\n",
              "  "
            ]
          },
          "metadata": {},
          "execution_count": 24
        }
      ]
    },
    {
      "cell_type": "markdown",
      "source": [
        "### FEATURE EXTRACTION"
      ],
      "metadata": {
        "id": "016Fipdd4nou"
      }
    },
    {
      "cell_type": "code",
      "source": [
        "x = df['text']\n",
        "y = df['Class']"
      ],
      "metadata": {
        "id": "dxOXDi2I1Bnh"
      },
      "execution_count": 25,
      "outputs": []
    },
    {
      "cell_type": "code",
      "source": [
        "from sklearn.feature_extraction.text import TfidfVectorizer, CountVectorizer \n",
        "from sklearn.feature_extraction.text import TfidfVectorizer\n",
        "cv=TfidfVectorizer()\n",
        "corpii=cv.fit_transform(x) "
      ],
      "metadata": {
        "id": "SVvh5gy31Bkh"
      },
      "execution_count": 26,
      "outputs": []
    },
    {
      "cell_type": "code",
      "source": [
        "feature_names = cv.get_feature_names()\n",
        "#feature_names"
      ],
      "metadata": {
        "colab": {
          "base_uri": "https://localhost:8080/"
        },
        "id": "y40il7AW1Bhr",
        "outputId": "5a35aff3-edf9-42e4-c4c8-3023cad0d395"
      },
      "execution_count": 27,
      "outputs": [
        {
          "output_type": "stream",
          "name": "stderr",
          "text": [
            "/usr/local/lib/python3.7/dist-packages/sklearn/utils/deprecation.py:87: FutureWarning: Function get_feature_names is deprecated; get_feature_names is deprecated in 1.0 and will be removed in 1.2. Please use get_feature_names_out instead.\n",
            "  warnings.warn(msg, category=FutureWarning)\n"
          ]
        }
      ]
    },
    {
      "cell_type": "code",
      "source": [
        "len(feature_names)"
      ],
      "metadata": {
        "colab": {
          "base_uri": "https://localhost:8080/"
        },
        "id": "-zsmP-Z61BfD",
        "outputId": "f14ee6f0-0016-4a0c-b500-3e92f84451f9"
      },
      "execution_count": 28,
      "outputs": [
        {
          "output_type": "execute_result",
          "data": {
            "text/plain": [
              "7905"
            ]
          },
          "metadata": {},
          "execution_count": 28
        }
      ]
    },
    {
      "cell_type": "code",
      "source": [
        "u1 = pd.DataFrame(corpii.toarray(), columns=feature_names)\n",
        "u1.head()"
      ],
      "metadata": {
        "colab": {
          "base_uri": "https://localhost:8080/",
          "height": 235
        },
        "id": "WXXwZCVq1BcM",
        "outputId": "33f6376c-3071-457d-b72f-e7fa9b5ac834"
      },
      "execution_count": 29,
      "outputs": [
        {
          "output_type": "execute_result",
          "data": {
            "text/plain": [
              "   aaa  aaahed  aback  abassador  abd  ability      able  abound  abrupt  \\\n",
              "0  0.0     0.0    0.0        0.0  0.0      0.0  0.000000     0.0     0.0   \n",
              "1  0.0     0.0    0.0        0.0  0.0      0.0  0.000000     0.0     0.0   \n",
              "2  0.0     0.0    0.0        0.0  0.0      0.0  0.000000     0.0     0.0   \n",
              "3  0.0     0.0    0.0        0.0  0.0      0.0  0.000000     0.0     0.0   \n",
              "4  0.0     0.0    0.0        0.0  0.0      0.0  0.080368     0.0     0.0   \n",
              "\n",
              "   abruptly  ...  yucky  yummo  yummy  yunan  yup  zagat  zest  zipped  zone  \\\n",
              "0       0.0  ...    0.0    0.0    0.0    0.0  0.0    0.0   0.0     0.0   0.0   \n",
              "1       0.0  ...    0.0    0.0    0.0    0.0  0.0    0.0   0.0     0.0   0.0   \n",
              "2       0.0  ...    0.0    0.0    0.0    0.0  0.0    0.0   0.0     0.0   0.0   \n",
              "3       0.0  ...    0.0    0.0    0.0    0.0  0.0    0.0   0.0     0.0   0.0   \n",
              "4       0.0  ...    0.0    0.0    0.0    0.0  0.0    0.0   0.0     0.0   0.0   \n",
              "\n",
              "   zoo  \n",
              "0  0.0  \n",
              "1  0.0  \n",
              "2  0.0  \n",
              "3  0.0  \n",
              "4  0.0  \n",
              "\n",
              "[5 rows x 7905 columns]"
            ],
            "text/html": [
              "\n",
              "  <div id=\"df-757c7870-8111-47e5-9020-e817830b4f2f\">\n",
              "    <div class=\"colab-df-container\">\n",
              "      <div>\n",
              "<style scoped>\n",
              "    .dataframe tbody tr th:only-of-type {\n",
              "        vertical-align: middle;\n",
              "    }\n",
              "\n",
              "    .dataframe tbody tr th {\n",
              "        vertical-align: top;\n",
              "    }\n",
              "\n",
              "    .dataframe thead th {\n",
              "        text-align: right;\n",
              "    }\n",
              "</style>\n",
              "<table border=\"1\" class=\"dataframe\">\n",
              "  <thead>\n",
              "    <tr style=\"text-align: right;\">\n",
              "      <th></th>\n",
              "      <th>aaa</th>\n",
              "      <th>aaahed</th>\n",
              "      <th>aback</th>\n",
              "      <th>abassador</th>\n",
              "      <th>abd</th>\n",
              "      <th>ability</th>\n",
              "      <th>able</th>\n",
              "      <th>abound</th>\n",
              "      <th>abrupt</th>\n",
              "      <th>abruptly</th>\n",
              "      <th>...</th>\n",
              "      <th>yucky</th>\n",
              "      <th>yummo</th>\n",
              "      <th>yummy</th>\n",
              "      <th>yunan</th>\n",
              "      <th>yup</th>\n",
              "      <th>zagat</th>\n",
              "      <th>zest</th>\n",
              "      <th>zipped</th>\n",
              "      <th>zone</th>\n",
              "      <th>zoo</th>\n",
              "    </tr>\n",
              "  </thead>\n",
              "  <tbody>\n",
              "    <tr>\n",
              "      <th>0</th>\n",
              "      <td>0.0</td>\n",
              "      <td>0.0</td>\n",
              "      <td>0.0</td>\n",
              "      <td>0.0</td>\n",
              "      <td>0.0</td>\n",
              "      <td>0.0</td>\n",
              "      <td>0.000000</td>\n",
              "      <td>0.0</td>\n",
              "      <td>0.0</td>\n",
              "      <td>0.0</td>\n",
              "      <td>...</td>\n",
              "      <td>0.0</td>\n",
              "      <td>0.0</td>\n",
              "      <td>0.0</td>\n",
              "      <td>0.0</td>\n",
              "      <td>0.0</td>\n",
              "      <td>0.0</td>\n",
              "      <td>0.0</td>\n",
              "      <td>0.0</td>\n",
              "      <td>0.0</td>\n",
              "      <td>0.0</td>\n",
              "    </tr>\n",
              "    <tr>\n",
              "      <th>1</th>\n",
              "      <td>0.0</td>\n",
              "      <td>0.0</td>\n",
              "      <td>0.0</td>\n",
              "      <td>0.0</td>\n",
              "      <td>0.0</td>\n",
              "      <td>0.0</td>\n",
              "      <td>0.000000</td>\n",
              "      <td>0.0</td>\n",
              "      <td>0.0</td>\n",
              "      <td>0.0</td>\n",
              "      <td>...</td>\n",
              "      <td>0.0</td>\n",
              "      <td>0.0</td>\n",
              "      <td>0.0</td>\n",
              "      <td>0.0</td>\n",
              "      <td>0.0</td>\n",
              "      <td>0.0</td>\n",
              "      <td>0.0</td>\n",
              "      <td>0.0</td>\n",
              "      <td>0.0</td>\n",
              "      <td>0.0</td>\n",
              "    </tr>\n",
              "    <tr>\n",
              "      <th>2</th>\n",
              "      <td>0.0</td>\n",
              "      <td>0.0</td>\n",
              "      <td>0.0</td>\n",
              "      <td>0.0</td>\n",
              "      <td>0.0</td>\n",
              "      <td>0.0</td>\n",
              "      <td>0.000000</td>\n",
              "      <td>0.0</td>\n",
              "      <td>0.0</td>\n",
              "      <td>0.0</td>\n",
              "      <td>...</td>\n",
              "      <td>0.0</td>\n",
              "      <td>0.0</td>\n",
              "      <td>0.0</td>\n",
              "      <td>0.0</td>\n",
              "      <td>0.0</td>\n",
              "      <td>0.0</td>\n",
              "      <td>0.0</td>\n",
              "      <td>0.0</td>\n",
              "      <td>0.0</td>\n",
              "      <td>0.0</td>\n",
              "    </tr>\n",
              "    <tr>\n",
              "      <th>3</th>\n",
              "      <td>0.0</td>\n",
              "      <td>0.0</td>\n",
              "      <td>0.0</td>\n",
              "      <td>0.0</td>\n",
              "      <td>0.0</td>\n",
              "      <td>0.0</td>\n",
              "      <td>0.000000</td>\n",
              "      <td>0.0</td>\n",
              "      <td>0.0</td>\n",
              "      <td>0.0</td>\n",
              "      <td>...</td>\n",
              "      <td>0.0</td>\n",
              "      <td>0.0</td>\n",
              "      <td>0.0</td>\n",
              "      <td>0.0</td>\n",
              "      <td>0.0</td>\n",
              "      <td>0.0</td>\n",
              "      <td>0.0</td>\n",
              "      <td>0.0</td>\n",
              "      <td>0.0</td>\n",
              "      <td>0.0</td>\n",
              "    </tr>\n",
              "    <tr>\n",
              "      <th>4</th>\n",
              "      <td>0.0</td>\n",
              "      <td>0.0</td>\n",
              "      <td>0.0</td>\n",
              "      <td>0.0</td>\n",
              "      <td>0.0</td>\n",
              "      <td>0.0</td>\n",
              "      <td>0.080368</td>\n",
              "      <td>0.0</td>\n",
              "      <td>0.0</td>\n",
              "      <td>0.0</td>\n",
              "      <td>...</td>\n",
              "      <td>0.0</td>\n",
              "      <td>0.0</td>\n",
              "      <td>0.0</td>\n",
              "      <td>0.0</td>\n",
              "      <td>0.0</td>\n",
              "      <td>0.0</td>\n",
              "      <td>0.0</td>\n",
              "      <td>0.0</td>\n",
              "      <td>0.0</td>\n",
              "      <td>0.0</td>\n",
              "    </tr>\n",
              "  </tbody>\n",
              "</table>\n",
              "<p>5 rows × 7905 columns</p>\n",
              "</div>\n",
              "      <button class=\"colab-df-convert\" onclick=\"convertToInteractive('df-757c7870-8111-47e5-9020-e817830b4f2f')\"\n",
              "              title=\"Convert this dataframe to an interactive table.\"\n",
              "              style=\"display:none;\">\n",
              "        \n",
              "  <svg xmlns=\"http://www.w3.org/2000/svg\" height=\"24px\"viewBox=\"0 0 24 24\"\n",
              "       width=\"24px\">\n",
              "    <path d=\"M0 0h24v24H0V0z\" fill=\"none\"/>\n",
              "    <path d=\"M18.56 5.44l.94 2.06.94-2.06 2.06-.94-2.06-.94-.94-2.06-.94 2.06-2.06.94zm-11 1L8.5 8.5l.94-2.06 2.06-.94-2.06-.94L8.5 2.5l-.94 2.06-2.06.94zm10 10l.94 2.06.94-2.06 2.06-.94-2.06-.94-.94-2.06-.94 2.06-2.06.94z\"/><path d=\"M17.41 7.96l-1.37-1.37c-.4-.4-.92-.59-1.43-.59-.52 0-1.04.2-1.43.59L10.3 9.45l-7.72 7.72c-.78.78-.78 2.05 0 2.83L4 21.41c.39.39.9.59 1.41.59.51 0 1.02-.2 1.41-.59l7.78-7.78 2.81-2.81c.8-.78.8-2.07 0-2.86zM5.41 20L4 18.59l7.72-7.72 1.47 1.35L5.41 20z\"/>\n",
              "  </svg>\n",
              "      </button>\n",
              "      \n",
              "  <style>\n",
              "    .colab-df-container {\n",
              "      display:flex;\n",
              "      flex-wrap:wrap;\n",
              "      gap: 12px;\n",
              "    }\n",
              "\n",
              "    .colab-df-convert {\n",
              "      background-color: #E8F0FE;\n",
              "      border: none;\n",
              "      border-radius: 50%;\n",
              "      cursor: pointer;\n",
              "      display: none;\n",
              "      fill: #1967D2;\n",
              "      height: 32px;\n",
              "      padding: 0 0 0 0;\n",
              "      width: 32px;\n",
              "    }\n",
              "\n",
              "    .colab-df-convert:hover {\n",
              "      background-color: #E2EBFA;\n",
              "      box-shadow: 0px 1px 2px rgba(60, 64, 67, 0.3), 0px 1px 3px 1px rgba(60, 64, 67, 0.15);\n",
              "      fill: #174EA6;\n",
              "    }\n",
              "\n",
              "    [theme=dark] .colab-df-convert {\n",
              "      background-color: #3B4455;\n",
              "      fill: #D2E3FC;\n",
              "    }\n",
              "\n",
              "    [theme=dark] .colab-df-convert:hover {\n",
              "      background-color: #434B5C;\n",
              "      box-shadow: 0px 1px 3px 1px rgba(0, 0, 0, 0.15);\n",
              "      filter: drop-shadow(0px 1px 2px rgba(0, 0, 0, 0.3));\n",
              "      fill: #FFFFFF;\n",
              "    }\n",
              "  </style>\n",
              "\n",
              "      <script>\n",
              "        const buttonEl =\n",
              "          document.querySelector('#df-757c7870-8111-47e5-9020-e817830b4f2f button.colab-df-convert');\n",
              "        buttonEl.style.display =\n",
              "          google.colab.kernel.accessAllowed ? 'block' : 'none';\n",
              "\n",
              "        async function convertToInteractive(key) {\n",
              "          const element = document.querySelector('#df-757c7870-8111-47e5-9020-e817830b4f2f');\n",
              "          const dataTable =\n",
              "            await google.colab.kernel.invokeFunction('convertToInteractive',\n",
              "                                                     [key], {});\n",
              "          if (!dataTable) return;\n",
              "\n",
              "          const docLinkHtml = 'Like what you see? Visit the ' +\n",
              "            '<a target=\"_blank\" href=https://colab.research.google.com/notebooks/data_table.ipynb>data table notebook</a>'\n",
              "            + ' to learn more about interactive tables.';\n",
              "          element.innerHTML = '';\n",
              "          dataTable['output_type'] = 'display_data';\n",
              "          await google.colab.output.renderOutput(dataTable, element);\n",
              "          const docLink = document.createElement('div');\n",
              "          docLink.innerHTML = docLinkHtml;\n",
              "          element.appendChild(docLink);\n",
              "        }\n",
              "      </script>\n",
              "    </div>\n",
              "  </div>\n",
              "  "
            ]
          },
          "metadata": {},
          "execution_count": 29
        }
      ]
    },
    {
      "cell_type": "markdown",
      "source": [
        "### FEATURE SELECTION"
      ],
      "metadata": {
        "id": "pwLqgt4w4rXn"
      }
    },
    {
      "cell_type": "code",
      "source": [
        "from sklearn.feature_selection import SelectKBest\n",
        "from sklearn.feature_selection import chi2\n",
        "# Two features with highest chi-squared statistics are selected\n",
        "chi2_features = SelectKBest(chi2, k = 1000)\n",
        "X_kbest_features = chi2_features.fit_transform(u1, y)"
      ],
      "metadata": {
        "id": "g_l7FvT3kn1Q"
      },
      "execution_count": 30,
      "outputs": []
    },
    {
      "cell_type": "code",
      "source": [
        "chi_support = chi2_features.get_support()"
      ],
      "metadata": {
        "id": "Dj7T8ZJUkoaY"
      },
      "execution_count": 31,
      "outputs": []
    },
    {
      "cell_type": "code",
      "source": [
        "chi_feature = u1.loc[:,chi_support].columns.tolist()"
      ],
      "metadata": {
        "id": "ogBa4MS7koeK"
      },
      "execution_count": 32,
      "outputs": []
    },
    {
      "cell_type": "code",
      "source": [
        "chi_feature"
      ],
      "metadata": {
        "colab": {
          "base_uri": "https://localhost:8080/"
        },
        "id": "XjhAwG8Dkohi",
        "outputId": "20228764-2f56-47b5-c05e-525264f42967"
      },
      "execution_count": 33,
      "outputs": [
        {
          "output_type": "execute_result",
          "data": {
            "text/plain": [
              "['accept',\n",
              " 'accepted',\n",
              " 'accomidations',\n",
              " 'accommodated',\n",
              " 'accommodation',\n",
              " 'accomodations',\n",
              " 'according',\n",
              " 'accurate',\n",
              " 'acknowledged',\n",
              " 'acted',\n",
              " 'adding',\n",
              " 'address',\n",
              " 'adult',\n",
              " 'advantage',\n",
              " 'advertises',\n",
              " 'advisor',\n",
              " 'affair',\n",
              " 'affinia',\n",
              " 'affordability',\n",
              " 'agent',\n",
              " 'al',\n",
              " 'alive',\n",
              " 'allegro',\n",
              " 'allergenic',\n",
              " 'allergy',\n",
              " 'alley',\n",
              " 'allowed',\n",
              " 'amazing',\n",
              " 'ambassador',\n",
              " 'amenity',\n",
              " 'angie',\n",
              " 'angry',\n",
              " 'anniversary',\n",
              " 'annoying',\n",
              " 'anthony',\n",
              " 'anybody',\n",
              " 'appointed',\n",
              " 'april',\n",
              " 'architectes',\n",
              " 'arranging',\n",
              " 'ask',\n",
              " 'asleep',\n",
              " 'associate',\n",
              " 'assuming',\n",
              " 'atmosphere',\n",
              " 'attached',\n",
              " 'attack',\n",
              " 'attempted',\n",
              " 'attended',\n",
              " 'attending',\n",
              " 'attraction',\n",
              " 'attractive',\n",
              " 'aug',\n",
              " 'authorization',\n",
              " 'av',\n",
              " 'available',\n",
              " 'ave',\n",
              " 'aveda',\n",
              " 'avenue',\n",
              " 'award',\n",
              " 'aware',\n",
              " 'awful',\n",
              " 'bacon',\n",
              " 'badly',\n",
              " 'baggage',\n",
              " 'bakery',\n",
              " 'ball',\n",
              " 'bar',\n",
              " 'bare',\n",
              " 'bargain',\n",
              " 'barking',\n",
              " 'based',\n",
              " 'basement',\n",
              " 'basil',\n",
              " 'bath',\n",
              " 'bathroom',\n",
              " 'battery',\n",
              " 'beautiful',\n",
              " 'beautifull',\n",
              " 'beautifully',\n",
              " 'beauty',\n",
              " 'beck',\n",
              " 'bed',\n",
              " 'bedbug',\n",
              " 'bell',\n",
              " 'bellman',\n",
              " 'beverage',\n",
              " 'bid',\n",
              " 'bin',\n",
              " 'bistro',\n",
              " 'bit',\n",
              " 'bite',\n",
              " 'bitten',\n",
              " 'bland',\n",
              " 'bldg',\n",
              " 'block',\n",
              " 'boarding',\n",
              " 'boast',\n",
              " 'bolted',\n",
              " 'booked',\n",
              " 'bottle',\n",
              " 'bottled',\n",
              " 'box',\n",
              " 'breakfast',\n",
              " 'breaking',\n",
              " 'breath',\n",
              " 'brick',\n",
              " 'brief',\n",
              " 'bringing',\n",
              " 'broken',\n",
              " 'bubble',\n",
              " 'buffet',\n",
              " 'building',\n",
              " 'burnham',\n",
              " 'burnt',\n",
              " 'bus',\n",
              " 'bust',\n",
              " 'bustle',\n",
              " 'cab',\n",
              " 'cabinet',\n",
              " 'called',\n",
              " 'cam',\n",
              " 'cancel',\n",
              " 'capacity',\n",
              " 'car',\n",
              " 'card',\n",
              " 'cared',\n",
              " 'caring',\n",
              " 'carlton',\n",
              " 'castle',\n",
              " 'casual',\n",
              " 'celebrate',\n",
              " 'celebrated',\n",
              " 'centre',\n",
              " 'chair',\n",
              " 'chance',\n",
              " 'charge',\n",
              " 'charged',\n",
              " 'charm',\n",
              " 'cheesecake',\n",
              " 'chicago',\n",
              " 'child',\n",
              " 'chill',\n",
              " 'chinese',\n",
              " 'christmas',\n",
              " 'christopher',\n",
              " 'cigarette',\n",
              " 'cinema',\n",
              " 'city',\n",
              " 'claimed',\n",
              " 'classy',\n",
              " 'cleaned',\n",
              " 'cleaning',\n",
              " 'cleanliness',\n",
              " 'clerk',\n",
              " 'clientele',\n",
              " 'close',\n",
              " 'closer',\n",
              " 'closet',\n",
              " 'coffee',\n",
              " 'coffeepot',\n",
              " 'cold',\n",
              " 'colder',\n",
              " 'collection',\n",
              " 'color',\n",
              " 'com',\n",
              " 'combination',\n",
              " 'come',\n",
              " 'comforting',\n",
              " 'comfy',\n",
              " 'coming',\n",
              " 'comment',\n",
              " 'commitment',\n",
              " 'comparable',\n",
              " 'compared',\n",
              " 'complaint',\n",
              " 'compliment',\n",
              " 'complimentartry',\n",
              " 'computer',\n",
              " 'con',\n",
              " 'conceirge',\n",
              " 'concierge',\n",
              " 'condo',\n",
              " 'conference',\n",
              " 'confirmed',\n",
              " 'confused',\n",
              " 'consecutive',\n",
              " 'consierge',\n",
              " 'consisted',\n",
              " 'consists',\n",
              " 'construction',\n",
              " 'convenience',\n",
              " 'conveniently',\n",
              " 'convinced',\n",
              " 'cooked',\n",
              " 'cookie',\n",
              " 'cooky',\n",
              " 'cool',\n",
              " 'coordinate',\n",
              " 'corner',\n",
              " 'couch',\n",
              " 'counter',\n",
              " 'cousin',\n",
              " 'covered',\n",
              " 'cramped',\n",
              " 'cranky',\n",
              " 'cream',\n",
              " 'creates',\n",
              " 'credit',\n",
              " 'crib',\n",
              " 'croissant',\n",
              " 'cruise',\n",
              " 'cta',\n",
              " 'cuisine',\n",
              " 'cup',\n",
              " 'currently',\n",
              " 'curry',\n",
              " 'customer',\n",
              " 'cut',\n",
              " 'cutter',\n",
              " 'damn',\n",
              " 'dance',\n",
              " 'danish',\n",
              " 'dated',\n",
              " 'dave',\n",
              " 'dc',\n",
              " 'de',\n",
              " 'deal',\n",
              " 'dear',\n",
              " 'debris',\n",
              " 'dec',\n",
              " 'deceiving',\n",
              " 'december',\n",
              " 'decide',\n",
              " 'decided',\n",
              " 'decision',\n",
              " 'defiantly',\n",
              " 'definite',\n",
              " 'definitely',\n",
              " 'delayed',\n",
              " 'delicious',\n",
              " 'delight',\n",
              " 'delivered',\n",
              " 'demanded',\n",
              " 'design',\n",
              " 'designed',\n",
              " 'designer',\n",
              " 'desperate',\n",
              " 'device',\n",
              " 'die',\n",
              " 'dine',\n",
              " 'dined',\n",
              " 'dining',\n",
              " 'direct',\n",
              " 'directly',\n",
              " 'disappointing',\n",
              " 'disaster',\n",
              " 'display',\n",
              " 'displeased',\n",
              " 'disposal',\n",
              " 'dissappointed',\n",
              " 'dissatisfied',\n",
              " 'distance',\n",
              " 'distasteful',\n",
              " 'division',\n",
              " 'docking',\n",
              " 'doesnt',\n",
              " 'dog',\n",
              " 'donut',\n",
              " 'door',\n",
              " 'doorman',\n",
              " 'downside',\n",
              " 'downtown',\n",
              " 'drain',\n",
              " 'drake',\n",
              " 'dream',\n",
              " 'drink',\n",
              " 'driving',\n",
              " 'eager',\n",
              " 'early',\n",
              " 'earth',\n",
              " 'east',\n",
              " 'efficient',\n",
              " 'el',\n",
              " 'elegant',\n",
              " 'elevator',\n",
              " 'eliminated',\n",
              " 'elite',\n",
              " 'email',\n",
              " 'enjoy',\n",
              " 'enjoyable',\n",
              " 'enjoyed',\n",
              " 'entered',\n",
              " 'entering',\n",
              " 'entertainment',\n",
              " 'entirely',\n",
              " 'entree',\n",
              " 'environment',\n",
              " 'establishment',\n",
              " 'etc',\n",
              " 'european',\n",
              " 'eve',\n",
              " 'evening',\n",
              " 'excellent',\n",
              " 'exceptional',\n",
              " 'excited',\n",
              " 'exciting',\n",
              " 'excuse',\n",
              " 'exhaust',\n",
              " 'exhibit',\n",
              " 'exited',\n",
              " 'exotic',\n",
              " 'expected',\n",
              " 'expecting',\n",
              " 'expedia',\n",
              " 'experience',\n",
              " 'experince',\n",
              " 'exposed',\n",
              " 'exquisite',\n",
              " 'extensively',\n",
              " 'extravagant',\n",
              " 'faboulous',\n",
              " 'facing',\n",
              " 'factory',\n",
              " 'fallen',\n",
              " 'family',\n",
              " 'famous',\n",
              " 'fan',\n",
              " 'fancy',\n",
              " 'far',\n",
              " 'father',\n",
              " 'fault',\n",
              " 'favorite',\n",
              " 'favourite',\n",
              " 'feature',\n",
              " 'february',\n",
              " 'feel',\n",
              " 'felt',\n",
              " 'festival',\n",
              " 'fiancee',\n",
              " 'field',\n",
              " 'figure',\n",
              " 'file',\n",
              " 'fin',\n",
              " 'finally',\n",
              " 'finest',\n",
              " 'finished',\n",
              " 'firework',\n",
              " 'firstly',\n",
              " 'fitness',\n",
              " 'fitzpatrick',\n",
              " 'flooded',\n",
              " 'flooding',\n",
              " 'floor',\n",
              " 'flower',\n",
              " 'focus',\n",
              " 'followed',\n",
              " 'food',\n",
              " 'forever',\n",
              " 'forward',\n",
              " 'fowl',\n",
              " 'francisco',\n",
              " 'free',\n",
              " 'fridge',\n",
              " 'friendliness',\n",
              " 'fruit',\n",
              " 'ft',\n",
              " 'fully',\n",
              " 'funky',\n",
              " 'futon',\n",
              " 'gem',\n",
              " 'generally',\n",
              " 'genuine',\n",
              " 'gift',\n",
              " 'gino',\n",
              " 'glowing',\n",
              " 'golden',\n",
              " 'goldfish',\n",
              " 'good',\n",
              " 'goody',\n",
              " 'gorgeous',\n",
              " 'grade',\n",
              " 'grand',\n",
              " 'gratuity',\n",
              " 'grease',\n",
              " 'great',\n",
              " 'greeted',\n",
              " 'grooming',\n",
              " 'grout',\n",
              " 'guaranteed',\n",
              " 'guy',\n",
              " 'hair',\n",
              " 'hallway',\n",
              " 'hancock',\n",
              " 'handicapped',\n",
              " 'hanger',\n",
              " 'happened',\n",
              " 'hard',\n",
              " 'hare',\n",
              " 'hassle',\n",
              " 'hated',\n",
              " 'hear',\n",
              " 'heart',\n",
              " 'heat',\n",
              " 'heated',\n",
              " 'heaven',\n",
              " 'heavenly',\n",
              " 'helped',\n",
              " 'helpful',\n",
              " 'helping',\n",
              " 'hesitate',\n",
              " 'hesitation',\n",
              " 'highest',\n",
              " 'highway',\n",
              " 'hilton',\n",
              " 'historic',\n",
              " 'hit',\n",
              " 'hold',\n",
              " 'holder',\n",
              " 'home',\n",
              " 'homewood',\n",
              " 'honest',\n",
              " 'honeymoon',\n",
              " 'honor',\n",
              " 'hope',\n",
              " 'hoped',\n",
              " 'horrible',\n",
              " 'hors',\n",
              " 'hotel',\n",
              " 'hotwire',\n",
              " 'hour',\n",
              " 'housekeeping',\n",
              " 'hr',\n",
              " 'huge',\n",
              " 'husband',\n",
              " 'hustle',\n",
              " 'hvac',\n",
              " 'hypo',\n",
              " 'ice',\n",
              " 'impecable',\n",
              " 'impeccably',\n",
              " 'impersonal',\n",
              " 'impress',\n",
              " 'improve',\n",
              " 'improvement',\n",
              " 'inconvenient',\n",
              " 'incorrect',\n",
              " 'indoor',\n",
              " 'indoors',\n",
              " 'inn',\n",
              " 'inside',\n",
              " 'insisting',\n",
              " 'instance',\n",
              " 'intended',\n",
              " 'interior',\n",
              " 'international',\n",
              " 'interview',\n",
              " 'irritated',\n",
              " 'james',\n",
              " 'january',\n",
              " 'jaw',\n",
              " 'jet',\n",
              " 'jewel',\n",
              " 'joe',\n",
              " 'john',\n",
              " 'juice',\n",
              " 'july',\n",
              " 'jumping',\n",
              " 'june',\n",
              " 'keefer',\n",
              " 'kickback',\n",
              " 'kid',\n",
              " 'kimpton',\n",
              " 'kimptons',\n",
              " 'kind',\n",
              " 'kit',\n",
              " 'kitchenette',\n",
              " 'knickerbocker',\n",
              " 'knocking',\n",
              " 'known',\n",
              " 'la',\n",
              " 'lake',\n",
              " 'laptop',\n",
              " 'large',\n",
              " 'larger',\n",
              " 'largest',\n",
              " 'laundry',\n",
              " 'lavish',\n",
              " 'law',\n",
              " 'leaked',\n",
              " 'leave',\n",
              " 'lend',\n",
              " 'lid',\n",
              " 'life',\n",
              " 'lift',\n",
              " 'lightbulb',\n",
              " 'like',\n",
              " 'line',\n",
              " 'linnens',\n",
              " 'lite',\n",
              " 'little',\n",
              " 'load',\n",
              " 'lobby',\n",
              " 'local',\n",
              " 'located',\n",
              " 'location',\n",
              " 'lockwood',\n",
              " 'logo',\n",
              " 'london',\n",
              " 'long',\n",
              " 'look',\n",
              " 'looked',\n",
              " 'looking',\n",
              " 'loop',\n",
              " 'los',\n",
              " 'lot',\n",
              " 'lovely',\n",
              " 'low',\n",
              " 'lower',\n",
              " 'loyalty',\n",
              " 'luxuary',\n",
              " 'luxurious',\n",
              " 'luxury',\n",
              " 'macys',\n",
              " 'mad',\n",
              " 'magnificant',\n",
              " 'mail',\n",
              " 'main',\n",
              " 'maker',\n",
              " 'mall',\n",
              " 'manager',\n",
              " 'march',\n",
              " 'married',\n",
              " 'marriott',\n",
              " 'martini',\n",
              " 'massage',\n",
              " 'material',\n",
              " 'meal',\n",
              " 'meeting',\n",
              " 'membership',\n",
              " 'memorial',\n",
              " 'memory',\n",
              " 'mention',\n",
              " 'mentioned',\n",
              " 'met',\n",
              " 'metro',\n",
              " 'michigan',\n",
              " 'midway',\n",
              " 'mile',\n",
              " 'millenium',\n",
              " 'millennium',\n",
              " 'min',\n",
              " 'mini',\n",
              " 'minibar',\n",
              " 'moderate',\n",
              " 'modern',\n",
              " 'moment',\n",
              " 'mon',\n",
              " 'money',\n",
              " 'monoco',\n",
              " 'mood',\n",
              " 'morning',\n",
              " 'motel',\n",
              " 'musical',\n",
              " 'musty',\n",
              " 'narrow',\n",
              " 'navy',\n",
              " 'nbc',\n",
              " 'nd',\n",
              " 'neat',\n",
              " 'needed',\n",
              " 'needle',\n",
              " 'negative',\n",
              " 'neighborhood',\n",
              " 'newly',\n",
              " 'news',\n",
              " 'night',\n",
              " 'nightmare',\n",
              " 'nite',\n",
              " 'noisy',\n",
              " 'nominal',\n",
              " 'nook',\n",
              " 'nordstrom',\n",
              " 'north',\n",
              " 'note',\n",
              " 'noted',\n",
              " 'november',\n",
              " 'nyc',\n",
              " 'obvious',\n",
              " 'ocean',\n",
              " 'october',\n",
              " 'oddly',\n",
              " 'odor',\n",
              " 'offer',\n",
              " 'oh',\n",
              " 'ok',\n",
              " 'okay',\n",
              " 'old',\n",
              " 'older',\n",
              " 'open',\n",
              " 'opening',\n",
              " 'operating',\n",
              " 'operator',\n",
              " 'orange',\n",
              " 'organized',\n",
              " 'orginal',\n",
              " 'originally',\n",
              " 'ouch',\n",
              " 'outrageous',\n",
              " 'outrageously',\n",
              " 'oven',\n",
              " 'overall',\n",
              " 'package',\n",
              " 'packing',\n",
              " 'paid',\n",
              " 'painted',\n",
              " 'pamper',\n",
              " 'pampered',\n",
              " 'pantry',\n",
              " 'paris',\n",
              " 'parking',\n",
              " 'pas',\n",
              " 'peaceful',\n",
              " 'peeling',\n",
              " 'pen',\n",
              " 'peninsula',\n",
              " 'penninsula',\n",
              " 'perfection',\n",
              " 'perfectly',\n",
              " 'personal',\n",
              " 'pet',\n",
              " 'phone',\n",
              " 'picture',\n",
              " 'pictured',\n",
              " 'pipe',\n",
              " 'place',\n",
              " 'planned',\n",
              " 'planner',\n",
              " 'planning',\n",
              " 'plate',\n",
              " 'plenty',\n",
              " 'plush',\n",
              " 'pm',\n",
              " 'pocket',\n",
              " 'policy',\n",
              " 'pop',\n",
              " 'portray',\n",
              " 'portrayed',\n",
              " 'position',\n",
              " 'post',\n",
              " 'poster',\n",
              " 'practice',\n",
              " 'pre',\n",
              " 'prepare',\n",
              " 'presence',\n",
              " 'presidential',\n",
              " 'previous',\n",
              " 'priceline',\n",
              " 'print',\n",
              " 'printing',\n",
              " 'prior',\n",
              " 'prison',\n",
              " 'pro',\n",
              " 'product',\n",
              " 'professionally',\n",
              " 'program',\n",
              " 'property',\n",
              " 'provide',\n",
              " 'public',\n",
              " 'pull',\n",
              " 'pure',\n",
              " 'pushy',\n",
              " 'quiet',\n",
              " 'radio',\n",
              " 'rain',\n",
              " 'rate',\n",
              " 'rd',\n",
              " 'read',\n",
              " 'reading',\n",
              " 'ready',\n",
              " 'reality',\n",
              " 'realy',\n",
              " 'recent',\n",
              " 'recently',\n",
              " 'reception',\n",
              " 'recomend',\n",
              " 'recommend',\n",
              " 'recommending',\n",
              " 'reconsider',\n",
              " 'red',\n",
              " 'redecorated',\n",
              " 'redecorating',\n",
              " 'refund',\n",
              " 'refurbished',\n",
              " 'refused',\n",
              " 'regardless',\n",
              " 'regency',\n",
              " 'register',\n",
              " 'registration',\n",
              " 'regret',\n",
              " 'relax',\n",
              " 'relaxed',\n",
              " 'relaxing',\n",
              " 'relieved',\n",
              " 'removed',\n",
              " 'renovated',\n",
              " 'renovation',\n",
              " 'rental',\n",
              " 'repair',\n",
              " 'representation',\n",
              " 'research',\n",
              " 'reserved',\n",
              " 'respect',\n",
              " 'respectful',\n",
              " 'respond',\n",
              " 'rested',\n",
              " 'resturants',\n",
              " 'retreat',\n",
              " 'returned',\n",
              " 'returning',\n",
              " 'reunion',\n",
              " 'revealed',\n",
              " 'review',\n",
              " 'reviewer',\n",
              " 'rex',\n",
              " 'rich',\n",
              " 'ride',\n",
              " 'ritz',\n",
              " 'ritzy',\n",
              " 'river',\n",
              " 'robe',\n",
              " 'rock',\n",
              " 'roll',\n",
              " 'rollaway',\n",
              " 'romance',\n",
              " 'romantic',\n",
              " 'roof',\n",
              " 'roomy',\n",
              " 'rose',\n",
              " 'royalty',\n",
              " 'rude',\n",
              " 'running',\n",
              " 'rush',\n",
              " 'sale',\n",
              " 'sample',\n",
              " 'satisfaction',\n",
              " 'satisfied',\n",
              " 'saturday',\n",
              " 'scene',\n",
              " 'scenery',\n",
              " 'scored',\n",
              " 'scratchy',\n",
              " 'season',\n",
              " 'seat',\n",
              " 'seating',\n",
              " 'second',\n",
              " 'section',\n",
              " 'security',\n",
              " 'seeing',\n",
              " 'self',\n",
              " 'seminar',\n",
              " 'sensibility',\n",
              " 'separate',\n",
              " 'seperate',\n",
              " 'serenity',\n",
              " 'serf',\n",
              " 'service',\n",
              " 'serving',\n",
              " 'settle',\n",
              " 'settled',\n",
              " 'settling',\n",
              " 'setup',\n",
              " 'shabby',\n",
              " 'shared',\n",
              " 'sharing',\n",
              " 'shedd',\n",
              " 'sheet',\n",
              " 'shower',\n",
              " 'shown',\n",
              " 'sidewalk',\n",
              " 'sightseeing',\n",
              " 'signal',\n",
              " 'signing',\n",
              " 'siren',\n",
              " 'sit',\n",
              " 'sky',\n",
              " 'skyline',\n",
              " 'slam',\n",
              " 'slamming',\n",
              " 'sliding',\n",
              " 'slightly',\n",
              " 'small',\n",
              " 'smallest',\n",
              " 'smell',\n",
              " 'smelled',\n",
              " 'smelling',\n",
              " 'smoke',\n",
              " 'smoking',\n",
              " 'snobby',\n",
              " 'snooty',\n",
              " 'snow',\n",
              " 'snubbed',\n",
              " 'soda',\n",
              " 'sofa',\n",
              " 'sofitel',\n",
              " 'soft',\n",
              " 'sold',\n",
              " 'soldier',\n",
              " 'solution',\n",
              " 'soon',\n",
              " 'sophisticated',\n",
              " 'sophistication',\n",
              " 'sorely',\n",
              " 'south',\n",
              " 'spa',\n",
              " 'space',\n",
              " 'speed',\n",
              " 'spend',\n",
              " 'spg',\n",
              " 'splurge',\n",
              " 'spoon',\n",
              " 'sport',\n",
              " 'spot',\n",
              " 'spotlessly',\n",
              " 'st',\n",
              " 'stale',\n",
              " 'stall',\n",
              " 'stark',\n",
              " 'started',\n",
              " 'starving',\n",
              " 'starwood',\n",
              " 'stated',\n",
              " 'stating',\n",
              " 'station',\n",
              " 'staying',\n",
              " 'steak',\n",
              " 'steal',\n",
              " 'stephanie',\n",
              " 'stepping',\n",
              " 'sterile',\n",
              " 'stiff',\n",
              " 'stolen',\n",
              " 'storage',\n",
              " 'street',\n",
              " 'stress',\n",
              " 'striking',\n",
              " 'structure',\n",
              " 'study',\n",
              " 'subpar',\n",
              " 'subway',\n",
              " 'suggest',\n",
              " 'sun',\n",
              " 'sunday',\n",
              " 'sundecks',\n",
              " 'supplied',\n",
              " 'surely',\n",
              " 'surrounding',\n",
              " 'sushi',\n",
              " 'suspect',\n",
              " 'sutton',\n",
              " 'swept',\n",
              " 'swisshotel',\n",
              " 'ta',\n",
              " 'table',\n",
              " 'talking',\n",
              " 'tasteful',\n",
              " 'tax',\n",
              " 'television',\n",
              " 'telling',\n",
              " 'temp',\n",
              " 'terrible',\n",
              " 'terrific',\n",
              " 'test',\n",
              " 'texting',\n",
              " 'thanksgiving',\n",
              " 'thats',\n",
              " 'theater',\n",
              " 'therapy',\n",
              " 'threw',\n",
              " 'thumb',\n",
              " 'ticket',\n",
              " 'tile',\n",
              " 'time',\n",
              " 'tiny',\n",
              " 'toast',\n",
              " 'today',\n",
              " 'ton',\n",
              " 'took',\n",
              " 'topped',\n",
              " 'touch',\n",
              " 'tough',\n",
              " 'tout',\n",
              " 'touted',\n",
              " 'towel',\n",
              " 'traffic',\n",
              " 'train',\n",
              " 'trained',\n",
              " 'trait',\n",
              " 'transferred',\n",
              " 'transport',\n",
              " 'transportation',\n",
              " 'trash',\n",
              " 'traveling',\n",
              " 'travelled',\n",
              " 'travelzoo',\n",
              " 'treat',\n",
              " 'treated',\n",
              " 'treatment',\n",
              " 'tribune',\n",
              " 'trip',\n",
              " 'tripadvisor',\n",
              " 'trolley',\n",
              " 'trump',\n",
              " 'tub',\n",
              " 'tucked',\n",
              " 'turndown',\n",
              " 'turned',\n",
              " 'tv',\n",
              " 'ultimately',\n",
              " 'umbrella',\n",
              " 'unaccommodating',\n",
              " 'undergoing',\n",
              " 'underneath',\n",
              " 'unfailingly',\n",
              " 'unfriendly',\n",
              " 'union',\n",
              " 'unpleasant',\n",
              " 'unsatisfied',\n",
              " 'unwind',\n",
              " 'upcharge',\n",
              " 'upcoming',\n",
              " 'updated',\n",
              " 'updating',\n",
              " 'upgrade',\n",
              " 'upgraded',\n",
              " 'upmost',\n",
              " 'upscale',\n",
              " 'upside',\n",
              " 'urine',\n",
              " 'usa',\n",
              " 'usd',\n",
              " 'utmost',\n",
              " 'vacation',\n",
              " 'vacuum',\n",
              " 'valentine',\n",
              " 'valet',\n",
              " 'valuable',\n",
              " 'value',\n",
              " 'valued',\n",
              " 'veggie',\n",
              " 'vent',\n",
              " 'verify',\n",
              " 'vicinity',\n",
              " 'virtually',\n",
              " 'visit',\n",
              " 'visited',\n",
              " 'visiting',\n",
              " 'vomit',\n",
              " 'wacker',\n",
              " 'wait',\n",
              " 'waived',\n",
              " 'wake',\n",
              " 'walk',\n",
              " 'walkable',\n",
              " 'walking',\n",
              " 'wall',\n",
              " 'wallpaper',\n",
              " 'wander',\n",
              " 'wanted',\n",
              " 'washington',\n",
              " 'waste',\n",
              " 'water',\n",
              " 'waterfront',\n",
              " 'watertower',\n",
              " 'wear',\n",
              " 'website',\n",
              " 'wedding',\n",
              " 'went',\n",
              " 'westin',\n",
              " 'white',\n",
              " 'wicked',\n",
              " 'wife',\n",
              " 'window',\n",
              " 'windy',\n",
              " 'winning',\n",
              " 'winter',\n",
              " 'wishing',\n",
              " 'worn',\n",
              " 'worry',\n",
              " 'worst',\n",
              " 'wouldnt',\n",
              " 'wrigley',\n",
              " 'wrong',\n",
              " 'wrote',\n",
              " 'year',\n",
              " 'yellow',\n",
              " 'yes',\n",
              " 'young',\n",
              " 'yummy',\n",
              " 'zone']"
            ]
          },
          "metadata": {},
          "execution_count": 33
        }
      ]
    },
    {
      "cell_type": "code",
      "source": [
        "X_kbest_features"
      ],
      "metadata": {
        "colab": {
          "base_uri": "https://localhost:8080/"
        },
        "id": "VDuFA-T1koke",
        "outputId": "b86afc63-fe84-453e-db1d-c17a381d2ab1"
      },
      "execution_count": 34,
      "outputs": [
        {
          "output_type": "execute_result",
          "data": {
            "text/plain": [
              "array([[0., 0., 0., ..., 0., 0., 0.],\n",
              "       [0., 0., 0., ..., 0., 0., 0.],\n",
              "       [0., 0., 0., ..., 0., 0., 0.],\n",
              "       ...,\n",
              "       [0., 0., 0., ..., 0., 0., 0.],\n",
              "       [0., 0., 0., ..., 0., 0., 0.],\n",
              "       [0., 0., 0., ..., 0., 0., 0.]])"
            ]
          },
          "metadata": {},
          "execution_count": 34
        }
      ]
    },
    {
      "cell_type": "code",
      "source": [
        "u3 = pd.DataFrame(X_kbest_features, columns = chi_feature)\n",
        "u3.head()"
      ],
      "metadata": {
        "colab": {
          "base_uri": "https://localhost:8080/",
          "height": 299
        },
        "id": "059iYhdmkooB",
        "outputId": "b56b16c6-ee97-4b8c-d7b5-3fa5fdd4778f"
      },
      "execution_count": 35,
      "outputs": [
        {
          "output_type": "execute_result",
          "data": {
            "text/plain": [
              "   accept  accepted  accomidations  accommodated  accommodation  \\\n",
              "0     0.0       0.0            0.0           0.0            0.0   \n",
              "1     0.0       0.0            0.0           0.0            0.0   \n",
              "2     0.0       0.0            0.0           0.0            0.0   \n",
              "3     0.0       0.0            0.0           0.0            0.0   \n",
              "4     0.0       0.0            0.0           0.0            0.0   \n",
              "\n",
              "   accomodations  according  accurate  acknowledged  acted  ...  wouldnt  \\\n",
              "0            0.0        0.0       0.0           0.0    0.0  ...      0.0   \n",
              "1            0.0        0.0       0.0           0.0    0.0  ...      0.0   \n",
              "2            0.0        0.0       0.0           0.0    0.0  ...      0.0   \n",
              "3            0.0        0.0       0.0           0.0    0.0  ...      0.0   \n",
              "4            0.0        0.0       0.0           0.0    0.0  ...      0.0   \n",
              "\n",
              "   wrigley  wrong  wrote  year  yellow  yes  young  yummy  zone  \n",
              "0      0.0    0.0    0.0   0.0     0.0  0.0    0.0    0.0   0.0  \n",
              "1      0.0    0.0    0.0   0.0     0.0  0.0    0.0    0.0   0.0  \n",
              "2      0.0    0.0    0.0   0.0     0.0  0.0    0.0    0.0   0.0  \n",
              "3      0.0    0.0    0.0   0.0     0.0  0.0    0.0    0.0   0.0  \n",
              "4      0.0    0.0    0.0   0.0     0.0  0.0    0.0    0.0   0.0  \n",
              "\n",
              "[5 rows x 1000 columns]"
            ],
            "text/html": [
              "\n",
              "  <div id=\"df-42e16b62-fc32-424b-9d07-e372b7a1d5ad\">\n",
              "    <div class=\"colab-df-container\">\n",
              "      <div>\n",
              "<style scoped>\n",
              "    .dataframe tbody tr th:only-of-type {\n",
              "        vertical-align: middle;\n",
              "    }\n",
              "\n",
              "    .dataframe tbody tr th {\n",
              "        vertical-align: top;\n",
              "    }\n",
              "\n",
              "    .dataframe thead th {\n",
              "        text-align: right;\n",
              "    }\n",
              "</style>\n",
              "<table border=\"1\" class=\"dataframe\">\n",
              "  <thead>\n",
              "    <tr style=\"text-align: right;\">\n",
              "      <th></th>\n",
              "      <th>accept</th>\n",
              "      <th>accepted</th>\n",
              "      <th>accomidations</th>\n",
              "      <th>accommodated</th>\n",
              "      <th>accommodation</th>\n",
              "      <th>accomodations</th>\n",
              "      <th>according</th>\n",
              "      <th>accurate</th>\n",
              "      <th>acknowledged</th>\n",
              "      <th>acted</th>\n",
              "      <th>...</th>\n",
              "      <th>wouldnt</th>\n",
              "      <th>wrigley</th>\n",
              "      <th>wrong</th>\n",
              "      <th>wrote</th>\n",
              "      <th>year</th>\n",
              "      <th>yellow</th>\n",
              "      <th>yes</th>\n",
              "      <th>young</th>\n",
              "      <th>yummy</th>\n",
              "      <th>zone</th>\n",
              "    </tr>\n",
              "  </thead>\n",
              "  <tbody>\n",
              "    <tr>\n",
              "      <th>0</th>\n",
              "      <td>0.0</td>\n",
              "      <td>0.0</td>\n",
              "      <td>0.0</td>\n",
              "      <td>0.0</td>\n",
              "      <td>0.0</td>\n",
              "      <td>0.0</td>\n",
              "      <td>0.0</td>\n",
              "      <td>0.0</td>\n",
              "      <td>0.0</td>\n",
              "      <td>0.0</td>\n",
              "      <td>...</td>\n",
              "      <td>0.0</td>\n",
              "      <td>0.0</td>\n",
              "      <td>0.0</td>\n",
              "      <td>0.0</td>\n",
              "      <td>0.0</td>\n",
              "      <td>0.0</td>\n",
              "      <td>0.0</td>\n",
              "      <td>0.0</td>\n",
              "      <td>0.0</td>\n",
              "      <td>0.0</td>\n",
              "    </tr>\n",
              "    <tr>\n",
              "      <th>1</th>\n",
              "      <td>0.0</td>\n",
              "      <td>0.0</td>\n",
              "      <td>0.0</td>\n",
              "      <td>0.0</td>\n",
              "      <td>0.0</td>\n",
              "      <td>0.0</td>\n",
              "      <td>0.0</td>\n",
              "      <td>0.0</td>\n",
              "      <td>0.0</td>\n",
              "      <td>0.0</td>\n",
              "      <td>...</td>\n",
              "      <td>0.0</td>\n",
              "      <td>0.0</td>\n",
              "      <td>0.0</td>\n",
              "      <td>0.0</td>\n",
              "      <td>0.0</td>\n",
              "      <td>0.0</td>\n",
              "      <td>0.0</td>\n",
              "      <td>0.0</td>\n",
              "      <td>0.0</td>\n",
              "      <td>0.0</td>\n",
              "    </tr>\n",
              "    <tr>\n",
              "      <th>2</th>\n",
              "      <td>0.0</td>\n",
              "      <td>0.0</td>\n",
              "      <td>0.0</td>\n",
              "      <td>0.0</td>\n",
              "      <td>0.0</td>\n",
              "      <td>0.0</td>\n",
              "      <td>0.0</td>\n",
              "      <td>0.0</td>\n",
              "      <td>0.0</td>\n",
              "      <td>0.0</td>\n",
              "      <td>...</td>\n",
              "      <td>0.0</td>\n",
              "      <td>0.0</td>\n",
              "      <td>0.0</td>\n",
              "      <td>0.0</td>\n",
              "      <td>0.0</td>\n",
              "      <td>0.0</td>\n",
              "      <td>0.0</td>\n",
              "      <td>0.0</td>\n",
              "      <td>0.0</td>\n",
              "      <td>0.0</td>\n",
              "    </tr>\n",
              "    <tr>\n",
              "      <th>3</th>\n",
              "      <td>0.0</td>\n",
              "      <td>0.0</td>\n",
              "      <td>0.0</td>\n",
              "      <td>0.0</td>\n",
              "      <td>0.0</td>\n",
              "      <td>0.0</td>\n",
              "      <td>0.0</td>\n",
              "      <td>0.0</td>\n",
              "      <td>0.0</td>\n",
              "      <td>0.0</td>\n",
              "      <td>...</td>\n",
              "      <td>0.0</td>\n",
              "      <td>0.0</td>\n",
              "      <td>0.0</td>\n",
              "      <td>0.0</td>\n",
              "      <td>0.0</td>\n",
              "      <td>0.0</td>\n",
              "      <td>0.0</td>\n",
              "      <td>0.0</td>\n",
              "      <td>0.0</td>\n",
              "      <td>0.0</td>\n",
              "    </tr>\n",
              "    <tr>\n",
              "      <th>4</th>\n",
              "      <td>0.0</td>\n",
              "      <td>0.0</td>\n",
              "      <td>0.0</td>\n",
              "      <td>0.0</td>\n",
              "      <td>0.0</td>\n",
              "      <td>0.0</td>\n",
              "      <td>0.0</td>\n",
              "      <td>0.0</td>\n",
              "      <td>0.0</td>\n",
              "      <td>0.0</td>\n",
              "      <td>...</td>\n",
              "      <td>0.0</td>\n",
              "      <td>0.0</td>\n",
              "      <td>0.0</td>\n",
              "      <td>0.0</td>\n",
              "      <td>0.0</td>\n",
              "      <td>0.0</td>\n",
              "      <td>0.0</td>\n",
              "      <td>0.0</td>\n",
              "      <td>0.0</td>\n",
              "      <td>0.0</td>\n",
              "    </tr>\n",
              "  </tbody>\n",
              "</table>\n",
              "<p>5 rows × 1000 columns</p>\n",
              "</div>\n",
              "      <button class=\"colab-df-convert\" onclick=\"convertToInteractive('df-42e16b62-fc32-424b-9d07-e372b7a1d5ad')\"\n",
              "              title=\"Convert this dataframe to an interactive table.\"\n",
              "              style=\"display:none;\">\n",
              "        \n",
              "  <svg xmlns=\"http://www.w3.org/2000/svg\" height=\"24px\"viewBox=\"0 0 24 24\"\n",
              "       width=\"24px\">\n",
              "    <path d=\"M0 0h24v24H0V0z\" fill=\"none\"/>\n",
              "    <path d=\"M18.56 5.44l.94 2.06.94-2.06 2.06-.94-2.06-.94-.94-2.06-.94 2.06-2.06.94zm-11 1L8.5 8.5l.94-2.06 2.06-.94-2.06-.94L8.5 2.5l-.94 2.06-2.06.94zm10 10l.94 2.06.94-2.06 2.06-.94-2.06-.94-.94-2.06-.94 2.06-2.06.94z\"/><path d=\"M17.41 7.96l-1.37-1.37c-.4-.4-.92-.59-1.43-.59-.52 0-1.04.2-1.43.59L10.3 9.45l-7.72 7.72c-.78.78-.78 2.05 0 2.83L4 21.41c.39.39.9.59 1.41.59.51 0 1.02-.2 1.41-.59l7.78-7.78 2.81-2.81c.8-.78.8-2.07 0-2.86zM5.41 20L4 18.59l7.72-7.72 1.47 1.35L5.41 20z\"/>\n",
              "  </svg>\n",
              "      </button>\n",
              "      \n",
              "  <style>\n",
              "    .colab-df-container {\n",
              "      display:flex;\n",
              "      flex-wrap:wrap;\n",
              "      gap: 12px;\n",
              "    }\n",
              "\n",
              "    .colab-df-convert {\n",
              "      background-color: #E8F0FE;\n",
              "      border: none;\n",
              "      border-radius: 50%;\n",
              "      cursor: pointer;\n",
              "      display: none;\n",
              "      fill: #1967D2;\n",
              "      height: 32px;\n",
              "      padding: 0 0 0 0;\n",
              "      width: 32px;\n",
              "    }\n",
              "\n",
              "    .colab-df-convert:hover {\n",
              "      background-color: #E2EBFA;\n",
              "      box-shadow: 0px 1px 2px rgba(60, 64, 67, 0.3), 0px 1px 3px 1px rgba(60, 64, 67, 0.15);\n",
              "      fill: #174EA6;\n",
              "    }\n",
              "\n",
              "    [theme=dark] .colab-df-convert {\n",
              "      background-color: #3B4455;\n",
              "      fill: #D2E3FC;\n",
              "    }\n",
              "\n",
              "    [theme=dark] .colab-df-convert:hover {\n",
              "      background-color: #434B5C;\n",
              "      box-shadow: 0px 1px 3px 1px rgba(0, 0, 0, 0.15);\n",
              "      filter: drop-shadow(0px 1px 2px rgba(0, 0, 0, 0.3));\n",
              "      fill: #FFFFFF;\n",
              "    }\n",
              "  </style>\n",
              "\n",
              "      <script>\n",
              "        const buttonEl =\n",
              "          document.querySelector('#df-42e16b62-fc32-424b-9d07-e372b7a1d5ad button.colab-df-convert');\n",
              "        buttonEl.style.display =\n",
              "          google.colab.kernel.accessAllowed ? 'block' : 'none';\n",
              "\n",
              "        async function convertToInteractive(key) {\n",
              "          const element = document.querySelector('#df-42e16b62-fc32-424b-9d07-e372b7a1d5ad');\n",
              "          const dataTable =\n",
              "            await google.colab.kernel.invokeFunction('convertToInteractive',\n",
              "                                                     [key], {});\n",
              "          if (!dataTable) return;\n",
              "\n",
              "          const docLinkHtml = 'Like what you see? Visit the ' +\n",
              "            '<a target=\"_blank\" href=https://colab.research.google.com/notebooks/data_table.ipynb>data table notebook</a>'\n",
              "            + ' to learn more about interactive tables.';\n",
              "          element.innerHTML = '';\n",
              "          dataTable['output_type'] = 'display_data';\n",
              "          await google.colab.output.renderOutput(dataTable, element);\n",
              "          const docLink = document.createElement('div');\n",
              "          docLink.innerHTML = docLinkHtml;\n",
              "          element.appendChild(docLink);\n",
              "        }\n",
              "      </script>\n",
              "    </div>\n",
              "  </div>\n",
              "  "
            ]
          },
          "metadata": {},
          "execution_count": 35
        }
      ]
    },
    {
      "cell_type": "code",
      "source": [
        "from scipy.spatial.distance import cdist\n",
        "s = cdist(u3, u3, 'euclid')\n",
        "s"
      ],
      "metadata": {
        "colab": {
          "base_uri": "https://localhost:8080/"
        },
        "id": "X6s3wJIUisuR",
        "outputId": "68135724-afcf-44f0-8b69-24524d975d1b"
      },
      "execution_count": 36,
      "outputs": [
        {
          "output_type": "execute_result",
          "data": {
            "text/plain": [
              "array([[0.        , 0.85532228, 0.57571336, ..., 0.57029375, 0.72907539,\n",
              "        0.78534501],\n",
              "       [0.85532228, 0.        , 0.79945054, ..., 0.78029078, 0.91785104,\n",
              "        0.94819645],\n",
              "       [0.57571336, 0.79945054, 0.        , ..., 0.49551653, 0.66464116,\n",
              "        0.72875854],\n",
              "       ...,\n",
              "       [0.57029375, 0.78029078, 0.49551653, ..., 0.        , 0.66206283,\n",
              "        0.71698019],\n",
              "       [0.72907539, 0.91785104, 0.66464116, ..., 0.66206283, 0.        ,\n",
              "        0.80823006],\n",
              "       [0.78534501, 0.94819645, 0.72875854, ..., 0.71698019, 0.80823006,\n",
              "        0.        ]])"
            ]
          },
          "metadata": {},
          "execution_count": 36
        }
      ]
    },
    {
      "cell_type": "code",
      "source": [
        "X1=pd.DataFrame(s)\n",
        "X1"
      ],
      "metadata": {
        "colab": {
          "base_uri": "https://localhost:8080/",
          "height": 487
        },
        "id": "4LK_7fgOjC5R",
        "outputId": "258c86e6-2efc-44b7-d28e-630fdf0fe3b4"
      },
      "execution_count": 37,
      "outputs": [
        {
          "output_type": "execute_result",
          "data": {
            "text/plain": [
              "          0         1         2         3         4         5         6     \\\n",
              "0     0.000000  0.855322  0.575713  0.592870  0.805142  0.654766  0.706204   \n",
              "1     0.855322  0.000000  0.799451  0.823093  0.978628  0.827140  0.888118   \n",
              "2     0.575713  0.799451  0.000000  0.529184  0.749072  0.590473  0.643030   \n",
              "3     0.592870  0.823093  0.529184  0.000000  0.739494  0.583599  0.634275   \n",
              "4     0.805142  0.978628  0.749072  0.739494  0.000000  0.767731  0.805303   \n",
              "...        ...       ...       ...       ...       ...       ...       ...   \n",
              "1595  0.710001  0.886439  0.666496  0.686133  0.832749  0.689148  0.745923   \n",
              "1596  0.743755  0.900055  0.678307  0.706809  0.855007  0.665050  0.723964   \n",
              "1597  0.570294  0.780291  0.495517  0.520964  0.738797  0.529523  0.625217   \n",
              "1598  0.729075  0.917851  0.664641  0.694360  0.827892  0.687659  0.672200   \n",
              "1599  0.785345  0.948196  0.728759  0.752084  0.909610  0.752996  0.740724   \n",
              "\n",
              "          7         8         9     ...      1590      1591      1592  \\\n",
              "0     0.941863  0.834563  0.737170  ...  0.632420  0.700583  0.817232   \n",
              "1     1.015847  0.933405  0.925033  ...  0.847504  0.918560  0.994464   \n",
              "2     0.909107  0.779301  0.672506  ...  0.604097  0.684730  0.709345   \n",
              "3     0.906197  0.796309  0.704700  ...  0.623250  0.706028  0.773221   \n",
              "4     1.062023  0.950130  0.869844  ...  0.807296  0.879913  0.930779   \n",
              "...        ...       ...       ...  ...       ...       ...       ...   \n",
              "1595  0.965451  0.882489  0.803500  ...  0.725387  0.793305  0.880658   \n",
              "1596  1.011140  0.866732  0.785046  ...  0.714216  0.827658  0.900939   \n",
              "1597  0.889692  0.763241  0.675417  ...  0.567194  0.664338  0.758806   \n",
              "1598  0.987901  0.882590  0.780653  ...  0.673361  0.774450  0.891496   \n",
              "1599  1.046646  0.900689  0.849370  ...  0.800372  0.838332  0.935382   \n",
              "\n",
              "          1593      1594      1595      1596      1597      1598      1599  \n",
              "0     0.839577  0.716237  0.710001  0.743755  0.570294  0.729075  0.785345  \n",
              "1     0.985155  0.853045  0.886439  0.900055  0.780291  0.917851  0.948196  \n",
              "2     0.787845  0.649770  0.666496  0.678307  0.495517  0.664641  0.728759  \n",
              "3     0.805886  0.666301  0.686133  0.706809  0.520964  0.694360  0.752084  \n",
              "4     0.935784  0.813732  0.832749  0.855007  0.738797  0.827892  0.909610  \n",
              "...        ...       ...       ...       ...       ...       ...       ...  \n",
              "1595  0.851064  0.774762  0.000000  0.794910  0.613903  0.792607  0.810723  \n",
              "1596  0.864037  0.757297  0.794910  0.000000  0.651663  0.748566  0.823623  \n",
              "1597  0.746226  0.642577  0.613903  0.651663  0.000000  0.662063  0.716980  \n",
              "1598  0.854910  0.718878  0.792607  0.748566  0.662063  0.000000  0.808230  \n",
              "1599  0.928355  0.802735  0.810723  0.823623  0.716980  0.808230  0.000000  \n",
              "\n",
              "[1600 rows x 1600 columns]"
            ],
            "text/html": [
              "\n",
              "  <div id=\"df-e901d420-8a26-4531-afcd-bb00ffe0f444\">\n",
              "    <div class=\"colab-df-container\">\n",
              "      <div>\n",
              "<style scoped>\n",
              "    .dataframe tbody tr th:only-of-type {\n",
              "        vertical-align: middle;\n",
              "    }\n",
              "\n",
              "    .dataframe tbody tr th {\n",
              "        vertical-align: top;\n",
              "    }\n",
              "\n",
              "    .dataframe thead th {\n",
              "        text-align: right;\n",
              "    }\n",
              "</style>\n",
              "<table border=\"1\" class=\"dataframe\">\n",
              "  <thead>\n",
              "    <tr style=\"text-align: right;\">\n",
              "      <th></th>\n",
              "      <th>0</th>\n",
              "      <th>1</th>\n",
              "      <th>2</th>\n",
              "      <th>3</th>\n",
              "      <th>4</th>\n",
              "      <th>5</th>\n",
              "      <th>6</th>\n",
              "      <th>7</th>\n",
              "      <th>8</th>\n",
              "      <th>9</th>\n",
              "      <th>...</th>\n",
              "      <th>1590</th>\n",
              "      <th>1591</th>\n",
              "      <th>1592</th>\n",
              "      <th>1593</th>\n",
              "      <th>1594</th>\n",
              "      <th>1595</th>\n",
              "      <th>1596</th>\n",
              "      <th>1597</th>\n",
              "      <th>1598</th>\n",
              "      <th>1599</th>\n",
              "    </tr>\n",
              "  </thead>\n",
              "  <tbody>\n",
              "    <tr>\n",
              "      <th>0</th>\n",
              "      <td>0.000000</td>\n",
              "      <td>0.855322</td>\n",
              "      <td>0.575713</td>\n",
              "      <td>0.592870</td>\n",
              "      <td>0.805142</td>\n",
              "      <td>0.654766</td>\n",
              "      <td>0.706204</td>\n",
              "      <td>0.941863</td>\n",
              "      <td>0.834563</td>\n",
              "      <td>0.737170</td>\n",
              "      <td>...</td>\n",
              "      <td>0.632420</td>\n",
              "      <td>0.700583</td>\n",
              "      <td>0.817232</td>\n",
              "      <td>0.839577</td>\n",
              "      <td>0.716237</td>\n",
              "      <td>0.710001</td>\n",
              "      <td>0.743755</td>\n",
              "      <td>0.570294</td>\n",
              "      <td>0.729075</td>\n",
              "      <td>0.785345</td>\n",
              "    </tr>\n",
              "    <tr>\n",
              "      <th>1</th>\n",
              "      <td>0.855322</td>\n",
              "      <td>0.000000</td>\n",
              "      <td>0.799451</td>\n",
              "      <td>0.823093</td>\n",
              "      <td>0.978628</td>\n",
              "      <td>0.827140</td>\n",
              "      <td>0.888118</td>\n",
              "      <td>1.015847</td>\n",
              "      <td>0.933405</td>\n",
              "      <td>0.925033</td>\n",
              "      <td>...</td>\n",
              "      <td>0.847504</td>\n",
              "      <td>0.918560</td>\n",
              "      <td>0.994464</td>\n",
              "      <td>0.985155</td>\n",
              "      <td>0.853045</td>\n",
              "      <td>0.886439</td>\n",
              "      <td>0.900055</td>\n",
              "      <td>0.780291</td>\n",
              "      <td>0.917851</td>\n",
              "      <td>0.948196</td>\n",
              "    </tr>\n",
              "    <tr>\n",
              "      <th>2</th>\n",
              "      <td>0.575713</td>\n",
              "      <td>0.799451</td>\n",
              "      <td>0.000000</td>\n",
              "      <td>0.529184</td>\n",
              "      <td>0.749072</td>\n",
              "      <td>0.590473</td>\n",
              "      <td>0.643030</td>\n",
              "      <td>0.909107</td>\n",
              "      <td>0.779301</td>\n",
              "      <td>0.672506</td>\n",
              "      <td>...</td>\n",
              "      <td>0.604097</td>\n",
              "      <td>0.684730</td>\n",
              "      <td>0.709345</td>\n",
              "      <td>0.787845</td>\n",
              "      <td>0.649770</td>\n",
              "      <td>0.666496</td>\n",
              "      <td>0.678307</td>\n",
              "      <td>0.495517</td>\n",
              "      <td>0.664641</td>\n",
              "      <td>0.728759</td>\n",
              "    </tr>\n",
              "    <tr>\n",
              "      <th>3</th>\n",
              "      <td>0.592870</td>\n",
              "      <td>0.823093</td>\n",
              "      <td>0.529184</td>\n",
              "      <td>0.000000</td>\n",
              "      <td>0.739494</td>\n",
              "      <td>0.583599</td>\n",
              "      <td>0.634275</td>\n",
              "      <td>0.906197</td>\n",
              "      <td>0.796309</td>\n",
              "      <td>0.704700</td>\n",
              "      <td>...</td>\n",
              "      <td>0.623250</td>\n",
              "      <td>0.706028</td>\n",
              "      <td>0.773221</td>\n",
              "      <td>0.805886</td>\n",
              "      <td>0.666301</td>\n",
              "      <td>0.686133</td>\n",
              "      <td>0.706809</td>\n",
              "      <td>0.520964</td>\n",
              "      <td>0.694360</td>\n",
              "      <td>0.752084</td>\n",
              "    </tr>\n",
              "    <tr>\n",
              "      <th>4</th>\n",
              "      <td>0.805142</td>\n",
              "      <td>0.978628</td>\n",
              "      <td>0.749072</td>\n",
              "      <td>0.739494</td>\n",
              "      <td>0.000000</td>\n",
              "      <td>0.767731</td>\n",
              "      <td>0.805303</td>\n",
              "      <td>1.062023</td>\n",
              "      <td>0.950130</td>\n",
              "      <td>0.869844</td>\n",
              "      <td>...</td>\n",
              "      <td>0.807296</td>\n",
              "      <td>0.879913</td>\n",
              "      <td>0.930779</td>\n",
              "      <td>0.935784</td>\n",
              "      <td>0.813732</td>\n",
              "      <td>0.832749</td>\n",
              "      <td>0.855007</td>\n",
              "      <td>0.738797</td>\n",
              "      <td>0.827892</td>\n",
              "      <td>0.909610</td>\n",
              "    </tr>\n",
              "    <tr>\n",
              "      <th>...</th>\n",
              "      <td>...</td>\n",
              "      <td>...</td>\n",
              "      <td>...</td>\n",
              "      <td>...</td>\n",
              "      <td>...</td>\n",
              "      <td>...</td>\n",
              "      <td>...</td>\n",
              "      <td>...</td>\n",
              "      <td>...</td>\n",
              "      <td>...</td>\n",
              "      <td>...</td>\n",
              "      <td>...</td>\n",
              "      <td>...</td>\n",
              "      <td>...</td>\n",
              "      <td>...</td>\n",
              "      <td>...</td>\n",
              "      <td>...</td>\n",
              "      <td>...</td>\n",
              "      <td>...</td>\n",
              "      <td>...</td>\n",
              "      <td>...</td>\n",
              "    </tr>\n",
              "    <tr>\n",
              "      <th>1595</th>\n",
              "      <td>0.710001</td>\n",
              "      <td>0.886439</td>\n",
              "      <td>0.666496</td>\n",
              "      <td>0.686133</td>\n",
              "      <td>0.832749</td>\n",
              "      <td>0.689148</td>\n",
              "      <td>0.745923</td>\n",
              "      <td>0.965451</td>\n",
              "      <td>0.882489</td>\n",
              "      <td>0.803500</td>\n",
              "      <td>...</td>\n",
              "      <td>0.725387</td>\n",
              "      <td>0.793305</td>\n",
              "      <td>0.880658</td>\n",
              "      <td>0.851064</td>\n",
              "      <td>0.774762</td>\n",
              "      <td>0.000000</td>\n",
              "      <td>0.794910</td>\n",
              "      <td>0.613903</td>\n",
              "      <td>0.792607</td>\n",
              "      <td>0.810723</td>\n",
              "    </tr>\n",
              "    <tr>\n",
              "      <th>1596</th>\n",
              "      <td>0.743755</td>\n",
              "      <td>0.900055</td>\n",
              "      <td>0.678307</td>\n",
              "      <td>0.706809</td>\n",
              "      <td>0.855007</td>\n",
              "      <td>0.665050</td>\n",
              "      <td>0.723964</td>\n",
              "      <td>1.011140</td>\n",
              "      <td>0.866732</td>\n",
              "      <td>0.785046</td>\n",
              "      <td>...</td>\n",
              "      <td>0.714216</td>\n",
              "      <td>0.827658</td>\n",
              "      <td>0.900939</td>\n",
              "      <td>0.864037</td>\n",
              "      <td>0.757297</td>\n",
              "      <td>0.794910</td>\n",
              "      <td>0.000000</td>\n",
              "      <td>0.651663</td>\n",
              "      <td>0.748566</td>\n",
              "      <td>0.823623</td>\n",
              "    </tr>\n",
              "    <tr>\n",
              "      <th>1597</th>\n",
              "      <td>0.570294</td>\n",
              "      <td>0.780291</td>\n",
              "      <td>0.495517</td>\n",
              "      <td>0.520964</td>\n",
              "      <td>0.738797</td>\n",
              "      <td>0.529523</td>\n",
              "      <td>0.625217</td>\n",
              "      <td>0.889692</td>\n",
              "      <td>0.763241</td>\n",
              "      <td>0.675417</td>\n",
              "      <td>...</td>\n",
              "      <td>0.567194</td>\n",
              "      <td>0.664338</td>\n",
              "      <td>0.758806</td>\n",
              "      <td>0.746226</td>\n",
              "      <td>0.642577</td>\n",
              "      <td>0.613903</td>\n",
              "      <td>0.651663</td>\n",
              "      <td>0.000000</td>\n",
              "      <td>0.662063</td>\n",
              "      <td>0.716980</td>\n",
              "    </tr>\n",
              "    <tr>\n",
              "      <th>1598</th>\n",
              "      <td>0.729075</td>\n",
              "      <td>0.917851</td>\n",
              "      <td>0.664641</td>\n",
              "      <td>0.694360</td>\n",
              "      <td>0.827892</td>\n",
              "      <td>0.687659</td>\n",
              "      <td>0.672200</td>\n",
              "      <td>0.987901</td>\n",
              "      <td>0.882590</td>\n",
              "      <td>0.780653</td>\n",
              "      <td>...</td>\n",
              "      <td>0.673361</td>\n",
              "      <td>0.774450</td>\n",
              "      <td>0.891496</td>\n",
              "      <td>0.854910</td>\n",
              "      <td>0.718878</td>\n",
              "      <td>0.792607</td>\n",
              "      <td>0.748566</td>\n",
              "      <td>0.662063</td>\n",
              "      <td>0.000000</td>\n",
              "      <td>0.808230</td>\n",
              "    </tr>\n",
              "    <tr>\n",
              "      <th>1599</th>\n",
              "      <td>0.785345</td>\n",
              "      <td>0.948196</td>\n",
              "      <td>0.728759</td>\n",
              "      <td>0.752084</td>\n",
              "      <td>0.909610</td>\n",
              "      <td>0.752996</td>\n",
              "      <td>0.740724</td>\n",
              "      <td>1.046646</td>\n",
              "      <td>0.900689</td>\n",
              "      <td>0.849370</td>\n",
              "      <td>...</td>\n",
              "      <td>0.800372</td>\n",
              "      <td>0.838332</td>\n",
              "      <td>0.935382</td>\n",
              "      <td>0.928355</td>\n",
              "      <td>0.802735</td>\n",
              "      <td>0.810723</td>\n",
              "      <td>0.823623</td>\n",
              "      <td>0.716980</td>\n",
              "      <td>0.808230</td>\n",
              "      <td>0.000000</td>\n",
              "    </tr>\n",
              "  </tbody>\n",
              "</table>\n",
              "<p>1600 rows × 1600 columns</p>\n",
              "</div>\n",
              "      <button class=\"colab-df-convert\" onclick=\"convertToInteractive('df-e901d420-8a26-4531-afcd-bb00ffe0f444')\"\n",
              "              title=\"Convert this dataframe to an interactive table.\"\n",
              "              style=\"display:none;\">\n",
              "        \n",
              "  <svg xmlns=\"http://www.w3.org/2000/svg\" height=\"24px\"viewBox=\"0 0 24 24\"\n",
              "       width=\"24px\">\n",
              "    <path d=\"M0 0h24v24H0V0z\" fill=\"none\"/>\n",
              "    <path d=\"M18.56 5.44l.94 2.06.94-2.06 2.06-.94-2.06-.94-.94-2.06-.94 2.06-2.06.94zm-11 1L8.5 8.5l.94-2.06 2.06-.94-2.06-.94L8.5 2.5l-.94 2.06-2.06.94zm10 10l.94 2.06.94-2.06 2.06-.94-2.06-.94-.94-2.06-.94 2.06-2.06.94z\"/><path d=\"M17.41 7.96l-1.37-1.37c-.4-.4-.92-.59-1.43-.59-.52 0-1.04.2-1.43.59L10.3 9.45l-7.72 7.72c-.78.78-.78 2.05 0 2.83L4 21.41c.39.39.9.59 1.41.59.51 0 1.02-.2 1.41-.59l7.78-7.78 2.81-2.81c.8-.78.8-2.07 0-2.86zM5.41 20L4 18.59l7.72-7.72 1.47 1.35L5.41 20z\"/>\n",
              "  </svg>\n",
              "      </button>\n",
              "      \n",
              "  <style>\n",
              "    .colab-df-container {\n",
              "      display:flex;\n",
              "      flex-wrap:wrap;\n",
              "      gap: 12px;\n",
              "    }\n",
              "\n",
              "    .colab-df-convert {\n",
              "      background-color: #E8F0FE;\n",
              "      border: none;\n",
              "      border-radius: 50%;\n",
              "      cursor: pointer;\n",
              "      display: none;\n",
              "      fill: #1967D2;\n",
              "      height: 32px;\n",
              "      padding: 0 0 0 0;\n",
              "      width: 32px;\n",
              "    }\n",
              "\n",
              "    .colab-df-convert:hover {\n",
              "      background-color: #E2EBFA;\n",
              "      box-shadow: 0px 1px 2px rgba(60, 64, 67, 0.3), 0px 1px 3px 1px rgba(60, 64, 67, 0.15);\n",
              "      fill: #174EA6;\n",
              "    }\n",
              "\n",
              "    [theme=dark] .colab-df-convert {\n",
              "      background-color: #3B4455;\n",
              "      fill: #D2E3FC;\n",
              "    }\n",
              "\n",
              "    [theme=dark] .colab-df-convert:hover {\n",
              "      background-color: #434B5C;\n",
              "      box-shadow: 0px 1px 3px 1px rgba(0, 0, 0, 0.15);\n",
              "      filter: drop-shadow(0px 1px 2px rgba(0, 0, 0, 0.3));\n",
              "      fill: #FFFFFF;\n",
              "    }\n",
              "  </style>\n",
              "\n",
              "      <script>\n",
              "        const buttonEl =\n",
              "          document.querySelector('#df-e901d420-8a26-4531-afcd-bb00ffe0f444 button.colab-df-convert');\n",
              "        buttonEl.style.display =\n",
              "          google.colab.kernel.accessAllowed ? 'block' : 'none';\n",
              "\n",
              "        async function convertToInteractive(key) {\n",
              "          const element = document.querySelector('#df-e901d420-8a26-4531-afcd-bb00ffe0f444');\n",
              "          const dataTable =\n",
              "            await google.colab.kernel.invokeFunction('convertToInteractive',\n",
              "                                                     [key], {});\n",
              "          if (!dataTable) return;\n",
              "\n",
              "          const docLinkHtml = 'Like what you see? Visit the ' +\n",
              "            '<a target=\"_blank\" href=https://colab.research.google.com/notebooks/data_table.ipynb>data table notebook</a>'\n",
              "            + ' to learn more about interactive tables.';\n",
              "          element.innerHTML = '';\n",
              "          dataTable['output_type'] = 'display_data';\n",
              "          await google.colab.output.renderOutput(dataTable, element);\n",
              "          const docLink = document.createElement('div');\n",
              "          docLink.innerHTML = docLinkHtml;\n",
              "          element.appendChild(docLink);\n",
              "        }\n",
              "      </script>\n",
              "    </div>\n",
              "  </div>\n",
              "  "
            ]
          },
          "metadata": {},
          "execution_count": 37
        }
      ]
    },
    {
      "cell_type": "code",
      "source": [
        "# taking average\n",
        "y = np.average(X1)\n",
        "y"
      ],
      "metadata": {
        "colab": {
          "base_uri": "https://localhost:8080/"
        },
        "id": "qjDZ5Yfwis5F",
        "outputId": "e183a614-9ffd-4722-c040-e02510e92b90"
      },
      "execution_count": 38,
      "outputs": [
        {
          "output_type": "execute_result",
          "data": {
            "text/plain": [
              "0.8168331263345656"
            ]
          },
          "metadata": {},
          "execution_count": 38
        }
      ]
    },
    {
      "cell_type": "code",
      "source": [
        "adjmat_df=X1.copy()"
      ],
      "metadata": {
        "id": "6DYyubKojHjQ"
      },
      "execution_count": 39,
      "outputs": []
    },
    {
      "cell_type": "code",
      "source": [
        "adjmat_df[adjmat_df < y]=0\n",
        "adjmat_df[adjmat_df >= y]=1"
      ],
      "metadata": {
        "id": "BHSuuoACjHmt"
      },
      "execution_count": 40,
      "outputs": []
    },
    {
      "cell_type": "code",
      "source": [
        "adjmat_df"
      ],
      "metadata": {
        "colab": {
          "base_uri": "https://localhost:8080/",
          "height": 423
        },
        "id": "dHfz3pjCjHp1",
        "outputId": "50e046ea-f315-4058-c79a-108410423fb6"
      },
      "execution_count": 41,
      "outputs": [
        {
          "output_type": "execute_result",
          "data": {
            "text/plain": [
              "      0     1     2     3     4     5     6     7     8     9     ...  1590  \\\n",
              "0      0.0   1.0   0.0   0.0   0.0   0.0   0.0   1.0   1.0   0.0  ...   0.0   \n",
              "1      1.0   0.0   0.0   1.0   1.0   1.0   1.0   1.0   1.0   1.0  ...   1.0   \n",
              "2      0.0   0.0   0.0   0.0   0.0   0.0   0.0   1.0   0.0   0.0  ...   0.0   \n",
              "3      0.0   1.0   0.0   0.0   0.0   0.0   0.0   1.0   0.0   0.0  ...   0.0   \n",
              "4      0.0   1.0   0.0   0.0   0.0   0.0   0.0   1.0   1.0   1.0  ...   0.0   \n",
              "...    ...   ...   ...   ...   ...   ...   ...   ...   ...   ...  ...   ...   \n",
              "1595   0.0   1.0   0.0   0.0   1.0   0.0   0.0   1.0   1.0   0.0  ...   0.0   \n",
              "1596   0.0   1.0   0.0   0.0   1.0   0.0   0.0   1.0   1.0   0.0  ...   0.0   \n",
              "1597   0.0   0.0   0.0   0.0   0.0   0.0   0.0   1.0   0.0   0.0  ...   0.0   \n",
              "1598   0.0   1.0   0.0   0.0   1.0   0.0   0.0   1.0   1.0   0.0  ...   0.0   \n",
              "1599   0.0   1.0   0.0   0.0   1.0   0.0   0.0   1.0   1.0   1.0  ...   0.0   \n",
              "\n",
              "      1591  1592  1593  1594  1595  1596  1597  1598  1599  \n",
              "0      0.0   1.0   1.0   0.0   0.0   0.0   0.0   0.0   0.0  \n",
              "1      1.0   1.0   1.0   1.0   1.0   1.0   0.0   1.0   1.0  \n",
              "2      0.0   0.0   0.0   0.0   0.0   0.0   0.0   0.0   0.0  \n",
              "3      0.0   0.0   0.0   0.0   0.0   0.0   0.0   0.0   0.0  \n",
              "4      1.0   1.0   1.0   0.0   1.0   1.0   0.0   1.0   1.0  \n",
              "...    ...   ...   ...   ...   ...   ...   ...   ...   ...  \n",
              "1595   0.0   1.0   1.0   0.0   0.0   0.0   0.0   0.0   0.0  \n",
              "1596   1.0   1.0   1.0   0.0   0.0   0.0   0.0   0.0   1.0  \n",
              "1597   0.0   0.0   0.0   0.0   0.0   0.0   0.0   0.0   0.0  \n",
              "1598   0.0   1.0   1.0   0.0   0.0   0.0   0.0   0.0   0.0  \n",
              "1599   1.0   1.0   1.0   0.0   0.0   1.0   0.0   0.0   0.0  \n",
              "\n",
              "[1600 rows x 1600 columns]"
            ],
            "text/html": [
              "\n",
              "  <div id=\"df-95b9ea5b-3e71-4db3-ba38-493318a1cbb2\">\n",
              "    <div class=\"colab-df-container\">\n",
              "      <div>\n",
              "<style scoped>\n",
              "    .dataframe tbody tr th:only-of-type {\n",
              "        vertical-align: middle;\n",
              "    }\n",
              "\n",
              "    .dataframe tbody tr th {\n",
              "        vertical-align: top;\n",
              "    }\n",
              "\n",
              "    .dataframe thead th {\n",
              "        text-align: right;\n",
              "    }\n",
              "</style>\n",
              "<table border=\"1\" class=\"dataframe\">\n",
              "  <thead>\n",
              "    <tr style=\"text-align: right;\">\n",
              "      <th></th>\n",
              "      <th>0</th>\n",
              "      <th>1</th>\n",
              "      <th>2</th>\n",
              "      <th>3</th>\n",
              "      <th>4</th>\n",
              "      <th>5</th>\n",
              "      <th>6</th>\n",
              "      <th>7</th>\n",
              "      <th>8</th>\n",
              "      <th>9</th>\n",
              "      <th>...</th>\n",
              "      <th>1590</th>\n",
              "      <th>1591</th>\n",
              "      <th>1592</th>\n",
              "      <th>1593</th>\n",
              "      <th>1594</th>\n",
              "      <th>1595</th>\n",
              "      <th>1596</th>\n",
              "      <th>1597</th>\n",
              "      <th>1598</th>\n",
              "      <th>1599</th>\n",
              "    </tr>\n",
              "  </thead>\n",
              "  <tbody>\n",
              "    <tr>\n",
              "      <th>0</th>\n",
              "      <td>0.0</td>\n",
              "      <td>1.0</td>\n",
              "      <td>0.0</td>\n",
              "      <td>0.0</td>\n",
              "      <td>0.0</td>\n",
              "      <td>0.0</td>\n",
              "      <td>0.0</td>\n",
              "      <td>1.0</td>\n",
              "      <td>1.0</td>\n",
              "      <td>0.0</td>\n",
              "      <td>...</td>\n",
              "      <td>0.0</td>\n",
              "      <td>0.0</td>\n",
              "      <td>1.0</td>\n",
              "      <td>1.0</td>\n",
              "      <td>0.0</td>\n",
              "      <td>0.0</td>\n",
              "      <td>0.0</td>\n",
              "      <td>0.0</td>\n",
              "      <td>0.0</td>\n",
              "      <td>0.0</td>\n",
              "    </tr>\n",
              "    <tr>\n",
              "      <th>1</th>\n",
              "      <td>1.0</td>\n",
              "      <td>0.0</td>\n",
              "      <td>0.0</td>\n",
              "      <td>1.0</td>\n",
              "      <td>1.0</td>\n",
              "      <td>1.0</td>\n",
              "      <td>1.0</td>\n",
              "      <td>1.0</td>\n",
              "      <td>1.0</td>\n",
              "      <td>1.0</td>\n",
              "      <td>...</td>\n",
              "      <td>1.0</td>\n",
              "      <td>1.0</td>\n",
              "      <td>1.0</td>\n",
              "      <td>1.0</td>\n",
              "      <td>1.0</td>\n",
              "      <td>1.0</td>\n",
              "      <td>1.0</td>\n",
              "      <td>0.0</td>\n",
              "      <td>1.0</td>\n",
              "      <td>1.0</td>\n",
              "    </tr>\n",
              "    <tr>\n",
              "      <th>2</th>\n",
              "      <td>0.0</td>\n",
              "      <td>0.0</td>\n",
              "      <td>0.0</td>\n",
              "      <td>0.0</td>\n",
              "      <td>0.0</td>\n",
              "      <td>0.0</td>\n",
              "      <td>0.0</td>\n",
              "      <td>1.0</td>\n",
              "      <td>0.0</td>\n",
              "      <td>0.0</td>\n",
              "      <td>...</td>\n",
              "      <td>0.0</td>\n",
              "      <td>0.0</td>\n",
              "      <td>0.0</td>\n",
              "      <td>0.0</td>\n",
              "      <td>0.0</td>\n",
              "      <td>0.0</td>\n",
              "      <td>0.0</td>\n",
              "      <td>0.0</td>\n",
              "      <td>0.0</td>\n",
              "      <td>0.0</td>\n",
              "    </tr>\n",
              "    <tr>\n",
              "      <th>3</th>\n",
              "      <td>0.0</td>\n",
              "      <td>1.0</td>\n",
              "      <td>0.0</td>\n",
              "      <td>0.0</td>\n",
              "      <td>0.0</td>\n",
              "      <td>0.0</td>\n",
              "      <td>0.0</td>\n",
              "      <td>1.0</td>\n",
              "      <td>0.0</td>\n",
              "      <td>0.0</td>\n",
              "      <td>...</td>\n",
              "      <td>0.0</td>\n",
              "      <td>0.0</td>\n",
              "      <td>0.0</td>\n",
              "      <td>0.0</td>\n",
              "      <td>0.0</td>\n",
              "      <td>0.0</td>\n",
              "      <td>0.0</td>\n",
              "      <td>0.0</td>\n",
              "      <td>0.0</td>\n",
              "      <td>0.0</td>\n",
              "    </tr>\n",
              "    <tr>\n",
              "      <th>4</th>\n",
              "      <td>0.0</td>\n",
              "      <td>1.0</td>\n",
              "      <td>0.0</td>\n",
              "      <td>0.0</td>\n",
              "      <td>0.0</td>\n",
              "      <td>0.0</td>\n",
              "      <td>0.0</td>\n",
              "      <td>1.0</td>\n",
              "      <td>1.0</td>\n",
              "      <td>1.0</td>\n",
              "      <td>...</td>\n",
              "      <td>0.0</td>\n",
              "      <td>1.0</td>\n",
              "      <td>1.0</td>\n",
              "      <td>1.0</td>\n",
              "      <td>0.0</td>\n",
              "      <td>1.0</td>\n",
              "      <td>1.0</td>\n",
              "      <td>0.0</td>\n",
              "      <td>1.0</td>\n",
              "      <td>1.0</td>\n",
              "    </tr>\n",
              "    <tr>\n",
              "      <th>...</th>\n",
              "      <td>...</td>\n",
              "      <td>...</td>\n",
              "      <td>...</td>\n",
              "      <td>...</td>\n",
              "      <td>...</td>\n",
              "      <td>...</td>\n",
              "      <td>...</td>\n",
              "      <td>...</td>\n",
              "      <td>...</td>\n",
              "      <td>...</td>\n",
              "      <td>...</td>\n",
              "      <td>...</td>\n",
              "      <td>...</td>\n",
              "      <td>...</td>\n",
              "      <td>...</td>\n",
              "      <td>...</td>\n",
              "      <td>...</td>\n",
              "      <td>...</td>\n",
              "      <td>...</td>\n",
              "      <td>...</td>\n",
              "      <td>...</td>\n",
              "    </tr>\n",
              "    <tr>\n",
              "      <th>1595</th>\n",
              "      <td>0.0</td>\n",
              "      <td>1.0</td>\n",
              "      <td>0.0</td>\n",
              "      <td>0.0</td>\n",
              "      <td>1.0</td>\n",
              "      <td>0.0</td>\n",
              "      <td>0.0</td>\n",
              "      <td>1.0</td>\n",
              "      <td>1.0</td>\n",
              "      <td>0.0</td>\n",
              "      <td>...</td>\n",
              "      <td>0.0</td>\n",
              "      <td>0.0</td>\n",
              "      <td>1.0</td>\n",
              "      <td>1.0</td>\n",
              "      <td>0.0</td>\n",
              "      <td>0.0</td>\n",
              "      <td>0.0</td>\n",
              "      <td>0.0</td>\n",
              "      <td>0.0</td>\n",
              "      <td>0.0</td>\n",
              "    </tr>\n",
              "    <tr>\n",
              "      <th>1596</th>\n",
              "      <td>0.0</td>\n",
              "      <td>1.0</td>\n",
              "      <td>0.0</td>\n",
              "      <td>0.0</td>\n",
              "      <td>1.0</td>\n",
              "      <td>0.0</td>\n",
              "      <td>0.0</td>\n",
              "      <td>1.0</td>\n",
              "      <td>1.0</td>\n",
              "      <td>0.0</td>\n",
              "      <td>...</td>\n",
              "      <td>0.0</td>\n",
              "      <td>1.0</td>\n",
              "      <td>1.0</td>\n",
              "      <td>1.0</td>\n",
              "      <td>0.0</td>\n",
              "      <td>0.0</td>\n",
              "      <td>0.0</td>\n",
              "      <td>0.0</td>\n",
              "      <td>0.0</td>\n",
              "      <td>1.0</td>\n",
              "    </tr>\n",
              "    <tr>\n",
              "      <th>1597</th>\n",
              "      <td>0.0</td>\n",
              "      <td>0.0</td>\n",
              "      <td>0.0</td>\n",
              "      <td>0.0</td>\n",
              "      <td>0.0</td>\n",
              "      <td>0.0</td>\n",
              "      <td>0.0</td>\n",
              "      <td>1.0</td>\n",
              "      <td>0.0</td>\n",
              "      <td>0.0</td>\n",
              "      <td>...</td>\n",
              "      <td>0.0</td>\n",
              "      <td>0.0</td>\n",
              "      <td>0.0</td>\n",
              "      <td>0.0</td>\n",
              "      <td>0.0</td>\n",
              "      <td>0.0</td>\n",
              "      <td>0.0</td>\n",
              "      <td>0.0</td>\n",
              "      <td>0.0</td>\n",
              "      <td>0.0</td>\n",
              "    </tr>\n",
              "    <tr>\n",
              "      <th>1598</th>\n",
              "      <td>0.0</td>\n",
              "      <td>1.0</td>\n",
              "      <td>0.0</td>\n",
              "      <td>0.0</td>\n",
              "      <td>1.0</td>\n",
              "      <td>0.0</td>\n",
              "      <td>0.0</td>\n",
              "      <td>1.0</td>\n",
              "      <td>1.0</td>\n",
              "      <td>0.0</td>\n",
              "      <td>...</td>\n",
              "      <td>0.0</td>\n",
              "      <td>0.0</td>\n",
              "      <td>1.0</td>\n",
              "      <td>1.0</td>\n",
              "      <td>0.0</td>\n",
              "      <td>0.0</td>\n",
              "      <td>0.0</td>\n",
              "      <td>0.0</td>\n",
              "      <td>0.0</td>\n",
              "      <td>0.0</td>\n",
              "    </tr>\n",
              "    <tr>\n",
              "      <th>1599</th>\n",
              "      <td>0.0</td>\n",
              "      <td>1.0</td>\n",
              "      <td>0.0</td>\n",
              "      <td>0.0</td>\n",
              "      <td>1.0</td>\n",
              "      <td>0.0</td>\n",
              "      <td>0.0</td>\n",
              "      <td>1.0</td>\n",
              "      <td>1.0</td>\n",
              "      <td>1.0</td>\n",
              "      <td>...</td>\n",
              "      <td>0.0</td>\n",
              "      <td>1.0</td>\n",
              "      <td>1.0</td>\n",
              "      <td>1.0</td>\n",
              "      <td>0.0</td>\n",
              "      <td>0.0</td>\n",
              "      <td>1.0</td>\n",
              "      <td>0.0</td>\n",
              "      <td>0.0</td>\n",
              "      <td>0.0</td>\n",
              "    </tr>\n",
              "  </tbody>\n",
              "</table>\n",
              "<p>1600 rows × 1600 columns</p>\n",
              "</div>\n",
              "      <button class=\"colab-df-convert\" onclick=\"convertToInteractive('df-95b9ea5b-3e71-4db3-ba38-493318a1cbb2')\"\n",
              "              title=\"Convert this dataframe to an interactive table.\"\n",
              "              style=\"display:none;\">\n",
              "        \n",
              "  <svg xmlns=\"http://www.w3.org/2000/svg\" height=\"24px\"viewBox=\"0 0 24 24\"\n",
              "       width=\"24px\">\n",
              "    <path d=\"M0 0h24v24H0V0z\" fill=\"none\"/>\n",
              "    <path d=\"M18.56 5.44l.94 2.06.94-2.06 2.06-.94-2.06-.94-.94-2.06-.94 2.06-2.06.94zm-11 1L8.5 8.5l.94-2.06 2.06-.94-2.06-.94L8.5 2.5l-.94 2.06-2.06.94zm10 10l.94 2.06.94-2.06 2.06-.94-2.06-.94-.94-2.06-.94 2.06-2.06.94z\"/><path d=\"M17.41 7.96l-1.37-1.37c-.4-.4-.92-.59-1.43-.59-.52 0-1.04.2-1.43.59L10.3 9.45l-7.72 7.72c-.78.78-.78 2.05 0 2.83L4 21.41c.39.39.9.59 1.41.59.51 0 1.02-.2 1.41-.59l7.78-7.78 2.81-2.81c.8-.78.8-2.07 0-2.86zM5.41 20L4 18.59l7.72-7.72 1.47 1.35L5.41 20z\"/>\n",
              "  </svg>\n",
              "      </button>\n",
              "      \n",
              "  <style>\n",
              "    .colab-df-container {\n",
              "      display:flex;\n",
              "      flex-wrap:wrap;\n",
              "      gap: 12px;\n",
              "    }\n",
              "\n",
              "    .colab-df-convert {\n",
              "      background-color: #E8F0FE;\n",
              "      border: none;\n",
              "      border-radius: 50%;\n",
              "      cursor: pointer;\n",
              "      display: none;\n",
              "      fill: #1967D2;\n",
              "      height: 32px;\n",
              "      padding: 0 0 0 0;\n",
              "      width: 32px;\n",
              "    }\n",
              "\n",
              "    .colab-df-convert:hover {\n",
              "      background-color: #E2EBFA;\n",
              "      box-shadow: 0px 1px 2px rgba(60, 64, 67, 0.3), 0px 1px 3px 1px rgba(60, 64, 67, 0.15);\n",
              "      fill: #174EA6;\n",
              "    }\n",
              "\n",
              "    [theme=dark] .colab-df-convert {\n",
              "      background-color: #3B4455;\n",
              "      fill: #D2E3FC;\n",
              "    }\n",
              "\n",
              "    [theme=dark] .colab-df-convert:hover {\n",
              "      background-color: #434B5C;\n",
              "      box-shadow: 0px 1px 3px 1px rgba(0, 0, 0, 0.15);\n",
              "      filter: drop-shadow(0px 1px 2px rgba(0, 0, 0, 0.3));\n",
              "      fill: #FFFFFF;\n",
              "    }\n",
              "  </style>\n",
              "\n",
              "      <script>\n",
              "        const buttonEl =\n",
              "          document.querySelector('#df-95b9ea5b-3e71-4db3-ba38-493318a1cbb2 button.colab-df-convert');\n",
              "        buttonEl.style.display =\n",
              "          google.colab.kernel.accessAllowed ? 'block' : 'none';\n",
              "\n",
              "        async function convertToInteractive(key) {\n",
              "          const element = document.querySelector('#df-95b9ea5b-3e71-4db3-ba38-493318a1cbb2');\n",
              "          const dataTable =\n",
              "            await google.colab.kernel.invokeFunction('convertToInteractive',\n",
              "                                                     [key], {});\n",
              "          if (!dataTable) return;\n",
              "\n",
              "          const docLinkHtml = 'Like what you see? Visit the ' +\n",
              "            '<a target=\"_blank\" href=https://colab.research.google.com/notebooks/data_table.ipynb>data table notebook</a>'\n",
              "            + ' to learn more about interactive tables.';\n",
              "          element.innerHTML = '';\n",
              "          dataTable['output_type'] = 'display_data';\n",
              "          await google.colab.output.renderOutput(dataTable, element);\n",
              "          const docLink = document.createElement('div');\n",
              "          docLink.innerHTML = docLinkHtml;\n",
              "          element.appendChild(docLink);\n",
              "        }\n",
              "      </script>\n",
              "    </div>\n",
              "  </div>\n",
              "  "
            ]
          },
          "metadata": {},
          "execution_count": 41
        }
      ]
    },
    {
      "cell_type": "code",
      "source": [
        "q = adjmat_df.to_numpy()\n",
        "q"
      ],
      "metadata": {
        "colab": {
          "base_uri": "https://localhost:8080/"
        },
        "id": "9Fssaky0jHsn",
        "outputId": "e8e14e78-8c6b-4598-eca5-57ee6c55bc26"
      },
      "execution_count": 42,
      "outputs": [
        {
          "output_type": "execute_result",
          "data": {
            "text/plain": [
              "array([[0., 1., 0., ..., 0., 0., 0.],\n",
              "       [1., 0., 0., ..., 0., 1., 1.],\n",
              "       [0., 0., 0., ..., 0., 0., 0.],\n",
              "       ...,\n",
              "       [0., 0., 0., ..., 0., 0., 0.],\n",
              "       [0., 1., 0., ..., 0., 0., 0.],\n",
              "       [0., 1., 0., ..., 0., 0., 0.]])"
            ]
          },
          "metadata": {},
          "execution_count": 42
        }
      ]
    },
    {
      "cell_type": "code",
      "source": [
        "# SOURCE : https://github.com/dmlc/dgl/issues/3364\n",
        "src, dst = np.nonzero(q)"
      ],
      "metadata": {
        "id": "P6OeMUnQZsrN"
      },
      "execution_count": 43,
      "outputs": []
    },
    {
      "cell_type": "code",
      "source": [
        "src"
      ],
      "metadata": {
        "colab": {
          "base_uri": "https://localhost:8080/"
        },
        "id": "o9mbiGeJargk",
        "outputId": "3a81c953-a34e-429f-a933-89d6bd4cecc1"
      },
      "execution_count": 44,
      "outputs": [
        {
          "output_type": "execute_result",
          "data": {
            "text/plain": [
              "array([   0,    0,    0, ..., 1599, 1599, 1599])"
            ]
          },
          "metadata": {},
          "execution_count": 44
        }
      ]
    },
    {
      "cell_type": "code",
      "source": [
        "dst"
      ],
      "metadata": {
        "colab": {
          "base_uri": "https://localhost:8080/"
        },
        "id": "ftpsumT5ataU",
        "outputId": "d4f708a2-a620-433e-881f-8197aefc40db"
      },
      "execution_count": 45,
      "outputs": [
        {
          "output_type": "execute_result",
          "data": {
            "text/plain": [
              "array([   1,    7,    8, ..., 1592, 1593, 1596])"
            ]
          },
          "metadata": {},
          "execution_count": 45
        }
      ]
    },
    {
      "cell_type": "code",
      "source": [
        "g = dgl.graph((src, dst))"
      ],
      "metadata": {
        "id": "586xOg_vZvs8"
      },
      "execution_count": 46,
      "outputs": []
    },
    {
      "cell_type": "code",
      "source": [
        "#g.ndata\n",
        "g.ndata['feat'] = torch.tensor(q)\n",
        "g.ndata['feat'] "
      ],
      "metadata": {
        "colab": {
          "base_uri": "https://localhost:8080/"
        },
        "id": "PJAJEsbkFd4I",
        "outputId": "dccfa95e-8311-4309-95ec-e03ff998745c"
      },
      "execution_count": 47,
      "outputs": [
        {
          "output_type": "execute_result",
          "data": {
            "text/plain": [
              "tensor([[0., 1., 0.,  ..., 0., 0., 0.],\n",
              "        [1., 0., 0.,  ..., 0., 1., 1.],\n",
              "        [0., 0., 0.,  ..., 0., 0., 0.],\n",
              "        ...,\n",
              "        [0., 0., 0.,  ..., 0., 0., 0.],\n",
              "        [0., 1., 0.,  ..., 0., 0., 0.],\n",
              "        [0., 1., 0.,  ..., 0., 0., 0.]], dtype=torch.float64)"
            ]
          },
          "metadata": {},
          "execution_count": 47
        }
      ]
    },
    {
      "cell_type": "code",
      "source": [
        "n_nodes = g.num_nodes()\n",
        "n_nodes"
      ],
      "metadata": {
        "colab": {
          "base_uri": "https://localhost:8080/"
        },
        "id": "1sx5KTl9PYUe",
        "outputId": "2933033c-e29c-478d-a61e-49875104fc3a"
      },
      "execution_count": 48,
      "outputs": [
        {
          "output_type": "execute_result",
          "data": {
            "text/plain": [
              "1600"
            ]
          },
          "metadata": {},
          "execution_count": 48
        }
      ]
    },
    {
      "cell_type": "code",
      "source": [
        "nodes = g.nodes()\n",
        "nodes"
      ],
      "metadata": {
        "colab": {
          "base_uri": "https://localhost:8080/"
        },
        "id": "X966_YkOPYWw",
        "outputId": "767c2fb0-0bdb-47f3-ae00-8ec4692e3cee"
      },
      "execution_count": 49,
      "outputs": [
        {
          "output_type": "execute_result",
          "data": {
            "text/plain": [
              "tensor([   0,    1,    2,  ..., 1597, 1598, 1599])"
            ]
          },
          "metadata": {},
          "execution_count": 49
        }
      ]
    },
    {
      "cell_type": "code",
      "source": [
        "n_nodes1 = g.number_of_nodes()\n",
        "n_nodes1"
      ],
      "metadata": {
        "colab": {
          "base_uri": "https://localhost:8080/"
        },
        "id": "eBfrj943UfIY",
        "outputId": "d6438f04-9b5c-435d-f934-47cd20698007"
      },
      "execution_count": 50,
      "outputs": [
        {
          "output_type": "execute_result",
          "data": {
            "text/plain": [
              "1600"
            ]
          },
          "metadata": {},
          "execution_count": 50
        }
      ]
    },
    {
      "cell_type": "code",
      "source": [
        "n_train = int(n_nodes1 * 0.8)\n",
        "n_val = int(n_nodes1 * 0.2)"
      ],
      "metadata": {
        "id": "SZYQiQqEmXJb"
      },
      "execution_count": 51,
      "outputs": []
    },
    {
      "cell_type": "code",
      "source": [
        "train_mask = torch.zeros(n_nodes, dtype=torch.bool)\n",
        "len(train_mask)\n",
        "train_mask"
      ],
      "metadata": {
        "colab": {
          "base_uri": "https://localhost:8080/"
        },
        "id": "PkJ5DhnOmy1K",
        "outputId": "8e179252-f14b-4e96-dafc-d6117dd1daa2"
      },
      "execution_count": 52,
      "outputs": [
        {
          "output_type": "execute_result",
          "data": {
            "text/plain": [
              "tensor([False, False, False,  ..., False, False, False])"
            ]
          },
          "metadata": {},
          "execution_count": 52
        }
      ]
    },
    {
      "cell_type": "code",
      "source": [
        "val_mask = torch.zeros(n_nodes, dtype=torch.bool)\n",
        "len(val_mask)\n",
        "val_mask"
      ],
      "metadata": {
        "colab": {
          "base_uri": "https://localhost:8080/"
        },
        "id": "G0v0Uq_Wm3eS",
        "outputId": "73296f37-e636-414c-882c-ec09ab9e8946"
      },
      "execution_count": 53,
      "outputs": [
        {
          "output_type": "execute_result",
          "data": {
            "text/plain": [
              "tensor([False, False, False,  ..., False, False, False])"
            ]
          },
          "metadata": {},
          "execution_count": 53
        }
      ]
    },
    {
      "cell_type": "code",
      "source": [
        "train_mask[:n_train] = True"
      ],
      "metadata": {
        "id": "x2aQxYaimXLj"
      },
      "execution_count": 54,
      "outputs": []
    },
    {
      "cell_type": "code",
      "source": [
        "val_mask[n_train:] = True\n"
      ],
      "metadata": {
        "id": "1TgTOVm0mXPd"
      },
      "execution_count": 55,
      "outputs": []
    },
    {
      "cell_type": "code",
      "source": [
        "g.ndata['train_mask'] = train_mask"
      ],
      "metadata": {
        "id": "AoRuraDInRHu"
      },
      "execution_count": 56,
      "outputs": []
    },
    {
      "cell_type": "code",
      "source": [
        "g.ndata['val_mask'] = val_mask"
      ],
      "metadata": {
        "id": "pU8Ro7FsntTY"
      },
      "execution_count": 57,
      "outputs": []
    },
    {
      "cell_type": "code",
      "source": [
        "s_array = df['Class'].to_numpy()\n",
        "s_array"
      ],
      "metadata": {
        "colab": {
          "base_uri": "https://localhost:8080/"
        },
        "id": "BeIWr8AMoNpQ",
        "outputId": "f2fc4014-10ea-403c-9059-382f713995d2"
      },
      "execution_count": 58,
      "outputs": [
        {
          "output_type": "execute_result",
          "data": {
            "text/plain": [
              "array([0, 1, 1, ..., 1, 0, 1])"
            ]
          },
          "metadata": {},
          "execution_count": 58
        }
      ]
    },
    {
      "cell_type": "code",
      "source": [
        "t1 = torch.tensor(s_array)\n",
        "t1"
      ],
      "metadata": {
        "colab": {
          "base_uri": "https://localhost:8080/"
        },
        "id": "R97wW7EUoNrT",
        "outputId": "b846abc0-9a66-4c98-c771-48a165f7798b"
      },
      "execution_count": 59,
      "outputs": [
        {
          "output_type": "execute_result",
          "data": {
            "text/plain": [
              "tensor([0, 1, 1,  ..., 1, 0, 1])"
            ]
          },
          "metadata": {},
          "execution_count": 59
        }
      ]
    },
    {
      "cell_type": "code",
      "source": [
        "g.ndata[\"label\"] =t1"
      ],
      "metadata": {
        "id": "hO8JibL0oNwE"
      },
      "execution_count": 60,
      "outputs": []
    },
    {
      "cell_type": "code",
      "source": [
        "label = g.ndata[\"label\"]"
      ],
      "metadata": {
        "id": "G2mtSADLoNx9"
      },
      "execution_count": 61,
      "outputs": []
    },
    {
      "cell_type": "code",
      "source": [
        "label[train_mask]"
      ],
      "metadata": {
        "colab": {
          "base_uri": "https://localhost:8080/"
        },
        "id": "YsuJWgi_eVHj",
        "outputId": "6442a686-33c0-4f2e-f281-71c7c84d69dd"
      },
      "execution_count": 62,
      "outputs": [
        {
          "output_type": "execute_result",
          "data": {
            "text/plain": [
              "tensor([0, 1, 1,  ..., 0, 0, 0])"
            ]
          },
          "metadata": {},
          "execution_count": 62
        }
      ]
    },
    {
      "cell_type": "code",
      "source": [
        "label[val_mask]"
      ],
      "metadata": {
        "colab": {
          "base_uri": "https://localhost:8080/"
        },
        "id": "kvhuvz2hecjK",
        "outputId": "917836c3-0e4c-42fc-906d-e089db13e5f9"
      },
      "execution_count": 63,
      "outputs": [
        {
          "output_type": "execute_result",
          "data": {
            "text/plain": [
              "tensor([0, 1, 0, 1, 0, 1, 0, 1, 1, 0, 0, 1, 1, 0, 1, 0, 0, 0, 0, 0, 0, 0, 0, 1,\n",
              "        0, 0, 0, 1, 1, 1, 1, 1, 0, 1, 1, 1, 0, 0, 1, 0, 0, 1, 0, 0, 1, 1, 1, 0,\n",
              "        0, 1, 0, 1, 0, 1, 1, 0, 1, 0, 1, 0, 1, 0, 1, 0, 0, 1, 0, 1, 0, 1, 0, 0,\n",
              "        0, 0, 0, 1, 0, 0, 1, 1, 0, 1, 0, 0, 0, 0, 1, 1, 0, 0, 1, 0, 1, 1, 1, 1,\n",
              "        1, 0, 0, 1, 0, 1, 1, 1, 0, 0, 1, 1, 0, 1, 1, 0, 1, 1, 0, 0, 1, 0, 0, 0,\n",
              "        0, 1, 0, 0, 0, 0, 0, 0, 1, 0, 0, 0, 0, 1, 0, 0, 0, 0, 0, 0, 0, 0, 0, 0,\n",
              "        0, 0, 0, 0, 1, 0, 0, 0, 1, 0, 1, 0, 1, 0, 1, 0, 0, 0, 0, 1, 1, 0, 0, 0,\n",
              "        1, 1, 1, 1, 1, 0, 1, 1, 0, 0, 0, 1, 0, 0, 1, 0, 0, 1, 1, 0, 0, 1, 1, 1,\n",
              "        0, 1, 1, 1, 1, 1, 1, 1, 1, 0, 1, 0, 1, 1, 0, 1, 0, 0, 1, 1, 1, 1, 0, 1,\n",
              "        1, 0, 1, 0, 1, 1, 1, 0, 1, 1, 0, 0, 0, 0, 1, 1, 1, 1, 1, 0, 0, 0, 0, 1,\n",
              "        0, 0, 1, 1, 0, 1, 1, 1, 0, 0, 0, 0, 0, 0, 1, 0, 1, 0, 0, 0, 1, 1, 1, 0,\n",
              "        1, 0, 1, 1, 1, 0, 0, 1, 0, 1, 0, 0, 0, 0, 1, 1, 1, 0, 0, 0, 1, 0, 1, 0,\n",
              "        1, 1, 0, 0, 1, 1, 1, 0, 1, 1, 0, 0, 1, 0, 0, 1, 1, 1, 0, 1, 0, 1, 0, 0,\n",
              "        1, 1, 1, 1, 0, 1, 0, 1])"
            ]
          },
          "metadata": {},
          "execution_count": 63
        }
      ]
    },
    {
      "cell_type": "code",
      "source": [
        "g.ndata"
      ],
      "metadata": {
        "colab": {
          "base_uri": "https://localhost:8080/"
        },
        "id": "qulmKwjmn4QZ",
        "outputId": "c5033b8b-cc45-49c8-f524-28478b421e92"
      },
      "execution_count": 64,
      "outputs": [
        {
          "output_type": "execute_result",
          "data": {
            "text/plain": [
              "{'feat': tensor([[0., 1., 0.,  ..., 0., 0., 0.],\n",
              "        [1., 0., 0.,  ..., 0., 1., 1.],\n",
              "        [0., 0., 0.,  ..., 0., 0., 0.],\n",
              "        ...,\n",
              "        [0., 0., 0.,  ..., 0., 0., 0.],\n",
              "        [0., 1., 0.,  ..., 0., 0., 0.],\n",
              "        [0., 1., 0.,  ..., 0., 0., 0.]], dtype=torch.float64), 'train_mask': tensor([ True,  True,  True,  ..., False, False, False]), 'val_mask': tensor([False, False, False,  ...,  True,  True,  True]), 'label': tensor([0, 1, 1,  ..., 1, 0, 1])}"
            ]
          },
          "metadata": {},
          "execution_count": 64
        }
      ]
    },
    {
      "cell_type": "code",
      "source": [
        "train_mask"
      ],
      "metadata": {
        "colab": {
          "base_uri": "https://localhost:8080/"
        },
        "id": "3y5BqD8cn98w",
        "outputId": "b88c98a6-6d17-41e0-99cf-637d52194bda"
      },
      "execution_count": 65,
      "outputs": [
        {
          "output_type": "execute_result",
          "data": {
            "text/plain": [
              "tensor([ True,  True,  True,  ..., False, False, False])"
            ]
          },
          "metadata": {},
          "execution_count": 65
        }
      ]
    },
    {
      "cell_type": "code",
      "source": [
        "val_mask"
      ],
      "metadata": {
        "colab": {
          "base_uri": "https://localhost:8080/"
        },
        "id": "5KuQJLqCdLcy",
        "outputId": "c7aa2eb9-e4b2-4a38-fc4f-e37aaec64078"
      },
      "execution_count": 66,
      "outputs": [
        {
          "output_type": "execute_result",
          "data": {
            "text/plain": [
              "tensor([False, False, False,  ...,  True,  True,  True])"
            ]
          },
          "metadata": {},
          "execution_count": 66
        }
      ]
    },
    {
      "cell_type": "code",
      "source": [
        "g.ndata['feat'][train_mask]"
      ],
      "metadata": {
        "colab": {
          "base_uri": "https://localhost:8080/"
        },
        "id": "1tRqBC87n--_",
        "outputId": "2286b528-bcdb-4ef5-9a40-2a467f7e19d8"
      },
      "execution_count": 67,
      "outputs": [
        {
          "output_type": "execute_result",
          "data": {
            "text/plain": [
              "tensor([[0., 1., 0.,  ..., 0., 0., 0.],\n",
              "        [1., 0., 0.,  ..., 0., 1., 1.],\n",
              "        [0., 0., 0.,  ..., 0., 0., 0.],\n",
              "        ...,\n",
              "        [0., 1., 0.,  ..., 0., 0., 0.],\n",
              "        [0., 1., 0.,  ..., 0., 1., 1.],\n",
              "        [1., 1., 1.,  ..., 0., 1., 1.]], dtype=torch.float64)"
            ]
          },
          "metadata": {},
          "execution_count": 67
        }
      ]
    },
    {
      "cell_type": "code",
      "source": [
        "clf = LogisticRegression()\n",
        "clf.fit(g.ndata['feat'][train_mask], label[train_mask])\n",
        "\n",
        "#y_hat_val_lr = clf.predict_proba(X_kbest_features[val_mask,:])\n",
        "y_val_lr = clf.predict(g.ndata['feat'][val_mask])"
      ],
      "metadata": {
        "colab": {
          "base_uri": "https://localhost:8080/"
        },
        "id": "BdBvTy7lel4j",
        "outputId": "ca1b108d-ff97-4df3-e9b1-f9627270b4f3"
      },
      "execution_count": 68,
      "outputs": [
        {
          "output_type": "stream",
          "name": "stderr",
          "text": [
            "/usr/local/lib/python3.7/dist-packages/sklearn/linear_model/_logistic.py:818: ConvergenceWarning: lbfgs failed to converge (status=1):\n",
            "STOP: TOTAL NO. of ITERATIONS REACHED LIMIT.\n",
            "\n",
            "Increase the number of iterations (max_iter) or scale the data as shown in:\n",
            "    https://scikit-learn.org/stable/modules/preprocessing.html\n",
            "Please also refer to the documentation for alternative solver options:\n",
            "    https://scikit-learn.org/stable/modules/linear_model.html#logistic-regression\n",
            "  extra_warning_msg=_LOGISTIC_SOLVER_CONVERGENCE_MSG,\n"
          ]
        }
      ]
    },
    {
      "cell_type": "code",
      "source": [
        "accuracy_score(label[val_mask], y_val_lr)"
      ],
      "metadata": {
        "colab": {
          "base_uri": "https://localhost:8080/"
        },
        "id": "zdTuFzygeupD",
        "outputId": "8db31215-1f71-4bec-ccc2-2430264568ad"
      },
      "execution_count": 69,
      "outputs": [
        {
          "output_type": "execute_result",
          "data": {
            "text/plain": [
              "0.809375"
            ]
          },
          "metadata": {},
          "execution_count": 69
        }
      ]
    },
    {
      "cell_type": "code",
      "source": [
        "clf_balanced = LogisticRegression(class_weight='balanced', max_iter=1000)\n",
        "clf_balanced.fit(g.ndata['feat'][train_mask], label[train_mask])\n",
        "\n",
        "y_val_lrb = clf_balanced.predict(g.ndata['feat'][val_mask])"
      ],
      "metadata": {
        "id": "vrZr6kjJdPfi"
      },
      "execution_count": 70,
      "outputs": []
    },
    {
      "cell_type": "code",
      "source": [
        "accuracy_score(label[val_mask], y_val_lrb)"
      ],
      "metadata": {
        "colab": {
          "base_uri": "https://localhost:8080/"
        },
        "id": "0_u19X0DdPjQ",
        "outputId": "61407e63-b070-42da-8742-17633c263ccd"
      },
      "execution_count": 71,
      "outputs": [
        {
          "output_type": "execute_result",
          "data": {
            "text/plain": [
              "0.825"
            ]
          },
          "metadata": {},
          "execution_count": 71
        }
      ]
    },
    {
      "cell_type": "code",
      "source": [
        "rf = RandomForestClassifier(n_estimators=400)\n",
        "rf.fit(g.ndata['feat'][train_mask,:], label[train_mask])\n",
        "\n",
        "y_val_rf = rf.predict(g.ndata['feat'][val_mask,:])\n",
        "accuracy_score(label[val_mask], y_val_rf)\n"
      ],
      "metadata": {
        "colab": {
          "base_uri": "https://localhost:8080/"
        },
        "id": "dUHGG5bUdPmp",
        "outputId": "e4bb6b61-a010-49ab-8848-a72cc037ccf1"
      },
      "execution_count": 72,
      "outputs": [
        {
          "output_type": "execute_result",
          "data": {
            "text/plain": [
              "0.80625"
            ]
          },
          "metadata": {},
          "execution_count": 72
        }
      ]
    },
    {
      "cell_type": "code",
      "source": [
        "gb = GradientBoostingClassifier(n_estimators=300, learning_rate=1.0, max_depth=1, random_state=0)\n",
        "gb.fit(g.ndata['feat'][train_mask,:], label[train_mask])\n",
        "\n",
        "y_val_rf = gb.predict(g.ndata['feat'][val_mask,:])\n",
        "accuracy_score(label[val_mask], y_val_rf)"
      ],
      "metadata": {
        "colab": {
          "base_uri": "https://localhost:8080/"
        },
        "id": "yn4dNSPXgJuy",
        "outputId": "81169e52-90ed-400f-b7ce-7a3d4106a556"
      },
      "execution_count": 73,
      "outputs": [
        {
          "output_type": "execute_result",
          "data": {
            "text/plain": [
              "0.796875"
            ]
          },
          "metadata": {},
          "execution_count": 73
        }
      ]
    },
    {
      "cell_type": "code",
      "source": [
        "ab = AdaBoostClassifier(n_estimators=400, random_state=0)\n",
        "ab.fit(g.ndata['feat'][train_mask,:], label[train_mask])\n",
        "\n",
        "y_val_rf = ab.predict(g.ndata['feat'][val_mask,:])\n",
        "accuracy_score(label[val_mask], y_val_rf)"
      ],
      "metadata": {
        "colab": {
          "base_uri": "https://localhost:8080/"
        },
        "id": "7QYFwyqhgJyg",
        "outputId": "21c19dea-0e99-48c8-ff2f-3dbc976509d1"
      },
      "execution_count": 74,
      "outputs": [
        {
          "output_type": "execute_result",
          "data": {
            "text/plain": [
              "0.7875"
            ]
          },
          "metadata": {},
          "execution_count": 74
        }
      ]
    },
    {
      "cell_type": "code",
      "source": [
        "from sklearn.model_selection import KFold\n",
        "from sklearn.model_selection import StratifiedKFold\n",
        "from sklearn.model_selection import cross_val_score\n",
        "cv = KFold(n_splits=10, random_state=1, shuffle=True)"
      ],
      "metadata": {
        "id": "oiJqzNz2hZIp"
      },
      "execution_count": 75,
      "outputs": []
    },
    {
      "cell_type": "code",
      "source": [
        "from sklearn.linear_model import LogisticRegression\n",
        "log = LogisticRegression(max_iter=10000) \n",
        "scores = cross_val_score(log, g.ndata['feat'], label, cv=cv, n_jobs=-1)\n",
        "print(np.mean(scores))"
      ],
      "metadata": {
        "colab": {
          "base_uri": "https://localhost:8080/"
        },
        "id": "6cJGco59gJ1p",
        "outputId": "b8615178-2496-4a55-a02e-0077b445dd31"
      },
      "execution_count": 76,
      "outputs": [
        {
          "output_type": "stream",
          "name": "stdout",
          "text": [
            "0.82875\n"
          ]
        }
      ]
    },
    {
      "cell_type": "code",
      "source": [
        "from sklearn.svm import LinearSVC\n",
        "lsvm = LinearSVC()\n",
        "scores = cross_val_score(lsvm, g.ndata['feat'], label, cv=cv, n_jobs=-1)\n",
        "print(np.mean(scores))"
      ],
      "metadata": {
        "colab": {
          "base_uri": "https://localhost:8080/"
        },
        "id": "YX_3WXWPgJ5C",
        "outputId": "5b024cc3-6a88-435f-e7b2-cb35fe8d3574"
      },
      "execution_count": 77,
      "outputs": [
        {
          "output_type": "stream",
          "name": "stdout",
          "text": [
            "0.798125\n"
          ]
        }
      ]
    },
    {
      "cell_type": "code",
      "source": [
        "from sklearn.linear_model import PassiveAggressiveClassifier\n",
        "pa=PassiveAggressiveClassifier(max_iter=1000, random_state=7, tol=1e-3)\n",
        "scores = cross_val_score(pa, g.ndata['feat'], label, cv=cv, n_jobs=-1)\n",
        "print(np.mean(scores))"
      ],
      "metadata": {
        "colab": {
          "base_uri": "https://localhost:8080/"
        },
        "id": "1s3b_2xfhsng",
        "outputId": "73724f8f-2420-4659-c02e-ba6bbbb7f070"
      },
      "execution_count": 78,
      "outputs": [
        {
          "output_type": "stream",
          "name": "stdout",
          "text": [
            "0.81375\n"
          ]
        }
      ]
    },
    {
      "cell_type": "code",
      "source": [
        "from sklearn.ensemble import RandomForestClassifier\n",
        "rf = RandomForestClassifier(n_estimators=300)\n",
        "scores = cross_val_score(rf, g.ndata['feat'], label, cv=cv, n_jobs=-1)\n",
        "print(np.mean(scores))"
      ],
      "metadata": {
        "colab": {
          "base_uri": "https://localhost:8080/"
        },
        "id": "CXg80GkUhsrr",
        "outputId": "69f13594-17f8-41c8-cf06-58eef97b758f"
      },
      "execution_count": 79,
      "outputs": [
        {
          "output_type": "stream",
          "name": "stdout",
          "text": [
            "0.80625\n"
          ]
        }
      ]
    },
    {
      "cell_type": "code",
      "source": [
        "import xgboost as xgb\n",
        "xgbc = xgb.XGBClassifier(base_score=0.5, booster='gbtree', colsample_bylevel=1,\n",
        "              colsample_bynode=1, colsample_bytree=1, \n",
        "              gamma=0,  importance_type='gain',\n",
        "              interaction_constraints='', learning_rate=0.300000012,\n",
        "              max_delta_step=0, max_depth=6, min_child_weight=1, \n",
        "             n_estimators=200, n_jobs=16,\n",
        "              num_parallel_tree=1, random_state=0,\n",
        "              reg_alpha=0, reg_lambda=1, subsample=1,\n",
        "              tree_method='exact', use_label_encoder=False\n",
        "              )\n",
        "scores = cross_val_score(xgbc, g.ndata['feat'], label, cv=cv, n_jobs=-1)\n",
        "print(np.mean(scores))"
      ],
      "metadata": {
        "colab": {
          "base_uri": "https://localhost:8080/"
        },
        "id": "w0JUReguhsv3",
        "outputId": "61a4caa6-133a-442b-b4bb-98ffa5db073d"
      },
      "execution_count": 80,
      "outputs": [
        {
          "output_type": "stream",
          "name": "stdout",
          "text": [
            "0.80375\n"
          ]
        }
      ]
    }
  ],
  "metadata": {
    "colab": {
      "provenance": [],
      "collapsed_sections": []
    },
    "kernelspec": {
      "display_name": "Python 3",
      "language": "python",
      "name": "python3"
    },
    "language_info": {
      "codemirror_mode": {
        "name": "ipython",
        "version": 3
      },
      "file_extension": ".py",
      "mimetype": "text/x-python",
      "name": "python",
      "nbconvert_exporter": "python",
      "pygments_lexer": "ipython3",
      "version": "3.6.8"
    },
    "accelerator": "GPU"
  },
  "nbformat": 4,
  "nbformat_minor": 0
}