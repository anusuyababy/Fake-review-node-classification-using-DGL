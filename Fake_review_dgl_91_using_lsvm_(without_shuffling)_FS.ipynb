{
  "cells": [
    {
      "cell_type": "markdown",
      "metadata": {
        "id": "zicTH6Fi8rIf"
      },
      "source": [
        "# FAKE REVIEW NODE EMBEDDING"
      ]
    },
    {
      "cell_type": "code",
      "source": [
        "# importing all necessary libraries\n",
        "import networkx as nx\n",
        "import pandas as pd\n",
        "import numpy as np\n",
        "import matplotlib.pyplot as plt\n",
        "import seaborn as sns\n",
        "import string\n",
        "import os\n",
        "import networkx as nx\n",
        "from sklearn import preprocessing, model_selection\n",
        "from IPython.display import display, HTML\n",
        "import matplotlib.pyplot as plt\n",
        "from sklearn.decomposition import PCA\n",
        "#from node2vec import Node2Vec as n2v\n",
        "sns.set()\n",
        "\n",
        "%matplotlib inline"
      ],
      "metadata": {
        "id": "QnCy6AgP5iwy"
      },
      "execution_count": 2276,
      "outputs": []
    },
    {
      "cell_type": "code",
      "source": [
        "import os, sys\n",
        "from copy import deepcopy\n",
        "import numpy as np\n",
        "import pandas as pd\n",
        "\n",
        "import torch as th\n",
        "import torch.nn as nn\n",
        "from torch import optim\n",
        "import torch.nn.functional as F\n",
        "\n",
        "import matplotlib.pyplot as plt\n",
        "%matplotlib inline"
      ],
      "metadata": {
        "id": "KTxBYEEjBBc4"
      },
      "execution_count": 2277,
      "outputs": []
    },
    {
      "cell_type": "code",
      "source": [
        "print(f\"Torch version: {th.__version__}.  CUDA version: {th.version.cuda}\")"
      ],
      "metadata": {
        "colab": {
          "base_uri": "https://localhost:8080/"
        },
        "id": "WfZg4oZpBD4X",
        "outputId": "9beb9452-9bc7-47d3-d22a-d660f8d4fb5f"
      },
      "execution_count": 2278,
      "outputs": [
        {
          "output_type": "stream",
          "name": "stdout",
          "text": [
            "Torch version: 1.12.1+cu113.  CUDA version: 11.3\n"
          ]
        }
      ]
    },
    {
      "cell_type": "code",
      "source": [
        "dgl_version = f\"dgl-cu{th.version.cuda.replace('.', '')}==0.7.2\"\n",
        "dgl_version"
      ],
      "metadata": {
        "colab": {
          "base_uri": "https://localhost:8080/",
          "height": 36
        },
        "id": "twxQrYR2BD7P",
        "outputId": "3ba539f7-ae0a-48f3-a785-72e79e2ddb63"
      },
      "execution_count": 2279,
      "outputs": [
        {
          "output_type": "execute_result",
          "data": {
            "text/plain": [
              "'dgl-cu113==0.7.2'"
            ],
            "application/vnd.google.colaboratory.intrinsic+json": {
              "type": "string"
            }
          },
          "metadata": {},
          "execution_count": 2279
        }
      ]
    },
    {
      "cell_type": "code",
      "source": [
        "# Follow instructions at https://www.dgl.ai/pages/start.html\n",
        "!{sys.executable} -m pip install {dgl_version} -f https://data.dgl.ai/wheels/repo.html"
      ],
      "metadata": {
        "colab": {
          "base_uri": "https://localhost:8080/"
        },
        "id": "yMMKD4XJBD-A",
        "outputId": "c01c0fc7-36d4-4691-95e9-c32461213753"
      },
      "execution_count": 2280,
      "outputs": [
        {
          "output_type": "stream",
          "name": "stdout",
          "text": [
            "Looking in indexes: https://pypi.org/simple, https://us-python.pkg.dev/colab-wheels/public/simple/\n",
            "Looking in links: https://data.dgl.ai/wheels/repo.html\n",
            "Requirement already satisfied: dgl-cu113==0.7.2 in /usr/local/lib/python3.7/dist-packages (0.7.2)\n",
            "Requirement already satisfied: networkx>=2.1 in /usr/local/lib/python3.7/dist-packages (from dgl-cu113==0.7.2) (2.6.3)\n",
            "Requirement already satisfied: requests>=2.19.0 in /usr/local/lib/python3.7/dist-packages (from dgl-cu113==0.7.2) (2.23.0)\n",
            "Requirement already satisfied: scipy>=1.1.0 in /usr/local/lib/python3.7/dist-packages (from dgl-cu113==0.7.2) (1.7.3)\n",
            "Requirement already satisfied: numpy>=1.14.0 in /usr/local/lib/python3.7/dist-packages (from dgl-cu113==0.7.2) (1.21.6)\n",
            "Requirement already satisfied: chardet<4,>=3.0.2 in /usr/local/lib/python3.7/dist-packages (from requests>=2.19.0->dgl-cu113==0.7.2) (3.0.4)\n",
            "Requirement already satisfied: urllib3!=1.25.0,!=1.25.1,<1.26,>=1.21.1 in /usr/local/lib/python3.7/dist-packages (from requests>=2.19.0->dgl-cu113==0.7.2) (1.24.3)\n",
            "Requirement already satisfied: idna<3,>=2.5 in /usr/local/lib/python3.7/dist-packages (from requests>=2.19.0->dgl-cu113==0.7.2) (2.10)\n",
            "Requirement already satisfied: certifi>=2017.4.17 in /usr/local/lib/python3.7/dist-packages (from requests>=2.19.0->dgl-cu113==0.7.2) (2022.9.24)\n"
          ]
        }
      ]
    },
    {
      "cell_type": "code",
      "source": [
        "os.environ['DGLBACKEND'] = 'pytorch'\n",
        "import dgl\n",
        "from dgl import function as fn"
      ],
      "metadata": {
        "id": "XtlC3DSzBM1X"
      },
      "execution_count": 2281,
      "outputs": []
    },
    {
      "cell_type": "code",
      "source": [
        "dgl.__version__"
      ],
      "metadata": {
        "colab": {
          "base_uri": "https://localhost:8080/",
          "height": 36
        },
        "id": "lI7WmNtIBO4v",
        "outputId": "1ade004c-1135-4414-814f-9454f92c46a3"
      },
      "execution_count": 2282,
      "outputs": [
        {
          "output_type": "execute_result",
          "data": {
            "text/plain": [
              "'0.7.2'"
            ],
            "application/vnd.google.colaboratory.intrinsic+json": {
              "type": "string"
            }
          },
          "metadata": {},
          "execution_count": 2282
        }
      ]
    },
    {
      "cell_type": "code",
      "source": [
        "from dgl.dataloading.pytorch import NodeDataLoader\n",
        "device = th.device('cuda' if th.cuda.is_available() else 'cpu')\n",
        "device"
      ],
      "metadata": {
        "colab": {
          "base_uri": "https://localhost:8080/"
        },
        "id": "KdAM2bOfBPlP",
        "outputId": "f6784cc2-dcf8-449e-c4bd-81f77671983e"
      },
      "execution_count": 2283,
      "outputs": [
        {
          "output_type": "execute_result",
          "data": {
            "text/plain": [
              "device(type='cuda')"
            ]
          },
          "metadata": {},
          "execution_count": 2283
        }
      ]
    },
    {
      "cell_type": "code",
      "source": [
        "import torch\n",
        "import torch.nn as nn\n",
        "from sklearn.linear_model import LogisticRegression\n",
        "from torch.utils.data import DataLoader\n",
        "import argparse\n",
        "\n",
        "from dgl.sampling import node2vec_random_walk"
      ],
      "metadata": {
        "id": "uP4cYiv4BgRa"
      },
      "execution_count": 2284,
      "outputs": []
    },
    {
      "cell_type": "code",
      "source": [
        "#importing libraries\n",
        "import numpy as np\n",
        "import pandas as pd\n",
        "import nltk\n",
        "import matplotlib.pyplot as plt\n",
        "import statistics\n",
        "import math\n",
        "import os\n",
        "from sklearn.model_selection import KFold, StratifiedKFold, cross_val_score\n",
        "from sklearn.metrics import confusion_matrix\n",
        "nltk.download('stopwords')\n",
        "nltk.download('punkt')\n",
        "nltk.download('wordnet')\n",
        "nltk.download('omw-1.4')\n",
        "#nltk.download('all')\n",
        "import re\n",
        "pd.set_option('max_colwidth', 800)\n",
        "\n",
        "\n",
        "#importing Libraies\n",
        "import networkx as nx\n",
        "import matplotlib.pyplot as plt\n",
        "from numpy import genfromtxt\n",
        "import collections\n",
        "from collections import OrderedDict\n",
        "\n",
        "import matplotlib.pyplot as plt\n",
        "%matplotlib inline\n",
        "from sklearn.model_selection import train_test_split\n",
        "from sklearn.model_selection import KFold\n",
        "from sklearn.model_selection import cross_val_score\n",
        "from sklearn.tree import DecisionTreeClassifier\n",
        "from sklearn.feature_selection import SelectFromModel\n",
        "from sklearn.svm import SVC\n",
        "from sklearn.preprocessing import StandardScaler,MinMaxScaler\n",
        "from sklearn.linear_model import LinearRegression,LogisticRegression, RidgeClassifier\n",
        "from sklearn.discriminant_analysis import LinearDiscriminantAnalysis, QuadraticDiscriminantAnalysis\n",
        "from sklearn.ensemble import RandomForestClassifier, GradientBoostingClassifier, AdaBoostClassifier\n",
        "from sklearn.preprocessing import LabelEncoder\n",
        "from sklearn.metrics import classification_report,accuracy_score"
      ],
      "metadata": {
        "colab": {
          "base_uri": "https://localhost:8080/"
        },
        "id": "zvMyzp-I1CU6",
        "outputId": "8a40bb15-9e90-4ea0-e053-244d769a8837"
      },
      "execution_count": 2285,
      "outputs": [
        {
          "output_type": "stream",
          "name": "stderr",
          "text": [
            "[nltk_data] Downloading package stopwords to /root/nltk_data...\n",
            "[nltk_data]   Package stopwords is already up-to-date!\n",
            "[nltk_data] Downloading package punkt to /root/nltk_data...\n",
            "[nltk_data]   Package punkt is already up-to-date!\n",
            "[nltk_data] Downloading package wordnet to /root/nltk_data...\n",
            "[nltk_data]   Package wordnet is already up-to-date!\n",
            "[nltk_data] Downloading package omw-1.4 to /root/nltk_data...\n",
            "[nltk_data]   Package omw-1.4 is already up-to-date!\n"
          ]
        }
      ]
    },
    {
      "cell_type": "code",
      "source": [
        "#loading dataset\n",
        "df=pd.read_csv('/content/deceptive.csv')\n",
        "df.head()"
      ],
      "metadata": {
        "colab": {
          "base_uri": "https://localhost:8080/",
          "height": 510
        },
        "id": "56yBSCmN1CSB",
        "outputId": "8c236543-4d4d-4372-bb52-57a661c158e4"
      },
      "execution_count": 2286,
      "outputs": [
        {
          "output_type": "execute_result",
          "data": {
            "text/plain": [
              "  deceptive   hotel  polarity       source  \\\n",
              "0  truthful  conrad  positive  TripAdvisor   \n",
              "1  truthful   hyatt  positive  TripAdvisor   \n",
              "2  truthful   hyatt  positive  TripAdvisor   \n",
              "3  truthful    omni  positive  TripAdvisor   \n",
              "4  truthful   hyatt  positive  TripAdvisor   \n",
              "\n",
              "                                                                                                                                                                                                                                                                                                                                                                                                                                                                                                                                                                                                                                                                                                                                                                                                                              text  \\\n",
              "0                                                                                                                                                                                                                                    We stayed for a one night getaway with family on a thursday. Triple AAA rate of 173 was a steal. 7th floor room complete with 44in plasma TV bose stereo, voss and evian water, and gorgeous bathroom(no tub but was fine for us) Concierge was very helpful. You cannot beat this location... Only flaw was breakfast was pricey and service was very very slow(2hours for four kids and four adults on a friday morning) even though there were only two other tables in the restaurant. Food was very good so it was worth the wait. I would return in a heartbeat. A gem in chicago... \\n   \n",
              "1                                                                                                                                                                                                                                                                                                                                                                                                                                                                                                                                  Triple A rate with upgrade to view room was less than $200 which also included breakfast vouchers. Had a great view of river, lake, Wrigley Bldg. & Tribune Bldg. Most major restaurants, Shopping, Sightseeing attractions within walking distance. Large room with a very comfortable bed. \\n   \n",
              "2  This comes a little late as I'm finally catching up on my reviews from the past several months:) A dear friend and I stayed at the Hyatt Regency in late October 2007 for one night while visiting a friend and her husband from out of town. This hotel is perfect, IMO. Easy check in and check out. Lovely, clean, comfortable rooms with great views of the city. I know this area pretty well and it's very convenient to many downtown Chicago attractions. We had dinner and went clubing with our friends around Division St.. We had no problems getting cabs back and forth to the Hyatt and there's even public transportation right near by but we didn't bother since we only needed cabs from and to the hotel. Parking, as is usual for Chicago, was expensive but we were able to get our car out quickly (h...   \n",
              "3                                                                                             The Omni Chicago really delivers on all fronts, from the spaciousness of the rooms to the helpful staff to the prized location on Michigan Avenue. While this address in Chicago requires a high level of quality, the Omni delivers. Check in for myself and a whole group of people with me was under 3 minutes, the staff had plentiful recommendations for dining and events, and the rooms are some of the largest you'll find at this price range in Chicago. Even the 'standard' room has a separate living area and work desk. The fitness center has free weights, weight machines, and two rows of cardio equipment. I shared the room with 7 others and did not feel cramped in any way! All in all, a great property! \\n   \n",
              "4                                                                                                                                                                                                                                                                                                                                                                                                                                I asked for a high floor away from the elevator and that is what I got. The room was pleasantly decorated, functional and very clean. I didn't need a whole lot of service but when I did they were pleasant and prompt. I used the fitness center which was well equipped and everything was in working order. It is in a great location at one end of the Michigan Avenue shopping district. \\n   \n",
              "\n",
              "   Class  \n",
              "0      1  \n",
              "1      1  \n",
              "2      1  \n",
              "3      1  \n",
              "4      1  "
            ],
            "text/html": [
              "\n",
              "  <div id=\"df-18d6040b-ff94-4464-842e-50006e86d9cd\">\n",
              "    <div class=\"colab-df-container\">\n",
              "      <div>\n",
              "<style scoped>\n",
              "    .dataframe tbody tr th:only-of-type {\n",
              "        vertical-align: middle;\n",
              "    }\n",
              "\n",
              "    .dataframe tbody tr th {\n",
              "        vertical-align: top;\n",
              "    }\n",
              "\n",
              "    .dataframe thead th {\n",
              "        text-align: right;\n",
              "    }\n",
              "</style>\n",
              "<table border=\"1\" class=\"dataframe\">\n",
              "  <thead>\n",
              "    <tr style=\"text-align: right;\">\n",
              "      <th></th>\n",
              "      <th>deceptive</th>\n",
              "      <th>hotel</th>\n",
              "      <th>polarity</th>\n",
              "      <th>source</th>\n",
              "      <th>text</th>\n",
              "      <th>Class</th>\n",
              "    </tr>\n",
              "  </thead>\n",
              "  <tbody>\n",
              "    <tr>\n",
              "      <th>0</th>\n",
              "      <td>truthful</td>\n",
              "      <td>conrad</td>\n",
              "      <td>positive</td>\n",
              "      <td>TripAdvisor</td>\n",
              "      <td>We stayed for a one night getaway with family on a thursday. Triple AAA rate of 173 was a steal. 7th floor room complete with 44in plasma TV bose stereo, voss and evian water, and gorgeous bathroom(no tub but was fine for us) Concierge was very helpful. You cannot beat this location... Only flaw was breakfast was pricey and service was very very slow(2hours for four kids and four adults on a friday morning) even though there were only two other tables in the restaurant. Food was very good so it was worth the wait. I would return in a heartbeat. A gem in chicago... \\n</td>\n",
              "      <td>1</td>\n",
              "    </tr>\n",
              "    <tr>\n",
              "      <th>1</th>\n",
              "      <td>truthful</td>\n",
              "      <td>hyatt</td>\n",
              "      <td>positive</td>\n",
              "      <td>TripAdvisor</td>\n",
              "      <td>Triple A rate with upgrade to view room was less than $200 which also included breakfast vouchers. Had a great view of river, lake, Wrigley Bldg. &amp; Tribune Bldg. Most major restaurants, Shopping, Sightseeing attractions within walking distance. Large room with a very comfortable bed. \\n</td>\n",
              "      <td>1</td>\n",
              "    </tr>\n",
              "    <tr>\n",
              "      <th>2</th>\n",
              "      <td>truthful</td>\n",
              "      <td>hyatt</td>\n",
              "      <td>positive</td>\n",
              "      <td>TripAdvisor</td>\n",
              "      <td>This comes a little late as I'm finally catching up on my reviews from the past several months:) A dear friend and I stayed at the Hyatt Regency in late October 2007 for one night while visiting a friend and her husband from out of town. This hotel is perfect, IMO. Easy check in and check out. Lovely, clean, comfortable rooms with great views of the city. I know this area pretty well and it's very convenient to many downtown Chicago attractions. We had dinner and went clubing with our friends around Division St.. We had no problems getting cabs back and forth to the Hyatt and there's even public transportation right near by but we didn't bother since we only needed cabs from and to the hotel. Parking, as is usual for Chicago, was expensive but we were able to get our car out quickly (h...</td>\n",
              "      <td>1</td>\n",
              "    </tr>\n",
              "    <tr>\n",
              "      <th>3</th>\n",
              "      <td>truthful</td>\n",
              "      <td>omni</td>\n",
              "      <td>positive</td>\n",
              "      <td>TripAdvisor</td>\n",
              "      <td>The Omni Chicago really delivers on all fronts, from the spaciousness of the rooms to the helpful staff to the prized location on Michigan Avenue. While this address in Chicago requires a high level of quality, the Omni delivers. Check in for myself and a whole group of people with me was under 3 minutes, the staff had plentiful recommendations for dining and events, and the rooms are some of the largest you'll find at this price range in Chicago. Even the 'standard' room has a separate living area and work desk. The fitness center has free weights, weight machines, and two rows of cardio equipment. I shared the room with 7 others and did not feel cramped in any way! All in all, a great property! \\n</td>\n",
              "      <td>1</td>\n",
              "    </tr>\n",
              "    <tr>\n",
              "      <th>4</th>\n",
              "      <td>truthful</td>\n",
              "      <td>hyatt</td>\n",
              "      <td>positive</td>\n",
              "      <td>TripAdvisor</td>\n",
              "      <td>I asked for a high floor away from the elevator and that is what I got. The room was pleasantly decorated, functional and very clean. I didn't need a whole lot of service but when I did they were pleasant and prompt. I used the fitness center which was well equipped and everything was in working order. It is in a great location at one end of the Michigan Avenue shopping district. \\n</td>\n",
              "      <td>1</td>\n",
              "    </tr>\n",
              "  </tbody>\n",
              "</table>\n",
              "</div>\n",
              "      <button class=\"colab-df-convert\" onclick=\"convertToInteractive('df-18d6040b-ff94-4464-842e-50006e86d9cd')\"\n",
              "              title=\"Convert this dataframe to an interactive table.\"\n",
              "              style=\"display:none;\">\n",
              "        \n",
              "  <svg xmlns=\"http://www.w3.org/2000/svg\" height=\"24px\"viewBox=\"0 0 24 24\"\n",
              "       width=\"24px\">\n",
              "    <path d=\"M0 0h24v24H0V0z\" fill=\"none\"/>\n",
              "    <path d=\"M18.56 5.44l.94 2.06.94-2.06 2.06-.94-2.06-.94-.94-2.06-.94 2.06-2.06.94zm-11 1L8.5 8.5l.94-2.06 2.06-.94-2.06-.94L8.5 2.5l-.94 2.06-2.06.94zm10 10l.94 2.06.94-2.06 2.06-.94-2.06-.94-.94-2.06-.94 2.06-2.06.94z\"/><path d=\"M17.41 7.96l-1.37-1.37c-.4-.4-.92-.59-1.43-.59-.52 0-1.04.2-1.43.59L10.3 9.45l-7.72 7.72c-.78.78-.78 2.05 0 2.83L4 21.41c.39.39.9.59 1.41.59.51 0 1.02-.2 1.41-.59l7.78-7.78 2.81-2.81c.8-.78.8-2.07 0-2.86zM5.41 20L4 18.59l7.72-7.72 1.47 1.35L5.41 20z\"/>\n",
              "  </svg>\n",
              "      </button>\n",
              "      \n",
              "  <style>\n",
              "    .colab-df-container {\n",
              "      display:flex;\n",
              "      flex-wrap:wrap;\n",
              "      gap: 12px;\n",
              "    }\n",
              "\n",
              "    .colab-df-convert {\n",
              "      background-color: #E8F0FE;\n",
              "      border: none;\n",
              "      border-radius: 50%;\n",
              "      cursor: pointer;\n",
              "      display: none;\n",
              "      fill: #1967D2;\n",
              "      height: 32px;\n",
              "      padding: 0 0 0 0;\n",
              "      width: 32px;\n",
              "    }\n",
              "\n",
              "    .colab-df-convert:hover {\n",
              "      background-color: #E2EBFA;\n",
              "      box-shadow: 0px 1px 2px rgba(60, 64, 67, 0.3), 0px 1px 3px 1px rgba(60, 64, 67, 0.15);\n",
              "      fill: #174EA6;\n",
              "    }\n",
              "\n",
              "    [theme=dark] .colab-df-convert {\n",
              "      background-color: #3B4455;\n",
              "      fill: #D2E3FC;\n",
              "    }\n",
              "\n",
              "    [theme=dark] .colab-df-convert:hover {\n",
              "      background-color: #434B5C;\n",
              "      box-shadow: 0px 1px 3px 1px rgba(0, 0, 0, 0.15);\n",
              "      filter: drop-shadow(0px 1px 2px rgba(0, 0, 0, 0.3));\n",
              "      fill: #FFFFFF;\n",
              "    }\n",
              "  </style>\n",
              "\n",
              "      <script>\n",
              "        const buttonEl =\n",
              "          document.querySelector('#df-18d6040b-ff94-4464-842e-50006e86d9cd button.colab-df-convert');\n",
              "        buttonEl.style.display =\n",
              "          google.colab.kernel.accessAllowed ? 'block' : 'none';\n",
              "\n",
              "        async function convertToInteractive(key) {\n",
              "          const element = document.querySelector('#df-18d6040b-ff94-4464-842e-50006e86d9cd');\n",
              "          const dataTable =\n",
              "            await google.colab.kernel.invokeFunction('convertToInteractive',\n",
              "                                                     [key], {});\n",
              "          if (!dataTable) return;\n",
              "\n",
              "          const docLinkHtml = 'Like what you see? Visit the ' +\n",
              "            '<a target=\"_blank\" href=https://colab.research.google.com/notebooks/data_table.ipynb>data table notebook</a>'\n",
              "            + ' to learn more about interactive tables.';\n",
              "          element.innerHTML = '';\n",
              "          dataTable['output_type'] = 'display_data';\n",
              "          await google.colab.output.renderOutput(dataTable, element);\n",
              "          const docLink = document.createElement('div');\n",
              "          docLink.innerHTML = docLinkHtml;\n",
              "          element.appendChild(docLink);\n",
              "        }\n",
              "      </script>\n",
              "    </div>\n",
              "  </div>\n",
              "  "
            ]
          },
          "metadata": {},
          "execution_count": 2286
        }
      ]
    },
    {
      "cell_type": "code",
      "source": [
        "#df = df.sample(frac=1, random_state=42).reset_index(drop=True)"
      ],
      "metadata": {
        "id": "ydjQBjajXhta"
      },
      "execution_count": 2287,
      "outputs": []
    },
    {
      "cell_type": "code",
      "source": [
        "df.shape"
      ],
      "metadata": {
        "colab": {
          "base_uri": "https://localhost:8080/"
        },
        "id": "fhz_MORRXlrS",
        "outputId": "c6d2db1c-5323-4554-e138-4595df40e05c"
      },
      "execution_count": 2288,
      "outputs": [
        {
          "output_type": "execute_result",
          "data": {
            "text/plain": [
              "(1600, 6)"
            ]
          },
          "metadata": {},
          "execution_count": 2288
        }
      ]
    },
    {
      "cell_type": "code",
      "source": [
        "df['Class'].value_counts()"
      ],
      "metadata": {
        "colab": {
          "base_uri": "https://localhost:8080/"
        },
        "id": "gIqg1tqk1CL5",
        "outputId": "e0b5c5eb-87b5-43ef-f66c-a49daba41eca"
      },
      "execution_count": 2289,
      "outputs": [
        {
          "output_type": "execute_result",
          "data": {
            "text/plain": [
              "1    800\n",
              "0    800\n",
              "Name: Class, dtype: int64"
            ]
          },
          "metadata": {},
          "execution_count": 2289
        }
      ]
    },
    {
      "cell_type": "code",
      "source": [
        "# dropping unnecessary columns. \n",
        "df.drop(['deceptive', 'hotel', 'polarity', 'source'], axis = 1, inplace=True)\n",
        "df.head()"
      ],
      "metadata": {
        "colab": {
          "base_uri": "https://localhost:8080/",
          "height": 441
        },
        "id": "PCAf1wlZ1CI5",
        "outputId": "77c44450-cc74-4214-c946-1248eb2b7271"
      },
      "execution_count": 2290,
      "outputs": [
        {
          "output_type": "execute_result",
          "data": {
            "text/plain": [
              "                                                                                                                                                                                                                                                                                                                                                                                                                                                                                                                                                                                                                                                                                                                                                                                                                              text  \\\n",
              "0                                                                                                                                                                                                                                    We stayed for a one night getaway with family on a thursday. Triple AAA rate of 173 was a steal. 7th floor room complete with 44in plasma TV bose stereo, voss and evian water, and gorgeous bathroom(no tub but was fine for us) Concierge was very helpful. You cannot beat this location... Only flaw was breakfast was pricey and service was very very slow(2hours for four kids and four adults on a friday morning) even though there were only two other tables in the restaurant. Food was very good so it was worth the wait. I would return in a heartbeat. A gem in chicago... \\n   \n",
              "1                                                                                                                                                                                                                                                                                                                                                                                                                                                                                                                                  Triple A rate with upgrade to view room was less than $200 which also included breakfast vouchers. Had a great view of river, lake, Wrigley Bldg. & Tribune Bldg. Most major restaurants, Shopping, Sightseeing attractions within walking distance. Large room with a very comfortable bed. \\n   \n",
              "2  This comes a little late as I'm finally catching up on my reviews from the past several months:) A dear friend and I stayed at the Hyatt Regency in late October 2007 for one night while visiting a friend and her husband from out of town. This hotel is perfect, IMO. Easy check in and check out. Lovely, clean, comfortable rooms with great views of the city. I know this area pretty well and it's very convenient to many downtown Chicago attractions. We had dinner and went clubing with our friends around Division St.. We had no problems getting cabs back and forth to the Hyatt and there's even public transportation right near by but we didn't bother since we only needed cabs from and to the hotel. Parking, as is usual for Chicago, was expensive but we were able to get our car out quickly (h...   \n",
              "3                                                                                             The Omni Chicago really delivers on all fronts, from the spaciousness of the rooms to the helpful staff to the prized location on Michigan Avenue. While this address in Chicago requires a high level of quality, the Omni delivers. Check in for myself and a whole group of people with me was under 3 minutes, the staff had plentiful recommendations for dining and events, and the rooms are some of the largest you'll find at this price range in Chicago. Even the 'standard' room has a separate living area and work desk. The fitness center has free weights, weight machines, and two rows of cardio equipment. I shared the room with 7 others and did not feel cramped in any way! All in all, a great property! \\n   \n",
              "4                                                                                                                                                                                                                                                                                                                                                                                                                                I asked for a high floor away from the elevator and that is what I got. The room was pleasantly decorated, functional and very clean. I didn't need a whole lot of service but when I did they were pleasant and prompt. I used the fitness center which was well equipped and everything was in working order. It is in a great location at one end of the Michigan Avenue shopping district. \\n   \n",
              "\n",
              "   Class  \n",
              "0      1  \n",
              "1      1  \n",
              "2      1  \n",
              "3      1  \n",
              "4      1  "
            ],
            "text/html": [
              "\n",
              "  <div id=\"df-73d3e48d-407b-406c-8fcf-a5b19babe7a5\">\n",
              "    <div class=\"colab-df-container\">\n",
              "      <div>\n",
              "<style scoped>\n",
              "    .dataframe tbody tr th:only-of-type {\n",
              "        vertical-align: middle;\n",
              "    }\n",
              "\n",
              "    .dataframe tbody tr th {\n",
              "        vertical-align: top;\n",
              "    }\n",
              "\n",
              "    .dataframe thead th {\n",
              "        text-align: right;\n",
              "    }\n",
              "</style>\n",
              "<table border=\"1\" class=\"dataframe\">\n",
              "  <thead>\n",
              "    <tr style=\"text-align: right;\">\n",
              "      <th></th>\n",
              "      <th>text</th>\n",
              "      <th>Class</th>\n",
              "    </tr>\n",
              "  </thead>\n",
              "  <tbody>\n",
              "    <tr>\n",
              "      <th>0</th>\n",
              "      <td>We stayed for a one night getaway with family on a thursday. Triple AAA rate of 173 was a steal. 7th floor room complete with 44in plasma TV bose stereo, voss and evian water, and gorgeous bathroom(no tub but was fine for us) Concierge was very helpful. You cannot beat this location... Only flaw was breakfast was pricey and service was very very slow(2hours for four kids and four adults on a friday morning) even though there were only two other tables in the restaurant. Food was very good so it was worth the wait. I would return in a heartbeat. A gem in chicago... \\n</td>\n",
              "      <td>1</td>\n",
              "    </tr>\n",
              "    <tr>\n",
              "      <th>1</th>\n",
              "      <td>Triple A rate with upgrade to view room was less than $200 which also included breakfast vouchers. Had a great view of river, lake, Wrigley Bldg. &amp; Tribune Bldg. Most major restaurants, Shopping, Sightseeing attractions within walking distance. Large room with a very comfortable bed. \\n</td>\n",
              "      <td>1</td>\n",
              "    </tr>\n",
              "    <tr>\n",
              "      <th>2</th>\n",
              "      <td>This comes a little late as I'm finally catching up on my reviews from the past several months:) A dear friend and I stayed at the Hyatt Regency in late October 2007 for one night while visiting a friend and her husband from out of town. This hotel is perfect, IMO. Easy check in and check out. Lovely, clean, comfortable rooms with great views of the city. I know this area pretty well and it's very convenient to many downtown Chicago attractions. We had dinner and went clubing with our friends around Division St.. We had no problems getting cabs back and forth to the Hyatt and there's even public transportation right near by but we didn't bother since we only needed cabs from and to the hotel. Parking, as is usual for Chicago, was expensive but we were able to get our car out quickly (h...</td>\n",
              "      <td>1</td>\n",
              "    </tr>\n",
              "    <tr>\n",
              "      <th>3</th>\n",
              "      <td>The Omni Chicago really delivers on all fronts, from the spaciousness of the rooms to the helpful staff to the prized location on Michigan Avenue. While this address in Chicago requires a high level of quality, the Omni delivers. Check in for myself and a whole group of people with me was under 3 minutes, the staff had plentiful recommendations for dining and events, and the rooms are some of the largest you'll find at this price range in Chicago. Even the 'standard' room has a separate living area and work desk. The fitness center has free weights, weight machines, and two rows of cardio equipment. I shared the room with 7 others and did not feel cramped in any way! All in all, a great property! \\n</td>\n",
              "      <td>1</td>\n",
              "    </tr>\n",
              "    <tr>\n",
              "      <th>4</th>\n",
              "      <td>I asked for a high floor away from the elevator and that is what I got. The room was pleasantly decorated, functional and very clean. I didn't need a whole lot of service but when I did they were pleasant and prompt. I used the fitness center which was well equipped and everything was in working order. It is in a great location at one end of the Michigan Avenue shopping district. \\n</td>\n",
              "      <td>1</td>\n",
              "    </tr>\n",
              "  </tbody>\n",
              "</table>\n",
              "</div>\n",
              "      <button class=\"colab-df-convert\" onclick=\"convertToInteractive('df-73d3e48d-407b-406c-8fcf-a5b19babe7a5')\"\n",
              "              title=\"Convert this dataframe to an interactive table.\"\n",
              "              style=\"display:none;\">\n",
              "        \n",
              "  <svg xmlns=\"http://www.w3.org/2000/svg\" height=\"24px\"viewBox=\"0 0 24 24\"\n",
              "       width=\"24px\">\n",
              "    <path d=\"M0 0h24v24H0V0z\" fill=\"none\"/>\n",
              "    <path d=\"M18.56 5.44l.94 2.06.94-2.06 2.06-.94-2.06-.94-.94-2.06-.94 2.06-2.06.94zm-11 1L8.5 8.5l.94-2.06 2.06-.94-2.06-.94L8.5 2.5l-.94 2.06-2.06.94zm10 10l.94 2.06.94-2.06 2.06-.94-2.06-.94-.94-2.06-.94 2.06-2.06.94z\"/><path d=\"M17.41 7.96l-1.37-1.37c-.4-.4-.92-.59-1.43-.59-.52 0-1.04.2-1.43.59L10.3 9.45l-7.72 7.72c-.78.78-.78 2.05 0 2.83L4 21.41c.39.39.9.59 1.41.59.51 0 1.02-.2 1.41-.59l7.78-7.78 2.81-2.81c.8-.78.8-2.07 0-2.86zM5.41 20L4 18.59l7.72-7.72 1.47 1.35L5.41 20z\"/>\n",
              "  </svg>\n",
              "      </button>\n",
              "      \n",
              "  <style>\n",
              "    .colab-df-container {\n",
              "      display:flex;\n",
              "      flex-wrap:wrap;\n",
              "      gap: 12px;\n",
              "    }\n",
              "\n",
              "    .colab-df-convert {\n",
              "      background-color: #E8F0FE;\n",
              "      border: none;\n",
              "      border-radius: 50%;\n",
              "      cursor: pointer;\n",
              "      display: none;\n",
              "      fill: #1967D2;\n",
              "      height: 32px;\n",
              "      padding: 0 0 0 0;\n",
              "      width: 32px;\n",
              "    }\n",
              "\n",
              "    .colab-df-convert:hover {\n",
              "      background-color: #E2EBFA;\n",
              "      box-shadow: 0px 1px 2px rgba(60, 64, 67, 0.3), 0px 1px 3px 1px rgba(60, 64, 67, 0.15);\n",
              "      fill: #174EA6;\n",
              "    }\n",
              "\n",
              "    [theme=dark] .colab-df-convert {\n",
              "      background-color: #3B4455;\n",
              "      fill: #D2E3FC;\n",
              "    }\n",
              "\n",
              "    [theme=dark] .colab-df-convert:hover {\n",
              "      background-color: #434B5C;\n",
              "      box-shadow: 0px 1px 3px 1px rgba(0, 0, 0, 0.15);\n",
              "      filter: drop-shadow(0px 1px 2px rgba(0, 0, 0, 0.3));\n",
              "      fill: #FFFFFF;\n",
              "    }\n",
              "  </style>\n",
              "\n",
              "      <script>\n",
              "        const buttonEl =\n",
              "          document.querySelector('#df-73d3e48d-407b-406c-8fcf-a5b19babe7a5 button.colab-df-convert');\n",
              "        buttonEl.style.display =\n",
              "          google.colab.kernel.accessAllowed ? 'block' : 'none';\n",
              "\n",
              "        async function convertToInteractive(key) {\n",
              "          const element = document.querySelector('#df-73d3e48d-407b-406c-8fcf-a5b19babe7a5');\n",
              "          const dataTable =\n",
              "            await google.colab.kernel.invokeFunction('convertToInteractive',\n",
              "                                                     [key], {});\n",
              "          if (!dataTable) return;\n",
              "\n",
              "          const docLinkHtml = 'Like what you see? Visit the ' +\n",
              "            '<a target=\"_blank\" href=https://colab.research.google.com/notebooks/data_table.ipynb>data table notebook</a>'\n",
              "            + ' to learn more about interactive tables.';\n",
              "          element.innerHTML = '';\n",
              "          dataTable['output_type'] = 'display_data';\n",
              "          await google.colab.output.renderOutput(dataTable, element);\n",
              "          const docLink = document.createElement('div');\n",
              "          docLink.innerHTML = docLinkHtml;\n",
              "          element.appendChild(docLink);\n",
              "        }\n",
              "      </script>\n",
              "    </div>\n",
              "  </div>\n",
              "  "
            ]
          },
          "metadata": {},
          "execution_count": 2290
        }
      ]
    },
    {
      "cell_type": "code",
      "source": [
        "# Cleaning Raw tweets\n",
        "def clean_text(text):\n",
        "    \n",
        "    #remove emails\n",
        "    text = ' '.join([i for i in text.split() if '@' not in i])\n",
        "    \n",
        "    #remove web address\n",
        "    text = re.sub('http[s]?://\\S+', '', text)\n",
        "\n",
        "    #remove brackets and parantheses (and removing the text inside the brackets and parantheses)\n",
        "    text = re.sub(\"[\\(\\[].*?[\\)\\]]\", \"\", text)\n",
        "\n",
        "    #remove punctuations\n",
        "    text = re.sub(r'[^\\w\\s]', ' ', text)\n",
        "    \n",
        "    #Filter to allow only alphabets and numbers\n",
        "    text = re.sub(r'[^a-zA-Z\\']', ' ', text)\n",
        "    \n",
        "    #Remove Unicode characters\n",
        "    text = re.sub(r'[^\\x00-\\x7F]+', '', text)\n",
        "\n",
        "    #remove double spaces \n",
        "    text = re.sub('\\s+', ' ', text)\n",
        "    \n",
        "    return text"
      ],
      "metadata": {
        "id": "iFvbHYi_1CFx"
      },
      "execution_count": 2291,
      "outputs": []
    },
    {
      "cell_type": "code",
      "source": [
        "# applying that into function.\n",
        "df[\"clean_text\"] = df['text'].apply(lambda x: clean_text(x))\n",
        "df.head(10)"
      ],
      "metadata": {
        "colab": {
          "base_uri": "https://localhost:8080/",
          "height": 1000
        },
        "id": "v6Mp22wd1CCr",
        "outputId": "56de4c4e-cd78-4c48-8df1-7343c91cabec"
      },
      "execution_count": 2292,
      "outputs": [
        {
          "output_type": "execute_result",
          "data": {
            "text/plain": [
              "                                                                                                                                                                                                                                                                                                                                                                                                                                                                                                                                                                                                                                                                                                                                                                                                                              text  \\\n",
              "0                                                                                                                                                                                                                                    We stayed for a one night getaway with family on a thursday. Triple AAA rate of 173 was a steal. 7th floor room complete with 44in plasma TV bose stereo, voss and evian water, and gorgeous bathroom(no tub but was fine for us) Concierge was very helpful. You cannot beat this location... Only flaw was breakfast was pricey and service was very very slow(2hours for four kids and four adults on a friday morning) even though there were only two other tables in the restaurant. Food was very good so it was worth the wait. I would return in a heartbeat. A gem in chicago... \\n   \n",
              "1                                                                                                                                                                                                                                                                                                                                                                                                                                                                                                                                  Triple A rate with upgrade to view room was less than $200 which also included breakfast vouchers. Had a great view of river, lake, Wrigley Bldg. & Tribune Bldg. Most major restaurants, Shopping, Sightseeing attractions within walking distance. Large room with a very comfortable bed. \\n   \n",
              "2  This comes a little late as I'm finally catching up on my reviews from the past several months:) A dear friend and I stayed at the Hyatt Regency in late October 2007 for one night while visiting a friend and her husband from out of town. This hotel is perfect, IMO. Easy check in and check out. Lovely, clean, comfortable rooms with great views of the city. I know this area pretty well and it's very convenient to many downtown Chicago attractions. We had dinner and went clubing with our friends around Division St.. We had no problems getting cabs back and forth to the Hyatt and there's even public transportation right near by but we didn't bother since we only needed cabs from and to the hotel. Parking, as is usual for Chicago, was expensive but we were able to get our car out quickly (h...   \n",
              "3                                                                                             The Omni Chicago really delivers on all fronts, from the spaciousness of the rooms to the helpful staff to the prized location on Michigan Avenue. While this address in Chicago requires a high level of quality, the Omni delivers. Check in for myself and a whole group of people with me was under 3 minutes, the staff had plentiful recommendations for dining and events, and the rooms are some of the largest you'll find at this price range in Chicago. Even the 'standard' room has a separate living area and work desk. The fitness center has free weights, weight machines, and two rows of cardio equipment. I shared the room with 7 others and did not feel cramped in any way! All in all, a great property! \\n   \n",
              "4                                                                                                                                                                                                                                                                                                                                                                                                                                I asked for a high floor away from the elevator and that is what I got. The room was pleasantly decorated, functional and very clean. I didn't need a whole lot of service but when I did they were pleasant and prompt. I used the fitness center which was well equipped and everything was in working order. It is in a great location at one end of the Michigan Avenue shopping district. \\n   \n",
              "5  I stayed at the Omni for one night following a business meeting at another downtown Chicago hotel. I was completely impressed by the service; all personnel during my stay were absolutely outstanding. I checked in quite early (no problem) and was efficiently checked in. My room had a somewhat heavy scent of air freshener (the ONLY negative from the entire stay), which was managed reasonably well by opening the windows. I don't generally require much during my hotel stays, but suffice to say the doorman, housekeeping, the night manager and bartender at 676, the day waiter at 676, and the concierge were amazing - I never waited more than about 30 seconds for anything. The room was very comfy and the amenities were superior. One very tiny complaint - there was no wastebasket near the sink ...   \n",
              "6                                                                                                                                         We stayed in the Conrad for 4 nights just before Thanksgiving. We had a corner room overlooking N Michigan Av and the Tribune Building. To say this is a 5 star hotel is to damn this place with faint praise - it is wonderful. The staff were unbelievably helpful. The standard of the room was superb - HD plasma screens, luxury bedlinens, iPod radio, huge bathroom. Location is unbeatable - right in the heart of everything - watched the whole Light Festival parade from the window. Breakfasts were excellent - no help yourself buffet here - with full and attentive table service. Would have no hesitation recommending or staying again in this hotel - 5 out of 5. \\n   \n",
              "7                                                                             Just got back from 2 days up in Chicago shopping with girlfriends. First time I have stayed at the Omni. I did so because I saw a $129.00 rate that included $25.00 of free food on Travelzoo. The three of us (55 year olds) all stayed in one suite with 2 double beds and a VERY comfortable pull out sofa. We had plenty of room. Food in the restaurant was great, service was outstanding from everone we came into contact with, early morning delivery of free coffee, juice and hot chocolate was fabulous and recommendations from the staff on where to eat, time of movies, shopping areas, etc was really helpful. Need I mention the outstanding location? Simply the best! We all decided that the Omni is our new favorite hotel. \\n   \n",
              "8  We arrived at the Omni on 2nd September for a 6 day stay. I took ill when I left the plane after travelling from Manchester so I saw more of the room than I anticipated. I couldn't go out for 4 days. The room was spacious and clean. The bed was extremely comfortable. The bathroom was large and very clean. What more could you ask. We had coffee and juice left outside our door every morning at the time we requested. I managed to go to the 5th floor to see the sun terrace (outside the gym) Having a sun terrace in a city hotel is a great idea but the terrace was a bit grim. A few sunbeds on a concrete floor. There was also noise from an air conditioning unit. It could do with a bit of cheering up. What I saw of Chicago was very pleasing, it has something for everyone. Would I go back to th...   \n",
              "9                                                                                                                                                                                                                                                                                                                           On our visit to Chicago, we chose the Hyatt due to its location in downtown, within walking distance to most major attractions, such as Sears Tower, Magnificent Mile, Grant/Millenium Parks, etc. Subway & bus stops very close by to travel to other locations in the city . Overall the hotel was very nice, clean, and at a great location. Was in a safe area. Went to beautiful Wrigley Field and Soldier Field and saw both teams play. I love Chicago and would defenitely stay here again! \\n   \n",
              "\n",
              "   Class  \\\n",
              "0      1   \n",
              "1      1   \n",
              "2      1   \n",
              "3      1   \n",
              "4      1   \n",
              "5      1   \n",
              "6      1   \n",
              "7      1   \n",
              "8      1   \n",
              "9      1   \n",
              "\n",
              "                                                                                                                                                                                                                                                                                                                                                                                                                                                                                                                                                                                                                                                                                                                                                                                                                        clean_text  \n",
              "0                                                                                                                                                                                                                                                                                                                                                 We stayed for a one night getaway with family on a thursday Triple AAA rate of was a steal th floor room complete with in plasma TV bose stereo voss and evian water and gorgeous bathroom Concierge was very helpful You cannot beat this location Only flaw was breakfast was pricey and service was very very slow even though there were only two other tables in the restaurant Food was very good so it was worth the wait I would return in a heartbeat A gem in chicago   \n",
              "1                                                                                                                                                                                                                                                                                                                                                                                                                                                                                                                                                    Triple A rate with upgrade to view room was less than which also included breakfast vouchers Had a great view of river lake Wrigley Bldg Tribune Bldg Most major restaurants Shopping Sightseeing attractions within walking distance Large room with a very comfortable bed   \n",
              "2  This comes a little late as I m finally catching up on my reviews from the past several months A dear friend and I stayed at the Hyatt Regency in late October for one night while visiting a friend and her husband from out of town This hotel is perfect IMO Easy check in and check out Lovely clean comfortable rooms with great views of the city I know this area pretty well and it s very convenient to many downtown Chicago attractions We had dinner and went clubing with our friends around Division St We had no problems getting cabs back and forth to the Hyatt and there s even public transportation right near by but we didn t bother since we only needed cabs from and to the hotel Parking as is usual for Chicago was expensive but we were able to get our car out quickly No problems at all and...  \n",
              "3                                                                                                                   The Omni Chicago really delivers on all fronts from the spaciousness of the rooms to the helpful staff to the prized location on Michigan Avenue While this address in Chicago requires a high level of quality the Omni delivers Check in for myself and a whole group of people with me was under minutes the staff had plentiful recommendations for dining and events and the rooms are some of the largest you ll find at this price range in Chicago Even the standard room has a separate living area and work desk The fitness center has free weights weight machines and two rows of cardio equipment I shared the room with others and did not feel cramped in any way All in all a great property   \n",
              "4                                                                                                                                                                                                                                                                                                                                                                                                                                        I asked for a high floor away from the elevator and that is what I got The room was pleasantly decorated functional and very clean I didn t need a whole lot of service but when I did they were pleasant and prompt I used the fitness center which was well equipped and everything was in working order It is in a great location at one end of the Michigan Avenue shopping district   \n",
              "5  I stayed at the Omni for one night following a business meeting at another downtown Chicago hotel I was completely impressed by the service all personnel during my stay were absolutely outstanding I checked in quite early and was efficiently checked in My room had a somewhat heavy scent of air freshener which was managed reasonably well by opening the windows I don t generally require much during my hotel stays but suffice to say the doorman housekeeping the night manager and bartender at the day waiter at and the concierge were amazing I never waited more than about seconds for anything The room was very comfy and the amenities were superior One very tiny complaint there was no wastebasket near the sink or near the wet bar had to walk to the other end of the bathroom or sitting room t...  \n",
              "6                                                                                                                                                                            We stayed in the Conrad for nights just before Thanksgiving We had a corner room overlooking N Michigan Av and the Tribune Building To say this is a star hotel is to damn this place with faint praise it is wonderful The staff were unbelievably helpful The standard of the room was superb HD plasma screens luxury bedlinens iPod radio huge bathroom Location is unbeatable right in the heart of everything watched the whole Light Festival parade from the window Breakfasts were excellent no help yourself buffet here with full and attentive table service Would have no hesitation recommending or staying again in this hotel out of   \n",
              "7                                                                                                                                Just got back from days up in Chicago shopping with girlfriends First time I have stayed at the Omni I did so because I saw a rate that included of free food on Travelzoo The three of us all stayed in one suite with double beds and a VERY comfortable pull out sofa We had plenty of room Food in the restaurant was great service was outstanding from everone we came into contact with early morning delivery of free coffee juice and hot chocolate was fabulous and recommendations from the staff on where to eat time of movies shopping areas etc was really helpful Need I mention the outstanding location Simply the best We all decided that the Omni is our new favorite hotel   \n",
              "8                        We arrived at the Omni on nd September for a day stay I took ill when I left the plane after travelling from Manchester so I saw more of the room than I anticipated I couldn t go out for days The room was spacious and clean The bed was extremely comfortable The bathroom was large and very clean What more could you ask We had coffee and juice left outside our door every morning at the time we requested I managed to go to the th floor to see the sun terrace Having a sun terrace in a city hotel is a great idea but the terrace was a bit grim A few sunbeds on a concrete floor There was also noise from an air conditioning unit It could do with a bit of cheering up What I saw of Chicago was very pleasing it has something for everyone Would I go back to the Omni yes I would   \n",
              "9                                                                                                                                                                                                                                                                                                                                              On our visit to Chicago we chose the Hyatt due to its location in downtown within walking distance to most major attractions such as Sears Tower Magnificent Mile Grant Millenium Parks etc Subway bus stops very close by to travel to other locations in the city Overall the hotel was very nice clean and at a great location Was in a safe area Went to beautiful Wrigley Field and Soldier Field and saw both teams play I love Chicago and would defenitely stay here again   "
            ],
            "text/html": [
              "\n",
              "  <div id=\"df-bbbb8d72-89b8-467c-ac99-cbd4017b3a37\">\n",
              "    <div class=\"colab-df-container\">\n",
              "      <div>\n",
              "<style scoped>\n",
              "    .dataframe tbody tr th:only-of-type {\n",
              "        vertical-align: middle;\n",
              "    }\n",
              "\n",
              "    .dataframe tbody tr th {\n",
              "        vertical-align: top;\n",
              "    }\n",
              "\n",
              "    .dataframe thead th {\n",
              "        text-align: right;\n",
              "    }\n",
              "</style>\n",
              "<table border=\"1\" class=\"dataframe\">\n",
              "  <thead>\n",
              "    <tr style=\"text-align: right;\">\n",
              "      <th></th>\n",
              "      <th>text</th>\n",
              "      <th>Class</th>\n",
              "      <th>clean_text</th>\n",
              "    </tr>\n",
              "  </thead>\n",
              "  <tbody>\n",
              "    <tr>\n",
              "      <th>0</th>\n",
              "      <td>We stayed for a one night getaway with family on a thursday. Triple AAA rate of 173 was a steal. 7th floor room complete with 44in plasma TV bose stereo, voss and evian water, and gorgeous bathroom(no tub but was fine for us) Concierge was very helpful. You cannot beat this location... Only flaw was breakfast was pricey and service was very very slow(2hours for four kids and four adults on a friday morning) even though there were only two other tables in the restaurant. Food was very good so it was worth the wait. I would return in a heartbeat. A gem in chicago... \\n</td>\n",
              "      <td>1</td>\n",
              "      <td>We stayed for a one night getaway with family on a thursday Triple AAA rate of was a steal th floor room complete with in plasma TV bose stereo voss and evian water and gorgeous bathroom Concierge was very helpful You cannot beat this location Only flaw was breakfast was pricey and service was very very slow even though there were only two other tables in the restaurant Food was very good so it was worth the wait I would return in a heartbeat A gem in chicago</td>\n",
              "    </tr>\n",
              "    <tr>\n",
              "      <th>1</th>\n",
              "      <td>Triple A rate with upgrade to view room was less than $200 which also included breakfast vouchers. Had a great view of river, lake, Wrigley Bldg. &amp; Tribune Bldg. Most major restaurants, Shopping, Sightseeing attractions within walking distance. Large room with a very comfortable bed. \\n</td>\n",
              "      <td>1</td>\n",
              "      <td>Triple A rate with upgrade to view room was less than which also included breakfast vouchers Had a great view of river lake Wrigley Bldg Tribune Bldg Most major restaurants Shopping Sightseeing attractions within walking distance Large room with a very comfortable bed</td>\n",
              "    </tr>\n",
              "    <tr>\n",
              "      <th>2</th>\n",
              "      <td>This comes a little late as I'm finally catching up on my reviews from the past several months:) A dear friend and I stayed at the Hyatt Regency in late October 2007 for one night while visiting a friend and her husband from out of town. This hotel is perfect, IMO. Easy check in and check out. Lovely, clean, comfortable rooms with great views of the city. I know this area pretty well and it's very convenient to many downtown Chicago attractions. We had dinner and went clubing with our friends around Division St.. We had no problems getting cabs back and forth to the Hyatt and there's even public transportation right near by but we didn't bother since we only needed cabs from and to the hotel. Parking, as is usual for Chicago, was expensive but we were able to get our car out quickly (h...</td>\n",
              "      <td>1</td>\n",
              "      <td>This comes a little late as I m finally catching up on my reviews from the past several months A dear friend and I stayed at the Hyatt Regency in late October for one night while visiting a friend and her husband from out of town This hotel is perfect IMO Easy check in and check out Lovely clean comfortable rooms with great views of the city I know this area pretty well and it s very convenient to many downtown Chicago attractions We had dinner and went clubing with our friends around Division St We had no problems getting cabs back and forth to the Hyatt and there s even public transportation right near by but we didn t bother since we only needed cabs from and to the hotel Parking as is usual for Chicago was expensive but we were able to get our car out quickly No problems at all and...</td>\n",
              "    </tr>\n",
              "    <tr>\n",
              "      <th>3</th>\n",
              "      <td>The Omni Chicago really delivers on all fronts, from the spaciousness of the rooms to the helpful staff to the prized location on Michigan Avenue. While this address in Chicago requires a high level of quality, the Omni delivers. Check in for myself and a whole group of people with me was under 3 minutes, the staff had plentiful recommendations for dining and events, and the rooms are some of the largest you'll find at this price range in Chicago. Even the 'standard' room has a separate living area and work desk. The fitness center has free weights, weight machines, and two rows of cardio equipment. I shared the room with 7 others and did not feel cramped in any way! All in all, a great property! \\n</td>\n",
              "      <td>1</td>\n",
              "      <td>The Omni Chicago really delivers on all fronts from the spaciousness of the rooms to the helpful staff to the prized location on Michigan Avenue While this address in Chicago requires a high level of quality the Omni delivers Check in for myself and a whole group of people with me was under minutes the staff had plentiful recommendations for dining and events and the rooms are some of the largest you ll find at this price range in Chicago Even the standard room has a separate living area and work desk The fitness center has free weights weight machines and two rows of cardio equipment I shared the room with others and did not feel cramped in any way All in all a great property</td>\n",
              "    </tr>\n",
              "    <tr>\n",
              "      <th>4</th>\n",
              "      <td>I asked for a high floor away from the elevator and that is what I got. The room was pleasantly decorated, functional and very clean. I didn't need a whole lot of service but when I did they were pleasant and prompt. I used the fitness center which was well equipped and everything was in working order. It is in a great location at one end of the Michigan Avenue shopping district. \\n</td>\n",
              "      <td>1</td>\n",
              "      <td>I asked for a high floor away from the elevator and that is what I got The room was pleasantly decorated functional and very clean I didn t need a whole lot of service but when I did they were pleasant and prompt I used the fitness center which was well equipped and everything was in working order It is in a great location at one end of the Michigan Avenue shopping district</td>\n",
              "    </tr>\n",
              "    <tr>\n",
              "      <th>5</th>\n",
              "      <td>I stayed at the Omni for one night following a business meeting at another downtown Chicago hotel. I was completely impressed by the service; all personnel during my stay were absolutely outstanding. I checked in quite early (no problem) and was efficiently checked in. My room had a somewhat heavy scent of air freshener (the ONLY negative from the entire stay), which was managed reasonably well by opening the windows. I don't generally require much during my hotel stays, but suffice to say the doorman, housekeeping, the night manager and bartender at 676, the day waiter at 676, and the concierge were amazing - I never waited more than about 30 seconds for anything. The room was very comfy and the amenities were superior. One very tiny complaint - there was no wastebasket near the sink ...</td>\n",
              "      <td>1</td>\n",
              "      <td>I stayed at the Omni for one night following a business meeting at another downtown Chicago hotel I was completely impressed by the service all personnel during my stay were absolutely outstanding I checked in quite early and was efficiently checked in My room had a somewhat heavy scent of air freshener which was managed reasonably well by opening the windows I don t generally require much during my hotel stays but suffice to say the doorman housekeeping the night manager and bartender at the day waiter at and the concierge were amazing I never waited more than about seconds for anything The room was very comfy and the amenities were superior One very tiny complaint there was no wastebasket near the sink or near the wet bar had to walk to the other end of the bathroom or sitting room t...</td>\n",
              "    </tr>\n",
              "    <tr>\n",
              "      <th>6</th>\n",
              "      <td>We stayed in the Conrad for 4 nights just before Thanksgiving. We had a corner room overlooking N Michigan Av and the Tribune Building. To say this is a 5 star hotel is to damn this place with faint praise - it is wonderful. The staff were unbelievably helpful. The standard of the room was superb - HD plasma screens, luxury bedlinens, iPod radio, huge bathroom. Location is unbeatable - right in the heart of everything - watched the whole Light Festival parade from the window. Breakfasts were excellent - no help yourself buffet here - with full and attentive table service. Would have no hesitation recommending or staying again in this hotel - 5 out of 5. \\n</td>\n",
              "      <td>1</td>\n",
              "      <td>We stayed in the Conrad for nights just before Thanksgiving We had a corner room overlooking N Michigan Av and the Tribune Building To say this is a star hotel is to damn this place with faint praise it is wonderful The staff were unbelievably helpful The standard of the room was superb HD plasma screens luxury bedlinens iPod radio huge bathroom Location is unbeatable right in the heart of everything watched the whole Light Festival parade from the window Breakfasts were excellent no help yourself buffet here with full and attentive table service Would have no hesitation recommending or staying again in this hotel out of</td>\n",
              "    </tr>\n",
              "    <tr>\n",
              "      <th>7</th>\n",
              "      <td>Just got back from 2 days up in Chicago shopping with girlfriends. First time I have stayed at the Omni. I did so because I saw a $129.00 rate that included $25.00 of free food on Travelzoo. The three of us (55 year olds) all stayed in one suite with 2 double beds and a VERY comfortable pull out sofa. We had plenty of room. Food in the restaurant was great, service was outstanding from everone we came into contact with, early morning delivery of free coffee, juice and hot chocolate was fabulous and recommendations from the staff on where to eat, time of movies, shopping areas, etc was really helpful. Need I mention the outstanding location? Simply the best! We all decided that the Omni is our new favorite hotel. \\n</td>\n",
              "      <td>1</td>\n",
              "      <td>Just got back from days up in Chicago shopping with girlfriends First time I have stayed at the Omni I did so because I saw a rate that included of free food on Travelzoo The three of us all stayed in one suite with double beds and a VERY comfortable pull out sofa We had plenty of room Food in the restaurant was great service was outstanding from everone we came into contact with early morning delivery of free coffee juice and hot chocolate was fabulous and recommendations from the staff on where to eat time of movies shopping areas etc was really helpful Need I mention the outstanding location Simply the best We all decided that the Omni is our new favorite hotel</td>\n",
              "    </tr>\n",
              "    <tr>\n",
              "      <th>8</th>\n",
              "      <td>We arrived at the Omni on 2nd September for a 6 day stay. I took ill when I left the plane after travelling from Manchester so I saw more of the room than I anticipated. I couldn't go out for 4 days. The room was spacious and clean. The bed was extremely comfortable. The bathroom was large and very clean. What more could you ask. We had coffee and juice left outside our door every morning at the time we requested. I managed to go to the 5th floor to see the sun terrace (outside the gym) Having a sun terrace in a city hotel is a great idea but the terrace was a bit grim. A few sunbeds on a concrete floor. There was also noise from an air conditioning unit. It could do with a bit of cheering up. What I saw of Chicago was very pleasing, it has something for everyone. Would I go back to th...</td>\n",
              "      <td>1</td>\n",
              "      <td>We arrived at the Omni on nd September for a day stay I took ill when I left the plane after travelling from Manchester so I saw more of the room than I anticipated I couldn t go out for days The room was spacious and clean The bed was extremely comfortable The bathroom was large and very clean What more could you ask We had coffee and juice left outside our door every morning at the time we requested I managed to go to the th floor to see the sun terrace Having a sun terrace in a city hotel is a great idea but the terrace was a bit grim A few sunbeds on a concrete floor There was also noise from an air conditioning unit It could do with a bit of cheering up What I saw of Chicago was very pleasing it has something for everyone Would I go back to the Omni yes I would</td>\n",
              "    </tr>\n",
              "    <tr>\n",
              "      <th>9</th>\n",
              "      <td>On our visit to Chicago, we chose the Hyatt due to its location in downtown, within walking distance to most major attractions, such as Sears Tower, Magnificent Mile, Grant/Millenium Parks, etc. Subway &amp; bus stops very close by to travel to other locations in the city . Overall the hotel was very nice, clean, and at a great location. Was in a safe area. Went to beautiful Wrigley Field and Soldier Field and saw both teams play. I love Chicago and would defenitely stay here again! \\n</td>\n",
              "      <td>1</td>\n",
              "      <td>On our visit to Chicago we chose the Hyatt due to its location in downtown within walking distance to most major attractions such as Sears Tower Magnificent Mile Grant Millenium Parks etc Subway bus stops very close by to travel to other locations in the city Overall the hotel was very nice clean and at a great location Was in a safe area Went to beautiful Wrigley Field and Soldier Field and saw both teams play I love Chicago and would defenitely stay here again</td>\n",
              "    </tr>\n",
              "  </tbody>\n",
              "</table>\n",
              "</div>\n",
              "      <button class=\"colab-df-convert\" onclick=\"convertToInteractive('df-bbbb8d72-89b8-467c-ac99-cbd4017b3a37')\"\n",
              "              title=\"Convert this dataframe to an interactive table.\"\n",
              "              style=\"display:none;\">\n",
              "        \n",
              "  <svg xmlns=\"http://www.w3.org/2000/svg\" height=\"24px\"viewBox=\"0 0 24 24\"\n",
              "       width=\"24px\">\n",
              "    <path d=\"M0 0h24v24H0V0z\" fill=\"none\"/>\n",
              "    <path d=\"M18.56 5.44l.94 2.06.94-2.06 2.06-.94-2.06-.94-.94-2.06-.94 2.06-2.06.94zm-11 1L8.5 8.5l.94-2.06 2.06-.94-2.06-.94L8.5 2.5l-.94 2.06-2.06.94zm10 10l.94 2.06.94-2.06 2.06-.94-2.06-.94-.94-2.06-.94 2.06-2.06.94z\"/><path d=\"M17.41 7.96l-1.37-1.37c-.4-.4-.92-.59-1.43-.59-.52 0-1.04.2-1.43.59L10.3 9.45l-7.72 7.72c-.78.78-.78 2.05 0 2.83L4 21.41c.39.39.9.59 1.41.59.51 0 1.02-.2 1.41-.59l7.78-7.78 2.81-2.81c.8-.78.8-2.07 0-2.86zM5.41 20L4 18.59l7.72-7.72 1.47 1.35L5.41 20z\"/>\n",
              "  </svg>\n",
              "      </button>\n",
              "      \n",
              "  <style>\n",
              "    .colab-df-container {\n",
              "      display:flex;\n",
              "      flex-wrap:wrap;\n",
              "      gap: 12px;\n",
              "    }\n",
              "\n",
              "    .colab-df-convert {\n",
              "      background-color: #E8F0FE;\n",
              "      border: none;\n",
              "      border-radius: 50%;\n",
              "      cursor: pointer;\n",
              "      display: none;\n",
              "      fill: #1967D2;\n",
              "      height: 32px;\n",
              "      padding: 0 0 0 0;\n",
              "      width: 32px;\n",
              "    }\n",
              "\n",
              "    .colab-df-convert:hover {\n",
              "      background-color: #E2EBFA;\n",
              "      box-shadow: 0px 1px 2px rgba(60, 64, 67, 0.3), 0px 1px 3px 1px rgba(60, 64, 67, 0.15);\n",
              "      fill: #174EA6;\n",
              "    }\n",
              "\n",
              "    [theme=dark] .colab-df-convert {\n",
              "      background-color: #3B4455;\n",
              "      fill: #D2E3FC;\n",
              "    }\n",
              "\n",
              "    [theme=dark] .colab-df-convert:hover {\n",
              "      background-color: #434B5C;\n",
              "      box-shadow: 0px 1px 3px 1px rgba(0, 0, 0, 0.15);\n",
              "      filter: drop-shadow(0px 1px 2px rgba(0, 0, 0, 0.3));\n",
              "      fill: #FFFFFF;\n",
              "    }\n",
              "  </style>\n",
              "\n",
              "      <script>\n",
              "        const buttonEl =\n",
              "          document.querySelector('#df-bbbb8d72-89b8-467c-ac99-cbd4017b3a37 button.colab-df-convert');\n",
              "        buttonEl.style.display =\n",
              "          google.colab.kernel.accessAllowed ? 'block' : 'none';\n",
              "\n",
              "        async function convertToInteractive(key) {\n",
              "          const element = document.querySelector('#df-bbbb8d72-89b8-467c-ac99-cbd4017b3a37');\n",
              "          const dataTable =\n",
              "            await google.colab.kernel.invokeFunction('convertToInteractive',\n",
              "                                                     [key], {});\n",
              "          if (!dataTable) return;\n",
              "\n",
              "          const docLinkHtml = 'Like what you see? Visit the ' +\n",
              "            '<a target=\"_blank\" href=https://colab.research.google.com/notebooks/data_table.ipynb>data table notebook</a>'\n",
              "            + ' to learn more about interactive tables.';\n",
              "          element.innerHTML = '';\n",
              "          dataTable['output_type'] = 'display_data';\n",
              "          await google.colab.output.renderOutput(dataTable, element);\n",
              "          const docLink = document.createElement('div');\n",
              "          docLink.innerHTML = docLinkHtml;\n",
              "          element.appendChild(docLink);\n",
              "        }\n",
              "      </script>\n",
              "    </div>\n",
              "  </div>\n",
              "  "
            ]
          },
          "metadata": {},
          "execution_count": 2292
        }
      ]
    },
    {
      "cell_type": "code",
      "source": [
        "# dropping the uncleaned text column \"text\"\n",
        "df = df.drop(['text'], axis=1)"
      ],
      "metadata": {
        "id": "8Z23FwIO1B_Z"
      },
      "execution_count": 2293,
      "outputs": []
    },
    {
      "cell_type": "code",
      "source": [
        "# renaming the column\n",
        "df.rename(columns = {'clean_text':'text'}, inplace = True)\n",
        "df.head()"
      ],
      "metadata": {
        "colab": {
          "base_uri": "https://localhost:8080/",
          "height": 441
        },
        "id": "PA6IV9PC1B8B",
        "outputId": "d5bbd4d7-3f3f-491e-e4aa-58e087144bbd"
      },
      "execution_count": 2294,
      "outputs": [
        {
          "output_type": "execute_result",
          "data": {
            "text/plain": [
              "   Class  \\\n",
              "0      1   \n",
              "1      1   \n",
              "2      1   \n",
              "3      1   \n",
              "4      1   \n",
              "\n",
              "                                                                                                                                                                                                                                                                                                                                                                                                                                                                                                                                                                                                                                                                                                                                                                                                                              text  \n",
              "0                                                                                                                                                                                                                                                                                                                                                 We stayed for a one night getaway with family on a thursday Triple AAA rate of was a steal th floor room complete with in plasma TV bose stereo voss and evian water and gorgeous bathroom Concierge was very helpful You cannot beat this location Only flaw was breakfast was pricey and service was very very slow even though there were only two other tables in the restaurant Food was very good so it was worth the wait I would return in a heartbeat A gem in chicago   \n",
              "1                                                                                                                                                                                                                                                                                                                                                                                                                                                                                                                                                    Triple A rate with upgrade to view room was less than which also included breakfast vouchers Had a great view of river lake Wrigley Bldg Tribune Bldg Most major restaurants Shopping Sightseeing attractions within walking distance Large room with a very comfortable bed   \n",
              "2  This comes a little late as I m finally catching up on my reviews from the past several months A dear friend and I stayed at the Hyatt Regency in late October for one night while visiting a friend and her husband from out of town This hotel is perfect IMO Easy check in and check out Lovely clean comfortable rooms with great views of the city I know this area pretty well and it s very convenient to many downtown Chicago attractions We had dinner and went clubing with our friends around Division St We had no problems getting cabs back and forth to the Hyatt and there s even public transportation right near by but we didn t bother since we only needed cabs from and to the hotel Parking as is usual for Chicago was expensive but we were able to get our car out quickly No problems at all and...  \n",
              "3                                                                                                                   The Omni Chicago really delivers on all fronts from the spaciousness of the rooms to the helpful staff to the prized location on Michigan Avenue While this address in Chicago requires a high level of quality the Omni delivers Check in for myself and a whole group of people with me was under minutes the staff had plentiful recommendations for dining and events and the rooms are some of the largest you ll find at this price range in Chicago Even the standard room has a separate living area and work desk The fitness center has free weights weight machines and two rows of cardio equipment I shared the room with others and did not feel cramped in any way All in all a great property   \n",
              "4                                                                                                                                                                                                                                                                                                                                                                                                                                        I asked for a high floor away from the elevator and that is what I got The room was pleasantly decorated functional and very clean I didn t need a whole lot of service but when I did they were pleasant and prompt I used the fitness center which was well equipped and everything was in working order It is in a great location at one end of the Michigan Avenue shopping district   "
            ],
            "text/html": [
              "\n",
              "  <div id=\"df-7f673383-b778-41b1-97fd-d48cf786de9c\">\n",
              "    <div class=\"colab-df-container\">\n",
              "      <div>\n",
              "<style scoped>\n",
              "    .dataframe tbody tr th:only-of-type {\n",
              "        vertical-align: middle;\n",
              "    }\n",
              "\n",
              "    .dataframe tbody tr th {\n",
              "        vertical-align: top;\n",
              "    }\n",
              "\n",
              "    .dataframe thead th {\n",
              "        text-align: right;\n",
              "    }\n",
              "</style>\n",
              "<table border=\"1\" class=\"dataframe\">\n",
              "  <thead>\n",
              "    <tr style=\"text-align: right;\">\n",
              "      <th></th>\n",
              "      <th>Class</th>\n",
              "      <th>text</th>\n",
              "    </tr>\n",
              "  </thead>\n",
              "  <tbody>\n",
              "    <tr>\n",
              "      <th>0</th>\n",
              "      <td>1</td>\n",
              "      <td>We stayed for a one night getaway with family on a thursday Triple AAA rate of was a steal th floor room complete with in plasma TV bose stereo voss and evian water and gorgeous bathroom Concierge was very helpful You cannot beat this location Only flaw was breakfast was pricey and service was very very slow even though there were only two other tables in the restaurant Food was very good so it was worth the wait I would return in a heartbeat A gem in chicago</td>\n",
              "    </tr>\n",
              "    <tr>\n",
              "      <th>1</th>\n",
              "      <td>1</td>\n",
              "      <td>Triple A rate with upgrade to view room was less than which also included breakfast vouchers Had a great view of river lake Wrigley Bldg Tribune Bldg Most major restaurants Shopping Sightseeing attractions within walking distance Large room with a very comfortable bed</td>\n",
              "    </tr>\n",
              "    <tr>\n",
              "      <th>2</th>\n",
              "      <td>1</td>\n",
              "      <td>This comes a little late as I m finally catching up on my reviews from the past several months A dear friend and I stayed at the Hyatt Regency in late October for one night while visiting a friend and her husband from out of town This hotel is perfect IMO Easy check in and check out Lovely clean comfortable rooms with great views of the city I know this area pretty well and it s very convenient to many downtown Chicago attractions We had dinner and went clubing with our friends around Division St We had no problems getting cabs back and forth to the Hyatt and there s even public transportation right near by but we didn t bother since we only needed cabs from and to the hotel Parking as is usual for Chicago was expensive but we were able to get our car out quickly No problems at all and...</td>\n",
              "    </tr>\n",
              "    <tr>\n",
              "      <th>3</th>\n",
              "      <td>1</td>\n",
              "      <td>The Omni Chicago really delivers on all fronts from the spaciousness of the rooms to the helpful staff to the prized location on Michigan Avenue While this address in Chicago requires a high level of quality the Omni delivers Check in for myself and a whole group of people with me was under minutes the staff had plentiful recommendations for dining and events and the rooms are some of the largest you ll find at this price range in Chicago Even the standard room has a separate living area and work desk The fitness center has free weights weight machines and two rows of cardio equipment I shared the room with others and did not feel cramped in any way All in all a great property</td>\n",
              "    </tr>\n",
              "    <tr>\n",
              "      <th>4</th>\n",
              "      <td>1</td>\n",
              "      <td>I asked for a high floor away from the elevator and that is what I got The room was pleasantly decorated functional and very clean I didn t need a whole lot of service but when I did they were pleasant and prompt I used the fitness center which was well equipped and everything was in working order It is in a great location at one end of the Michigan Avenue shopping district</td>\n",
              "    </tr>\n",
              "  </tbody>\n",
              "</table>\n",
              "</div>\n",
              "      <button class=\"colab-df-convert\" onclick=\"convertToInteractive('df-7f673383-b778-41b1-97fd-d48cf786de9c')\"\n",
              "              title=\"Convert this dataframe to an interactive table.\"\n",
              "              style=\"display:none;\">\n",
              "        \n",
              "  <svg xmlns=\"http://www.w3.org/2000/svg\" height=\"24px\"viewBox=\"0 0 24 24\"\n",
              "       width=\"24px\">\n",
              "    <path d=\"M0 0h24v24H0V0z\" fill=\"none\"/>\n",
              "    <path d=\"M18.56 5.44l.94 2.06.94-2.06 2.06-.94-2.06-.94-.94-2.06-.94 2.06-2.06.94zm-11 1L8.5 8.5l.94-2.06 2.06-.94-2.06-.94L8.5 2.5l-.94 2.06-2.06.94zm10 10l.94 2.06.94-2.06 2.06-.94-2.06-.94-.94-2.06-.94 2.06-2.06.94z\"/><path d=\"M17.41 7.96l-1.37-1.37c-.4-.4-.92-.59-1.43-.59-.52 0-1.04.2-1.43.59L10.3 9.45l-7.72 7.72c-.78.78-.78 2.05 0 2.83L4 21.41c.39.39.9.59 1.41.59.51 0 1.02-.2 1.41-.59l7.78-7.78 2.81-2.81c.8-.78.8-2.07 0-2.86zM5.41 20L4 18.59l7.72-7.72 1.47 1.35L5.41 20z\"/>\n",
              "  </svg>\n",
              "      </button>\n",
              "      \n",
              "  <style>\n",
              "    .colab-df-container {\n",
              "      display:flex;\n",
              "      flex-wrap:wrap;\n",
              "      gap: 12px;\n",
              "    }\n",
              "\n",
              "    .colab-df-convert {\n",
              "      background-color: #E8F0FE;\n",
              "      border: none;\n",
              "      border-radius: 50%;\n",
              "      cursor: pointer;\n",
              "      display: none;\n",
              "      fill: #1967D2;\n",
              "      height: 32px;\n",
              "      padding: 0 0 0 0;\n",
              "      width: 32px;\n",
              "    }\n",
              "\n",
              "    .colab-df-convert:hover {\n",
              "      background-color: #E2EBFA;\n",
              "      box-shadow: 0px 1px 2px rgba(60, 64, 67, 0.3), 0px 1px 3px 1px rgba(60, 64, 67, 0.15);\n",
              "      fill: #174EA6;\n",
              "    }\n",
              "\n",
              "    [theme=dark] .colab-df-convert {\n",
              "      background-color: #3B4455;\n",
              "      fill: #D2E3FC;\n",
              "    }\n",
              "\n",
              "    [theme=dark] .colab-df-convert:hover {\n",
              "      background-color: #434B5C;\n",
              "      box-shadow: 0px 1px 3px 1px rgba(0, 0, 0, 0.15);\n",
              "      filter: drop-shadow(0px 1px 2px rgba(0, 0, 0, 0.3));\n",
              "      fill: #FFFFFF;\n",
              "    }\n",
              "  </style>\n",
              "\n",
              "      <script>\n",
              "        const buttonEl =\n",
              "          document.querySelector('#df-7f673383-b778-41b1-97fd-d48cf786de9c button.colab-df-convert');\n",
              "        buttonEl.style.display =\n",
              "          google.colab.kernel.accessAllowed ? 'block' : 'none';\n",
              "\n",
              "        async function convertToInteractive(key) {\n",
              "          const element = document.querySelector('#df-7f673383-b778-41b1-97fd-d48cf786de9c');\n",
              "          const dataTable =\n",
              "            await google.colab.kernel.invokeFunction('convertToInteractive',\n",
              "                                                     [key], {});\n",
              "          if (!dataTable) return;\n",
              "\n",
              "          const docLinkHtml = 'Like what you see? Visit the ' +\n",
              "            '<a target=\"_blank\" href=https://colab.research.google.com/notebooks/data_table.ipynb>data table notebook</a>'\n",
              "            + ' to learn more about interactive tables.';\n",
              "          element.innerHTML = '';\n",
              "          dataTable['output_type'] = 'display_data';\n",
              "          await google.colab.output.renderOutput(dataTable, element);\n",
              "          const docLink = document.createElement('div');\n",
              "          docLink.innerHTML = docLinkHtml;\n",
              "          element.appendChild(docLink);\n",
              "        }\n",
              "      </script>\n",
              "    </div>\n",
              "  </div>\n",
              "  "
            ]
          },
          "metadata": {},
          "execution_count": 2294
        }
      ]
    },
    {
      "cell_type": "code",
      "source": [
        "import spacy\n",
        "#loading the english language small model of spacy\n",
        "en = spacy.load('en_core_web_sm')\n",
        "sw_spacy = en.Defaults.stop_words\n",
        "print(sw_spacy)"
      ],
      "metadata": {
        "colab": {
          "base_uri": "https://localhost:8080/"
        },
        "id": "TS03aaDy1B4p",
        "outputId": "352c3ec6-9e50-4467-ebf3-112850101575"
      },
      "execution_count": 2295,
      "outputs": [
        {
          "output_type": "stream",
          "name": "stdout",
          "text": [
            "{'through', 'who', 'us', 'move', 'thereafter', 'thence', 'there', 'yet', 'were', 'name', 'our', 'meanwhile', 'could', 'front', 'therefore', 'hereupon', 'for', 'whoever', 'most', 'say', 'eight', 'per', 'behind', \"'s\", 'anyway', 'their', 'sometime', 'and', 'beforehand', 'quite', 'rather', 'off', 'her', 'already', 'doing', 'other', 'whole', 'whereupon', 'some', \"'re\", 'least', 'up', 'however', 'nobody', 'hers', 'became', 'during', 'been', 'otherwise', \"'ve\", 'amongst', 'because', 'whom', 'moreover', 'only', 'down', 'herein', 'above', 'really', 'many', 'in', 'over', 'himself', 'twelve', 'where', 'again', 'even', 'nothing', 'get', 'ourselves', 'hence', '‘re', 'via', 'as', 'own', 'nor', 'besides', 'without', 'n’t', 'thus', 'no', '‘d', 'against', 'becoming', 'part', 'though', 'ever', 'wherein', 'sometimes', 'had', 'someone', 'the', 'hereby', 'seeming', 'becomes', 'everyone', 'yourself', 'is', 'was', 'everything', 'another', 'see', 'ours', 'put', 'except', 'side', 'onto', 'perhaps', 'once', 'well', 'they', 'a', 'since', 'call', '’m', 'further', 'do', 'anything', 'are', 'much', 'which', 'anyhow', 'give', 'after', 'somehow', 'below', 'two', 'never', 'less', 'somewhere', 'whereas', 'between', 'almost', 'within', 'beyond', 'whereafter', 'into', 'due', 'still', 'together', 'about', 'being', 'of', 'would', 'all', 'themselves', 'seemed', 'make', 'than', '’d', 'just', 'next', 'these', 'at', '’s', 'him', 'show', 'six', 'go', 'therein', '‘m', 'anyone', 'also', 'used', 'thereupon', 'yours', 'how', 'he', 'neither', 'among', 'might', 'thru', 'beside', 'before', 'to', 'your', 'whatever', 'fifty', 'something', 'various', 'mine', 'nevertheless', 'while', 'formerly', 'third', 'none', 'either', 'last', 'ten', 'be', 'an', 'with', 'full', 'same', 'using', 'few', 'become', 'each', 'am', 'cannot', 'we', 'along', 'whether', 'afterwards', 'n‘t', '‘s', 'very', 'bottom', 'five', 'seems', 'latter', 'hundred', 'until', 'regarding', 'my', 'four', '’ll', 'please', 'those', 'what', 'this', 'latterly', 'ca', 'more', 'mostly', 'when', 're', 'take', 'should', 'or', 'made', 'nowhere', 'whither', 'any', 'alone', 'although', 'hereafter', 'one', 'both', 'elsewhere', 'enough', 'upon', '’ve', 'myself', '‘ll', 'several', 'will', '‘ve', 'towards', 'now', 'may', 'every', 'so', 'i', 'unless', 'toward', 'whenever', 'indeed', 'it', 'then', 'around', 'does', 'fifteen', 'anywhere', 'she', 'serious', 'first', 'under', 'must', 'everywhere', 'from', 'keep', 'here', 'such', 'whose', 'out', 'forty', 'them', 'always', 'his', 'amount', 'did', 'else', 'its', 'thereby', 'too', 'sixty', 'whence', 'others', 'but', 'noone', 'three', 'has', 'by', 'you', 'back', \"'ll\", 'herself', \"'d\", 'me', 'top', 'why', 'whereby', 'wherever', 'if', 'throughout', 'seem', 'across', 'can', \"n't\", 'done', 'nine', 'not', 'yourselves', 'twenty', 'that', 'often', 'itself', \"'m\", '’re', 'former', 'namely', 'on', 'empty', 'eleven', 'have'}\n"
          ]
        }
      ]
    },
    {
      "cell_type": "code",
      "source": [
        "import nltk\n",
        "from nltk.corpus import stopwords\n",
        "sw_nltk = stopwords.words('english')\n",
        "print(sw_nltk)"
      ],
      "metadata": {
        "colab": {
          "base_uri": "https://localhost:8080/"
        },
        "id": "HQ43oOMR1B1N",
        "outputId": "2e429cde-6e0e-4b58-a838-56e79549adc6"
      },
      "execution_count": 2296,
      "outputs": [
        {
          "output_type": "stream",
          "name": "stdout",
          "text": [
            "['i', 'me', 'my', 'myself', 'we', 'our', 'ours', 'ourselves', 'you', \"you're\", \"you've\", \"you'll\", \"you'd\", 'your', 'yours', 'yourself', 'yourselves', 'he', 'him', 'his', 'himself', 'she', \"she's\", 'her', 'hers', 'herself', 'it', \"it's\", 'its', 'itself', 'they', 'them', 'their', 'theirs', 'themselves', 'what', 'which', 'who', 'whom', 'this', 'that', \"that'll\", 'these', 'those', 'am', 'is', 'are', 'was', 'were', 'be', 'been', 'being', 'have', 'has', 'had', 'having', 'do', 'does', 'did', 'doing', 'a', 'an', 'the', 'and', 'but', 'if', 'or', 'because', 'as', 'until', 'while', 'of', 'at', 'by', 'for', 'with', 'about', 'against', 'between', 'into', 'through', 'during', 'before', 'after', 'above', 'below', 'to', 'from', 'up', 'down', 'in', 'out', 'on', 'off', 'over', 'under', 'again', 'further', 'then', 'once', 'here', 'there', 'when', 'where', 'why', 'how', 'all', 'any', 'both', 'each', 'few', 'more', 'most', 'other', 'some', 'such', 'no', 'nor', 'not', 'only', 'own', 'same', 'so', 'than', 'too', 'very', 's', 't', 'can', 'will', 'just', 'don', \"don't\", 'should', \"should've\", 'now', 'd', 'll', 'm', 'o', 're', 've', 'y', 'ain', 'aren', \"aren't\", 'couldn', \"couldn't\", 'didn', \"didn't\", 'doesn', \"doesn't\", 'hadn', \"hadn't\", 'hasn', \"hasn't\", 'haven', \"haven't\", 'isn', \"isn't\", 'ma', 'mightn', \"mightn't\", 'mustn', \"mustn't\", 'needn', \"needn't\", 'shan', \"shan't\", 'shouldn', \"shouldn't\", 'wasn', \"wasn't\", 'weren', \"weren't\", 'won', \"won't\", 'wouldn', \"wouldn't\"]\n"
          ]
        }
      ]
    },
    {
      "cell_type": "code",
      "source": [
        "sw_nltk.extend(['th','stay'])\n",
        "print(len(sw_nltk))"
      ],
      "metadata": {
        "colab": {
          "base_uri": "https://localhost:8080/"
        },
        "id": "OedFNhJ01BxZ",
        "outputId": "58585f3a-47a8-4fce-cd08-077e2119e9f0"
      },
      "execution_count": 2297,
      "outputs": [
        {
          "output_type": "stream",
          "name": "stdout",
          "text": [
            "181\n"
          ]
        }
      ]
    },
    {
      "cell_type": "code",
      "source": [
        "# preprocessing the data (removing stopwords, convert the sentence to lower case, and also applying lemmatization to get meaningful words )\n",
        "from nltk.corpus import stopwords\n",
        "from nltk.stem import WordNetLemmatizer, PorterStemmer\n",
        "#stop_words = set(stopwords.words('english'))\n",
        "ps=PorterStemmer()\n",
        "wnl=WordNetLemmatizer()\n",
        "def clean_lemma(review):\n",
        "    review = review.lower()\n",
        "    review = review.split()\n",
        "    review = [wnl.lemmatize(word) for word in review if word not in sw_nltk]\n",
        "    review = [wnl.lemmatize(word) for word in review if word not in sw_spacy]\n",
        "    review = ' '.join(review)\n",
        "    return review"
      ],
      "metadata": {
        "id": "NllSe3Fh1Bt7"
      },
      "execution_count": 2298,
      "outputs": []
    },
    {
      "cell_type": "code",
      "source": [
        "# using lemmatization\n",
        "df['text']=df['text'].apply(clean_lemma)\n",
        "df.head()"
      ],
      "metadata": {
        "colab": {
          "base_uri": "https://localhost:8080/",
          "height": 371
        },
        "id": "JYZt0NMn1Bqx",
        "outputId": "0004c064-17cd-4cfa-bf7f-da1f5811e89c"
      },
      "execution_count": 2299,
      "outputs": [
        {
          "output_type": "execute_result",
          "data": {
            "text/plain": [
              "   Class  \\\n",
              "0      1   \n",
              "1      1   \n",
              "2      1   \n",
              "3      1   \n",
              "4      1   \n",
              "\n",
              "                                                                                                                                                                                                                                                                                                                                                                                                                                                                                                                                      text  \n",
              "0                                                                                                                                                                                                                                                            stayed night getaway family thursday triple aaa rate steal floor room complete plasma tv bose stereo voss evian water gorgeous bathroom concierge helpful beat location flaw breakfast pricey service slow table restaurant food good worth wait return heartbeat gem chicago  \n",
              "1                                                                                                                                                                                                                                                                                                                                 triple rate upgrade view room le included breakfast voucher great view river lake wrigley bldg tribune bldg major restaurant shopping sightseeing attraction walking distance large room comfortable bed  \n",
              "2  come little late finally catching review past month dear friend stayed hyatt regency late october night visiting friend husband town hotel perfect imo easy check check lovely clean comfortable room great view city know area pretty convenient downtown chicago attraction dinner went clubing friend division st problem getting cab forth hyatt public transportation right near bother needed cab hotel parking usual chicago expensive able car quickly problem best got rate hotwire downright steal area chicago quality hotel  \n",
              "3                                                                                                                      omni chicago delivers spaciousness room helpful staff prized location michigan avenue address chicago requires high level quality omni delivers check group people minute staff plentiful recommendation dining event room largest find price range chicago standard room separate living area work desk fitness center free weight weight machine row cardio equipment shared room feel cramped way great property  \n",
              "4                                                                                                                                                                                                                                                                                                                                asked high floor away elevator got room pleasantly decorated functional clean need lot service pleasant prompt fitness center equipped working order great location end michigan avenue shopping district  "
            ],
            "text/html": [
              "\n",
              "  <div id=\"df-60ec97a2-fd2a-4aac-81e3-91f7490d8772\">\n",
              "    <div class=\"colab-df-container\">\n",
              "      <div>\n",
              "<style scoped>\n",
              "    .dataframe tbody tr th:only-of-type {\n",
              "        vertical-align: middle;\n",
              "    }\n",
              "\n",
              "    .dataframe tbody tr th {\n",
              "        vertical-align: top;\n",
              "    }\n",
              "\n",
              "    .dataframe thead th {\n",
              "        text-align: right;\n",
              "    }\n",
              "</style>\n",
              "<table border=\"1\" class=\"dataframe\">\n",
              "  <thead>\n",
              "    <tr style=\"text-align: right;\">\n",
              "      <th></th>\n",
              "      <th>Class</th>\n",
              "      <th>text</th>\n",
              "    </tr>\n",
              "  </thead>\n",
              "  <tbody>\n",
              "    <tr>\n",
              "      <th>0</th>\n",
              "      <td>1</td>\n",
              "      <td>stayed night getaway family thursday triple aaa rate steal floor room complete plasma tv bose stereo voss evian water gorgeous bathroom concierge helpful beat location flaw breakfast pricey service slow table restaurant food good worth wait return heartbeat gem chicago</td>\n",
              "    </tr>\n",
              "    <tr>\n",
              "      <th>1</th>\n",
              "      <td>1</td>\n",
              "      <td>triple rate upgrade view room le included breakfast voucher great view river lake wrigley bldg tribune bldg major restaurant shopping sightseeing attraction walking distance large room comfortable bed</td>\n",
              "    </tr>\n",
              "    <tr>\n",
              "      <th>2</th>\n",
              "      <td>1</td>\n",
              "      <td>come little late finally catching review past month dear friend stayed hyatt regency late october night visiting friend husband town hotel perfect imo easy check check lovely clean comfortable room great view city know area pretty convenient downtown chicago attraction dinner went clubing friend division st problem getting cab forth hyatt public transportation right near bother needed cab hotel parking usual chicago expensive able car quickly problem best got rate hotwire downright steal area chicago quality hotel</td>\n",
              "    </tr>\n",
              "    <tr>\n",
              "      <th>3</th>\n",
              "      <td>1</td>\n",
              "      <td>omni chicago delivers spaciousness room helpful staff prized location michigan avenue address chicago requires high level quality omni delivers check group people minute staff plentiful recommendation dining event room largest find price range chicago standard room separate living area work desk fitness center free weight weight machine row cardio equipment shared room feel cramped way great property</td>\n",
              "    </tr>\n",
              "    <tr>\n",
              "      <th>4</th>\n",
              "      <td>1</td>\n",
              "      <td>asked high floor away elevator got room pleasantly decorated functional clean need lot service pleasant prompt fitness center equipped working order great location end michigan avenue shopping district</td>\n",
              "    </tr>\n",
              "  </tbody>\n",
              "</table>\n",
              "</div>\n",
              "      <button class=\"colab-df-convert\" onclick=\"convertToInteractive('df-60ec97a2-fd2a-4aac-81e3-91f7490d8772')\"\n",
              "              title=\"Convert this dataframe to an interactive table.\"\n",
              "              style=\"display:none;\">\n",
              "        \n",
              "  <svg xmlns=\"http://www.w3.org/2000/svg\" height=\"24px\"viewBox=\"0 0 24 24\"\n",
              "       width=\"24px\">\n",
              "    <path d=\"M0 0h24v24H0V0z\" fill=\"none\"/>\n",
              "    <path d=\"M18.56 5.44l.94 2.06.94-2.06 2.06-.94-2.06-.94-.94-2.06-.94 2.06-2.06.94zm-11 1L8.5 8.5l.94-2.06 2.06-.94-2.06-.94L8.5 2.5l-.94 2.06-2.06.94zm10 10l.94 2.06.94-2.06 2.06-.94-2.06-.94-.94-2.06-.94 2.06-2.06.94z\"/><path d=\"M17.41 7.96l-1.37-1.37c-.4-.4-.92-.59-1.43-.59-.52 0-1.04.2-1.43.59L10.3 9.45l-7.72 7.72c-.78.78-.78 2.05 0 2.83L4 21.41c.39.39.9.59 1.41.59.51 0 1.02-.2 1.41-.59l7.78-7.78 2.81-2.81c.8-.78.8-2.07 0-2.86zM5.41 20L4 18.59l7.72-7.72 1.47 1.35L5.41 20z\"/>\n",
              "  </svg>\n",
              "      </button>\n",
              "      \n",
              "  <style>\n",
              "    .colab-df-container {\n",
              "      display:flex;\n",
              "      flex-wrap:wrap;\n",
              "      gap: 12px;\n",
              "    }\n",
              "\n",
              "    .colab-df-convert {\n",
              "      background-color: #E8F0FE;\n",
              "      border: none;\n",
              "      border-radius: 50%;\n",
              "      cursor: pointer;\n",
              "      display: none;\n",
              "      fill: #1967D2;\n",
              "      height: 32px;\n",
              "      padding: 0 0 0 0;\n",
              "      width: 32px;\n",
              "    }\n",
              "\n",
              "    .colab-df-convert:hover {\n",
              "      background-color: #E2EBFA;\n",
              "      box-shadow: 0px 1px 2px rgba(60, 64, 67, 0.3), 0px 1px 3px 1px rgba(60, 64, 67, 0.15);\n",
              "      fill: #174EA6;\n",
              "    }\n",
              "\n",
              "    [theme=dark] .colab-df-convert {\n",
              "      background-color: #3B4455;\n",
              "      fill: #D2E3FC;\n",
              "    }\n",
              "\n",
              "    [theme=dark] .colab-df-convert:hover {\n",
              "      background-color: #434B5C;\n",
              "      box-shadow: 0px 1px 3px 1px rgba(0, 0, 0, 0.15);\n",
              "      filter: drop-shadow(0px 1px 2px rgba(0, 0, 0, 0.3));\n",
              "      fill: #FFFFFF;\n",
              "    }\n",
              "  </style>\n",
              "\n",
              "      <script>\n",
              "        const buttonEl =\n",
              "          document.querySelector('#df-60ec97a2-fd2a-4aac-81e3-91f7490d8772 button.colab-df-convert');\n",
              "        buttonEl.style.display =\n",
              "          google.colab.kernel.accessAllowed ? 'block' : 'none';\n",
              "\n",
              "        async function convertToInteractive(key) {\n",
              "          const element = document.querySelector('#df-60ec97a2-fd2a-4aac-81e3-91f7490d8772');\n",
              "          const dataTable =\n",
              "            await google.colab.kernel.invokeFunction('convertToInteractive',\n",
              "                                                     [key], {});\n",
              "          if (!dataTable) return;\n",
              "\n",
              "          const docLinkHtml = 'Like what you see? Visit the ' +\n",
              "            '<a target=\"_blank\" href=https://colab.research.google.com/notebooks/data_table.ipynb>data table notebook</a>'\n",
              "            + ' to learn more about interactive tables.';\n",
              "          element.innerHTML = '';\n",
              "          dataTable['output_type'] = 'display_data';\n",
              "          await google.colab.output.renderOutput(dataTable, element);\n",
              "          const docLink = document.createElement('div');\n",
              "          docLink.innerHTML = docLinkHtml;\n",
              "          element.appendChild(docLink);\n",
              "        }\n",
              "      </script>\n",
              "    </div>\n",
              "  </div>\n",
              "  "
            ]
          },
          "metadata": {},
          "execution_count": 2299
        }
      ]
    },
    {
      "cell_type": "markdown",
      "source": [
        "### FEATURE EXTRACTION"
      ],
      "metadata": {
        "id": "016Fipdd4nou"
      }
    },
    {
      "cell_type": "code",
      "source": [
        "x = df['text']\n",
        "y = df['Class']"
      ],
      "metadata": {
        "id": "dxOXDi2I1Bnh"
      },
      "execution_count": 2300,
      "outputs": []
    },
    {
      "cell_type": "code",
      "source": [
        "from sklearn.feature_extraction.text import TfidfVectorizer, CountVectorizer \n",
        "from sklearn.feature_extraction.text import TfidfVectorizer\n",
        "cv=TfidfVectorizer()\n",
        "corpii=cv.fit_transform(x) "
      ],
      "metadata": {
        "id": "SVvh5gy31Bkh"
      },
      "execution_count": 2301,
      "outputs": []
    },
    {
      "cell_type": "code",
      "source": [
        "feature_names = cv.get_feature_names()\n",
        "#feature_names"
      ],
      "metadata": {
        "colab": {
          "base_uri": "https://localhost:8080/"
        },
        "id": "y40il7AW1Bhr",
        "outputId": "b6bcfe18-ac6c-4ce2-c22e-d341590ac907"
      },
      "execution_count": 2302,
      "outputs": [
        {
          "output_type": "stream",
          "name": "stderr",
          "text": [
            "/usr/local/lib/python3.7/dist-packages/sklearn/utils/deprecation.py:87: FutureWarning: Function get_feature_names is deprecated; get_feature_names is deprecated in 1.0 and will be removed in 1.2. Please use get_feature_names_out instead.\n",
            "  warnings.warn(msg, category=FutureWarning)\n"
          ]
        }
      ]
    },
    {
      "cell_type": "code",
      "source": [
        "len(feature_names)"
      ],
      "metadata": {
        "colab": {
          "base_uri": "https://localhost:8080/"
        },
        "id": "-zsmP-Z61BfD",
        "outputId": "ebdaf944-0580-4f7f-cd1c-d4823675de43"
      },
      "execution_count": 2303,
      "outputs": [
        {
          "output_type": "execute_result",
          "data": {
            "text/plain": [
              "7905"
            ]
          },
          "metadata": {},
          "execution_count": 2303
        }
      ]
    },
    {
      "cell_type": "code",
      "source": [
        "u1 = pd.DataFrame(corpii.toarray(), columns=feature_names)\n",
        "u1.head()"
      ],
      "metadata": {
        "colab": {
          "base_uri": "https://localhost:8080/",
          "height": 235
        },
        "id": "WXXwZCVq1BcM",
        "outputId": "fdd30341-3b9b-4976-f669-eb7b449c2b03"
      },
      "execution_count": 2304,
      "outputs": [
        {
          "output_type": "execute_result",
          "data": {
            "text/plain": [
              "        aaa  aaahed  aback  abassador  abd  ability      able  abound  abrupt  \\\n",
              "0  0.217034     0.0    0.0        0.0  0.0      0.0  0.000000     0.0     0.0   \n",
              "1  0.000000     0.0    0.0        0.0  0.0      0.0  0.000000     0.0     0.0   \n",
              "2  0.000000     0.0    0.0        0.0  0.0      0.0  0.090437     0.0     0.0   \n",
              "3  0.000000     0.0    0.0        0.0  0.0      0.0  0.000000     0.0     0.0   \n",
              "4  0.000000     0.0    0.0        0.0  0.0      0.0  0.000000     0.0     0.0   \n",
              "\n",
              "   abruptly  ...  yucky  yummo  yummy  yunan  yup  zagat  zest  zipped  zone  \\\n",
              "0       0.0  ...    0.0    0.0    0.0    0.0  0.0    0.0   0.0     0.0   0.0   \n",
              "1       0.0  ...    0.0    0.0    0.0    0.0  0.0    0.0   0.0     0.0   0.0   \n",
              "2       0.0  ...    0.0    0.0    0.0    0.0  0.0    0.0   0.0     0.0   0.0   \n",
              "3       0.0  ...    0.0    0.0    0.0    0.0  0.0    0.0   0.0     0.0   0.0   \n",
              "4       0.0  ...    0.0    0.0    0.0    0.0  0.0    0.0   0.0     0.0   0.0   \n",
              "\n",
              "   zoo  \n",
              "0  0.0  \n",
              "1  0.0  \n",
              "2  0.0  \n",
              "3  0.0  \n",
              "4  0.0  \n",
              "\n",
              "[5 rows x 7905 columns]"
            ],
            "text/html": [
              "\n",
              "  <div id=\"df-d3430355-cb27-4e97-8c4b-da48276fd2d7\">\n",
              "    <div class=\"colab-df-container\">\n",
              "      <div>\n",
              "<style scoped>\n",
              "    .dataframe tbody tr th:only-of-type {\n",
              "        vertical-align: middle;\n",
              "    }\n",
              "\n",
              "    .dataframe tbody tr th {\n",
              "        vertical-align: top;\n",
              "    }\n",
              "\n",
              "    .dataframe thead th {\n",
              "        text-align: right;\n",
              "    }\n",
              "</style>\n",
              "<table border=\"1\" class=\"dataframe\">\n",
              "  <thead>\n",
              "    <tr style=\"text-align: right;\">\n",
              "      <th></th>\n",
              "      <th>aaa</th>\n",
              "      <th>aaahed</th>\n",
              "      <th>aback</th>\n",
              "      <th>abassador</th>\n",
              "      <th>abd</th>\n",
              "      <th>ability</th>\n",
              "      <th>able</th>\n",
              "      <th>abound</th>\n",
              "      <th>abrupt</th>\n",
              "      <th>abruptly</th>\n",
              "      <th>...</th>\n",
              "      <th>yucky</th>\n",
              "      <th>yummo</th>\n",
              "      <th>yummy</th>\n",
              "      <th>yunan</th>\n",
              "      <th>yup</th>\n",
              "      <th>zagat</th>\n",
              "      <th>zest</th>\n",
              "      <th>zipped</th>\n",
              "      <th>zone</th>\n",
              "      <th>zoo</th>\n",
              "    </tr>\n",
              "  </thead>\n",
              "  <tbody>\n",
              "    <tr>\n",
              "      <th>0</th>\n",
              "      <td>0.217034</td>\n",
              "      <td>0.0</td>\n",
              "      <td>0.0</td>\n",
              "      <td>0.0</td>\n",
              "      <td>0.0</td>\n",
              "      <td>0.0</td>\n",
              "      <td>0.000000</td>\n",
              "      <td>0.0</td>\n",
              "      <td>0.0</td>\n",
              "      <td>0.0</td>\n",
              "      <td>...</td>\n",
              "      <td>0.0</td>\n",
              "      <td>0.0</td>\n",
              "      <td>0.0</td>\n",
              "      <td>0.0</td>\n",
              "      <td>0.0</td>\n",
              "      <td>0.0</td>\n",
              "      <td>0.0</td>\n",
              "      <td>0.0</td>\n",
              "      <td>0.0</td>\n",
              "      <td>0.0</td>\n",
              "    </tr>\n",
              "    <tr>\n",
              "      <th>1</th>\n",
              "      <td>0.000000</td>\n",
              "      <td>0.0</td>\n",
              "      <td>0.0</td>\n",
              "      <td>0.0</td>\n",
              "      <td>0.0</td>\n",
              "      <td>0.0</td>\n",
              "      <td>0.000000</td>\n",
              "      <td>0.0</td>\n",
              "      <td>0.0</td>\n",
              "      <td>0.0</td>\n",
              "      <td>...</td>\n",
              "      <td>0.0</td>\n",
              "      <td>0.0</td>\n",
              "      <td>0.0</td>\n",
              "      <td>0.0</td>\n",
              "      <td>0.0</td>\n",
              "      <td>0.0</td>\n",
              "      <td>0.0</td>\n",
              "      <td>0.0</td>\n",
              "      <td>0.0</td>\n",
              "      <td>0.0</td>\n",
              "    </tr>\n",
              "    <tr>\n",
              "      <th>2</th>\n",
              "      <td>0.000000</td>\n",
              "      <td>0.0</td>\n",
              "      <td>0.0</td>\n",
              "      <td>0.0</td>\n",
              "      <td>0.0</td>\n",
              "      <td>0.0</td>\n",
              "      <td>0.090437</td>\n",
              "      <td>0.0</td>\n",
              "      <td>0.0</td>\n",
              "      <td>0.0</td>\n",
              "      <td>...</td>\n",
              "      <td>0.0</td>\n",
              "      <td>0.0</td>\n",
              "      <td>0.0</td>\n",
              "      <td>0.0</td>\n",
              "      <td>0.0</td>\n",
              "      <td>0.0</td>\n",
              "      <td>0.0</td>\n",
              "      <td>0.0</td>\n",
              "      <td>0.0</td>\n",
              "      <td>0.0</td>\n",
              "    </tr>\n",
              "    <tr>\n",
              "      <th>3</th>\n",
              "      <td>0.000000</td>\n",
              "      <td>0.0</td>\n",
              "      <td>0.0</td>\n",
              "      <td>0.0</td>\n",
              "      <td>0.0</td>\n",
              "      <td>0.0</td>\n",
              "      <td>0.000000</td>\n",
              "      <td>0.0</td>\n",
              "      <td>0.0</td>\n",
              "      <td>0.0</td>\n",
              "      <td>...</td>\n",
              "      <td>0.0</td>\n",
              "      <td>0.0</td>\n",
              "      <td>0.0</td>\n",
              "      <td>0.0</td>\n",
              "      <td>0.0</td>\n",
              "      <td>0.0</td>\n",
              "      <td>0.0</td>\n",
              "      <td>0.0</td>\n",
              "      <td>0.0</td>\n",
              "      <td>0.0</td>\n",
              "    </tr>\n",
              "    <tr>\n",
              "      <th>4</th>\n",
              "      <td>0.000000</td>\n",
              "      <td>0.0</td>\n",
              "      <td>0.0</td>\n",
              "      <td>0.0</td>\n",
              "      <td>0.0</td>\n",
              "      <td>0.0</td>\n",
              "      <td>0.000000</td>\n",
              "      <td>0.0</td>\n",
              "      <td>0.0</td>\n",
              "      <td>0.0</td>\n",
              "      <td>...</td>\n",
              "      <td>0.0</td>\n",
              "      <td>0.0</td>\n",
              "      <td>0.0</td>\n",
              "      <td>0.0</td>\n",
              "      <td>0.0</td>\n",
              "      <td>0.0</td>\n",
              "      <td>0.0</td>\n",
              "      <td>0.0</td>\n",
              "      <td>0.0</td>\n",
              "      <td>0.0</td>\n",
              "    </tr>\n",
              "  </tbody>\n",
              "</table>\n",
              "<p>5 rows × 7905 columns</p>\n",
              "</div>\n",
              "      <button class=\"colab-df-convert\" onclick=\"convertToInteractive('df-d3430355-cb27-4e97-8c4b-da48276fd2d7')\"\n",
              "              title=\"Convert this dataframe to an interactive table.\"\n",
              "              style=\"display:none;\">\n",
              "        \n",
              "  <svg xmlns=\"http://www.w3.org/2000/svg\" height=\"24px\"viewBox=\"0 0 24 24\"\n",
              "       width=\"24px\">\n",
              "    <path d=\"M0 0h24v24H0V0z\" fill=\"none\"/>\n",
              "    <path d=\"M18.56 5.44l.94 2.06.94-2.06 2.06-.94-2.06-.94-.94-2.06-.94 2.06-2.06.94zm-11 1L8.5 8.5l.94-2.06 2.06-.94-2.06-.94L8.5 2.5l-.94 2.06-2.06.94zm10 10l.94 2.06.94-2.06 2.06-.94-2.06-.94-.94-2.06-.94 2.06-2.06.94z\"/><path d=\"M17.41 7.96l-1.37-1.37c-.4-.4-.92-.59-1.43-.59-.52 0-1.04.2-1.43.59L10.3 9.45l-7.72 7.72c-.78.78-.78 2.05 0 2.83L4 21.41c.39.39.9.59 1.41.59.51 0 1.02-.2 1.41-.59l7.78-7.78 2.81-2.81c.8-.78.8-2.07 0-2.86zM5.41 20L4 18.59l7.72-7.72 1.47 1.35L5.41 20z\"/>\n",
              "  </svg>\n",
              "      </button>\n",
              "      \n",
              "  <style>\n",
              "    .colab-df-container {\n",
              "      display:flex;\n",
              "      flex-wrap:wrap;\n",
              "      gap: 12px;\n",
              "    }\n",
              "\n",
              "    .colab-df-convert {\n",
              "      background-color: #E8F0FE;\n",
              "      border: none;\n",
              "      border-radius: 50%;\n",
              "      cursor: pointer;\n",
              "      display: none;\n",
              "      fill: #1967D2;\n",
              "      height: 32px;\n",
              "      padding: 0 0 0 0;\n",
              "      width: 32px;\n",
              "    }\n",
              "\n",
              "    .colab-df-convert:hover {\n",
              "      background-color: #E2EBFA;\n",
              "      box-shadow: 0px 1px 2px rgba(60, 64, 67, 0.3), 0px 1px 3px 1px rgba(60, 64, 67, 0.15);\n",
              "      fill: #174EA6;\n",
              "    }\n",
              "\n",
              "    [theme=dark] .colab-df-convert {\n",
              "      background-color: #3B4455;\n",
              "      fill: #D2E3FC;\n",
              "    }\n",
              "\n",
              "    [theme=dark] .colab-df-convert:hover {\n",
              "      background-color: #434B5C;\n",
              "      box-shadow: 0px 1px 3px 1px rgba(0, 0, 0, 0.15);\n",
              "      filter: drop-shadow(0px 1px 2px rgba(0, 0, 0, 0.3));\n",
              "      fill: #FFFFFF;\n",
              "    }\n",
              "  </style>\n",
              "\n",
              "      <script>\n",
              "        const buttonEl =\n",
              "          document.querySelector('#df-d3430355-cb27-4e97-8c4b-da48276fd2d7 button.colab-df-convert');\n",
              "        buttonEl.style.display =\n",
              "          google.colab.kernel.accessAllowed ? 'block' : 'none';\n",
              "\n",
              "        async function convertToInteractive(key) {\n",
              "          const element = document.querySelector('#df-d3430355-cb27-4e97-8c4b-da48276fd2d7');\n",
              "          const dataTable =\n",
              "            await google.colab.kernel.invokeFunction('convertToInteractive',\n",
              "                                                     [key], {});\n",
              "          if (!dataTable) return;\n",
              "\n",
              "          const docLinkHtml = 'Like what you see? Visit the ' +\n",
              "            '<a target=\"_blank\" href=https://colab.research.google.com/notebooks/data_table.ipynb>data table notebook</a>'\n",
              "            + ' to learn more about interactive tables.';\n",
              "          element.innerHTML = '';\n",
              "          dataTable['output_type'] = 'display_data';\n",
              "          await google.colab.output.renderOutput(dataTable, element);\n",
              "          const docLink = document.createElement('div');\n",
              "          docLink.innerHTML = docLinkHtml;\n",
              "          element.appendChild(docLink);\n",
              "        }\n",
              "      </script>\n",
              "    </div>\n",
              "  </div>\n",
              "  "
            ]
          },
          "metadata": {},
          "execution_count": 2304
        }
      ]
    },
    {
      "cell_type": "markdown",
      "source": [
        "### FEATURE SELECTION"
      ],
      "metadata": {
        "id": "pwLqgt4w4rXn"
      }
    },
    {
      "cell_type": "code",
      "source": [
        "from sklearn.feature_selection import SelectKBest\n",
        "from sklearn.feature_selection import chi2\n",
        "# Two features with highest chi-squared statistics are selected\n",
        "chi2_features = SelectKBest(chi2, k = 1000)\n",
        "X_kbest_features = chi2_features.fit_transform(u1, y)"
      ],
      "metadata": {
        "id": "g_l7FvT3kn1Q"
      },
      "execution_count": 2305,
      "outputs": []
    },
    {
      "cell_type": "code",
      "source": [
        "chi_support = chi2_features.get_support()"
      ],
      "metadata": {
        "id": "Dj7T8ZJUkoaY"
      },
      "execution_count": 2306,
      "outputs": []
    },
    {
      "cell_type": "code",
      "source": [
        "chi_feature = u1.loc[:,chi_support].columns.tolist()"
      ],
      "metadata": {
        "id": "ogBa4MS7koeK"
      },
      "execution_count": 2307,
      "outputs": []
    },
    {
      "cell_type": "code",
      "source": [
        "chi_feature"
      ],
      "metadata": {
        "colab": {
          "base_uri": "https://localhost:8080/"
        },
        "id": "XjhAwG8Dkohi",
        "outputId": "2fe74603-bb96-42db-86a7-2cedfd7ad630"
      },
      "execution_count": 2308,
      "outputs": [
        {
          "output_type": "execute_result",
          "data": {
            "text/plain": [
              "['accept',\n",
              " 'accepted',\n",
              " 'accomidations',\n",
              " 'accommodated',\n",
              " 'accommodation',\n",
              " 'accomodations',\n",
              " 'according',\n",
              " 'accurate',\n",
              " 'acknowledged',\n",
              " 'acted',\n",
              " 'adding',\n",
              " 'address',\n",
              " 'adult',\n",
              " 'advantage',\n",
              " 'advertises',\n",
              " 'advisor',\n",
              " 'affair',\n",
              " 'affinia',\n",
              " 'affordability',\n",
              " 'agent',\n",
              " 'al',\n",
              " 'alive',\n",
              " 'allegro',\n",
              " 'allergenic',\n",
              " 'allergy',\n",
              " 'alley',\n",
              " 'allowed',\n",
              " 'amazing',\n",
              " 'ambassador',\n",
              " 'amenity',\n",
              " 'angie',\n",
              " 'angry',\n",
              " 'anniversary',\n",
              " 'annoying',\n",
              " 'anthony',\n",
              " 'anybody',\n",
              " 'appointed',\n",
              " 'april',\n",
              " 'architectes',\n",
              " 'arranging',\n",
              " 'ask',\n",
              " 'asleep',\n",
              " 'associate',\n",
              " 'assuming',\n",
              " 'atmosphere',\n",
              " 'attached',\n",
              " 'attack',\n",
              " 'attempted',\n",
              " 'attended',\n",
              " 'attending',\n",
              " 'attraction',\n",
              " 'attractive',\n",
              " 'aug',\n",
              " 'authorization',\n",
              " 'av',\n",
              " 'available',\n",
              " 'ave',\n",
              " 'aveda',\n",
              " 'avenue',\n",
              " 'award',\n",
              " 'aware',\n",
              " 'awful',\n",
              " 'bacon',\n",
              " 'badly',\n",
              " 'baggage',\n",
              " 'bakery',\n",
              " 'ball',\n",
              " 'bar',\n",
              " 'bare',\n",
              " 'bargain',\n",
              " 'barking',\n",
              " 'based',\n",
              " 'basement',\n",
              " 'basil',\n",
              " 'bath',\n",
              " 'bathroom',\n",
              " 'battery',\n",
              " 'beautiful',\n",
              " 'beautifull',\n",
              " 'beautifully',\n",
              " 'beauty',\n",
              " 'beck',\n",
              " 'bed',\n",
              " 'bedbug',\n",
              " 'bell',\n",
              " 'bellman',\n",
              " 'beverage',\n",
              " 'bid',\n",
              " 'bin',\n",
              " 'bistro',\n",
              " 'bit',\n",
              " 'bite',\n",
              " 'bitten',\n",
              " 'bland',\n",
              " 'bldg',\n",
              " 'block',\n",
              " 'boarding',\n",
              " 'boast',\n",
              " 'bolted',\n",
              " 'booked',\n",
              " 'bottle',\n",
              " 'bottled',\n",
              " 'box',\n",
              " 'breakfast',\n",
              " 'breaking',\n",
              " 'breath',\n",
              " 'brick',\n",
              " 'brief',\n",
              " 'bringing',\n",
              " 'broken',\n",
              " 'bubble',\n",
              " 'buffet',\n",
              " 'building',\n",
              " 'burnham',\n",
              " 'burnt',\n",
              " 'bus',\n",
              " 'bust',\n",
              " 'bustle',\n",
              " 'cab',\n",
              " 'cabinet',\n",
              " 'called',\n",
              " 'cam',\n",
              " 'cancel',\n",
              " 'capacity',\n",
              " 'car',\n",
              " 'card',\n",
              " 'cared',\n",
              " 'caring',\n",
              " 'carlton',\n",
              " 'castle',\n",
              " 'casual',\n",
              " 'celebrate',\n",
              " 'celebrated',\n",
              " 'centre',\n",
              " 'chair',\n",
              " 'chance',\n",
              " 'charge',\n",
              " 'charged',\n",
              " 'charm',\n",
              " 'cheesecake',\n",
              " 'chicago',\n",
              " 'child',\n",
              " 'chill',\n",
              " 'chinese',\n",
              " 'christmas',\n",
              " 'christopher',\n",
              " 'cigarette',\n",
              " 'cinema',\n",
              " 'city',\n",
              " 'claimed',\n",
              " 'classy',\n",
              " 'cleaned',\n",
              " 'cleaning',\n",
              " 'cleanliness',\n",
              " 'clerk',\n",
              " 'clientele',\n",
              " 'close',\n",
              " 'closer',\n",
              " 'closet',\n",
              " 'coffee',\n",
              " 'coffeepot',\n",
              " 'cold',\n",
              " 'colder',\n",
              " 'collection',\n",
              " 'color',\n",
              " 'com',\n",
              " 'combination',\n",
              " 'come',\n",
              " 'comforting',\n",
              " 'comfy',\n",
              " 'coming',\n",
              " 'comment',\n",
              " 'commitment',\n",
              " 'comparable',\n",
              " 'compared',\n",
              " 'complaint',\n",
              " 'compliment',\n",
              " 'complimentartry',\n",
              " 'computer',\n",
              " 'con',\n",
              " 'conceirge',\n",
              " 'concierge',\n",
              " 'condo',\n",
              " 'conference',\n",
              " 'confirmed',\n",
              " 'confused',\n",
              " 'consecutive',\n",
              " 'consierge',\n",
              " 'consisted',\n",
              " 'consists',\n",
              " 'construction',\n",
              " 'convenience',\n",
              " 'conveniently',\n",
              " 'convinced',\n",
              " 'cooked',\n",
              " 'cookie',\n",
              " 'cooky',\n",
              " 'cool',\n",
              " 'coordinate',\n",
              " 'corner',\n",
              " 'couch',\n",
              " 'counter',\n",
              " 'cousin',\n",
              " 'covered',\n",
              " 'cramped',\n",
              " 'cranky',\n",
              " 'cream',\n",
              " 'creates',\n",
              " 'credit',\n",
              " 'crib',\n",
              " 'croissant',\n",
              " 'cruise',\n",
              " 'cta',\n",
              " 'cuisine',\n",
              " 'cup',\n",
              " 'currently',\n",
              " 'curry',\n",
              " 'customer',\n",
              " 'cut',\n",
              " 'cutter',\n",
              " 'damn',\n",
              " 'dance',\n",
              " 'danish',\n",
              " 'dated',\n",
              " 'dave',\n",
              " 'dc',\n",
              " 'de',\n",
              " 'deal',\n",
              " 'dear',\n",
              " 'debris',\n",
              " 'dec',\n",
              " 'deceiving',\n",
              " 'december',\n",
              " 'decide',\n",
              " 'decided',\n",
              " 'decision',\n",
              " 'defiantly',\n",
              " 'definite',\n",
              " 'definitely',\n",
              " 'delayed',\n",
              " 'delicious',\n",
              " 'delight',\n",
              " 'delivered',\n",
              " 'demanded',\n",
              " 'design',\n",
              " 'designed',\n",
              " 'designer',\n",
              " 'desperate',\n",
              " 'device',\n",
              " 'die',\n",
              " 'dine',\n",
              " 'dined',\n",
              " 'dining',\n",
              " 'direct',\n",
              " 'directly',\n",
              " 'disappointing',\n",
              " 'disaster',\n",
              " 'display',\n",
              " 'displeased',\n",
              " 'disposal',\n",
              " 'dissappointed',\n",
              " 'dissatisfied',\n",
              " 'distance',\n",
              " 'distasteful',\n",
              " 'division',\n",
              " 'docking',\n",
              " 'doesnt',\n",
              " 'dog',\n",
              " 'donut',\n",
              " 'door',\n",
              " 'doorman',\n",
              " 'downside',\n",
              " 'downtown',\n",
              " 'drain',\n",
              " 'drake',\n",
              " 'dream',\n",
              " 'drink',\n",
              " 'driving',\n",
              " 'eager',\n",
              " 'early',\n",
              " 'earth',\n",
              " 'east',\n",
              " 'efficient',\n",
              " 'el',\n",
              " 'elegant',\n",
              " 'elevator',\n",
              " 'eliminated',\n",
              " 'elite',\n",
              " 'email',\n",
              " 'enjoy',\n",
              " 'enjoyable',\n",
              " 'enjoyed',\n",
              " 'entered',\n",
              " 'entering',\n",
              " 'entertainment',\n",
              " 'entirely',\n",
              " 'entree',\n",
              " 'environment',\n",
              " 'establishment',\n",
              " 'etc',\n",
              " 'european',\n",
              " 'eve',\n",
              " 'evening',\n",
              " 'excellent',\n",
              " 'exceptional',\n",
              " 'excited',\n",
              " 'exciting',\n",
              " 'excuse',\n",
              " 'exhaust',\n",
              " 'exhibit',\n",
              " 'exited',\n",
              " 'exotic',\n",
              " 'expected',\n",
              " 'expecting',\n",
              " 'expedia',\n",
              " 'experience',\n",
              " 'experince',\n",
              " 'exposed',\n",
              " 'exquisite',\n",
              " 'extensively',\n",
              " 'extravagant',\n",
              " 'faboulous',\n",
              " 'facing',\n",
              " 'factory',\n",
              " 'fallen',\n",
              " 'family',\n",
              " 'famous',\n",
              " 'fan',\n",
              " 'fancy',\n",
              " 'far',\n",
              " 'father',\n",
              " 'fault',\n",
              " 'favorite',\n",
              " 'favourite',\n",
              " 'feature',\n",
              " 'february',\n",
              " 'feel',\n",
              " 'felt',\n",
              " 'festival',\n",
              " 'fiancee',\n",
              " 'field',\n",
              " 'figure',\n",
              " 'file',\n",
              " 'fin',\n",
              " 'finally',\n",
              " 'finest',\n",
              " 'finished',\n",
              " 'firework',\n",
              " 'firstly',\n",
              " 'fitness',\n",
              " 'fitzpatrick',\n",
              " 'flooded',\n",
              " 'flooding',\n",
              " 'floor',\n",
              " 'flower',\n",
              " 'focus',\n",
              " 'followed',\n",
              " 'food',\n",
              " 'forever',\n",
              " 'forward',\n",
              " 'fowl',\n",
              " 'francisco',\n",
              " 'free',\n",
              " 'fridge',\n",
              " 'friendliness',\n",
              " 'fruit',\n",
              " 'ft',\n",
              " 'fully',\n",
              " 'funky',\n",
              " 'futon',\n",
              " 'gem',\n",
              " 'generally',\n",
              " 'genuine',\n",
              " 'gift',\n",
              " 'gino',\n",
              " 'glowing',\n",
              " 'golden',\n",
              " 'goldfish',\n",
              " 'good',\n",
              " 'goody',\n",
              " 'gorgeous',\n",
              " 'grade',\n",
              " 'grand',\n",
              " 'gratuity',\n",
              " 'grease',\n",
              " 'great',\n",
              " 'greeted',\n",
              " 'grooming',\n",
              " 'grout',\n",
              " 'guaranteed',\n",
              " 'guy',\n",
              " 'hair',\n",
              " 'hallway',\n",
              " 'hancock',\n",
              " 'handicapped',\n",
              " 'hanger',\n",
              " 'happened',\n",
              " 'hard',\n",
              " 'hare',\n",
              " 'hassle',\n",
              " 'hated',\n",
              " 'hear',\n",
              " 'heart',\n",
              " 'heat',\n",
              " 'heated',\n",
              " 'heaven',\n",
              " 'heavenly',\n",
              " 'helped',\n",
              " 'helpful',\n",
              " 'helping',\n",
              " 'hesitate',\n",
              " 'hesitation',\n",
              " 'highest',\n",
              " 'highway',\n",
              " 'hilton',\n",
              " 'historic',\n",
              " 'hit',\n",
              " 'hold',\n",
              " 'holder',\n",
              " 'home',\n",
              " 'homewood',\n",
              " 'honest',\n",
              " 'honeymoon',\n",
              " 'honor',\n",
              " 'hope',\n",
              " 'hoped',\n",
              " 'horrible',\n",
              " 'hors',\n",
              " 'hotel',\n",
              " 'hotwire',\n",
              " 'hour',\n",
              " 'housekeeping',\n",
              " 'hr',\n",
              " 'huge',\n",
              " 'husband',\n",
              " 'hustle',\n",
              " 'hvac',\n",
              " 'hypo',\n",
              " 'ice',\n",
              " 'impecable',\n",
              " 'impeccably',\n",
              " 'impersonal',\n",
              " 'impress',\n",
              " 'improve',\n",
              " 'improvement',\n",
              " 'inconvenient',\n",
              " 'incorrect',\n",
              " 'indoor',\n",
              " 'indoors',\n",
              " 'inn',\n",
              " 'inside',\n",
              " 'insisting',\n",
              " 'instance',\n",
              " 'intended',\n",
              " 'interior',\n",
              " 'international',\n",
              " 'interview',\n",
              " 'irritated',\n",
              " 'james',\n",
              " 'january',\n",
              " 'jaw',\n",
              " 'jet',\n",
              " 'jewel',\n",
              " 'joe',\n",
              " 'john',\n",
              " 'juice',\n",
              " 'july',\n",
              " 'jumping',\n",
              " 'june',\n",
              " 'keefer',\n",
              " 'kickback',\n",
              " 'kid',\n",
              " 'kimpton',\n",
              " 'kimptons',\n",
              " 'kind',\n",
              " 'kit',\n",
              " 'kitchenette',\n",
              " 'knickerbocker',\n",
              " 'knocking',\n",
              " 'known',\n",
              " 'la',\n",
              " 'lake',\n",
              " 'laptop',\n",
              " 'large',\n",
              " 'larger',\n",
              " 'largest',\n",
              " 'laundry',\n",
              " 'lavish',\n",
              " 'law',\n",
              " 'leaked',\n",
              " 'leave',\n",
              " 'lend',\n",
              " 'lid',\n",
              " 'life',\n",
              " 'lift',\n",
              " 'lightbulb',\n",
              " 'like',\n",
              " 'line',\n",
              " 'linnens',\n",
              " 'lite',\n",
              " 'little',\n",
              " 'load',\n",
              " 'lobby',\n",
              " 'local',\n",
              " 'located',\n",
              " 'location',\n",
              " 'lockwood',\n",
              " 'logo',\n",
              " 'london',\n",
              " 'long',\n",
              " 'look',\n",
              " 'looked',\n",
              " 'looking',\n",
              " 'loop',\n",
              " 'los',\n",
              " 'lot',\n",
              " 'lovely',\n",
              " 'low',\n",
              " 'lower',\n",
              " 'loyalty',\n",
              " 'luxuary',\n",
              " 'luxurious',\n",
              " 'luxury',\n",
              " 'macys',\n",
              " 'mad',\n",
              " 'magnificant',\n",
              " 'mail',\n",
              " 'main',\n",
              " 'maker',\n",
              " 'mall',\n",
              " 'manager',\n",
              " 'march',\n",
              " 'married',\n",
              " 'marriott',\n",
              " 'martini',\n",
              " 'massage',\n",
              " 'material',\n",
              " 'meal',\n",
              " 'meeting',\n",
              " 'membership',\n",
              " 'memorial',\n",
              " 'memory',\n",
              " 'mention',\n",
              " 'mentioned',\n",
              " 'met',\n",
              " 'metro',\n",
              " 'michigan',\n",
              " 'midway',\n",
              " 'mile',\n",
              " 'millenium',\n",
              " 'millennium',\n",
              " 'min',\n",
              " 'mini',\n",
              " 'minibar',\n",
              " 'moderate',\n",
              " 'modern',\n",
              " 'moment',\n",
              " 'mon',\n",
              " 'money',\n",
              " 'monoco',\n",
              " 'mood',\n",
              " 'morning',\n",
              " 'motel',\n",
              " 'musical',\n",
              " 'musty',\n",
              " 'narrow',\n",
              " 'navy',\n",
              " 'nbc',\n",
              " 'nd',\n",
              " 'neat',\n",
              " 'needed',\n",
              " 'needle',\n",
              " 'negative',\n",
              " 'neighborhood',\n",
              " 'newly',\n",
              " 'news',\n",
              " 'night',\n",
              " 'nightmare',\n",
              " 'nite',\n",
              " 'noisy',\n",
              " 'nominal',\n",
              " 'nook',\n",
              " 'nordstrom',\n",
              " 'north',\n",
              " 'note',\n",
              " 'noted',\n",
              " 'november',\n",
              " 'nyc',\n",
              " 'obvious',\n",
              " 'ocean',\n",
              " 'october',\n",
              " 'oddly',\n",
              " 'odor',\n",
              " 'offer',\n",
              " 'oh',\n",
              " 'ok',\n",
              " 'okay',\n",
              " 'old',\n",
              " 'older',\n",
              " 'open',\n",
              " 'opening',\n",
              " 'operating',\n",
              " 'operator',\n",
              " 'orange',\n",
              " 'organized',\n",
              " 'orginal',\n",
              " 'originally',\n",
              " 'ouch',\n",
              " 'outrageous',\n",
              " 'outrageously',\n",
              " 'oven',\n",
              " 'overall',\n",
              " 'package',\n",
              " 'packing',\n",
              " 'paid',\n",
              " 'painted',\n",
              " 'pamper',\n",
              " 'pampered',\n",
              " 'pantry',\n",
              " 'paris',\n",
              " 'parking',\n",
              " 'pas',\n",
              " 'peaceful',\n",
              " 'peeling',\n",
              " 'pen',\n",
              " 'peninsula',\n",
              " 'penninsula',\n",
              " 'perfection',\n",
              " 'perfectly',\n",
              " 'personal',\n",
              " 'pet',\n",
              " 'phone',\n",
              " 'picture',\n",
              " 'pictured',\n",
              " 'pipe',\n",
              " 'place',\n",
              " 'planned',\n",
              " 'planner',\n",
              " 'planning',\n",
              " 'plate',\n",
              " 'plenty',\n",
              " 'plush',\n",
              " 'pm',\n",
              " 'pocket',\n",
              " 'policy',\n",
              " 'pop',\n",
              " 'portray',\n",
              " 'portrayed',\n",
              " 'position',\n",
              " 'post',\n",
              " 'poster',\n",
              " 'practice',\n",
              " 'pre',\n",
              " 'prepare',\n",
              " 'presence',\n",
              " 'presidential',\n",
              " 'previous',\n",
              " 'priceline',\n",
              " 'print',\n",
              " 'printing',\n",
              " 'prior',\n",
              " 'prison',\n",
              " 'pro',\n",
              " 'product',\n",
              " 'professionally',\n",
              " 'program',\n",
              " 'property',\n",
              " 'provide',\n",
              " 'public',\n",
              " 'pull',\n",
              " 'pure',\n",
              " 'pushy',\n",
              " 'quiet',\n",
              " 'radio',\n",
              " 'rain',\n",
              " 'rate',\n",
              " 'rd',\n",
              " 'read',\n",
              " 'reading',\n",
              " 'ready',\n",
              " 'reality',\n",
              " 'realy',\n",
              " 'recent',\n",
              " 'recently',\n",
              " 'reception',\n",
              " 'recomend',\n",
              " 'recommend',\n",
              " 'recommending',\n",
              " 'reconsider',\n",
              " 'red',\n",
              " 'redecorated',\n",
              " 'redecorating',\n",
              " 'refund',\n",
              " 'refurbished',\n",
              " 'refused',\n",
              " 'regardless',\n",
              " 'regency',\n",
              " 'register',\n",
              " 'registration',\n",
              " 'regret',\n",
              " 'relax',\n",
              " 'relaxed',\n",
              " 'relaxing',\n",
              " 'relieved',\n",
              " 'removed',\n",
              " 'renovated',\n",
              " 'renovation',\n",
              " 'rental',\n",
              " 'repair',\n",
              " 'representation',\n",
              " 'research',\n",
              " 'reserved',\n",
              " 'respect',\n",
              " 'respectful',\n",
              " 'respond',\n",
              " 'rested',\n",
              " 'resturants',\n",
              " 'retreat',\n",
              " 'returned',\n",
              " 'returning',\n",
              " 'reunion',\n",
              " 'revealed',\n",
              " 'review',\n",
              " 'reviewer',\n",
              " 'rex',\n",
              " 'rich',\n",
              " 'ride',\n",
              " 'ritz',\n",
              " 'ritzy',\n",
              " 'river',\n",
              " 'robe',\n",
              " 'rock',\n",
              " 'roll',\n",
              " 'rollaway',\n",
              " 'romance',\n",
              " 'romantic',\n",
              " 'roof',\n",
              " 'roomy',\n",
              " 'rose',\n",
              " 'royalty',\n",
              " 'rude',\n",
              " 'running',\n",
              " 'rush',\n",
              " 'sale',\n",
              " 'sample',\n",
              " 'satisfaction',\n",
              " 'satisfied',\n",
              " 'saturday',\n",
              " 'scene',\n",
              " 'scenery',\n",
              " 'scored',\n",
              " 'scratchy',\n",
              " 'season',\n",
              " 'seat',\n",
              " 'seating',\n",
              " 'second',\n",
              " 'section',\n",
              " 'security',\n",
              " 'seeing',\n",
              " 'self',\n",
              " 'seminar',\n",
              " 'sensibility',\n",
              " 'separate',\n",
              " 'seperate',\n",
              " 'serenity',\n",
              " 'serf',\n",
              " 'service',\n",
              " 'serving',\n",
              " 'settle',\n",
              " 'settled',\n",
              " 'settling',\n",
              " 'setup',\n",
              " 'shabby',\n",
              " 'shared',\n",
              " 'sharing',\n",
              " 'shedd',\n",
              " 'sheet',\n",
              " 'shower',\n",
              " 'shown',\n",
              " 'sidewalk',\n",
              " 'sightseeing',\n",
              " 'signal',\n",
              " 'signing',\n",
              " 'siren',\n",
              " 'sit',\n",
              " 'sky',\n",
              " 'skyline',\n",
              " 'slam',\n",
              " 'slamming',\n",
              " 'sliding',\n",
              " 'slightly',\n",
              " 'small',\n",
              " 'smallest',\n",
              " 'smell',\n",
              " 'smelled',\n",
              " 'smelling',\n",
              " 'smoke',\n",
              " 'smoking',\n",
              " 'snobby',\n",
              " 'snooty',\n",
              " 'snow',\n",
              " 'snubbed',\n",
              " 'soda',\n",
              " 'sofa',\n",
              " 'sofitel',\n",
              " 'soft',\n",
              " 'sold',\n",
              " 'soldier',\n",
              " 'solution',\n",
              " 'soon',\n",
              " 'sophisticated',\n",
              " 'sophistication',\n",
              " 'sorely',\n",
              " 'south',\n",
              " 'spa',\n",
              " 'space',\n",
              " 'speed',\n",
              " 'spend',\n",
              " 'spg',\n",
              " 'splurge',\n",
              " 'spoon',\n",
              " 'sport',\n",
              " 'spot',\n",
              " 'spotlessly',\n",
              " 'st',\n",
              " 'stale',\n",
              " 'stall',\n",
              " 'stark',\n",
              " 'started',\n",
              " 'starving',\n",
              " 'starwood',\n",
              " 'stated',\n",
              " 'stating',\n",
              " 'station',\n",
              " 'staying',\n",
              " 'steak',\n",
              " 'steal',\n",
              " 'stephanie',\n",
              " 'stepping',\n",
              " 'sterile',\n",
              " 'stiff',\n",
              " 'stolen',\n",
              " 'storage',\n",
              " 'street',\n",
              " 'stress',\n",
              " 'striking',\n",
              " 'structure',\n",
              " 'study',\n",
              " 'subpar',\n",
              " 'subway',\n",
              " 'suggest',\n",
              " 'sun',\n",
              " 'sunday',\n",
              " 'sundecks',\n",
              " 'supplied',\n",
              " 'surely',\n",
              " 'surrounding',\n",
              " 'sushi',\n",
              " 'suspect',\n",
              " 'sutton',\n",
              " 'swept',\n",
              " 'swisshotel',\n",
              " 'ta',\n",
              " 'table',\n",
              " 'talking',\n",
              " 'tasteful',\n",
              " 'tax',\n",
              " 'television',\n",
              " 'telling',\n",
              " 'temp',\n",
              " 'terrible',\n",
              " 'terrific',\n",
              " 'test',\n",
              " 'texting',\n",
              " 'thanksgiving',\n",
              " 'thats',\n",
              " 'theater',\n",
              " 'therapy',\n",
              " 'threw',\n",
              " 'thumb',\n",
              " 'ticket',\n",
              " 'tile',\n",
              " 'time',\n",
              " 'tiny',\n",
              " 'toast',\n",
              " 'today',\n",
              " 'ton',\n",
              " 'took',\n",
              " 'topped',\n",
              " 'touch',\n",
              " 'tough',\n",
              " 'tout',\n",
              " 'touted',\n",
              " 'towel',\n",
              " 'traffic',\n",
              " 'train',\n",
              " 'trained',\n",
              " 'trait',\n",
              " 'transferred',\n",
              " 'transport',\n",
              " 'transportation',\n",
              " 'trash',\n",
              " 'traveling',\n",
              " 'travelled',\n",
              " 'travelzoo',\n",
              " 'treat',\n",
              " 'treated',\n",
              " 'treatment',\n",
              " 'tribune',\n",
              " 'trip',\n",
              " 'tripadvisor',\n",
              " 'trolley',\n",
              " 'trump',\n",
              " 'tub',\n",
              " 'tucked',\n",
              " 'turndown',\n",
              " 'turned',\n",
              " 'tv',\n",
              " 'ultimately',\n",
              " 'umbrella',\n",
              " 'unaccommodating',\n",
              " 'undergoing',\n",
              " 'underneath',\n",
              " 'unfailingly',\n",
              " 'unfriendly',\n",
              " 'union',\n",
              " 'unpleasant',\n",
              " 'unsatisfied',\n",
              " 'unwind',\n",
              " 'upcharge',\n",
              " 'upcoming',\n",
              " 'updated',\n",
              " 'updating',\n",
              " 'upgrade',\n",
              " 'upgraded',\n",
              " 'upmost',\n",
              " 'upscale',\n",
              " 'upside',\n",
              " 'urine',\n",
              " 'usa',\n",
              " 'usd',\n",
              " 'utmost',\n",
              " 'vacation',\n",
              " 'vacuum',\n",
              " 'valentine',\n",
              " 'valet',\n",
              " 'valuable',\n",
              " 'value',\n",
              " 'valued',\n",
              " 'veggie',\n",
              " 'vent',\n",
              " 'verify',\n",
              " 'vicinity',\n",
              " 'virtually',\n",
              " 'visit',\n",
              " 'visited',\n",
              " 'visiting',\n",
              " 'vomit',\n",
              " 'wacker',\n",
              " 'wait',\n",
              " 'waived',\n",
              " 'wake',\n",
              " 'walk',\n",
              " 'walkable',\n",
              " 'walking',\n",
              " 'wall',\n",
              " 'wallpaper',\n",
              " 'wander',\n",
              " 'wanted',\n",
              " 'washington',\n",
              " 'waste',\n",
              " 'water',\n",
              " 'waterfront',\n",
              " 'watertower',\n",
              " 'wear',\n",
              " 'website',\n",
              " 'wedding',\n",
              " 'went',\n",
              " 'westin',\n",
              " 'white',\n",
              " 'wicked',\n",
              " 'wife',\n",
              " 'window',\n",
              " 'windy',\n",
              " 'winning',\n",
              " 'winter',\n",
              " 'wishing',\n",
              " 'worn',\n",
              " 'worry',\n",
              " 'worst',\n",
              " 'wouldnt',\n",
              " 'wrigley',\n",
              " 'wrong',\n",
              " 'wrote',\n",
              " 'year',\n",
              " 'yellow',\n",
              " 'yes',\n",
              " 'young',\n",
              " 'yummy',\n",
              " 'zone']"
            ]
          },
          "metadata": {},
          "execution_count": 2308
        }
      ]
    },
    {
      "cell_type": "code",
      "source": [
        "X_kbest_features"
      ],
      "metadata": {
        "colab": {
          "base_uri": "https://localhost:8080/"
        },
        "id": "VDuFA-T1koke",
        "outputId": "6135be47-c01c-45b9-821f-a1bb2a56536f"
      },
      "execution_count": 2309,
      "outputs": [
        {
          "output_type": "execute_result",
          "data": {
            "text/plain": [
              "array([[0., 0., 0., ..., 0., 0., 0.],\n",
              "       [0., 0., 0., ..., 0., 0., 0.],\n",
              "       [0., 0., 0., ..., 0., 0., 0.],\n",
              "       ...,\n",
              "       [0., 0., 0., ..., 0., 0., 0.],\n",
              "       [0., 0., 0., ..., 0., 0., 0.],\n",
              "       [0., 0., 0., ..., 0., 0., 0.]])"
            ]
          },
          "metadata": {},
          "execution_count": 2309
        }
      ]
    },
    {
      "cell_type": "code",
      "source": [
        "u3 = pd.DataFrame(X_kbest_features, columns = chi_feature)\n",
        "u3.head()"
      ],
      "metadata": {
        "colab": {
          "base_uri": "https://localhost:8080/",
          "height": 299
        },
        "id": "059iYhdmkooB",
        "outputId": "0002094c-77a2-47cb-eb0c-29e96064a1c1"
      },
      "execution_count": 2310,
      "outputs": [
        {
          "output_type": "execute_result",
          "data": {
            "text/plain": [
              "   accept  accepted  accomidations  accommodated  accommodation  \\\n",
              "0     0.0       0.0            0.0           0.0            0.0   \n",
              "1     0.0       0.0            0.0           0.0            0.0   \n",
              "2     0.0       0.0            0.0           0.0            0.0   \n",
              "3     0.0       0.0            0.0           0.0            0.0   \n",
              "4     0.0       0.0            0.0           0.0            0.0   \n",
              "\n",
              "   accomodations  according  accurate  acknowledged  acted  ...  wouldnt  \\\n",
              "0            0.0        0.0       0.0           0.0    0.0  ...      0.0   \n",
              "1            0.0        0.0       0.0           0.0    0.0  ...      0.0   \n",
              "2            0.0        0.0       0.0           0.0    0.0  ...      0.0   \n",
              "3            0.0        0.0       0.0           0.0    0.0  ...      0.0   \n",
              "4            0.0        0.0       0.0           0.0    0.0  ...      0.0   \n",
              "\n",
              "    wrigley  wrong  wrote  year  yellow  yes  young  yummy  zone  \n",
              "0  0.000000    0.0    0.0   0.0     0.0  0.0    0.0    0.0   0.0  \n",
              "1  0.247551    0.0    0.0   0.0     0.0  0.0    0.0    0.0   0.0  \n",
              "2  0.000000    0.0    0.0   0.0     0.0  0.0    0.0    0.0   0.0  \n",
              "3  0.000000    0.0    0.0   0.0     0.0  0.0    0.0    0.0   0.0  \n",
              "4  0.000000    0.0    0.0   0.0     0.0  0.0    0.0    0.0   0.0  \n",
              "\n",
              "[5 rows x 1000 columns]"
            ],
            "text/html": [
              "\n",
              "  <div id=\"df-48df29cf-6bad-4784-96a9-8159644d6614\">\n",
              "    <div class=\"colab-df-container\">\n",
              "      <div>\n",
              "<style scoped>\n",
              "    .dataframe tbody tr th:only-of-type {\n",
              "        vertical-align: middle;\n",
              "    }\n",
              "\n",
              "    .dataframe tbody tr th {\n",
              "        vertical-align: top;\n",
              "    }\n",
              "\n",
              "    .dataframe thead th {\n",
              "        text-align: right;\n",
              "    }\n",
              "</style>\n",
              "<table border=\"1\" class=\"dataframe\">\n",
              "  <thead>\n",
              "    <tr style=\"text-align: right;\">\n",
              "      <th></th>\n",
              "      <th>accept</th>\n",
              "      <th>accepted</th>\n",
              "      <th>accomidations</th>\n",
              "      <th>accommodated</th>\n",
              "      <th>accommodation</th>\n",
              "      <th>accomodations</th>\n",
              "      <th>according</th>\n",
              "      <th>accurate</th>\n",
              "      <th>acknowledged</th>\n",
              "      <th>acted</th>\n",
              "      <th>...</th>\n",
              "      <th>wouldnt</th>\n",
              "      <th>wrigley</th>\n",
              "      <th>wrong</th>\n",
              "      <th>wrote</th>\n",
              "      <th>year</th>\n",
              "      <th>yellow</th>\n",
              "      <th>yes</th>\n",
              "      <th>young</th>\n",
              "      <th>yummy</th>\n",
              "      <th>zone</th>\n",
              "    </tr>\n",
              "  </thead>\n",
              "  <tbody>\n",
              "    <tr>\n",
              "      <th>0</th>\n",
              "      <td>0.0</td>\n",
              "      <td>0.0</td>\n",
              "      <td>0.0</td>\n",
              "      <td>0.0</td>\n",
              "      <td>0.0</td>\n",
              "      <td>0.0</td>\n",
              "      <td>0.0</td>\n",
              "      <td>0.0</td>\n",
              "      <td>0.0</td>\n",
              "      <td>0.0</td>\n",
              "      <td>...</td>\n",
              "      <td>0.0</td>\n",
              "      <td>0.000000</td>\n",
              "      <td>0.0</td>\n",
              "      <td>0.0</td>\n",
              "      <td>0.0</td>\n",
              "      <td>0.0</td>\n",
              "      <td>0.0</td>\n",
              "      <td>0.0</td>\n",
              "      <td>0.0</td>\n",
              "      <td>0.0</td>\n",
              "    </tr>\n",
              "    <tr>\n",
              "      <th>1</th>\n",
              "      <td>0.0</td>\n",
              "      <td>0.0</td>\n",
              "      <td>0.0</td>\n",
              "      <td>0.0</td>\n",
              "      <td>0.0</td>\n",
              "      <td>0.0</td>\n",
              "      <td>0.0</td>\n",
              "      <td>0.0</td>\n",
              "      <td>0.0</td>\n",
              "      <td>0.0</td>\n",
              "      <td>...</td>\n",
              "      <td>0.0</td>\n",
              "      <td>0.247551</td>\n",
              "      <td>0.0</td>\n",
              "      <td>0.0</td>\n",
              "      <td>0.0</td>\n",
              "      <td>0.0</td>\n",
              "      <td>0.0</td>\n",
              "      <td>0.0</td>\n",
              "      <td>0.0</td>\n",
              "      <td>0.0</td>\n",
              "    </tr>\n",
              "    <tr>\n",
              "      <th>2</th>\n",
              "      <td>0.0</td>\n",
              "      <td>0.0</td>\n",
              "      <td>0.0</td>\n",
              "      <td>0.0</td>\n",
              "      <td>0.0</td>\n",
              "      <td>0.0</td>\n",
              "      <td>0.0</td>\n",
              "      <td>0.0</td>\n",
              "      <td>0.0</td>\n",
              "      <td>0.0</td>\n",
              "      <td>...</td>\n",
              "      <td>0.0</td>\n",
              "      <td>0.000000</td>\n",
              "      <td>0.0</td>\n",
              "      <td>0.0</td>\n",
              "      <td>0.0</td>\n",
              "      <td>0.0</td>\n",
              "      <td>0.0</td>\n",
              "      <td>0.0</td>\n",
              "      <td>0.0</td>\n",
              "      <td>0.0</td>\n",
              "    </tr>\n",
              "    <tr>\n",
              "      <th>3</th>\n",
              "      <td>0.0</td>\n",
              "      <td>0.0</td>\n",
              "      <td>0.0</td>\n",
              "      <td>0.0</td>\n",
              "      <td>0.0</td>\n",
              "      <td>0.0</td>\n",
              "      <td>0.0</td>\n",
              "      <td>0.0</td>\n",
              "      <td>0.0</td>\n",
              "      <td>0.0</td>\n",
              "      <td>...</td>\n",
              "      <td>0.0</td>\n",
              "      <td>0.000000</td>\n",
              "      <td>0.0</td>\n",
              "      <td>0.0</td>\n",
              "      <td>0.0</td>\n",
              "      <td>0.0</td>\n",
              "      <td>0.0</td>\n",
              "      <td>0.0</td>\n",
              "      <td>0.0</td>\n",
              "      <td>0.0</td>\n",
              "    </tr>\n",
              "    <tr>\n",
              "      <th>4</th>\n",
              "      <td>0.0</td>\n",
              "      <td>0.0</td>\n",
              "      <td>0.0</td>\n",
              "      <td>0.0</td>\n",
              "      <td>0.0</td>\n",
              "      <td>0.0</td>\n",
              "      <td>0.0</td>\n",
              "      <td>0.0</td>\n",
              "      <td>0.0</td>\n",
              "      <td>0.0</td>\n",
              "      <td>...</td>\n",
              "      <td>0.0</td>\n",
              "      <td>0.000000</td>\n",
              "      <td>0.0</td>\n",
              "      <td>0.0</td>\n",
              "      <td>0.0</td>\n",
              "      <td>0.0</td>\n",
              "      <td>0.0</td>\n",
              "      <td>0.0</td>\n",
              "      <td>0.0</td>\n",
              "      <td>0.0</td>\n",
              "    </tr>\n",
              "  </tbody>\n",
              "</table>\n",
              "<p>5 rows × 1000 columns</p>\n",
              "</div>\n",
              "      <button class=\"colab-df-convert\" onclick=\"convertToInteractive('df-48df29cf-6bad-4784-96a9-8159644d6614')\"\n",
              "              title=\"Convert this dataframe to an interactive table.\"\n",
              "              style=\"display:none;\">\n",
              "        \n",
              "  <svg xmlns=\"http://www.w3.org/2000/svg\" height=\"24px\"viewBox=\"0 0 24 24\"\n",
              "       width=\"24px\">\n",
              "    <path d=\"M0 0h24v24H0V0z\" fill=\"none\"/>\n",
              "    <path d=\"M18.56 5.44l.94 2.06.94-2.06 2.06-.94-2.06-.94-.94-2.06-.94 2.06-2.06.94zm-11 1L8.5 8.5l.94-2.06 2.06-.94-2.06-.94L8.5 2.5l-.94 2.06-2.06.94zm10 10l.94 2.06.94-2.06 2.06-.94-2.06-.94-.94-2.06-.94 2.06-2.06.94z\"/><path d=\"M17.41 7.96l-1.37-1.37c-.4-.4-.92-.59-1.43-.59-.52 0-1.04.2-1.43.59L10.3 9.45l-7.72 7.72c-.78.78-.78 2.05 0 2.83L4 21.41c.39.39.9.59 1.41.59.51 0 1.02-.2 1.41-.59l7.78-7.78 2.81-2.81c.8-.78.8-2.07 0-2.86zM5.41 20L4 18.59l7.72-7.72 1.47 1.35L5.41 20z\"/>\n",
              "  </svg>\n",
              "      </button>\n",
              "      \n",
              "  <style>\n",
              "    .colab-df-container {\n",
              "      display:flex;\n",
              "      flex-wrap:wrap;\n",
              "      gap: 12px;\n",
              "    }\n",
              "\n",
              "    .colab-df-convert {\n",
              "      background-color: #E8F0FE;\n",
              "      border: none;\n",
              "      border-radius: 50%;\n",
              "      cursor: pointer;\n",
              "      display: none;\n",
              "      fill: #1967D2;\n",
              "      height: 32px;\n",
              "      padding: 0 0 0 0;\n",
              "      width: 32px;\n",
              "    }\n",
              "\n",
              "    .colab-df-convert:hover {\n",
              "      background-color: #E2EBFA;\n",
              "      box-shadow: 0px 1px 2px rgba(60, 64, 67, 0.3), 0px 1px 3px 1px rgba(60, 64, 67, 0.15);\n",
              "      fill: #174EA6;\n",
              "    }\n",
              "\n",
              "    [theme=dark] .colab-df-convert {\n",
              "      background-color: #3B4455;\n",
              "      fill: #D2E3FC;\n",
              "    }\n",
              "\n",
              "    [theme=dark] .colab-df-convert:hover {\n",
              "      background-color: #434B5C;\n",
              "      box-shadow: 0px 1px 3px 1px rgba(0, 0, 0, 0.15);\n",
              "      filter: drop-shadow(0px 1px 2px rgba(0, 0, 0, 0.3));\n",
              "      fill: #FFFFFF;\n",
              "    }\n",
              "  </style>\n",
              "\n",
              "      <script>\n",
              "        const buttonEl =\n",
              "          document.querySelector('#df-48df29cf-6bad-4784-96a9-8159644d6614 button.colab-df-convert');\n",
              "        buttonEl.style.display =\n",
              "          google.colab.kernel.accessAllowed ? 'block' : 'none';\n",
              "\n",
              "        async function convertToInteractive(key) {\n",
              "          const element = document.querySelector('#df-48df29cf-6bad-4784-96a9-8159644d6614');\n",
              "          const dataTable =\n",
              "            await google.colab.kernel.invokeFunction('convertToInteractive',\n",
              "                                                     [key], {});\n",
              "          if (!dataTable) return;\n",
              "\n",
              "          const docLinkHtml = 'Like what you see? Visit the ' +\n",
              "            '<a target=\"_blank\" href=https://colab.research.google.com/notebooks/data_table.ipynb>data table notebook</a>'\n",
              "            + ' to learn more about interactive tables.';\n",
              "          element.innerHTML = '';\n",
              "          dataTable['output_type'] = 'display_data';\n",
              "          await google.colab.output.renderOutput(dataTable, element);\n",
              "          const docLink = document.createElement('div');\n",
              "          docLink.innerHTML = docLinkHtml;\n",
              "          element.appendChild(docLink);\n",
              "        }\n",
              "      </script>\n",
              "    </div>\n",
              "  </div>\n",
              "  "
            ]
          },
          "metadata": {},
          "execution_count": 2310
        }
      ]
    },
    {
      "cell_type": "code",
      "source": [
        "# SOURCE : https://github.com/dmlc/dgl/issues/3364\n",
        "src, dst = np.nonzero(X_kbest_features)"
      ],
      "metadata": {
        "id": "P6OeMUnQZsrN"
      },
      "execution_count": 2311,
      "outputs": []
    },
    {
      "cell_type": "code",
      "source": [
        "src"
      ],
      "metadata": {
        "colab": {
          "base_uri": "https://localhost:8080/"
        },
        "id": "o9mbiGeJargk",
        "outputId": "e5b24c97-78e1-4e66-cb65-acf5188badbc"
      },
      "execution_count": 2312,
      "outputs": [
        {
          "output_type": "execute_result",
          "data": {
            "text/plain": [
              "array([   0,    0,    0, ..., 1599, 1599, 1599])"
            ]
          },
          "metadata": {},
          "execution_count": 2312
        }
      ]
    },
    {
      "cell_type": "code",
      "source": [
        "dst"
      ],
      "metadata": {
        "colab": {
          "base_uri": "https://localhost:8080/"
        },
        "id": "ftpsumT5ataU",
        "outputId": "45764c2f-d505-460f-ab1d-015acaca4cd4"
      },
      "execution_count": 2313,
      "outputs": [
        {
          "output_type": "execute_result",
          "data": {
            "text/plain": [
              "array([ 75, 103, 140, ..., 882, 893, 968])"
            ]
          },
          "metadata": {},
          "execution_count": 2313
        }
      ]
    },
    {
      "cell_type": "code",
      "source": [
        "g = dgl.graph((src, dst))"
      ],
      "metadata": {
        "id": "586xOg_vZvs8"
      },
      "execution_count": 2314,
      "outputs": []
    },
    {
      "cell_type": "code",
      "source": [
        "#g.ndata\n",
        "g.ndata['feat'] = torch.tensor(X_kbest_features)\n",
        "g.ndata['feat'] "
      ],
      "metadata": {
        "colab": {
          "base_uri": "https://localhost:8080/"
        },
        "id": "PJAJEsbkFd4I",
        "outputId": "6d271fcc-abb8-4e7f-b4f7-5de5f37bae3d"
      },
      "execution_count": 2315,
      "outputs": [
        {
          "output_type": "execute_result",
          "data": {
            "text/plain": [
              "tensor([[0., 0., 0.,  ..., 0., 0., 0.],\n",
              "        [0., 0., 0.,  ..., 0., 0., 0.],\n",
              "        [0., 0., 0.,  ..., 0., 0., 0.],\n",
              "        ...,\n",
              "        [0., 0., 0.,  ..., 0., 0., 0.],\n",
              "        [0., 0., 0.,  ..., 0., 0., 0.],\n",
              "        [0., 0., 0.,  ..., 0., 0., 0.]], dtype=torch.float64)"
            ]
          },
          "metadata": {},
          "execution_count": 2315
        }
      ]
    },
    {
      "cell_type": "code",
      "source": [
        "n_nodes = g.num_nodes()\n",
        "n_nodes"
      ],
      "metadata": {
        "colab": {
          "base_uri": "https://localhost:8080/"
        },
        "id": "1sx5KTl9PYUe",
        "outputId": "e502649b-ccb9-4daa-f7b7-26596c413d7d"
      },
      "execution_count": 2316,
      "outputs": [
        {
          "output_type": "execute_result",
          "data": {
            "text/plain": [
              "1600"
            ]
          },
          "metadata": {},
          "execution_count": 2316
        }
      ]
    },
    {
      "cell_type": "code",
      "source": [
        "nodes = g.nodes()\n",
        "nodes"
      ],
      "metadata": {
        "colab": {
          "base_uri": "https://localhost:8080/"
        },
        "id": "X966_YkOPYWw",
        "outputId": "17203b45-6c87-442c-c03f-3a0baebebcc4"
      },
      "execution_count": 2317,
      "outputs": [
        {
          "output_type": "execute_result",
          "data": {
            "text/plain": [
              "tensor([   0,    1,    2,  ..., 1597, 1598, 1599])"
            ]
          },
          "metadata": {},
          "execution_count": 2317
        }
      ]
    },
    {
      "cell_type": "code",
      "source": [
        "n_nodes1 = g.number_of_nodes()\n",
        "n_nodes1"
      ],
      "metadata": {
        "colab": {
          "base_uri": "https://localhost:8080/"
        },
        "id": "eBfrj943UfIY",
        "outputId": "d921ca63-8df4-4668-e11e-6361dd85b8e1"
      },
      "execution_count": 2318,
      "outputs": [
        {
          "output_type": "execute_result",
          "data": {
            "text/plain": [
              "1600"
            ]
          },
          "metadata": {},
          "execution_count": 2318
        }
      ]
    },
    {
      "cell_type": "code",
      "source": [
        "n_train = int(n_nodes1 * 0.8)\n",
        "n_val = int(n_nodes1 * 0.2)"
      ],
      "metadata": {
        "id": "SZYQiQqEmXJb"
      },
      "execution_count": 2319,
      "outputs": []
    },
    {
      "cell_type": "code",
      "source": [
        "train_mask = torch.zeros(n_nodes, dtype=torch.bool)\n",
        "len(train_mask)\n",
        "train_mask"
      ],
      "metadata": {
        "colab": {
          "base_uri": "https://localhost:8080/"
        },
        "id": "PkJ5DhnOmy1K",
        "outputId": "4327a9a5-1d31-4863-98c4-c2168de84fc8"
      },
      "execution_count": 2320,
      "outputs": [
        {
          "output_type": "execute_result",
          "data": {
            "text/plain": [
              "tensor([False, False, False,  ..., False, False, False])"
            ]
          },
          "metadata": {},
          "execution_count": 2320
        }
      ]
    },
    {
      "cell_type": "code",
      "source": [
        "val_mask = torch.zeros(n_nodes, dtype=torch.bool)\n",
        "len(val_mask)\n",
        "val_mask"
      ],
      "metadata": {
        "colab": {
          "base_uri": "https://localhost:8080/"
        },
        "id": "G0v0Uq_Wm3eS",
        "outputId": "993084d8-90d4-43bc-8f16-ae03046fc7f1"
      },
      "execution_count": 2321,
      "outputs": [
        {
          "output_type": "execute_result",
          "data": {
            "text/plain": [
              "tensor([False, False, False,  ..., False, False, False])"
            ]
          },
          "metadata": {},
          "execution_count": 2321
        }
      ]
    },
    {
      "cell_type": "code",
      "source": [
        "train_mask[:n_train] = True"
      ],
      "metadata": {
        "id": "x2aQxYaimXLj"
      },
      "execution_count": 2322,
      "outputs": []
    },
    {
      "cell_type": "code",
      "source": [
        "val_mask[n_train:] = True\n"
      ],
      "metadata": {
        "id": "1TgTOVm0mXPd"
      },
      "execution_count": 2323,
      "outputs": []
    },
    {
      "cell_type": "code",
      "source": [
        "g.ndata['train_mask'] = train_mask"
      ],
      "metadata": {
        "id": "AoRuraDInRHu"
      },
      "execution_count": 2324,
      "outputs": []
    },
    {
      "cell_type": "code",
      "source": [
        "g.ndata['val_mask'] = val_mask"
      ],
      "metadata": {
        "id": "pU8Ro7FsntTY"
      },
      "execution_count": 2325,
      "outputs": []
    },
    {
      "cell_type": "code",
      "source": [
        "s_array = df['Class'].to_numpy()\n",
        "s_array"
      ],
      "metadata": {
        "colab": {
          "base_uri": "https://localhost:8080/"
        },
        "id": "BeIWr8AMoNpQ",
        "outputId": "0039bcdb-61f5-4abe-957e-1555f11d3b49"
      },
      "execution_count": 2326,
      "outputs": [
        {
          "output_type": "execute_result",
          "data": {
            "text/plain": [
              "array([1, 1, 1, ..., 0, 0, 0])"
            ]
          },
          "metadata": {},
          "execution_count": 2326
        }
      ]
    },
    {
      "cell_type": "code",
      "source": [
        "t1 = torch.tensor(s_array)\n",
        "t1"
      ],
      "metadata": {
        "colab": {
          "base_uri": "https://localhost:8080/"
        },
        "id": "R97wW7EUoNrT",
        "outputId": "56d6dc43-47c8-462e-d2a4-bebdbc946105"
      },
      "execution_count": 2327,
      "outputs": [
        {
          "output_type": "execute_result",
          "data": {
            "text/plain": [
              "tensor([1, 1, 1,  ..., 0, 0, 0])"
            ]
          },
          "metadata": {},
          "execution_count": 2327
        }
      ]
    },
    {
      "cell_type": "code",
      "source": [
        "g.ndata[\"label\"] =t1"
      ],
      "metadata": {
        "id": "hO8JibL0oNwE"
      },
      "execution_count": 2328,
      "outputs": []
    },
    {
      "cell_type": "code",
      "source": [
        "label = g.ndata[\"label\"]"
      ],
      "metadata": {
        "id": "G2mtSADLoNx9"
      },
      "execution_count": 2329,
      "outputs": []
    },
    {
      "cell_type": "code",
      "source": [
        "label[train_mask]"
      ],
      "metadata": {
        "colab": {
          "base_uri": "https://localhost:8080/"
        },
        "id": "YsuJWgi_eVHj",
        "outputId": "6309badd-22f2-4398-c3d0-2c5f9ec6931a"
      },
      "execution_count": 2330,
      "outputs": [
        {
          "output_type": "execute_result",
          "data": {
            "text/plain": [
              "tensor([1, 1, 1,  ..., 0, 0, 0])"
            ]
          },
          "metadata": {},
          "execution_count": 2330
        }
      ]
    },
    {
      "cell_type": "code",
      "source": [
        "label[val_mask]"
      ],
      "metadata": {
        "colab": {
          "base_uri": "https://localhost:8080/"
        },
        "id": "kvhuvz2hecjK",
        "outputId": "9222be35-d492-432b-8bc5-f1ab62d0d105"
      },
      "execution_count": 2331,
      "outputs": [
        {
          "output_type": "execute_result",
          "data": {
            "text/plain": [
              "tensor([0, 0, 0, 0, 0, 0, 0, 0, 0, 0, 0, 0, 0, 0, 0, 0, 0, 0, 0, 0, 0, 0, 0, 0,\n",
              "        0, 0, 0, 0, 0, 0, 0, 0, 0, 0, 0, 0, 0, 0, 0, 0, 0, 0, 0, 0, 0, 0, 0, 0,\n",
              "        0, 0, 0, 0, 0, 0, 0, 0, 0, 0, 0, 0, 0, 0, 0, 0, 0, 0, 0, 0, 0, 0, 0, 0,\n",
              "        0, 0, 0, 0, 0, 0, 0, 0, 0, 0, 0, 0, 0, 0, 0, 0, 0, 0, 0, 0, 0, 0, 0, 0,\n",
              "        0, 0, 0, 0, 0, 0, 0, 0, 0, 0, 0, 0, 0, 0, 0, 0, 0, 0, 0, 0, 0, 0, 0, 0,\n",
              "        0, 0, 0, 0, 0, 0, 0, 0, 0, 0, 0, 0, 0, 0, 0, 0, 0, 0, 0, 0, 0, 0, 0, 0,\n",
              "        0, 0, 0, 0, 0, 0, 0, 0, 0, 0, 0, 0, 0, 0, 0, 0, 0, 0, 0, 0, 0, 0, 0, 0,\n",
              "        0, 0, 0, 0, 0, 0, 0, 0, 0, 0, 0, 0, 0, 0, 0, 0, 0, 0, 0, 0, 0, 0, 0, 0,\n",
              "        0, 0, 0, 0, 0, 0, 0, 0, 0, 0, 0, 0, 0, 0, 0, 0, 0, 0, 0, 0, 0, 0, 0, 0,\n",
              "        0, 0, 0, 0, 0, 0, 0, 0, 0, 0, 0, 0, 0, 0, 0, 0, 0, 0, 0, 0, 0, 0, 0, 0,\n",
              "        0, 0, 0, 0, 0, 0, 0, 0, 0, 0, 0, 0, 0, 0, 0, 0, 0, 0, 0, 0, 0, 0, 0, 0,\n",
              "        0, 0, 0, 0, 0, 0, 0, 0, 0, 0, 0, 0, 0, 0, 0, 0, 0, 0, 0, 0, 0, 0, 0, 0,\n",
              "        0, 0, 0, 0, 0, 0, 0, 0, 0, 0, 0, 0, 0, 0, 0, 0, 0, 0, 0, 0, 0, 0, 0, 0,\n",
              "        0, 0, 0, 0, 0, 0, 0, 0])"
            ]
          },
          "metadata": {},
          "execution_count": 2331
        }
      ]
    },
    {
      "cell_type": "code",
      "source": [
        "g.ndata"
      ],
      "metadata": {
        "colab": {
          "base_uri": "https://localhost:8080/"
        },
        "id": "qulmKwjmn4QZ",
        "outputId": "b2ec97bb-0c2f-4af1-ea42-ccb5a0535609"
      },
      "execution_count": 2332,
      "outputs": [
        {
          "output_type": "execute_result",
          "data": {
            "text/plain": [
              "{'feat': tensor([[0., 0., 0.,  ..., 0., 0., 0.],\n",
              "        [0., 0., 0.,  ..., 0., 0., 0.],\n",
              "        [0., 0., 0.,  ..., 0., 0., 0.],\n",
              "        ...,\n",
              "        [0., 0., 0.,  ..., 0., 0., 0.],\n",
              "        [0., 0., 0.,  ..., 0., 0., 0.],\n",
              "        [0., 0., 0.,  ..., 0., 0., 0.]], dtype=torch.float64), 'train_mask': tensor([ True,  True,  True,  ..., False, False, False]), 'val_mask': tensor([False, False, False,  ...,  True,  True,  True]), 'label': tensor([1, 1, 1,  ..., 0, 0, 0])}"
            ]
          },
          "metadata": {},
          "execution_count": 2332
        }
      ]
    },
    {
      "cell_type": "code",
      "source": [
        "train_mask"
      ],
      "metadata": {
        "colab": {
          "base_uri": "https://localhost:8080/"
        },
        "id": "3y5BqD8cn98w",
        "outputId": "098b3c3b-7faa-4da5-e219-52f80af207e0"
      },
      "execution_count": 2333,
      "outputs": [
        {
          "output_type": "execute_result",
          "data": {
            "text/plain": [
              "tensor([ True,  True,  True,  ..., False, False, False])"
            ]
          },
          "metadata": {},
          "execution_count": 2333
        }
      ]
    },
    {
      "cell_type": "code",
      "source": [
        "val_mask"
      ],
      "metadata": {
        "colab": {
          "base_uri": "https://localhost:8080/"
        },
        "id": "5KuQJLqCdLcy",
        "outputId": "21379da0-ff2c-41ba-dad5-236022c2ae95"
      },
      "execution_count": 2334,
      "outputs": [
        {
          "output_type": "execute_result",
          "data": {
            "text/plain": [
              "tensor([False, False, False,  ...,  True,  True,  True])"
            ]
          },
          "metadata": {},
          "execution_count": 2334
        }
      ]
    },
    {
      "cell_type": "code",
      "source": [
        "g.ndata['feat'][train_mask]"
      ],
      "metadata": {
        "colab": {
          "base_uri": "https://localhost:8080/"
        },
        "id": "1tRqBC87n--_",
        "outputId": "e6b0c1bb-1312-4026-ae02-7ac2c05a1063"
      },
      "execution_count": 2335,
      "outputs": [
        {
          "output_type": "execute_result",
          "data": {
            "text/plain": [
              "tensor([[0., 0., 0.,  ..., 0., 0., 0.],\n",
              "        [0., 0., 0.,  ..., 0., 0., 0.],\n",
              "        [0., 0., 0.,  ..., 0., 0., 0.],\n",
              "        ...,\n",
              "        [0., 0., 0.,  ..., 0., 0., 0.],\n",
              "        [0., 0., 0.,  ..., 0., 0., 0.],\n",
              "        [0., 0., 0.,  ..., 0., 0., 0.]], dtype=torch.float64)"
            ]
          },
          "metadata": {},
          "execution_count": 2335
        }
      ]
    },
    {
      "cell_type": "code",
      "source": [
        "clf = LogisticRegression()\n",
        "clf.fit(g.ndata['feat'][train_mask], label[train_mask])\n",
        "\n",
        "#y_hat_val_lr = clf.predict_proba(X_kbest_features[val_mask,:])\n",
        "y_val_lr = clf.predict(g.ndata['feat'][val_mask])"
      ],
      "metadata": {
        "id": "BdBvTy7lel4j"
      },
      "execution_count": 2336,
      "outputs": []
    },
    {
      "cell_type": "code",
      "source": [
        "accuracy_score(label[val_mask], y_val_lr)"
      ],
      "metadata": {
        "colab": {
          "base_uri": "https://localhost:8080/"
        },
        "id": "zdTuFzygeupD",
        "outputId": "f17f6159-10a1-409b-df06-b947b23cc1fc"
      },
      "execution_count": 2337,
      "outputs": [
        {
          "output_type": "execute_result",
          "data": {
            "text/plain": [
              "0.31875"
            ]
          },
          "metadata": {},
          "execution_count": 2337
        }
      ]
    },
    {
      "cell_type": "code",
      "source": [
        "clf_balanced = LogisticRegression(class_weight='balanced', max_iter=1000)\n",
        "clf_balanced.fit(g.ndata['feat'][train_mask], label[train_mask])\n",
        "\n",
        "y_val_lrb = clf_balanced.predict(g.ndata['feat'][val_mask])"
      ],
      "metadata": {
        "id": "vrZr6kjJdPfi"
      },
      "execution_count": 2338,
      "outputs": []
    },
    {
      "cell_type": "code",
      "source": [
        "accuracy_score(label[val_mask], y_val_lrb)"
      ],
      "metadata": {
        "colab": {
          "base_uri": "https://localhost:8080/"
        },
        "id": "0_u19X0DdPjQ",
        "outputId": "70f9e407-af1e-4282-b864-6efabb67e233"
      },
      "execution_count": 2339,
      "outputs": [
        {
          "output_type": "execute_result",
          "data": {
            "text/plain": [
              "0.615625"
            ]
          },
          "metadata": {},
          "execution_count": 2339
        }
      ]
    },
    {
      "cell_type": "code",
      "source": [
        "rf = RandomForestClassifier(n_estimators=400)\n",
        "rf.fit(g.ndata['feat'][train_mask,:], label[train_mask])\n",
        "\n",
        "y_val_rf = rf.predict(g.ndata['feat'][val_mask,:])\n",
        "accuracy_score(label[val_mask], y_val_rf)\n"
      ],
      "metadata": {
        "colab": {
          "base_uri": "https://localhost:8080/"
        },
        "id": "dUHGG5bUdPmp",
        "outputId": "1bafb96a-76a0-4d5b-b349-019f2bf952fc"
      },
      "execution_count": 2340,
      "outputs": [
        {
          "output_type": "execute_result",
          "data": {
            "text/plain": [
              "0.359375"
            ]
          },
          "metadata": {},
          "execution_count": 2340
        }
      ]
    },
    {
      "cell_type": "code",
      "source": [
        "gb = GradientBoostingClassifier(n_estimators=300, learning_rate=1.0, max_depth=1, random_state=0)\n",
        "gb.fit(g.ndata['feat'][train_mask,:], label[train_mask])\n",
        "\n",
        "y_val_rf = gb.predict(g.ndata['feat'][val_mask,:])\n",
        "accuracy_score(label[val_mask], y_val_rf)"
      ],
      "metadata": {
        "colab": {
          "base_uri": "https://localhost:8080/"
        },
        "id": "yn4dNSPXgJuy",
        "outputId": "156716e6-2c74-476d-c0b0-50c63809b6d7"
      },
      "execution_count": 2341,
      "outputs": [
        {
          "output_type": "execute_result",
          "data": {
            "text/plain": [
              "0.446875"
            ]
          },
          "metadata": {},
          "execution_count": 2341
        }
      ]
    },
    {
      "cell_type": "code",
      "source": [
        "ab = AdaBoostClassifier(n_estimators=400, random_state=0)\n",
        "ab.fit(g.ndata['feat'][train_mask,:], label[train_mask])\n",
        "\n",
        "y_val_rf = ab.predict(g.ndata['feat'][val_mask,:])\n",
        "accuracy_score(label[val_mask], y_val_rf)"
      ],
      "metadata": {
        "colab": {
          "base_uri": "https://localhost:8080/"
        },
        "id": "7QYFwyqhgJyg",
        "outputId": "b91a1eaf-519b-4ee0-b099-a6a4413ade1c"
      },
      "execution_count": 2342,
      "outputs": [
        {
          "output_type": "execute_result",
          "data": {
            "text/plain": [
              "0.584375"
            ]
          },
          "metadata": {},
          "execution_count": 2342
        }
      ]
    },
    {
      "cell_type": "code",
      "source": [
        "from sklearn.model_selection import KFold\n",
        "from sklearn.model_selection import StratifiedKFold\n",
        "from sklearn.model_selection import cross_val_score\n",
        "cv = KFold(n_splits=10, random_state=7, shuffle=True)"
      ],
      "metadata": {
        "id": "oiJqzNz2hZIp"
      },
      "execution_count": 2343,
      "outputs": []
    },
    {
      "cell_type": "code",
      "source": [
        "from sklearn.linear_model import LogisticRegression\n",
        "log = LogisticRegression(max_iter=10000) \n",
        "scores = cross_val_score(log, g.ndata['feat'], label, cv=cv, n_jobs=-1)\n",
        "print(np.mean(scores))"
      ],
      "metadata": {
        "colab": {
          "base_uri": "https://localhost:8080/"
        },
        "id": "6cJGco59gJ1p",
        "outputId": "09f3cb5d-2417-4517-bbee-b48a5f7467f2"
      },
      "execution_count": 2344,
      "outputs": [
        {
          "output_type": "stream",
          "name": "stdout",
          "text": [
            "0.8956250000000001\n"
          ]
        }
      ]
    },
    {
      "cell_type": "code",
      "source": [
        "from sklearn.svm import LinearSVC\n",
        "lsvm = LinearSVC()\n",
        "scores = cross_val_score(lsvm, g.ndata['feat'], label, cv=cv, n_jobs=-1)\n",
        "print(np.mean(scores))"
      ],
      "metadata": {
        "colab": {
          "base_uri": "https://localhost:8080/"
        },
        "id": "YX_3WXWPgJ5C",
        "outputId": "2bcf0b71-92a2-4cc0-d108-1ab7b4d2481f"
      },
      "execution_count": 2345,
      "outputs": [
        {
          "output_type": "stream",
          "name": "stdout",
          "text": [
            "0.905\n"
          ]
        }
      ]
    },
    {
      "cell_type": "code",
      "source": [
        "from sklearn.linear_model import PassiveAggressiveClassifier\n",
        "pa=PassiveAggressiveClassifier(max_iter=1000, random_state=7, tol=1e-3)\n",
        "scores = cross_val_score(pa, g.ndata['feat'], label, cv=cv, n_jobs=-1)\n",
        "print(np.mean(scores))"
      ],
      "metadata": {
        "colab": {
          "base_uri": "https://localhost:8080/"
        },
        "id": "1s3b_2xfhsng",
        "outputId": "e2537595-32b6-43e7-a01a-1d228a87df20"
      },
      "execution_count": 2346,
      "outputs": [
        {
          "output_type": "stream",
          "name": "stdout",
          "text": [
            "0.881875\n"
          ]
        }
      ]
    },
    {
      "cell_type": "code",
      "source": [
        "from sklearn.ensemble import RandomForestClassifier\n",
        "rf = RandomForestClassifier(n_estimators=300)\n",
        "scores = cross_val_score(rf, g.ndata['feat'], label, cv=cv, n_jobs=-1)\n",
        "print(np.mean(scores))"
      ],
      "metadata": {
        "colab": {
          "base_uri": "https://localhost:8080/"
        },
        "id": "CXg80GkUhsrr",
        "outputId": "67943efd-798a-4752-8f76-501b3d917ebc"
      },
      "execution_count": 2347,
      "outputs": [
        {
          "output_type": "stream",
          "name": "stdout",
          "text": [
            "0.8662500000000002\n"
          ]
        }
      ]
    },
    {
      "cell_type": "code",
      "source": [
        "from sklearn.ensemble import GradientBoostingClassifier\n",
        "gb = GradientBoostingClassifier(n_estimators=300)\n",
        "scores = cross_val_score(gb, g.ndata['feat'], label, cv=cv, n_jobs=-1)\n",
        "print(np.mean(scores))"
      ],
      "metadata": {
        "colab": {
          "base_uri": "https://localhost:8080/"
        },
        "id": "TOMSnu0YpT2p",
        "outputId": "92767790-297f-481b-eff4-2bdfad07421c"
      },
      "execution_count": 2348,
      "outputs": [
        {
          "output_type": "stream",
          "name": "stdout",
          "text": [
            "0.850625\n"
          ]
        }
      ]
    },
    {
      "cell_type": "code",
      "source": [
        "from sklearn.ensemble import AdaBoostClassifier\n",
        "ab = AdaBoostClassifier(n_estimators=300)\n",
        "scores = cross_val_score(ab, g.ndata['feat'], label, cv=cv, n_jobs=-1)\n",
        "print(np.mean(scores))"
      ],
      "metadata": {
        "colab": {
          "base_uri": "https://localhost:8080/"
        },
        "id": "yHtRq4pMpT-X",
        "outputId": "d4f2763e-8bce-4db2-f53b-5ad75a41e674"
      },
      "execution_count": 2349,
      "outputs": [
        {
          "output_type": "stream",
          "name": "stdout",
          "text": [
            "0.834375\n"
          ]
        }
      ]
    },
    {
      "cell_type": "code",
      "source": [
        "import xgboost as xgb\n",
        "xgbc = xgb.XGBClassifier(base_score=0.5, booster='gbtree', colsample_bylevel=1,\n",
        "              colsample_bynode=1, colsample_bytree=1, \n",
        "              gamma=0,  importance_type='gain',\n",
        "              interaction_constraints='', learning_rate=0.300000012,\n",
        "              max_delta_step=0, max_depth=6, min_child_weight=1, \n",
        "             n_estimators=200, n_jobs=16,\n",
        "              num_parallel_tree=1, random_state=0,\n",
        "              reg_alpha=0, reg_lambda=1, subsample=1,\n",
        "              tree_method='exact', use_label_encoder=False\n",
        "              )\n",
        "scores = cross_val_score(xgbc, g.ndata['feat'], label, cv=cv, n_jobs=-1)\n",
        "print(np.mean(scores))"
      ],
      "metadata": {
        "colab": {
          "base_uri": "https://localhost:8080/"
        },
        "id": "w0JUReguhsv3",
        "outputId": "96bb8ff4-d1ee-4f91-ebfc-09192d9b5310"
      },
      "execution_count": 2350,
      "outputs": [
        {
          "output_type": "stream",
          "name": "stdout",
          "text": [
            "0.836875\n"
          ]
        }
      ]
    }
  ],
  "metadata": {
    "colab": {
      "provenance": [],
      "collapsed_sections": []
    },
    "kernelspec": {
      "display_name": "Python 3",
      "language": "python",
      "name": "python3"
    },
    "language_info": {
      "codemirror_mode": {
        "name": "ipython",
        "version": 3
      },
      "file_extension": ".py",
      "mimetype": "text/x-python",
      "name": "python",
      "nbconvert_exporter": "python",
      "pygments_lexer": "ipython3",
      "version": "3.6.8"
    },
    "accelerator": "GPU"
  },
  "nbformat": 4,
  "nbformat_minor": 0
}