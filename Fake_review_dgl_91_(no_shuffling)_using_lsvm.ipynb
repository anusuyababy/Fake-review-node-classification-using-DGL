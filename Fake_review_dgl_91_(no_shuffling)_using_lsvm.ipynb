{
  "cells": [
    {
      "cell_type": "markdown",
      "metadata": {
        "id": "zicTH6Fi8rIf"
      },
      "source": [
        "# FAKE REVIEW NODE EMBEDDING"
      ]
    },
    {
      "cell_type": "code",
      "source": [
        "# importing all necessary libraries\n",
        "import networkx as nx\n",
        "import pandas as pd\n",
        "import numpy as np\n",
        "import matplotlib.pyplot as plt\n",
        "import seaborn as sns\n",
        "import string\n",
        "import os\n",
        "import networkx as nx\n",
        "from sklearn import preprocessing, model_selection\n",
        "from IPython.display import display, HTML\n",
        "import matplotlib.pyplot as plt\n",
        "from sklearn.decomposition import PCA\n",
        "#from node2vec import Node2Vec as n2v\n",
        "sns.set()\n",
        "\n",
        "%matplotlib inline"
      ],
      "metadata": {
        "id": "QnCy6AgP5iwy"
      },
      "execution_count": 1790,
      "outputs": []
    },
    {
      "cell_type": "code",
      "source": [
        "import os, sys\n",
        "from copy import deepcopy\n",
        "import numpy as np\n",
        "import pandas as pd\n",
        "\n",
        "import torch as th\n",
        "import torch.nn as nn\n",
        "from torch import optim\n",
        "import torch.nn.functional as F\n",
        "\n",
        "import matplotlib.pyplot as plt\n",
        "%matplotlib inline"
      ],
      "metadata": {
        "id": "KTxBYEEjBBc4"
      },
      "execution_count": 1791,
      "outputs": []
    },
    {
      "cell_type": "code",
      "source": [
        "print(f\"Torch version: {th.__version__}.  CUDA version: {th.version.cuda}\")"
      ],
      "metadata": {
        "colab": {
          "base_uri": "https://localhost:8080/"
        },
        "id": "WfZg4oZpBD4X",
        "outputId": "d2475c08-4fc6-42de-abfd-74d06bc5beff"
      },
      "execution_count": 1792,
      "outputs": [
        {
          "output_type": "stream",
          "name": "stdout",
          "text": [
            "Torch version: 1.12.1+cu113.  CUDA version: 11.3\n"
          ]
        }
      ]
    },
    {
      "cell_type": "code",
      "source": [
        "dgl_version = f\"dgl-cu{th.version.cuda.replace('.', '')}==0.7.2\"\n",
        "dgl_version"
      ],
      "metadata": {
        "colab": {
          "base_uri": "https://localhost:8080/",
          "height": 36
        },
        "id": "twxQrYR2BD7P",
        "outputId": "9720443f-3308-41f6-e49d-09e8c8afc33a"
      },
      "execution_count": 1793,
      "outputs": [
        {
          "output_type": "execute_result",
          "data": {
            "text/plain": [
              "'dgl-cu113==0.7.2'"
            ],
            "application/vnd.google.colaboratory.intrinsic+json": {
              "type": "string"
            }
          },
          "metadata": {},
          "execution_count": 1793
        }
      ]
    },
    {
      "cell_type": "code",
      "source": [
        "# Follow instructions at https://www.dgl.ai/pages/start.html\n",
        "!{sys.executable} -m pip install {dgl_version} -f https://data.dgl.ai/wheels/repo.html"
      ],
      "metadata": {
        "colab": {
          "base_uri": "https://localhost:8080/"
        },
        "id": "yMMKD4XJBD-A",
        "outputId": "e48eb773-0eeb-481f-c8f0-fcaa58e51853"
      },
      "execution_count": 1794,
      "outputs": [
        {
          "output_type": "stream",
          "name": "stdout",
          "text": [
            "Looking in indexes: https://pypi.org/simple, https://us-python.pkg.dev/colab-wheels/public/simple/\n",
            "Looking in links: https://data.dgl.ai/wheels/repo.html\n",
            "Requirement already satisfied: dgl-cu113==0.7.2 in /usr/local/lib/python3.7/dist-packages (0.7.2)\n",
            "Requirement already satisfied: requests>=2.19.0 in /usr/local/lib/python3.7/dist-packages (from dgl-cu113==0.7.2) (2.23.0)\n",
            "Requirement already satisfied: scipy>=1.1.0 in /usr/local/lib/python3.7/dist-packages (from dgl-cu113==0.7.2) (1.7.3)\n",
            "Requirement already satisfied: numpy>=1.14.0 in /usr/local/lib/python3.7/dist-packages (from dgl-cu113==0.7.2) (1.21.6)\n",
            "Requirement already satisfied: networkx>=2.1 in /usr/local/lib/python3.7/dist-packages (from dgl-cu113==0.7.2) (2.6.3)\n",
            "Requirement already satisfied: idna<3,>=2.5 in /usr/local/lib/python3.7/dist-packages (from requests>=2.19.0->dgl-cu113==0.7.2) (2.10)\n",
            "Requirement already satisfied: urllib3!=1.25.0,!=1.25.1,<1.26,>=1.21.1 in /usr/local/lib/python3.7/dist-packages (from requests>=2.19.0->dgl-cu113==0.7.2) (1.24.3)\n",
            "Requirement already satisfied: certifi>=2017.4.17 in /usr/local/lib/python3.7/dist-packages (from requests>=2.19.0->dgl-cu113==0.7.2) (2022.9.24)\n",
            "Requirement already satisfied: chardet<4,>=3.0.2 in /usr/local/lib/python3.7/dist-packages (from requests>=2.19.0->dgl-cu113==0.7.2) (3.0.4)\n"
          ]
        }
      ]
    },
    {
      "cell_type": "code",
      "source": [
        "os.environ['DGLBACKEND'] = 'pytorch'\n",
        "import dgl\n",
        "from dgl import function as fn"
      ],
      "metadata": {
        "id": "XtlC3DSzBM1X"
      },
      "execution_count": 1795,
      "outputs": []
    },
    {
      "cell_type": "code",
      "source": [
        "dgl.__version__"
      ],
      "metadata": {
        "colab": {
          "base_uri": "https://localhost:8080/",
          "height": 36
        },
        "id": "lI7WmNtIBO4v",
        "outputId": "6f087224-af6a-426e-8c5d-b838375bbb8e"
      },
      "execution_count": 1796,
      "outputs": [
        {
          "output_type": "execute_result",
          "data": {
            "text/plain": [
              "'0.7.2'"
            ],
            "application/vnd.google.colaboratory.intrinsic+json": {
              "type": "string"
            }
          },
          "metadata": {},
          "execution_count": 1796
        }
      ]
    },
    {
      "cell_type": "code",
      "source": [
        "from dgl.dataloading.pytorch import NodeDataLoader\n",
        "device = th.device('cuda' if th.cuda.is_available() else 'cpu')\n",
        "device"
      ],
      "metadata": {
        "colab": {
          "base_uri": "https://localhost:8080/"
        },
        "id": "KdAM2bOfBPlP",
        "outputId": "9f84294a-1506-4228-fe24-536481e2a26f"
      },
      "execution_count": 1797,
      "outputs": [
        {
          "output_type": "execute_result",
          "data": {
            "text/plain": [
              "device(type='cpu')"
            ]
          },
          "metadata": {},
          "execution_count": 1797
        }
      ]
    },
    {
      "cell_type": "code",
      "source": [
        "import torch\n",
        "import torch.nn as nn\n",
        "from sklearn.linear_model import LogisticRegression\n",
        "from torch.utils.data import DataLoader\n",
        "import argparse\n",
        "\n",
        "from dgl.sampling import node2vec_random_walk"
      ],
      "metadata": {
        "id": "uP4cYiv4BgRa"
      },
      "execution_count": 1798,
      "outputs": []
    },
    {
      "cell_type": "code",
      "source": [
        "#importing libraries\n",
        "import numpy as np\n",
        "import pandas as pd\n",
        "import nltk\n",
        "import matplotlib.pyplot as plt\n",
        "import statistics\n",
        "import math\n",
        "import os\n",
        "from sklearn.model_selection import KFold, StratifiedKFold, cross_val_score\n",
        "from sklearn.metrics import confusion_matrix\n",
        "nltk.download('stopwords')\n",
        "nltk.download('punkt')\n",
        "nltk.download('wordnet')\n",
        "nltk.download('omw-1.4')\n",
        "#nltk.download('all')\n",
        "import re\n",
        "pd.set_option('max_colwidth', 800)\n",
        "\n",
        "\n",
        "#importing Libraies\n",
        "import networkx as nx\n",
        "import matplotlib.pyplot as plt\n",
        "from numpy import genfromtxt\n",
        "import collections\n",
        "from collections import OrderedDict\n",
        "\n",
        "import matplotlib.pyplot as plt\n",
        "%matplotlib inline\n",
        "from sklearn.model_selection import train_test_split\n",
        "from sklearn.model_selection import KFold\n",
        "from sklearn.model_selection import cross_val_score\n",
        "from sklearn.tree import DecisionTreeClassifier\n",
        "from sklearn.feature_selection import SelectFromModel\n",
        "from sklearn.svm import SVC\n",
        "from sklearn.preprocessing import StandardScaler,MinMaxScaler\n",
        "from sklearn.linear_model import LinearRegression,LogisticRegression, RidgeClassifier\n",
        "from sklearn.discriminant_analysis import LinearDiscriminantAnalysis, QuadraticDiscriminantAnalysis\n",
        "from sklearn.ensemble import RandomForestClassifier, GradientBoostingClassifier, AdaBoostClassifier\n",
        "from sklearn.preprocessing import LabelEncoder\n",
        "from sklearn.metrics import classification_report,accuracy_score"
      ],
      "metadata": {
        "colab": {
          "base_uri": "https://localhost:8080/"
        },
        "id": "zvMyzp-I1CU6",
        "outputId": "84c24279-e285-4804-e016-7b85e2918f9a"
      },
      "execution_count": 1799,
      "outputs": [
        {
          "output_type": "stream",
          "name": "stderr",
          "text": [
            "[nltk_data] Downloading package stopwords to /root/nltk_data...\n",
            "[nltk_data]   Package stopwords is already up-to-date!\n",
            "[nltk_data] Downloading package punkt to /root/nltk_data...\n",
            "[nltk_data]   Package punkt is already up-to-date!\n",
            "[nltk_data] Downloading package wordnet to /root/nltk_data...\n",
            "[nltk_data]   Package wordnet is already up-to-date!\n",
            "[nltk_data] Downloading package omw-1.4 to /root/nltk_data...\n",
            "[nltk_data]   Package omw-1.4 is already up-to-date!\n"
          ]
        }
      ]
    },
    {
      "cell_type": "code",
      "source": [
        "#loading dataset\n",
        "df=pd.read_csv('/content/deceptive.csv')\n",
        "df.head()"
      ],
      "metadata": {
        "colab": {
          "base_uri": "https://localhost:8080/",
          "height": 510
        },
        "id": "56yBSCmN1CSB",
        "outputId": "1a9f996c-03d1-48f5-aef9-a23608adbfde"
      },
      "execution_count": 1800,
      "outputs": [
        {
          "output_type": "execute_result",
          "data": {
            "text/plain": [
              "  deceptive   hotel  polarity       source  \\\n",
              "0  truthful  conrad  positive  TripAdvisor   \n",
              "1  truthful   hyatt  positive  TripAdvisor   \n",
              "2  truthful   hyatt  positive  TripAdvisor   \n",
              "3  truthful    omni  positive  TripAdvisor   \n",
              "4  truthful   hyatt  positive  TripAdvisor   \n",
              "\n",
              "                                                                                                                                                                                                                                                                                                                                                                                                                                                                                                                                                                                                                                                                                                                                                                                                                              text  \\\n",
              "0                                                                                                                                                                                                                                    We stayed for a one night getaway with family on a thursday. Triple AAA rate of 173 was a steal. 7th floor room complete with 44in plasma TV bose stereo, voss and evian water, and gorgeous bathroom(no tub but was fine for us) Concierge was very helpful. You cannot beat this location... Only flaw was breakfast was pricey and service was very very slow(2hours for four kids and four adults on a friday morning) even though there were only two other tables in the restaurant. Food was very good so it was worth the wait. I would return in a heartbeat. A gem in chicago... \\n   \n",
              "1                                                                                                                                                                                                                                                                                                                                                                                                                                                                                                                                  Triple A rate with upgrade to view room was less than $200 which also included breakfast vouchers. Had a great view of river, lake, Wrigley Bldg. & Tribune Bldg. Most major restaurants, Shopping, Sightseeing attractions within walking distance. Large room with a very comfortable bed. \\n   \n",
              "2  This comes a little late as I'm finally catching up on my reviews from the past several months:) A dear friend and I stayed at the Hyatt Regency in late October 2007 for one night while visiting a friend and her husband from out of town. This hotel is perfect, IMO. Easy check in and check out. Lovely, clean, comfortable rooms with great views of the city. I know this area pretty well and it's very convenient to many downtown Chicago attractions. We had dinner and went clubing with our friends around Division St.. We had no problems getting cabs back and forth to the Hyatt and there's even public transportation right near by but we didn't bother since we only needed cabs from and to the hotel. Parking, as is usual for Chicago, was expensive but we were able to get our car out quickly (h...   \n",
              "3                                                                                             The Omni Chicago really delivers on all fronts, from the spaciousness of the rooms to the helpful staff to the prized location on Michigan Avenue. While this address in Chicago requires a high level of quality, the Omni delivers. Check in for myself and a whole group of people with me was under 3 minutes, the staff had plentiful recommendations for dining and events, and the rooms are some of the largest you'll find at this price range in Chicago. Even the 'standard' room has a separate living area and work desk. The fitness center has free weights, weight machines, and two rows of cardio equipment. I shared the room with 7 others and did not feel cramped in any way! All in all, a great property! \\n   \n",
              "4                                                                                                                                                                                                                                                                                                                                                                                                                                I asked for a high floor away from the elevator and that is what I got. The room was pleasantly decorated, functional and very clean. I didn't need a whole lot of service but when I did they were pleasant and prompt. I used the fitness center which was well equipped and everything was in working order. It is in a great location at one end of the Michigan Avenue shopping district. \\n   \n",
              "\n",
              "   Class  \n",
              "0      1  \n",
              "1      1  \n",
              "2      1  \n",
              "3      1  \n",
              "4      1  "
            ],
            "text/html": [
              "\n",
              "  <div id=\"df-d53a9ca8-c51a-4f89-8bd5-d57191f867e1\">\n",
              "    <div class=\"colab-df-container\">\n",
              "      <div>\n",
              "<style scoped>\n",
              "    .dataframe tbody tr th:only-of-type {\n",
              "        vertical-align: middle;\n",
              "    }\n",
              "\n",
              "    .dataframe tbody tr th {\n",
              "        vertical-align: top;\n",
              "    }\n",
              "\n",
              "    .dataframe thead th {\n",
              "        text-align: right;\n",
              "    }\n",
              "</style>\n",
              "<table border=\"1\" class=\"dataframe\">\n",
              "  <thead>\n",
              "    <tr style=\"text-align: right;\">\n",
              "      <th></th>\n",
              "      <th>deceptive</th>\n",
              "      <th>hotel</th>\n",
              "      <th>polarity</th>\n",
              "      <th>source</th>\n",
              "      <th>text</th>\n",
              "      <th>Class</th>\n",
              "    </tr>\n",
              "  </thead>\n",
              "  <tbody>\n",
              "    <tr>\n",
              "      <th>0</th>\n",
              "      <td>truthful</td>\n",
              "      <td>conrad</td>\n",
              "      <td>positive</td>\n",
              "      <td>TripAdvisor</td>\n",
              "      <td>We stayed for a one night getaway with family on a thursday. Triple AAA rate of 173 was a steal. 7th floor room complete with 44in plasma TV bose stereo, voss and evian water, and gorgeous bathroom(no tub but was fine for us) Concierge was very helpful. You cannot beat this location... Only flaw was breakfast was pricey and service was very very slow(2hours for four kids and four adults on a friday morning) even though there were only two other tables in the restaurant. Food was very good so it was worth the wait. I would return in a heartbeat. A gem in chicago... \\n</td>\n",
              "      <td>1</td>\n",
              "    </tr>\n",
              "    <tr>\n",
              "      <th>1</th>\n",
              "      <td>truthful</td>\n",
              "      <td>hyatt</td>\n",
              "      <td>positive</td>\n",
              "      <td>TripAdvisor</td>\n",
              "      <td>Triple A rate with upgrade to view room was less than $200 which also included breakfast vouchers. Had a great view of river, lake, Wrigley Bldg. &amp; Tribune Bldg. Most major restaurants, Shopping, Sightseeing attractions within walking distance. Large room with a very comfortable bed. \\n</td>\n",
              "      <td>1</td>\n",
              "    </tr>\n",
              "    <tr>\n",
              "      <th>2</th>\n",
              "      <td>truthful</td>\n",
              "      <td>hyatt</td>\n",
              "      <td>positive</td>\n",
              "      <td>TripAdvisor</td>\n",
              "      <td>This comes a little late as I'm finally catching up on my reviews from the past several months:) A dear friend and I stayed at the Hyatt Regency in late October 2007 for one night while visiting a friend and her husband from out of town. This hotel is perfect, IMO. Easy check in and check out. Lovely, clean, comfortable rooms with great views of the city. I know this area pretty well and it's very convenient to many downtown Chicago attractions. We had dinner and went clubing with our friends around Division St.. We had no problems getting cabs back and forth to the Hyatt and there's even public transportation right near by but we didn't bother since we only needed cabs from and to the hotel. Parking, as is usual for Chicago, was expensive but we were able to get our car out quickly (h...</td>\n",
              "      <td>1</td>\n",
              "    </tr>\n",
              "    <tr>\n",
              "      <th>3</th>\n",
              "      <td>truthful</td>\n",
              "      <td>omni</td>\n",
              "      <td>positive</td>\n",
              "      <td>TripAdvisor</td>\n",
              "      <td>The Omni Chicago really delivers on all fronts, from the spaciousness of the rooms to the helpful staff to the prized location on Michigan Avenue. While this address in Chicago requires a high level of quality, the Omni delivers. Check in for myself and a whole group of people with me was under 3 minutes, the staff had plentiful recommendations for dining and events, and the rooms are some of the largest you'll find at this price range in Chicago. Even the 'standard' room has a separate living area and work desk. The fitness center has free weights, weight machines, and two rows of cardio equipment. I shared the room with 7 others and did not feel cramped in any way! All in all, a great property! \\n</td>\n",
              "      <td>1</td>\n",
              "    </tr>\n",
              "    <tr>\n",
              "      <th>4</th>\n",
              "      <td>truthful</td>\n",
              "      <td>hyatt</td>\n",
              "      <td>positive</td>\n",
              "      <td>TripAdvisor</td>\n",
              "      <td>I asked for a high floor away from the elevator and that is what I got. The room was pleasantly decorated, functional and very clean. I didn't need a whole lot of service but when I did they were pleasant and prompt. I used the fitness center which was well equipped and everything was in working order. It is in a great location at one end of the Michigan Avenue shopping district. \\n</td>\n",
              "      <td>1</td>\n",
              "    </tr>\n",
              "  </tbody>\n",
              "</table>\n",
              "</div>\n",
              "      <button class=\"colab-df-convert\" onclick=\"convertToInteractive('df-d53a9ca8-c51a-4f89-8bd5-d57191f867e1')\"\n",
              "              title=\"Convert this dataframe to an interactive table.\"\n",
              "              style=\"display:none;\">\n",
              "        \n",
              "  <svg xmlns=\"http://www.w3.org/2000/svg\" height=\"24px\"viewBox=\"0 0 24 24\"\n",
              "       width=\"24px\">\n",
              "    <path d=\"M0 0h24v24H0V0z\" fill=\"none\"/>\n",
              "    <path d=\"M18.56 5.44l.94 2.06.94-2.06 2.06-.94-2.06-.94-.94-2.06-.94 2.06-2.06.94zm-11 1L8.5 8.5l.94-2.06 2.06-.94-2.06-.94L8.5 2.5l-.94 2.06-2.06.94zm10 10l.94 2.06.94-2.06 2.06-.94-2.06-.94-.94-2.06-.94 2.06-2.06.94z\"/><path d=\"M17.41 7.96l-1.37-1.37c-.4-.4-.92-.59-1.43-.59-.52 0-1.04.2-1.43.59L10.3 9.45l-7.72 7.72c-.78.78-.78 2.05 0 2.83L4 21.41c.39.39.9.59 1.41.59.51 0 1.02-.2 1.41-.59l7.78-7.78 2.81-2.81c.8-.78.8-2.07 0-2.86zM5.41 20L4 18.59l7.72-7.72 1.47 1.35L5.41 20z\"/>\n",
              "  </svg>\n",
              "      </button>\n",
              "      \n",
              "  <style>\n",
              "    .colab-df-container {\n",
              "      display:flex;\n",
              "      flex-wrap:wrap;\n",
              "      gap: 12px;\n",
              "    }\n",
              "\n",
              "    .colab-df-convert {\n",
              "      background-color: #E8F0FE;\n",
              "      border: none;\n",
              "      border-radius: 50%;\n",
              "      cursor: pointer;\n",
              "      display: none;\n",
              "      fill: #1967D2;\n",
              "      height: 32px;\n",
              "      padding: 0 0 0 0;\n",
              "      width: 32px;\n",
              "    }\n",
              "\n",
              "    .colab-df-convert:hover {\n",
              "      background-color: #E2EBFA;\n",
              "      box-shadow: 0px 1px 2px rgba(60, 64, 67, 0.3), 0px 1px 3px 1px rgba(60, 64, 67, 0.15);\n",
              "      fill: #174EA6;\n",
              "    }\n",
              "\n",
              "    [theme=dark] .colab-df-convert {\n",
              "      background-color: #3B4455;\n",
              "      fill: #D2E3FC;\n",
              "    }\n",
              "\n",
              "    [theme=dark] .colab-df-convert:hover {\n",
              "      background-color: #434B5C;\n",
              "      box-shadow: 0px 1px 3px 1px rgba(0, 0, 0, 0.15);\n",
              "      filter: drop-shadow(0px 1px 2px rgba(0, 0, 0, 0.3));\n",
              "      fill: #FFFFFF;\n",
              "    }\n",
              "  </style>\n",
              "\n",
              "      <script>\n",
              "        const buttonEl =\n",
              "          document.querySelector('#df-d53a9ca8-c51a-4f89-8bd5-d57191f867e1 button.colab-df-convert');\n",
              "        buttonEl.style.display =\n",
              "          google.colab.kernel.accessAllowed ? 'block' : 'none';\n",
              "\n",
              "        async function convertToInteractive(key) {\n",
              "          const element = document.querySelector('#df-d53a9ca8-c51a-4f89-8bd5-d57191f867e1');\n",
              "          const dataTable =\n",
              "            await google.colab.kernel.invokeFunction('convertToInteractive',\n",
              "                                                     [key], {});\n",
              "          if (!dataTable) return;\n",
              "\n",
              "          const docLinkHtml = 'Like what you see? Visit the ' +\n",
              "            '<a target=\"_blank\" href=https://colab.research.google.com/notebooks/data_table.ipynb>data table notebook</a>'\n",
              "            + ' to learn more about interactive tables.';\n",
              "          element.innerHTML = '';\n",
              "          dataTable['output_type'] = 'display_data';\n",
              "          await google.colab.output.renderOutput(dataTable, element);\n",
              "          const docLink = document.createElement('div');\n",
              "          docLink.innerHTML = docLinkHtml;\n",
              "          element.appendChild(docLink);\n",
              "        }\n",
              "      </script>\n",
              "    </div>\n",
              "  </div>\n",
              "  "
            ]
          },
          "metadata": {},
          "execution_count": 1800
        }
      ]
    },
    {
      "cell_type": "code",
      "source": [
        "#df = df.sample(frac=1, random_state=42).reset_index(drop=True)"
      ],
      "metadata": {
        "id": "ydjQBjajXhta"
      },
      "execution_count": 1801,
      "outputs": []
    },
    {
      "cell_type": "code",
      "source": [
        "df.shape"
      ],
      "metadata": {
        "colab": {
          "base_uri": "https://localhost:8080/"
        },
        "id": "fhz_MORRXlrS",
        "outputId": "5bb5d984-0a23-43cf-9bde-c38361782954"
      },
      "execution_count": 1802,
      "outputs": [
        {
          "output_type": "execute_result",
          "data": {
            "text/plain": [
              "(1600, 6)"
            ]
          },
          "metadata": {},
          "execution_count": 1802
        }
      ]
    },
    {
      "cell_type": "code",
      "source": [
        "df['Class'].value_counts()"
      ],
      "metadata": {
        "colab": {
          "base_uri": "https://localhost:8080/"
        },
        "id": "gIqg1tqk1CL5",
        "outputId": "bd5100be-97f2-4a38-b831-f81e0a3b0108"
      },
      "execution_count": 1803,
      "outputs": [
        {
          "output_type": "execute_result",
          "data": {
            "text/plain": [
              "1    800\n",
              "0    800\n",
              "Name: Class, dtype: int64"
            ]
          },
          "metadata": {},
          "execution_count": 1803
        }
      ]
    },
    {
      "cell_type": "code",
      "source": [
        "# dropping unnecessary columns. \n",
        "df.drop(['deceptive', 'hotel', 'polarity', 'source'], axis = 1, inplace=True)\n",
        "df.head()"
      ],
      "metadata": {
        "colab": {
          "base_uri": "https://localhost:8080/",
          "height": 441
        },
        "id": "PCAf1wlZ1CI5",
        "outputId": "a0704b49-07ed-426d-827f-e1c65453712f"
      },
      "execution_count": 1804,
      "outputs": [
        {
          "output_type": "execute_result",
          "data": {
            "text/plain": [
              "                                                                                                                                                                                                                                                                                                                                                                                                                                                                                                                                                                                                                                                                                                                                                                                                                              text  \\\n",
              "0                                                                                                                                                                                                                                    We stayed for a one night getaway with family on a thursday. Triple AAA rate of 173 was a steal. 7th floor room complete with 44in plasma TV bose stereo, voss and evian water, and gorgeous bathroom(no tub but was fine for us) Concierge was very helpful. You cannot beat this location... Only flaw was breakfast was pricey and service was very very slow(2hours for four kids and four adults on a friday morning) even though there were only two other tables in the restaurant. Food was very good so it was worth the wait. I would return in a heartbeat. A gem in chicago... \\n   \n",
              "1                                                                                                                                                                                                                                                                                                                                                                                                                                                                                                                                  Triple A rate with upgrade to view room was less than $200 which also included breakfast vouchers. Had a great view of river, lake, Wrigley Bldg. & Tribune Bldg. Most major restaurants, Shopping, Sightseeing attractions within walking distance. Large room with a very comfortable bed. \\n   \n",
              "2  This comes a little late as I'm finally catching up on my reviews from the past several months:) A dear friend and I stayed at the Hyatt Regency in late October 2007 for one night while visiting a friend and her husband from out of town. This hotel is perfect, IMO. Easy check in and check out. Lovely, clean, comfortable rooms with great views of the city. I know this area pretty well and it's very convenient to many downtown Chicago attractions. We had dinner and went clubing with our friends around Division St.. We had no problems getting cabs back and forth to the Hyatt and there's even public transportation right near by but we didn't bother since we only needed cabs from and to the hotel. Parking, as is usual for Chicago, was expensive but we were able to get our car out quickly (h...   \n",
              "3                                                                                             The Omni Chicago really delivers on all fronts, from the spaciousness of the rooms to the helpful staff to the prized location on Michigan Avenue. While this address in Chicago requires a high level of quality, the Omni delivers. Check in for myself and a whole group of people with me was under 3 minutes, the staff had plentiful recommendations for dining and events, and the rooms are some of the largest you'll find at this price range in Chicago. Even the 'standard' room has a separate living area and work desk. The fitness center has free weights, weight machines, and two rows of cardio equipment. I shared the room with 7 others and did not feel cramped in any way! All in all, a great property! \\n   \n",
              "4                                                                                                                                                                                                                                                                                                                                                                                                                                I asked for a high floor away from the elevator and that is what I got. The room was pleasantly decorated, functional and very clean. I didn't need a whole lot of service but when I did they were pleasant and prompt. I used the fitness center which was well equipped and everything was in working order. It is in a great location at one end of the Michigan Avenue shopping district. \\n   \n",
              "\n",
              "   Class  \n",
              "0      1  \n",
              "1      1  \n",
              "2      1  \n",
              "3      1  \n",
              "4      1  "
            ],
            "text/html": [
              "\n",
              "  <div id=\"df-8d6f7486-2053-4ea4-a6e7-41889e91fa37\">\n",
              "    <div class=\"colab-df-container\">\n",
              "      <div>\n",
              "<style scoped>\n",
              "    .dataframe tbody tr th:only-of-type {\n",
              "        vertical-align: middle;\n",
              "    }\n",
              "\n",
              "    .dataframe tbody tr th {\n",
              "        vertical-align: top;\n",
              "    }\n",
              "\n",
              "    .dataframe thead th {\n",
              "        text-align: right;\n",
              "    }\n",
              "</style>\n",
              "<table border=\"1\" class=\"dataframe\">\n",
              "  <thead>\n",
              "    <tr style=\"text-align: right;\">\n",
              "      <th></th>\n",
              "      <th>text</th>\n",
              "      <th>Class</th>\n",
              "    </tr>\n",
              "  </thead>\n",
              "  <tbody>\n",
              "    <tr>\n",
              "      <th>0</th>\n",
              "      <td>We stayed for a one night getaway with family on a thursday. Triple AAA rate of 173 was a steal. 7th floor room complete with 44in plasma TV bose stereo, voss and evian water, and gorgeous bathroom(no tub but was fine for us) Concierge was very helpful. You cannot beat this location... Only flaw was breakfast was pricey and service was very very slow(2hours for four kids and four adults on a friday morning) even though there were only two other tables in the restaurant. Food was very good so it was worth the wait. I would return in a heartbeat. A gem in chicago... \\n</td>\n",
              "      <td>1</td>\n",
              "    </tr>\n",
              "    <tr>\n",
              "      <th>1</th>\n",
              "      <td>Triple A rate with upgrade to view room was less than $200 which also included breakfast vouchers. Had a great view of river, lake, Wrigley Bldg. &amp; Tribune Bldg. Most major restaurants, Shopping, Sightseeing attractions within walking distance. Large room with a very comfortable bed. \\n</td>\n",
              "      <td>1</td>\n",
              "    </tr>\n",
              "    <tr>\n",
              "      <th>2</th>\n",
              "      <td>This comes a little late as I'm finally catching up on my reviews from the past several months:) A dear friend and I stayed at the Hyatt Regency in late October 2007 for one night while visiting a friend and her husband from out of town. This hotel is perfect, IMO. Easy check in and check out. Lovely, clean, comfortable rooms with great views of the city. I know this area pretty well and it's very convenient to many downtown Chicago attractions. We had dinner and went clubing with our friends around Division St.. We had no problems getting cabs back and forth to the Hyatt and there's even public transportation right near by but we didn't bother since we only needed cabs from and to the hotel. Parking, as is usual for Chicago, was expensive but we were able to get our car out quickly (h...</td>\n",
              "      <td>1</td>\n",
              "    </tr>\n",
              "    <tr>\n",
              "      <th>3</th>\n",
              "      <td>The Omni Chicago really delivers on all fronts, from the spaciousness of the rooms to the helpful staff to the prized location on Michigan Avenue. While this address in Chicago requires a high level of quality, the Omni delivers. Check in for myself and a whole group of people with me was under 3 minutes, the staff had plentiful recommendations for dining and events, and the rooms are some of the largest you'll find at this price range in Chicago. Even the 'standard' room has a separate living area and work desk. The fitness center has free weights, weight machines, and two rows of cardio equipment. I shared the room with 7 others and did not feel cramped in any way! All in all, a great property! \\n</td>\n",
              "      <td>1</td>\n",
              "    </tr>\n",
              "    <tr>\n",
              "      <th>4</th>\n",
              "      <td>I asked for a high floor away from the elevator and that is what I got. The room was pleasantly decorated, functional and very clean. I didn't need a whole lot of service but when I did they were pleasant and prompt. I used the fitness center which was well equipped and everything was in working order. It is in a great location at one end of the Michigan Avenue shopping district. \\n</td>\n",
              "      <td>1</td>\n",
              "    </tr>\n",
              "  </tbody>\n",
              "</table>\n",
              "</div>\n",
              "      <button class=\"colab-df-convert\" onclick=\"convertToInteractive('df-8d6f7486-2053-4ea4-a6e7-41889e91fa37')\"\n",
              "              title=\"Convert this dataframe to an interactive table.\"\n",
              "              style=\"display:none;\">\n",
              "        \n",
              "  <svg xmlns=\"http://www.w3.org/2000/svg\" height=\"24px\"viewBox=\"0 0 24 24\"\n",
              "       width=\"24px\">\n",
              "    <path d=\"M0 0h24v24H0V0z\" fill=\"none\"/>\n",
              "    <path d=\"M18.56 5.44l.94 2.06.94-2.06 2.06-.94-2.06-.94-.94-2.06-.94 2.06-2.06.94zm-11 1L8.5 8.5l.94-2.06 2.06-.94-2.06-.94L8.5 2.5l-.94 2.06-2.06.94zm10 10l.94 2.06.94-2.06 2.06-.94-2.06-.94-.94-2.06-.94 2.06-2.06.94z\"/><path d=\"M17.41 7.96l-1.37-1.37c-.4-.4-.92-.59-1.43-.59-.52 0-1.04.2-1.43.59L10.3 9.45l-7.72 7.72c-.78.78-.78 2.05 0 2.83L4 21.41c.39.39.9.59 1.41.59.51 0 1.02-.2 1.41-.59l7.78-7.78 2.81-2.81c.8-.78.8-2.07 0-2.86zM5.41 20L4 18.59l7.72-7.72 1.47 1.35L5.41 20z\"/>\n",
              "  </svg>\n",
              "      </button>\n",
              "      \n",
              "  <style>\n",
              "    .colab-df-container {\n",
              "      display:flex;\n",
              "      flex-wrap:wrap;\n",
              "      gap: 12px;\n",
              "    }\n",
              "\n",
              "    .colab-df-convert {\n",
              "      background-color: #E8F0FE;\n",
              "      border: none;\n",
              "      border-radius: 50%;\n",
              "      cursor: pointer;\n",
              "      display: none;\n",
              "      fill: #1967D2;\n",
              "      height: 32px;\n",
              "      padding: 0 0 0 0;\n",
              "      width: 32px;\n",
              "    }\n",
              "\n",
              "    .colab-df-convert:hover {\n",
              "      background-color: #E2EBFA;\n",
              "      box-shadow: 0px 1px 2px rgba(60, 64, 67, 0.3), 0px 1px 3px 1px rgba(60, 64, 67, 0.15);\n",
              "      fill: #174EA6;\n",
              "    }\n",
              "\n",
              "    [theme=dark] .colab-df-convert {\n",
              "      background-color: #3B4455;\n",
              "      fill: #D2E3FC;\n",
              "    }\n",
              "\n",
              "    [theme=dark] .colab-df-convert:hover {\n",
              "      background-color: #434B5C;\n",
              "      box-shadow: 0px 1px 3px 1px rgba(0, 0, 0, 0.15);\n",
              "      filter: drop-shadow(0px 1px 2px rgba(0, 0, 0, 0.3));\n",
              "      fill: #FFFFFF;\n",
              "    }\n",
              "  </style>\n",
              "\n",
              "      <script>\n",
              "        const buttonEl =\n",
              "          document.querySelector('#df-8d6f7486-2053-4ea4-a6e7-41889e91fa37 button.colab-df-convert');\n",
              "        buttonEl.style.display =\n",
              "          google.colab.kernel.accessAllowed ? 'block' : 'none';\n",
              "\n",
              "        async function convertToInteractive(key) {\n",
              "          const element = document.querySelector('#df-8d6f7486-2053-4ea4-a6e7-41889e91fa37');\n",
              "          const dataTable =\n",
              "            await google.colab.kernel.invokeFunction('convertToInteractive',\n",
              "                                                     [key], {});\n",
              "          if (!dataTable) return;\n",
              "\n",
              "          const docLinkHtml = 'Like what you see? Visit the ' +\n",
              "            '<a target=\"_blank\" href=https://colab.research.google.com/notebooks/data_table.ipynb>data table notebook</a>'\n",
              "            + ' to learn more about interactive tables.';\n",
              "          element.innerHTML = '';\n",
              "          dataTable['output_type'] = 'display_data';\n",
              "          await google.colab.output.renderOutput(dataTable, element);\n",
              "          const docLink = document.createElement('div');\n",
              "          docLink.innerHTML = docLinkHtml;\n",
              "          element.appendChild(docLink);\n",
              "        }\n",
              "      </script>\n",
              "    </div>\n",
              "  </div>\n",
              "  "
            ]
          },
          "metadata": {},
          "execution_count": 1804
        }
      ]
    },
    {
      "cell_type": "code",
      "source": [
        "# Cleaning Raw tweets\n",
        "def clean_text(text):\n",
        "    \n",
        "    #remove emails\n",
        "    text = ' '.join([i for i in text.split() if '@' not in i])\n",
        "    \n",
        "    #remove web address\n",
        "    text = re.sub('http[s]?://\\S+', '', text)\n",
        "\n",
        "    #remove brackets and parantheses (and removing the text inside the brackets and parantheses)\n",
        "    text = re.sub(\"[\\(\\[].*?[\\)\\]]\", \"\", text)\n",
        "\n",
        "    #remove punctuations\n",
        "    text = re.sub(r'[^\\w\\s]', ' ', text)\n",
        "    \n",
        "    #Filter to allow only alphabets and numbers\n",
        "    text = re.sub(r'[^a-zA-Z\\']', ' ', text)\n",
        "    \n",
        "    #Remove Unicode characters\n",
        "    text = re.sub(r'[^\\x00-\\x7F]+', '', text)\n",
        "\n",
        "    #remove double spaces \n",
        "    text = re.sub('\\s+', ' ', text)\n",
        "    \n",
        "    return text"
      ],
      "metadata": {
        "id": "iFvbHYi_1CFx"
      },
      "execution_count": 1805,
      "outputs": []
    },
    {
      "cell_type": "code",
      "source": [
        "# applying that into function.\n",
        "df[\"clean_text\"] = df['text'].apply(lambda x: clean_text(x))\n",
        "df.head(10)"
      ],
      "metadata": {
        "colab": {
          "base_uri": "https://localhost:8080/",
          "height": 1000
        },
        "id": "v6Mp22wd1CCr",
        "outputId": "ef15e77b-1725-4eeb-94f0-f463a21c89ae"
      },
      "execution_count": 1806,
      "outputs": [
        {
          "output_type": "execute_result",
          "data": {
            "text/plain": [
              "                                                                                                                                                                                                                                                                                                                                                                                                                                                                                                                                                                                                                                                                                                                                                                                                                              text  \\\n",
              "0                                                                                                                                                                                                                                    We stayed for a one night getaway with family on a thursday. Triple AAA rate of 173 was a steal. 7th floor room complete with 44in plasma TV bose stereo, voss and evian water, and gorgeous bathroom(no tub but was fine for us) Concierge was very helpful. You cannot beat this location... Only flaw was breakfast was pricey and service was very very slow(2hours for four kids and four adults on a friday morning) even though there were only two other tables in the restaurant. Food was very good so it was worth the wait. I would return in a heartbeat. A gem in chicago... \\n   \n",
              "1                                                                                                                                                                                                                                                                                                                                                                                                                                                                                                                                  Triple A rate with upgrade to view room was less than $200 which also included breakfast vouchers. Had a great view of river, lake, Wrigley Bldg. & Tribune Bldg. Most major restaurants, Shopping, Sightseeing attractions within walking distance. Large room with a very comfortable bed. \\n   \n",
              "2  This comes a little late as I'm finally catching up on my reviews from the past several months:) A dear friend and I stayed at the Hyatt Regency in late October 2007 for one night while visiting a friend and her husband from out of town. This hotel is perfect, IMO. Easy check in and check out. Lovely, clean, comfortable rooms with great views of the city. I know this area pretty well and it's very convenient to many downtown Chicago attractions. We had dinner and went clubing with our friends around Division St.. We had no problems getting cabs back and forth to the Hyatt and there's even public transportation right near by but we didn't bother since we only needed cabs from and to the hotel. Parking, as is usual for Chicago, was expensive but we were able to get our car out quickly (h...   \n",
              "3                                                                                             The Omni Chicago really delivers on all fronts, from the spaciousness of the rooms to the helpful staff to the prized location on Michigan Avenue. While this address in Chicago requires a high level of quality, the Omni delivers. Check in for myself and a whole group of people with me was under 3 minutes, the staff had plentiful recommendations for dining and events, and the rooms are some of the largest you'll find at this price range in Chicago. Even the 'standard' room has a separate living area and work desk. The fitness center has free weights, weight machines, and two rows of cardio equipment. I shared the room with 7 others and did not feel cramped in any way! All in all, a great property! \\n   \n",
              "4                                                                                                                                                                                                                                                                                                                                                                                                                                I asked for a high floor away from the elevator and that is what I got. The room was pleasantly decorated, functional and very clean. I didn't need a whole lot of service but when I did they were pleasant and prompt. I used the fitness center which was well equipped and everything was in working order. It is in a great location at one end of the Michigan Avenue shopping district. \\n   \n",
              "5  I stayed at the Omni for one night following a business meeting at another downtown Chicago hotel. I was completely impressed by the service; all personnel during my stay were absolutely outstanding. I checked in quite early (no problem) and was efficiently checked in. My room had a somewhat heavy scent of air freshener (the ONLY negative from the entire stay), which was managed reasonably well by opening the windows. I don't generally require much during my hotel stays, but suffice to say the doorman, housekeeping, the night manager and bartender at 676, the day waiter at 676, and the concierge were amazing - I never waited more than about 30 seconds for anything. The room was very comfy and the amenities were superior. One very tiny complaint - there was no wastebasket near the sink ...   \n",
              "6                                                                                                                                         We stayed in the Conrad for 4 nights just before Thanksgiving. We had a corner room overlooking N Michigan Av and the Tribune Building. To say this is a 5 star hotel is to damn this place with faint praise - it is wonderful. The staff were unbelievably helpful. The standard of the room was superb - HD plasma screens, luxury bedlinens, iPod radio, huge bathroom. Location is unbeatable - right in the heart of everything - watched the whole Light Festival parade from the window. Breakfasts were excellent - no help yourself buffet here - with full and attentive table service. Would have no hesitation recommending or staying again in this hotel - 5 out of 5. \\n   \n",
              "7                                                                             Just got back from 2 days up in Chicago shopping with girlfriends. First time I have stayed at the Omni. I did so because I saw a $129.00 rate that included $25.00 of free food on Travelzoo. The three of us (55 year olds) all stayed in one suite with 2 double beds and a VERY comfortable pull out sofa. We had plenty of room. Food in the restaurant was great, service was outstanding from everone we came into contact with, early morning delivery of free coffee, juice and hot chocolate was fabulous and recommendations from the staff on where to eat, time of movies, shopping areas, etc was really helpful. Need I mention the outstanding location? Simply the best! We all decided that the Omni is our new favorite hotel. \\n   \n",
              "8  We arrived at the Omni on 2nd September for a 6 day stay. I took ill when I left the plane after travelling from Manchester so I saw more of the room than I anticipated. I couldn't go out for 4 days. The room was spacious and clean. The bed was extremely comfortable. The bathroom was large and very clean. What more could you ask. We had coffee and juice left outside our door every morning at the time we requested. I managed to go to the 5th floor to see the sun terrace (outside the gym) Having a sun terrace in a city hotel is a great idea but the terrace was a bit grim. A few sunbeds on a concrete floor. There was also noise from an air conditioning unit. It could do with a bit of cheering up. What I saw of Chicago was very pleasing, it has something for everyone. Would I go back to th...   \n",
              "9                                                                                                                                                                                                                                                                                                                           On our visit to Chicago, we chose the Hyatt due to its location in downtown, within walking distance to most major attractions, such as Sears Tower, Magnificent Mile, Grant/Millenium Parks, etc. Subway & bus stops very close by to travel to other locations in the city . Overall the hotel was very nice, clean, and at a great location. Was in a safe area. Went to beautiful Wrigley Field and Soldier Field and saw both teams play. I love Chicago and would defenitely stay here again! \\n   \n",
              "\n",
              "   Class  \\\n",
              "0      1   \n",
              "1      1   \n",
              "2      1   \n",
              "3      1   \n",
              "4      1   \n",
              "5      1   \n",
              "6      1   \n",
              "7      1   \n",
              "8      1   \n",
              "9      1   \n",
              "\n",
              "                                                                                                                                                                                                                                                                                                                                                                                                                                                                                                                                                                                                                                                                                                                                                                                                                        clean_text  \n",
              "0                                                                                                                                                                                                                                                                                                                                                 We stayed for a one night getaway with family on a thursday Triple AAA rate of was a steal th floor room complete with in plasma TV bose stereo voss and evian water and gorgeous bathroom Concierge was very helpful You cannot beat this location Only flaw was breakfast was pricey and service was very very slow even though there were only two other tables in the restaurant Food was very good so it was worth the wait I would return in a heartbeat A gem in chicago   \n",
              "1                                                                                                                                                                                                                                                                                                                                                                                                                                                                                                                                                    Triple A rate with upgrade to view room was less than which also included breakfast vouchers Had a great view of river lake Wrigley Bldg Tribune Bldg Most major restaurants Shopping Sightseeing attractions within walking distance Large room with a very comfortable bed   \n",
              "2  This comes a little late as I m finally catching up on my reviews from the past several months A dear friend and I stayed at the Hyatt Regency in late October for one night while visiting a friend and her husband from out of town This hotel is perfect IMO Easy check in and check out Lovely clean comfortable rooms with great views of the city I know this area pretty well and it s very convenient to many downtown Chicago attractions We had dinner and went clubing with our friends around Division St We had no problems getting cabs back and forth to the Hyatt and there s even public transportation right near by but we didn t bother since we only needed cabs from and to the hotel Parking as is usual for Chicago was expensive but we were able to get our car out quickly No problems at all and...  \n",
              "3                                                                                                                   The Omni Chicago really delivers on all fronts from the spaciousness of the rooms to the helpful staff to the prized location on Michigan Avenue While this address in Chicago requires a high level of quality the Omni delivers Check in for myself and a whole group of people with me was under minutes the staff had plentiful recommendations for dining and events and the rooms are some of the largest you ll find at this price range in Chicago Even the standard room has a separate living area and work desk The fitness center has free weights weight machines and two rows of cardio equipment I shared the room with others and did not feel cramped in any way All in all a great property   \n",
              "4                                                                                                                                                                                                                                                                                                                                                                                                                                        I asked for a high floor away from the elevator and that is what I got The room was pleasantly decorated functional and very clean I didn t need a whole lot of service but when I did they were pleasant and prompt I used the fitness center which was well equipped and everything was in working order It is in a great location at one end of the Michigan Avenue shopping district   \n",
              "5  I stayed at the Omni for one night following a business meeting at another downtown Chicago hotel I was completely impressed by the service all personnel during my stay were absolutely outstanding I checked in quite early and was efficiently checked in My room had a somewhat heavy scent of air freshener which was managed reasonably well by opening the windows I don t generally require much during my hotel stays but suffice to say the doorman housekeeping the night manager and bartender at the day waiter at and the concierge were amazing I never waited more than about seconds for anything The room was very comfy and the amenities were superior One very tiny complaint there was no wastebasket near the sink or near the wet bar had to walk to the other end of the bathroom or sitting room t...  \n",
              "6                                                                                                                                                                            We stayed in the Conrad for nights just before Thanksgiving We had a corner room overlooking N Michigan Av and the Tribune Building To say this is a star hotel is to damn this place with faint praise it is wonderful The staff were unbelievably helpful The standard of the room was superb HD plasma screens luxury bedlinens iPod radio huge bathroom Location is unbeatable right in the heart of everything watched the whole Light Festival parade from the window Breakfasts were excellent no help yourself buffet here with full and attentive table service Would have no hesitation recommending or staying again in this hotel out of   \n",
              "7                                                                                                                                Just got back from days up in Chicago shopping with girlfriends First time I have stayed at the Omni I did so because I saw a rate that included of free food on Travelzoo The three of us all stayed in one suite with double beds and a VERY comfortable pull out sofa We had plenty of room Food in the restaurant was great service was outstanding from everone we came into contact with early morning delivery of free coffee juice and hot chocolate was fabulous and recommendations from the staff on where to eat time of movies shopping areas etc was really helpful Need I mention the outstanding location Simply the best We all decided that the Omni is our new favorite hotel   \n",
              "8                        We arrived at the Omni on nd September for a day stay I took ill when I left the plane after travelling from Manchester so I saw more of the room than I anticipated I couldn t go out for days The room was spacious and clean The bed was extremely comfortable The bathroom was large and very clean What more could you ask We had coffee and juice left outside our door every morning at the time we requested I managed to go to the th floor to see the sun terrace Having a sun terrace in a city hotel is a great idea but the terrace was a bit grim A few sunbeds on a concrete floor There was also noise from an air conditioning unit It could do with a bit of cheering up What I saw of Chicago was very pleasing it has something for everyone Would I go back to the Omni yes I would   \n",
              "9                                                                                                                                                                                                                                                                                                                                              On our visit to Chicago we chose the Hyatt due to its location in downtown within walking distance to most major attractions such as Sears Tower Magnificent Mile Grant Millenium Parks etc Subway bus stops very close by to travel to other locations in the city Overall the hotel was very nice clean and at a great location Was in a safe area Went to beautiful Wrigley Field and Soldier Field and saw both teams play I love Chicago and would defenitely stay here again   "
            ],
            "text/html": [
              "\n",
              "  <div id=\"df-4aaf4665-d80e-41c9-bfc1-174a08ec2a12\">\n",
              "    <div class=\"colab-df-container\">\n",
              "      <div>\n",
              "<style scoped>\n",
              "    .dataframe tbody tr th:only-of-type {\n",
              "        vertical-align: middle;\n",
              "    }\n",
              "\n",
              "    .dataframe tbody tr th {\n",
              "        vertical-align: top;\n",
              "    }\n",
              "\n",
              "    .dataframe thead th {\n",
              "        text-align: right;\n",
              "    }\n",
              "</style>\n",
              "<table border=\"1\" class=\"dataframe\">\n",
              "  <thead>\n",
              "    <tr style=\"text-align: right;\">\n",
              "      <th></th>\n",
              "      <th>text</th>\n",
              "      <th>Class</th>\n",
              "      <th>clean_text</th>\n",
              "    </tr>\n",
              "  </thead>\n",
              "  <tbody>\n",
              "    <tr>\n",
              "      <th>0</th>\n",
              "      <td>We stayed for a one night getaway with family on a thursday. Triple AAA rate of 173 was a steal. 7th floor room complete with 44in plasma TV bose stereo, voss and evian water, and gorgeous bathroom(no tub but was fine for us) Concierge was very helpful. You cannot beat this location... Only flaw was breakfast was pricey and service was very very slow(2hours for four kids and four adults on a friday morning) even though there were only two other tables in the restaurant. Food was very good so it was worth the wait. I would return in a heartbeat. A gem in chicago... \\n</td>\n",
              "      <td>1</td>\n",
              "      <td>We stayed for a one night getaway with family on a thursday Triple AAA rate of was a steal th floor room complete with in plasma TV bose stereo voss and evian water and gorgeous bathroom Concierge was very helpful You cannot beat this location Only flaw was breakfast was pricey and service was very very slow even though there were only two other tables in the restaurant Food was very good so it was worth the wait I would return in a heartbeat A gem in chicago</td>\n",
              "    </tr>\n",
              "    <tr>\n",
              "      <th>1</th>\n",
              "      <td>Triple A rate with upgrade to view room was less than $200 which also included breakfast vouchers. Had a great view of river, lake, Wrigley Bldg. &amp; Tribune Bldg. Most major restaurants, Shopping, Sightseeing attractions within walking distance. Large room with a very comfortable bed. \\n</td>\n",
              "      <td>1</td>\n",
              "      <td>Triple A rate with upgrade to view room was less than which also included breakfast vouchers Had a great view of river lake Wrigley Bldg Tribune Bldg Most major restaurants Shopping Sightseeing attractions within walking distance Large room with a very comfortable bed</td>\n",
              "    </tr>\n",
              "    <tr>\n",
              "      <th>2</th>\n",
              "      <td>This comes a little late as I'm finally catching up on my reviews from the past several months:) A dear friend and I stayed at the Hyatt Regency in late October 2007 for one night while visiting a friend and her husband from out of town. This hotel is perfect, IMO. Easy check in and check out. Lovely, clean, comfortable rooms with great views of the city. I know this area pretty well and it's very convenient to many downtown Chicago attractions. We had dinner and went clubing with our friends around Division St.. We had no problems getting cabs back and forth to the Hyatt and there's even public transportation right near by but we didn't bother since we only needed cabs from and to the hotel. Parking, as is usual for Chicago, was expensive but we were able to get our car out quickly (h...</td>\n",
              "      <td>1</td>\n",
              "      <td>This comes a little late as I m finally catching up on my reviews from the past several months A dear friend and I stayed at the Hyatt Regency in late October for one night while visiting a friend and her husband from out of town This hotel is perfect IMO Easy check in and check out Lovely clean comfortable rooms with great views of the city I know this area pretty well and it s very convenient to many downtown Chicago attractions We had dinner and went clubing with our friends around Division St We had no problems getting cabs back and forth to the Hyatt and there s even public transportation right near by but we didn t bother since we only needed cabs from and to the hotel Parking as is usual for Chicago was expensive but we were able to get our car out quickly No problems at all and...</td>\n",
              "    </tr>\n",
              "    <tr>\n",
              "      <th>3</th>\n",
              "      <td>The Omni Chicago really delivers on all fronts, from the spaciousness of the rooms to the helpful staff to the prized location on Michigan Avenue. While this address in Chicago requires a high level of quality, the Omni delivers. Check in for myself and a whole group of people with me was under 3 minutes, the staff had plentiful recommendations for dining and events, and the rooms are some of the largest you'll find at this price range in Chicago. Even the 'standard' room has a separate living area and work desk. The fitness center has free weights, weight machines, and two rows of cardio equipment. I shared the room with 7 others and did not feel cramped in any way! All in all, a great property! \\n</td>\n",
              "      <td>1</td>\n",
              "      <td>The Omni Chicago really delivers on all fronts from the spaciousness of the rooms to the helpful staff to the prized location on Michigan Avenue While this address in Chicago requires a high level of quality the Omni delivers Check in for myself and a whole group of people with me was under minutes the staff had plentiful recommendations for dining and events and the rooms are some of the largest you ll find at this price range in Chicago Even the standard room has a separate living area and work desk The fitness center has free weights weight machines and two rows of cardio equipment I shared the room with others and did not feel cramped in any way All in all a great property</td>\n",
              "    </tr>\n",
              "    <tr>\n",
              "      <th>4</th>\n",
              "      <td>I asked for a high floor away from the elevator and that is what I got. The room was pleasantly decorated, functional and very clean. I didn't need a whole lot of service but when I did they were pleasant and prompt. I used the fitness center which was well equipped and everything was in working order. It is in a great location at one end of the Michigan Avenue shopping district. \\n</td>\n",
              "      <td>1</td>\n",
              "      <td>I asked for a high floor away from the elevator and that is what I got The room was pleasantly decorated functional and very clean I didn t need a whole lot of service but when I did they were pleasant and prompt I used the fitness center which was well equipped and everything was in working order It is in a great location at one end of the Michigan Avenue shopping district</td>\n",
              "    </tr>\n",
              "    <tr>\n",
              "      <th>5</th>\n",
              "      <td>I stayed at the Omni for one night following a business meeting at another downtown Chicago hotel. I was completely impressed by the service; all personnel during my stay were absolutely outstanding. I checked in quite early (no problem) and was efficiently checked in. My room had a somewhat heavy scent of air freshener (the ONLY negative from the entire stay), which was managed reasonably well by opening the windows. I don't generally require much during my hotel stays, but suffice to say the doorman, housekeeping, the night manager and bartender at 676, the day waiter at 676, and the concierge were amazing - I never waited more than about 30 seconds for anything. The room was very comfy and the amenities were superior. One very tiny complaint - there was no wastebasket near the sink ...</td>\n",
              "      <td>1</td>\n",
              "      <td>I stayed at the Omni for one night following a business meeting at another downtown Chicago hotel I was completely impressed by the service all personnel during my stay were absolutely outstanding I checked in quite early and was efficiently checked in My room had a somewhat heavy scent of air freshener which was managed reasonably well by opening the windows I don t generally require much during my hotel stays but suffice to say the doorman housekeeping the night manager and bartender at the day waiter at and the concierge were amazing I never waited more than about seconds for anything The room was very comfy and the amenities were superior One very tiny complaint there was no wastebasket near the sink or near the wet bar had to walk to the other end of the bathroom or sitting room t...</td>\n",
              "    </tr>\n",
              "    <tr>\n",
              "      <th>6</th>\n",
              "      <td>We stayed in the Conrad for 4 nights just before Thanksgiving. We had a corner room overlooking N Michigan Av and the Tribune Building. To say this is a 5 star hotel is to damn this place with faint praise - it is wonderful. The staff were unbelievably helpful. The standard of the room was superb - HD plasma screens, luxury bedlinens, iPod radio, huge bathroom. Location is unbeatable - right in the heart of everything - watched the whole Light Festival parade from the window. Breakfasts were excellent - no help yourself buffet here - with full and attentive table service. Would have no hesitation recommending or staying again in this hotel - 5 out of 5. \\n</td>\n",
              "      <td>1</td>\n",
              "      <td>We stayed in the Conrad for nights just before Thanksgiving We had a corner room overlooking N Michigan Av and the Tribune Building To say this is a star hotel is to damn this place with faint praise it is wonderful The staff were unbelievably helpful The standard of the room was superb HD plasma screens luxury bedlinens iPod radio huge bathroom Location is unbeatable right in the heart of everything watched the whole Light Festival parade from the window Breakfasts were excellent no help yourself buffet here with full and attentive table service Would have no hesitation recommending or staying again in this hotel out of</td>\n",
              "    </tr>\n",
              "    <tr>\n",
              "      <th>7</th>\n",
              "      <td>Just got back from 2 days up in Chicago shopping with girlfriends. First time I have stayed at the Omni. I did so because I saw a $129.00 rate that included $25.00 of free food on Travelzoo. The three of us (55 year olds) all stayed in one suite with 2 double beds and a VERY comfortable pull out sofa. We had plenty of room. Food in the restaurant was great, service was outstanding from everone we came into contact with, early morning delivery of free coffee, juice and hot chocolate was fabulous and recommendations from the staff on where to eat, time of movies, shopping areas, etc was really helpful. Need I mention the outstanding location? Simply the best! We all decided that the Omni is our new favorite hotel. \\n</td>\n",
              "      <td>1</td>\n",
              "      <td>Just got back from days up in Chicago shopping with girlfriends First time I have stayed at the Omni I did so because I saw a rate that included of free food on Travelzoo The three of us all stayed in one suite with double beds and a VERY comfortable pull out sofa We had plenty of room Food in the restaurant was great service was outstanding from everone we came into contact with early morning delivery of free coffee juice and hot chocolate was fabulous and recommendations from the staff on where to eat time of movies shopping areas etc was really helpful Need I mention the outstanding location Simply the best We all decided that the Omni is our new favorite hotel</td>\n",
              "    </tr>\n",
              "    <tr>\n",
              "      <th>8</th>\n",
              "      <td>We arrived at the Omni on 2nd September for a 6 day stay. I took ill when I left the plane after travelling from Manchester so I saw more of the room than I anticipated. I couldn't go out for 4 days. The room was spacious and clean. The bed was extremely comfortable. The bathroom was large and very clean. What more could you ask. We had coffee and juice left outside our door every morning at the time we requested. I managed to go to the 5th floor to see the sun terrace (outside the gym) Having a sun terrace in a city hotel is a great idea but the terrace was a bit grim. A few sunbeds on a concrete floor. There was also noise from an air conditioning unit. It could do with a bit of cheering up. What I saw of Chicago was very pleasing, it has something for everyone. Would I go back to th...</td>\n",
              "      <td>1</td>\n",
              "      <td>We arrived at the Omni on nd September for a day stay I took ill when I left the plane after travelling from Manchester so I saw more of the room than I anticipated I couldn t go out for days The room was spacious and clean The bed was extremely comfortable The bathroom was large and very clean What more could you ask We had coffee and juice left outside our door every morning at the time we requested I managed to go to the th floor to see the sun terrace Having a sun terrace in a city hotel is a great idea but the terrace was a bit grim A few sunbeds on a concrete floor There was also noise from an air conditioning unit It could do with a bit of cheering up What I saw of Chicago was very pleasing it has something for everyone Would I go back to the Omni yes I would</td>\n",
              "    </tr>\n",
              "    <tr>\n",
              "      <th>9</th>\n",
              "      <td>On our visit to Chicago, we chose the Hyatt due to its location in downtown, within walking distance to most major attractions, such as Sears Tower, Magnificent Mile, Grant/Millenium Parks, etc. Subway &amp; bus stops very close by to travel to other locations in the city . Overall the hotel was very nice, clean, and at a great location. Was in a safe area. Went to beautiful Wrigley Field and Soldier Field and saw both teams play. I love Chicago and would defenitely stay here again! \\n</td>\n",
              "      <td>1</td>\n",
              "      <td>On our visit to Chicago we chose the Hyatt due to its location in downtown within walking distance to most major attractions such as Sears Tower Magnificent Mile Grant Millenium Parks etc Subway bus stops very close by to travel to other locations in the city Overall the hotel was very nice clean and at a great location Was in a safe area Went to beautiful Wrigley Field and Soldier Field and saw both teams play I love Chicago and would defenitely stay here again</td>\n",
              "    </tr>\n",
              "  </tbody>\n",
              "</table>\n",
              "</div>\n",
              "      <button class=\"colab-df-convert\" onclick=\"convertToInteractive('df-4aaf4665-d80e-41c9-bfc1-174a08ec2a12')\"\n",
              "              title=\"Convert this dataframe to an interactive table.\"\n",
              "              style=\"display:none;\">\n",
              "        \n",
              "  <svg xmlns=\"http://www.w3.org/2000/svg\" height=\"24px\"viewBox=\"0 0 24 24\"\n",
              "       width=\"24px\">\n",
              "    <path d=\"M0 0h24v24H0V0z\" fill=\"none\"/>\n",
              "    <path d=\"M18.56 5.44l.94 2.06.94-2.06 2.06-.94-2.06-.94-.94-2.06-.94 2.06-2.06.94zm-11 1L8.5 8.5l.94-2.06 2.06-.94-2.06-.94L8.5 2.5l-.94 2.06-2.06.94zm10 10l.94 2.06.94-2.06 2.06-.94-2.06-.94-.94-2.06-.94 2.06-2.06.94z\"/><path d=\"M17.41 7.96l-1.37-1.37c-.4-.4-.92-.59-1.43-.59-.52 0-1.04.2-1.43.59L10.3 9.45l-7.72 7.72c-.78.78-.78 2.05 0 2.83L4 21.41c.39.39.9.59 1.41.59.51 0 1.02-.2 1.41-.59l7.78-7.78 2.81-2.81c.8-.78.8-2.07 0-2.86zM5.41 20L4 18.59l7.72-7.72 1.47 1.35L5.41 20z\"/>\n",
              "  </svg>\n",
              "      </button>\n",
              "      \n",
              "  <style>\n",
              "    .colab-df-container {\n",
              "      display:flex;\n",
              "      flex-wrap:wrap;\n",
              "      gap: 12px;\n",
              "    }\n",
              "\n",
              "    .colab-df-convert {\n",
              "      background-color: #E8F0FE;\n",
              "      border: none;\n",
              "      border-radius: 50%;\n",
              "      cursor: pointer;\n",
              "      display: none;\n",
              "      fill: #1967D2;\n",
              "      height: 32px;\n",
              "      padding: 0 0 0 0;\n",
              "      width: 32px;\n",
              "    }\n",
              "\n",
              "    .colab-df-convert:hover {\n",
              "      background-color: #E2EBFA;\n",
              "      box-shadow: 0px 1px 2px rgba(60, 64, 67, 0.3), 0px 1px 3px 1px rgba(60, 64, 67, 0.15);\n",
              "      fill: #174EA6;\n",
              "    }\n",
              "\n",
              "    [theme=dark] .colab-df-convert {\n",
              "      background-color: #3B4455;\n",
              "      fill: #D2E3FC;\n",
              "    }\n",
              "\n",
              "    [theme=dark] .colab-df-convert:hover {\n",
              "      background-color: #434B5C;\n",
              "      box-shadow: 0px 1px 3px 1px rgba(0, 0, 0, 0.15);\n",
              "      filter: drop-shadow(0px 1px 2px rgba(0, 0, 0, 0.3));\n",
              "      fill: #FFFFFF;\n",
              "    }\n",
              "  </style>\n",
              "\n",
              "      <script>\n",
              "        const buttonEl =\n",
              "          document.querySelector('#df-4aaf4665-d80e-41c9-bfc1-174a08ec2a12 button.colab-df-convert');\n",
              "        buttonEl.style.display =\n",
              "          google.colab.kernel.accessAllowed ? 'block' : 'none';\n",
              "\n",
              "        async function convertToInteractive(key) {\n",
              "          const element = document.querySelector('#df-4aaf4665-d80e-41c9-bfc1-174a08ec2a12');\n",
              "          const dataTable =\n",
              "            await google.colab.kernel.invokeFunction('convertToInteractive',\n",
              "                                                     [key], {});\n",
              "          if (!dataTable) return;\n",
              "\n",
              "          const docLinkHtml = 'Like what you see? Visit the ' +\n",
              "            '<a target=\"_blank\" href=https://colab.research.google.com/notebooks/data_table.ipynb>data table notebook</a>'\n",
              "            + ' to learn more about interactive tables.';\n",
              "          element.innerHTML = '';\n",
              "          dataTable['output_type'] = 'display_data';\n",
              "          await google.colab.output.renderOutput(dataTable, element);\n",
              "          const docLink = document.createElement('div');\n",
              "          docLink.innerHTML = docLinkHtml;\n",
              "          element.appendChild(docLink);\n",
              "        }\n",
              "      </script>\n",
              "    </div>\n",
              "  </div>\n",
              "  "
            ]
          },
          "metadata": {},
          "execution_count": 1806
        }
      ]
    },
    {
      "cell_type": "code",
      "source": [
        "# dropping the uncleaned text column \"text\"\n",
        "df = df.drop(['text'], axis=1)"
      ],
      "metadata": {
        "id": "8Z23FwIO1B_Z"
      },
      "execution_count": 1807,
      "outputs": []
    },
    {
      "cell_type": "code",
      "source": [
        "# renaming the column\n",
        "df.rename(columns = {'clean_text':'text'}, inplace = True)\n",
        "df.head()"
      ],
      "metadata": {
        "colab": {
          "base_uri": "https://localhost:8080/",
          "height": 441
        },
        "id": "PA6IV9PC1B8B",
        "outputId": "5f0fb111-a816-404d-8015-a7ca1932a0a2"
      },
      "execution_count": 1808,
      "outputs": [
        {
          "output_type": "execute_result",
          "data": {
            "text/plain": [
              "   Class  \\\n",
              "0      1   \n",
              "1      1   \n",
              "2      1   \n",
              "3      1   \n",
              "4      1   \n",
              "\n",
              "                                                                                                                                                                                                                                                                                                                                                                                                                                                                                                                                                                                                                                                                                                                                                                                                                              text  \n",
              "0                                                                                                                                                                                                                                                                                                                                                 We stayed for a one night getaway with family on a thursday Triple AAA rate of was a steal th floor room complete with in plasma TV bose stereo voss and evian water and gorgeous bathroom Concierge was very helpful You cannot beat this location Only flaw was breakfast was pricey and service was very very slow even though there were only two other tables in the restaurant Food was very good so it was worth the wait I would return in a heartbeat A gem in chicago   \n",
              "1                                                                                                                                                                                                                                                                                                                                                                                                                                                                                                                                                    Triple A rate with upgrade to view room was less than which also included breakfast vouchers Had a great view of river lake Wrigley Bldg Tribune Bldg Most major restaurants Shopping Sightseeing attractions within walking distance Large room with a very comfortable bed   \n",
              "2  This comes a little late as I m finally catching up on my reviews from the past several months A dear friend and I stayed at the Hyatt Regency in late October for one night while visiting a friend and her husband from out of town This hotel is perfect IMO Easy check in and check out Lovely clean comfortable rooms with great views of the city I know this area pretty well and it s very convenient to many downtown Chicago attractions We had dinner and went clubing with our friends around Division St We had no problems getting cabs back and forth to the Hyatt and there s even public transportation right near by but we didn t bother since we only needed cabs from and to the hotel Parking as is usual for Chicago was expensive but we were able to get our car out quickly No problems at all and...  \n",
              "3                                                                                                                   The Omni Chicago really delivers on all fronts from the spaciousness of the rooms to the helpful staff to the prized location on Michigan Avenue While this address in Chicago requires a high level of quality the Omni delivers Check in for myself and a whole group of people with me was under minutes the staff had plentiful recommendations for dining and events and the rooms are some of the largest you ll find at this price range in Chicago Even the standard room has a separate living area and work desk The fitness center has free weights weight machines and two rows of cardio equipment I shared the room with others and did not feel cramped in any way All in all a great property   \n",
              "4                                                                                                                                                                                                                                                                                                                                                                                                                                        I asked for a high floor away from the elevator and that is what I got The room was pleasantly decorated functional and very clean I didn t need a whole lot of service but when I did they were pleasant and prompt I used the fitness center which was well equipped and everything was in working order It is in a great location at one end of the Michigan Avenue shopping district   "
            ],
            "text/html": [
              "\n",
              "  <div id=\"df-e44febe5-fc6d-49e0-b808-2768b271cd5c\">\n",
              "    <div class=\"colab-df-container\">\n",
              "      <div>\n",
              "<style scoped>\n",
              "    .dataframe tbody tr th:only-of-type {\n",
              "        vertical-align: middle;\n",
              "    }\n",
              "\n",
              "    .dataframe tbody tr th {\n",
              "        vertical-align: top;\n",
              "    }\n",
              "\n",
              "    .dataframe thead th {\n",
              "        text-align: right;\n",
              "    }\n",
              "</style>\n",
              "<table border=\"1\" class=\"dataframe\">\n",
              "  <thead>\n",
              "    <tr style=\"text-align: right;\">\n",
              "      <th></th>\n",
              "      <th>Class</th>\n",
              "      <th>text</th>\n",
              "    </tr>\n",
              "  </thead>\n",
              "  <tbody>\n",
              "    <tr>\n",
              "      <th>0</th>\n",
              "      <td>1</td>\n",
              "      <td>We stayed for a one night getaway with family on a thursday Triple AAA rate of was a steal th floor room complete with in plasma TV bose stereo voss and evian water and gorgeous bathroom Concierge was very helpful You cannot beat this location Only flaw was breakfast was pricey and service was very very slow even though there were only two other tables in the restaurant Food was very good so it was worth the wait I would return in a heartbeat A gem in chicago</td>\n",
              "    </tr>\n",
              "    <tr>\n",
              "      <th>1</th>\n",
              "      <td>1</td>\n",
              "      <td>Triple A rate with upgrade to view room was less than which also included breakfast vouchers Had a great view of river lake Wrigley Bldg Tribune Bldg Most major restaurants Shopping Sightseeing attractions within walking distance Large room with a very comfortable bed</td>\n",
              "    </tr>\n",
              "    <tr>\n",
              "      <th>2</th>\n",
              "      <td>1</td>\n",
              "      <td>This comes a little late as I m finally catching up on my reviews from the past several months A dear friend and I stayed at the Hyatt Regency in late October for one night while visiting a friend and her husband from out of town This hotel is perfect IMO Easy check in and check out Lovely clean comfortable rooms with great views of the city I know this area pretty well and it s very convenient to many downtown Chicago attractions We had dinner and went clubing with our friends around Division St We had no problems getting cabs back and forth to the Hyatt and there s even public transportation right near by but we didn t bother since we only needed cabs from and to the hotel Parking as is usual for Chicago was expensive but we were able to get our car out quickly No problems at all and...</td>\n",
              "    </tr>\n",
              "    <tr>\n",
              "      <th>3</th>\n",
              "      <td>1</td>\n",
              "      <td>The Omni Chicago really delivers on all fronts from the spaciousness of the rooms to the helpful staff to the prized location on Michigan Avenue While this address in Chicago requires a high level of quality the Omni delivers Check in for myself and a whole group of people with me was under minutes the staff had plentiful recommendations for dining and events and the rooms are some of the largest you ll find at this price range in Chicago Even the standard room has a separate living area and work desk The fitness center has free weights weight machines and two rows of cardio equipment I shared the room with others and did not feel cramped in any way All in all a great property</td>\n",
              "    </tr>\n",
              "    <tr>\n",
              "      <th>4</th>\n",
              "      <td>1</td>\n",
              "      <td>I asked for a high floor away from the elevator and that is what I got The room was pleasantly decorated functional and very clean I didn t need a whole lot of service but when I did they were pleasant and prompt I used the fitness center which was well equipped and everything was in working order It is in a great location at one end of the Michigan Avenue shopping district</td>\n",
              "    </tr>\n",
              "  </tbody>\n",
              "</table>\n",
              "</div>\n",
              "      <button class=\"colab-df-convert\" onclick=\"convertToInteractive('df-e44febe5-fc6d-49e0-b808-2768b271cd5c')\"\n",
              "              title=\"Convert this dataframe to an interactive table.\"\n",
              "              style=\"display:none;\">\n",
              "        \n",
              "  <svg xmlns=\"http://www.w3.org/2000/svg\" height=\"24px\"viewBox=\"0 0 24 24\"\n",
              "       width=\"24px\">\n",
              "    <path d=\"M0 0h24v24H0V0z\" fill=\"none\"/>\n",
              "    <path d=\"M18.56 5.44l.94 2.06.94-2.06 2.06-.94-2.06-.94-.94-2.06-.94 2.06-2.06.94zm-11 1L8.5 8.5l.94-2.06 2.06-.94-2.06-.94L8.5 2.5l-.94 2.06-2.06.94zm10 10l.94 2.06.94-2.06 2.06-.94-2.06-.94-.94-2.06-.94 2.06-2.06.94z\"/><path d=\"M17.41 7.96l-1.37-1.37c-.4-.4-.92-.59-1.43-.59-.52 0-1.04.2-1.43.59L10.3 9.45l-7.72 7.72c-.78.78-.78 2.05 0 2.83L4 21.41c.39.39.9.59 1.41.59.51 0 1.02-.2 1.41-.59l7.78-7.78 2.81-2.81c.8-.78.8-2.07 0-2.86zM5.41 20L4 18.59l7.72-7.72 1.47 1.35L5.41 20z\"/>\n",
              "  </svg>\n",
              "      </button>\n",
              "      \n",
              "  <style>\n",
              "    .colab-df-container {\n",
              "      display:flex;\n",
              "      flex-wrap:wrap;\n",
              "      gap: 12px;\n",
              "    }\n",
              "\n",
              "    .colab-df-convert {\n",
              "      background-color: #E8F0FE;\n",
              "      border: none;\n",
              "      border-radius: 50%;\n",
              "      cursor: pointer;\n",
              "      display: none;\n",
              "      fill: #1967D2;\n",
              "      height: 32px;\n",
              "      padding: 0 0 0 0;\n",
              "      width: 32px;\n",
              "    }\n",
              "\n",
              "    .colab-df-convert:hover {\n",
              "      background-color: #E2EBFA;\n",
              "      box-shadow: 0px 1px 2px rgba(60, 64, 67, 0.3), 0px 1px 3px 1px rgba(60, 64, 67, 0.15);\n",
              "      fill: #174EA6;\n",
              "    }\n",
              "\n",
              "    [theme=dark] .colab-df-convert {\n",
              "      background-color: #3B4455;\n",
              "      fill: #D2E3FC;\n",
              "    }\n",
              "\n",
              "    [theme=dark] .colab-df-convert:hover {\n",
              "      background-color: #434B5C;\n",
              "      box-shadow: 0px 1px 3px 1px rgba(0, 0, 0, 0.15);\n",
              "      filter: drop-shadow(0px 1px 2px rgba(0, 0, 0, 0.3));\n",
              "      fill: #FFFFFF;\n",
              "    }\n",
              "  </style>\n",
              "\n",
              "      <script>\n",
              "        const buttonEl =\n",
              "          document.querySelector('#df-e44febe5-fc6d-49e0-b808-2768b271cd5c button.colab-df-convert');\n",
              "        buttonEl.style.display =\n",
              "          google.colab.kernel.accessAllowed ? 'block' : 'none';\n",
              "\n",
              "        async function convertToInteractive(key) {\n",
              "          const element = document.querySelector('#df-e44febe5-fc6d-49e0-b808-2768b271cd5c');\n",
              "          const dataTable =\n",
              "            await google.colab.kernel.invokeFunction('convertToInteractive',\n",
              "                                                     [key], {});\n",
              "          if (!dataTable) return;\n",
              "\n",
              "          const docLinkHtml = 'Like what you see? Visit the ' +\n",
              "            '<a target=\"_blank\" href=https://colab.research.google.com/notebooks/data_table.ipynb>data table notebook</a>'\n",
              "            + ' to learn more about interactive tables.';\n",
              "          element.innerHTML = '';\n",
              "          dataTable['output_type'] = 'display_data';\n",
              "          await google.colab.output.renderOutput(dataTable, element);\n",
              "          const docLink = document.createElement('div');\n",
              "          docLink.innerHTML = docLinkHtml;\n",
              "          element.appendChild(docLink);\n",
              "        }\n",
              "      </script>\n",
              "    </div>\n",
              "  </div>\n",
              "  "
            ]
          },
          "metadata": {},
          "execution_count": 1808
        }
      ]
    },
    {
      "cell_type": "code",
      "source": [
        "import spacy\n",
        "#loading the english language small model of spacy\n",
        "en = spacy.load('en_core_web_sm')\n",
        "sw_spacy = en.Defaults.stop_words\n",
        "print(sw_spacy)"
      ],
      "metadata": {
        "colab": {
          "base_uri": "https://localhost:8080/"
        },
        "id": "TS03aaDy1B4p",
        "outputId": "bf469cc5-3b4f-4181-de1c-fc9133027382"
      },
      "execution_count": 1809,
      "outputs": [
        {
          "output_type": "stream",
          "name": "stdout",
          "text": [
            "{'never', 'show', 'three', 'then', 'via', 'ten', 'few', '’re', 'us', 'was', '‘m', 'same', 'make', 'may', 'more', 'whereafter', 'but', 'between', 'hence', 'beforehand', 'get', 'last', 'ourselves', 'four', 'latter', 'your', 'upon', 'almost', 'six', '’ve', 'onto', 'hereby', 'anything', '‘ll', 'else', 'however', 'others', 're', 'doing', 'other', 'much', 'wherein', 'which', '’m', 'toward', 'very', 'afterwards', 'see', 'least', 'again', 'they', 'fifteen', 'herein', 'less', 'side', 'regarding', 'two', 'nothing', 'often', 'off', 'amount', 'himself', 'done', 'me', 'nine', 'along', 'somewhere', 'although', 'am', 'a', 'too', 'seem', 'might', 'sixty', 'that', \"n't\", 'among', 'over', 'moreover', 'had', 'well', 'thereupon', 'bottom', 'who', 'anywhere', 'there', 'five', 'therein', 'no', 'this', 'third', 'every', 'an', 'wherever', 'whom', 'become', 'everything', 'below', 'former', 'unless', 'whether', 'perhaps', 'nobody', 'give', 'most', 'therefore', 'though', 'each', 'whatever', \"'s\", 'as', 'his', 'go', 'with', '’ll', 'the', '’d', 'mostly', 'alone', 'someone', 'one', 'did', 'please', \"'ve\", 'my', 'whole', 'around', 'it', 'neither', 'eleven', 'move', 'seemed', 'all', 'i', 'ca', 'she', '‘s', '‘ve', 'has', 'namely', 'yet', 'myself', 'how', 'thereby', 'against', 'behind', 'thereafter', \"'re\", 'front', 'amongst', 'through', 'first', 'keep', 'them', 'is', 'will', 'everywhere', 'formerly', 'per', 'themselves', 'such', 'call', 'latterly', 'hundred', 'herself', 'further', 'seeming', 'noone', 'part', 'anyway', 'top', 'throughout', 'eight', 'by', 'thence', 'to', 'what', '‘re', 'have', 'were', 'before', 'hereafter', 'could', 'always', 'any', 'into', 'are', 'really', 'nowhere', 'on', 'say', 'these', 'ever', 'whenever', 'above', 'none', 'whose', 'either', 'for', 'hereupon', 'beyond', 'you', 'be', 'next', 'he', 'twelve', 'already', 'of', 'does', 'yourselves', 'do', 'otherwise', 'mine', 'still', 'those', 'would', 'without', 'serious', 'becoming', 'both', 'whereupon', \"'m\", 'meanwhile', 'being', 'sometimes', 'after', 'down', 'together', 'from', '‘d', \"'d\", 'when', \"'ll\", 'various', 'forty', 'something', 'even', 'made', 'besides', 'until', 'must', 'so', 'beside', 'twenty', 'due', 'empty', 'where', 'been', 'put', 'anyone', 'quite', 'just', 'take', 'cannot', 'under', 'their', 'at', 'yours', 'than', 'nevertheless', 'n’t', 'within', 'elsewhere', 'somehow', 'while', 'becomes', 'everyone', 'in', 'yourself', 'about', 'can', 'towards', 'only', 'another', 'thru', 'and', 'not', 'whither', 'hers', 'out', 'rather', 'indeed', 'back', 'nor', 'whereas', 'seems', 'him', 'own', '’s', 'name', 'n‘t', 'thus', 'became', 'should', 'whoever', 'across', 'using', 'here', 'now', 'or', 'because', 'during', 'up', 'full', 'also', 'ours', 'some', 'anyhow', 'itself', 'sometime', 'why', 'we', 'enough', 'fifty', 'her', 'once', 'if', 'used', 'our', 'whence', 'many', 'except', 'several', 'its', 'whereby', 'since'}\n"
          ]
        }
      ]
    },
    {
      "cell_type": "code",
      "source": [
        "import nltk\n",
        "from nltk.corpus import stopwords\n",
        "sw_nltk = stopwords.words('english')\n",
        "print(sw_nltk)"
      ],
      "metadata": {
        "colab": {
          "base_uri": "https://localhost:8080/"
        },
        "id": "HQ43oOMR1B1N",
        "outputId": "4290eaba-b8c2-4d2a-bb74-4e89ec91ac54"
      },
      "execution_count": 1810,
      "outputs": [
        {
          "output_type": "stream",
          "name": "stdout",
          "text": [
            "['i', 'me', 'my', 'myself', 'we', 'our', 'ours', 'ourselves', 'you', \"you're\", \"you've\", \"you'll\", \"you'd\", 'your', 'yours', 'yourself', 'yourselves', 'he', 'him', 'his', 'himself', 'she', \"she's\", 'her', 'hers', 'herself', 'it', \"it's\", 'its', 'itself', 'they', 'them', 'their', 'theirs', 'themselves', 'what', 'which', 'who', 'whom', 'this', 'that', \"that'll\", 'these', 'those', 'am', 'is', 'are', 'was', 'were', 'be', 'been', 'being', 'have', 'has', 'had', 'having', 'do', 'does', 'did', 'doing', 'a', 'an', 'the', 'and', 'but', 'if', 'or', 'because', 'as', 'until', 'while', 'of', 'at', 'by', 'for', 'with', 'about', 'against', 'between', 'into', 'through', 'during', 'before', 'after', 'above', 'below', 'to', 'from', 'up', 'down', 'in', 'out', 'on', 'off', 'over', 'under', 'again', 'further', 'then', 'once', 'here', 'there', 'when', 'where', 'why', 'how', 'all', 'any', 'both', 'each', 'few', 'more', 'most', 'other', 'some', 'such', 'no', 'nor', 'not', 'only', 'own', 'same', 'so', 'than', 'too', 'very', 's', 't', 'can', 'will', 'just', 'don', \"don't\", 'should', \"should've\", 'now', 'd', 'll', 'm', 'o', 're', 've', 'y', 'ain', 'aren', \"aren't\", 'couldn', \"couldn't\", 'didn', \"didn't\", 'doesn', \"doesn't\", 'hadn', \"hadn't\", 'hasn', \"hasn't\", 'haven', \"haven't\", 'isn', \"isn't\", 'ma', 'mightn', \"mightn't\", 'mustn', \"mustn't\", 'needn', \"needn't\", 'shan', \"shan't\", 'shouldn', \"shouldn't\", 'wasn', \"wasn't\", 'weren', \"weren't\", 'won', \"won't\", 'wouldn', \"wouldn't\"]\n"
          ]
        }
      ]
    },
    {
      "cell_type": "code",
      "source": [
        "sw_nltk.extend(['th','stay'])\n",
        "print(len(sw_nltk))"
      ],
      "metadata": {
        "colab": {
          "base_uri": "https://localhost:8080/"
        },
        "id": "OedFNhJ01BxZ",
        "outputId": "1cd5fa46-d163-4d8b-b07c-a56227c5f483"
      },
      "execution_count": 1811,
      "outputs": [
        {
          "output_type": "stream",
          "name": "stdout",
          "text": [
            "181\n"
          ]
        }
      ]
    },
    {
      "cell_type": "code",
      "source": [
        "# preprocessing the data (removing stopwords, convert the sentence to lower case, and also applying lemmatization to get meaningful words )\n",
        "from nltk.corpus import stopwords\n",
        "from nltk.stem import WordNetLemmatizer, PorterStemmer\n",
        "#stop_words = set(stopwords.words('english'))\n",
        "ps=PorterStemmer()\n",
        "wnl=WordNetLemmatizer()\n",
        "def clean_lemma(review):\n",
        "    review = review.lower()\n",
        "    review = review.split()\n",
        "    review = [wnl.lemmatize(word) for word in review if word not in sw_nltk]\n",
        "    review = [wnl.lemmatize(word) for word in review if word not in sw_spacy]\n",
        "    review = ' '.join(review)\n",
        "    return review"
      ],
      "metadata": {
        "id": "NllSe3Fh1Bt7"
      },
      "execution_count": 1812,
      "outputs": []
    },
    {
      "cell_type": "code",
      "source": [
        "# using lemmatization\n",
        "df['text']=df['text'].apply(clean_lemma)\n",
        "df.head()"
      ],
      "metadata": {
        "colab": {
          "base_uri": "https://localhost:8080/",
          "height": 371
        },
        "id": "JYZt0NMn1Bqx",
        "outputId": "ab121e28-e417-427b-aa50-7266f8c6b0e4"
      },
      "execution_count": 1813,
      "outputs": [
        {
          "output_type": "execute_result",
          "data": {
            "text/plain": [
              "   Class  \\\n",
              "0      1   \n",
              "1      1   \n",
              "2      1   \n",
              "3      1   \n",
              "4      1   \n",
              "\n",
              "                                                                                                                                                                                                                                                                                                                                                                                                                                                                                                                                      text  \n",
              "0                                                                                                                                                                                                                                                            stayed night getaway family thursday triple aaa rate steal floor room complete plasma tv bose stereo voss evian water gorgeous bathroom concierge helpful beat location flaw breakfast pricey service slow table restaurant food good worth wait return heartbeat gem chicago  \n",
              "1                                                                                                                                                                                                                                                                                                                                 triple rate upgrade view room le included breakfast voucher great view river lake wrigley bldg tribune bldg major restaurant shopping sightseeing attraction walking distance large room comfortable bed  \n",
              "2  come little late finally catching review past month dear friend stayed hyatt regency late october night visiting friend husband town hotel perfect imo easy check check lovely clean comfortable room great view city know area pretty convenient downtown chicago attraction dinner went clubing friend division st problem getting cab forth hyatt public transportation right near bother needed cab hotel parking usual chicago expensive able car quickly problem best got rate hotwire downright steal area chicago quality hotel  \n",
              "3                                                                                                                      omni chicago delivers spaciousness room helpful staff prized location michigan avenue address chicago requires high level quality omni delivers check group people minute staff plentiful recommendation dining event room largest find price range chicago standard room separate living area work desk fitness center free weight weight machine row cardio equipment shared room feel cramped way great property  \n",
              "4                                                                                                                                                                                                                                                                                                                                asked high floor away elevator got room pleasantly decorated functional clean need lot service pleasant prompt fitness center equipped working order great location end michigan avenue shopping district  "
            ],
            "text/html": [
              "\n",
              "  <div id=\"df-7ffa7402-bfdd-4b85-a58b-49a7f29d6d13\">\n",
              "    <div class=\"colab-df-container\">\n",
              "      <div>\n",
              "<style scoped>\n",
              "    .dataframe tbody tr th:only-of-type {\n",
              "        vertical-align: middle;\n",
              "    }\n",
              "\n",
              "    .dataframe tbody tr th {\n",
              "        vertical-align: top;\n",
              "    }\n",
              "\n",
              "    .dataframe thead th {\n",
              "        text-align: right;\n",
              "    }\n",
              "</style>\n",
              "<table border=\"1\" class=\"dataframe\">\n",
              "  <thead>\n",
              "    <tr style=\"text-align: right;\">\n",
              "      <th></th>\n",
              "      <th>Class</th>\n",
              "      <th>text</th>\n",
              "    </tr>\n",
              "  </thead>\n",
              "  <tbody>\n",
              "    <tr>\n",
              "      <th>0</th>\n",
              "      <td>1</td>\n",
              "      <td>stayed night getaway family thursday triple aaa rate steal floor room complete plasma tv bose stereo voss evian water gorgeous bathroom concierge helpful beat location flaw breakfast pricey service slow table restaurant food good worth wait return heartbeat gem chicago</td>\n",
              "    </tr>\n",
              "    <tr>\n",
              "      <th>1</th>\n",
              "      <td>1</td>\n",
              "      <td>triple rate upgrade view room le included breakfast voucher great view river lake wrigley bldg tribune bldg major restaurant shopping sightseeing attraction walking distance large room comfortable bed</td>\n",
              "    </tr>\n",
              "    <tr>\n",
              "      <th>2</th>\n",
              "      <td>1</td>\n",
              "      <td>come little late finally catching review past month dear friend stayed hyatt regency late october night visiting friend husband town hotel perfect imo easy check check lovely clean comfortable room great view city know area pretty convenient downtown chicago attraction dinner went clubing friend division st problem getting cab forth hyatt public transportation right near bother needed cab hotel parking usual chicago expensive able car quickly problem best got rate hotwire downright steal area chicago quality hotel</td>\n",
              "    </tr>\n",
              "    <tr>\n",
              "      <th>3</th>\n",
              "      <td>1</td>\n",
              "      <td>omni chicago delivers spaciousness room helpful staff prized location michigan avenue address chicago requires high level quality omni delivers check group people minute staff plentiful recommendation dining event room largest find price range chicago standard room separate living area work desk fitness center free weight weight machine row cardio equipment shared room feel cramped way great property</td>\n",
              "    </tr>\n",
              "    <tr>\n",
              "      <th>4</th>\n",
              "      <td>1</td>\n",
              "      <td>asked high floor away elevator got room pleasantly decorated functional clean need lot service pleasant prompt fitness center equipped working order great location end michigan avenue shopping district</td>\n",
              "    </tr>\n",
              "  </tbody>\n",
              "</table>\n",
              "</div>\n",
              "      <button class=\"colab-df-convert\" onclick=\"convertToInteractive('df-7ffa7402-bfdd-4b85-a58b-49a7f29d6d13')\"\n",
              "              title=\"Convert this dataframe to an interactive table.\"\n",
              "              style=\"display:none;\">\n",
              "        \n",
              "  <svg xmlns=\"http://www.w3.org/2000/svg\" height=\"24px\"viewBox=\"0 0 24 24\"\n",
              "       width=\"24px\">\n",
              "    <path d=\"M0 0h24v24H0V0z\" fill=\"none\"/>\n",
              "    <path d=\"M18.56 5.44l.94 2.06.94-2.06 2.06-.94-2.06-.94-.94-2.06-.94 2.06-2.06.94zm-11 1L8.5 8.5l.94-2.06 2.06-.94-2.06-.94L8.5 2.5l-.94 2.06-2.06.94zm10 10l.94 2.06.94-2.06 2.06-.94-2.06-.94-.94-2.06-.94 2.06-2.06.94z\"/><path d=\"M17.41 7.96l-1.37-1.37c-.4-.4-.92-.59-1.43-.59-.52 0-1.04.2-1.43.59L10.3 9.45l-7.72 7.72c-.78.78-.78 2.05 0 2.83L4 21.41c.39.39.9.59 1.41.59.51 0 1.02-.2 1.41-.59l7.78-7.78 2.81-2.81c.8-.78.8-2.07 0-2.86zM5.41 20L4 18.59l7.72-7.72 1.47 1.35L5.41 20z\"/>\n",
              "  </svg>\n",
              "      </button>\n",
              "      \n",
              "  <style>\n",
              "    .colab-df-container {\n",
              "      display:flex;\n",
              "      flex-wrap:wrap;\n",
              "      gap: 12px;\n",
              "    }\n",
              "\n",
              "    .colab-df-convert {\n",
              "      background-color: #E8F0FE;\n",
              "      border: none;\n",
              "      border-radius: 50%;\n",
              "      cursor: pointer;\n",
              "      display: none;\n",
              "      fill: #1967D2;\n",
              "      height: 32px;\n",
              "      padding: 0 0 0 0;\n",
              "      width: 32px;\n",
              "    }\n",
              "\n",
              "    .colab-df-convert:hover {\n",
              "      background-color: #E2EBFA;\n",
              "      box-shadow: 0px 1px 2px rgba(60, 64, 67, 0.3), 0px 1px 3px 1px rgba(60, 64, 67, 0.15);\n",
              "      fill: #174EA6;\n",
              "    }\n",
              "\n",
              "    [theme=dark] .colab-df-convert {\n",
              "      background-color: #3B4455;\n",
              "      fill: #D2E3FC;\n",
              "    }\n",
              "\n",
              "    [theme=dark] .colab-df-convert:hover {\n",
              "      background-color: #434B5C;\n",
              "      box-shadow: 0px 1px 3px 1px rgba(0, 0, 0, 0.15);\n",
              "      filter: drop-shadow(0px 1px 2px rgba(0, 0, 0, 0.3));\n",
              "      fill: #FFFFFF;\n",
              "    }\n",
              "  </style>\n",
              "\n",
              "      <script>\n",
              "        const buttonEl =\n",
              "          document.querySelector('#df-7ffa7402-bfdd-4b85-a58b-49a7f29d6d13 button.colab-df-convert');\n",
              "        buttonEl.style.display =\n",
              "          google.colab.kernel.accessAllowed ? 'block' : 'none';\n",
              "\n",
              "        async function convertToInteractive(key) {\n",
              "          const element = document.querySelector('#df-7ffa7402-bfdd-4b85-a58b-49a7f29d6d13');\n",
              "          const dataTable =\n",
              "            await google.colab.kernel.invokeFunction('convertToInteractive',\n",
              "                                                     [key], {});\n",
              "          if (!dataTable) return;\n",
              "\n",
              "          const docLinkHtml = 'Like what you see? Visit the ' +\n",
              "            '<a target=\"_blank\" href=https://colab.research.google.com/notebooks/data_table.ipynb>data table notebook</a>'\n",
              "            + ' to learn more about interactive tables.';\n",
              "          element.innerHTML = '';\n",
              "          dataTable['output_type'] = 'display_data';\n",
              "          await google.colab.output.renderOutput(dataTable, element);\n",
              "          const docLink = document.createElement('div');\n",
              "          docLink.innerHTML = docLinkHtml;\n",
              "          element.appendChild(docLink);\n",
              "        }\n",
              "      </script>\n",
              "    </div>\n",
              "  </div>\n",
              "  "
            ]
          },
          "metadata": {},
          "execution_count": 1813
        }
      ]
    },
    {
      "cell_type": "markdown",
      "source": [
        "### FEATURE EXTRACTION"
      ],
      "metadata": {
        "id": "016Fipdd4nou"
      }
    },
    {
      "cell_type": "code",
      "source": [
        "x = df['text']\n",
        "y = df['Class']"
      ],
      "metadata": {
        "id": "dxOXDi2I1Bnh"
      },
      "execution_count": 1814,
      "outputs": []
    },
    {
      "cell_type": "code",
      "source": [
        "from sklearn.feature_extraction.text import TfidfVectorizer, CountVectorizer \n",
        "from sklearn.feature_extraction.text import TfidfVectorizer\n",
        "cv=TfidfVectorizer()\n",
        "corpii=cv.fit_transform(x) "
      ],
      "metadata": {
        "id": "SVvh5gy31Bkh"
      },
      "execution_count": 1815,
      "outputs": []
    },
    {
      "cell_type": "code",
      "source": [
        "feature_names = cv.get_feature_names()\n",
        "#feature_names"
      ],
      "metadata": {
        "colab": {
          "base_uri": "https://localhost:8080/"
        },
        "id": "y40il7AW1Bhr",
        "outputId": "c92de5d7-417e-40aa-ee78-0672d032a3c8"
      },
      "execution_count": 1816,
      "outputs": [
        {
          "output_type": "stream",
          "name": "stderr",
          "text": [
            "/usr/local/lib/python3.7/dist-packages/sklearn/utils/deprecation.py:87: FutureWarning: Function get_feature_names is deprecated; get_feature_names is deprecated in 1.0 and will be removed in 1.2. Please use get_feature_names_out instead.\n",
            "  warnings.warn(msg, category=FutureWarning)\n"
          ]
        }
      ]
    },
    {
      "cell_type": "code",
      "source": [
        "len(feature_names)"
      ],
      "metadata": {
        "colab": {
          "base_uri": "https://localhost:8080/"
        },
        "id": "-zsmP-Z61BfD",
        "outputId": "18be1292-6c0c-455d-c737-aec0a6a63502"
      },
      "execution_count": 1817,
      "outputs": [
        {
          "output_type": "execute_result",
          "data": {
            "text/plain": [
              "7905"
            ]
          },
          "metadata": {},
          "execution_count": 1817
        }
      ]
    },
    {
      "cell_type": "code",
      "source": [
        "u1 = pd.DataFrame(corpii.toarray(), columns=feature_names)\n",
        "u1.head()"
      ],
      "metadata": {
        "colab": {
          "base_uri": "https://localhost:8080/",
          "height": 235
        },
        "id": "WXXwZCVq1BcM",
        "outputId": "1012c95c-4adf-4e96-baff-2580071f5dac"
      },
      "execution_count": 1818,
      "outputs": [
        {
          "output_type": "execute_result",
          "data": {
            "text/plain": [
              "        aaa  aaahed  aback  abassador  abd  ability      able  abound  abrupt  \\\n",
              "0  0.217034     0.0    0.0        0.0  0.0      0.0  0.000000     0.0     0.0   \n",
              "1  0.000000     0.0    0.0        0.0  0.0      0.0  0.000000     0.0     0.0   \n",
              "2  0.000000     0.0    0.0        0.0  0.0      0.0  0.090437     0.0     0.0   \n",
              "3  0.000000     0.0    0.0        0.0  0.0      0.0  0.000000     0.0     0.0   \n",
              "4  0.000000     0.0    0.0        0.0  0.0      0.0  0.000000     0.0     0.0   \n",
              "\n",
              "   abruptly  ...  yucky  yummo  yummy  yunan  yup  zagat  zest  zipped  zone  \\\n",
              "0       0.0  ...    0.0    0.0    0.0    0.0  0.0    0.0   0.0     0.0   0.0   \n",
              "1       0.0  ...    0.0    0.0    0.0    0.0  0.0    0.0   0.0     0.0   0.0   \n",
              "2       0.0  ...    0.0    0.0    0.0    0.0  0.0    0.0   0.0     0.0   0.0   \n",
              "3       0.0  ...    0.0    0.0    0.0    0.0  0.0    0.0   0.0     0.0   0.0   \n",
              "4       0.0  ...    0.0    0.0    0.0    0.0  0.0    0.0   0.0     0.0   0.0   \n",
              "\n",
              "   zoo  \n",
              "0  0.0  \n",
              "1  0.0  \n",
              "2  0.0  \n",
              "3  0.0  \n",
              "4  0.0  \n",
              "\n",
              "[5 rows x 7905 columns]"
            ],
            "text/html": [
              "\n",
              "  <div id=\"df-27fb63a0-67ab-4f56-a53d-ee7a9cdea20e\">\n",
              "    <div class=\"colab-df-container\">\n",
              "      <div>\n",
              "<style scoped>\n",
              "    .dataframe tbody tr th:only-of-type {\n",
              "        vertical-align: middle;\n",
              "    }\n",
              "\n",
              "    .dataframe tbody tr th {\n",
              "        vertical-align: top;\n",
              "    }\n",
              "\n",
              "    .dataframe thead th {\n",
              "        text-align: right;\n",
              "    }\n",
              "</style>\n",
              "<table border=\"1\" class=\"dataframe\">\n",
              "  <thead>\n",
              "    <tr style=\"text-align: right;\">\n",
              "      <th></th>\n",
              "      <th>aaa</th>\n",
              "      <th>aaahed</th>\n",
              "      <th>aback</th>\n",
              "      <th>abassador</th>\n",
              "      <th>abd</th>\n",
              "      <th>ability</th>\n",
              "      <th>able</th>\n",
              "      <th>abound</th>\n",
              "      <th>abrupt</th>\n",
              "      <th>abruptly</th>\n",
              "      <th>...</th>\n",
              "      <th>yucky</th>\n",
              "      <th>yummo</th>\n",
              "      <th>yummy</th>\n",
              "      <th>yunan</th>\n",
              "      <th>yup</th>\n",
              "      <th>zagat</th>\n",
              "      <th>zest</th>\n",
              "      <th>zipped</th>\n",
              "      <th>zone</th>\n",
              "      <th>zoo</th>\n",
              "    </tr>\n",
              "  </thead>\n",
              "  <tbody>\n",
              "    <tr>\n",
              "      <th>0</th>\n",
              "      <td>0.217034</td>\n",
              "      <td>0.0</td>\n",
              "      <td>0.0</td>\n",
              "      <td>0.0</td>\n",
              "      <td>0.0</td>\n",
              "      <td>0.0</td>\n",
              "      <td>0.000000</td>\n",
              "      <td>0.0</td>\n",
              "      <td>0.0</td>\n",
              "      <td>0.0</td>\n",
              "      <td>...</td>\n",
              "      <td>0.0</td>\n",
              "      <td>0.0</td>\n",
              "      <td>0.0</td>\n",
              "      <td>0.0</td>\n",
              "      <td>0.0</td>\n",
              "      <td>0.0</td>\n",
              "      <td>0.0</td>\n",
              "      <td>0.0</td>\n",
              "      <td>0.0</td>\n",
              "      <td>0.0</td>\n",
              "    </tr>\n",
              "    <tr>\n",
              "      <th>1</th>\n",
              "      <td>0.000000</td>\n",
              "      <td>0.0</td>\n",
              "      <td>0.0</td>\n",
              "      <td>0.0</td>\n",
              "      <td>0.0</td>\n",
              "      <td>0.0</td>\n",
              "      <td>0.000000</td>\n",
              "      <td>0.0</td>\n",
              "      <td>0.0</td>\n",
              "      <td>0.0</td>\n",
              "      <td>...</td>\n",
              "      <td>0.0</td>\n",
              "      <td>0.0</td>\n",
              "      <td>0.0</td>\n",
              "      <td>0.0</td>\n",
              "      <td>0.0</td>\n",
              "      <td>0.0</td>\n",
              "      <td>0.0</td>\n",
              "      <td>0.0</td>\n",
              "      <td>0.0</td>\n",
              "      <td>0.0</td>\n",
              "    </tr>\n",
              "    <tr>\n",
              "      <th>2</th>\n",
              "      <td>0.000000</td>\n",
              "      <td>0.0</td>\n",
              "      <td>0.0</td>\n",
              "      <td>0.0</td>\n",
              "      <td>0.0</td>\n",
              "      <td>0.0</td>\n",
              "      <td>0.090437</td>\n",
              "      <td>0.0</td>\n",
              "      <td>0.0</td>\n",
              "      <td>0.0</td>\n",
              "      <td>...</td>\n",
              "      <td>0.0</td>\n",
              "      <td>0.0</td>\n",
              "      <td>0.0</td>\n",
              "      <td>0.0</td>\n",
              "      <td>0.0</td>\n",
              "      <td>0.0</td>\n",
              "      <td>0.0</td>\n",
              "      <td>0.0</td>\n",
              "      <td>0.0</td>\n",
              "      <td>0.0</td>\n",
              "    </tr>\n",
              "    <tr>\n",
              "      <th>3</th>\n",
              "      <td>0.000000</td>\n",
              "      <td>0.0</td>\n",
              "      <td>0.0</td>\n",
              "      <td>0.0</td>\n",
              "      <td>0.0</td>\n",
              "      <td>0.0</td>\n",
              "      <td>0.000000</td>\n",
              "      <td>0.0</td>\n",
              "      <td>0.0</td>\n",
              "      <td>0.0</td>\n",
              "      <td>...</td>\n",
              "      <td>0.0</td>\n",
              "      <td>0.0</td>\n",
              "      <td>0.0</td>\n",
              "      <td>0.0</td>\n",
              "      <td>0.0</td>\n",
              "      <td>0.0</td>\n",
              "      <td>0.0</td>\n",
              "      <td>0.0</td>\n",
              "      <td>0.0</td>\n",
              "      <td>0.0</td>\n",
              "    </tr>\n",
              "    <tr>\n",
              "      <th>4</th>\n",
              "      <td>0.000000</td>\n",
              "      <td>0.0</td>\n",
              "      <td>0.0</td>\n",
              "      <td>0.0</td>\n",
              "      <td>0.0</td>\n",
              "      <td>0.0</td>\n",
              "      <td>0.000000</td>\n",
              "      <td>0.0</td>\n",
              "      <td>0.0</td>\n",
              "      <td>0.0</td>\n",
              "      <td>...</td>\n",
              "      <td>0.0</td>\n",
              "      <td>0.0</td>\n",
              "      <td>0.0</td>\n",
              "      <td>0.0</td>\n",
              "      <td>0.0</td>\n",
              "      <td>0.0</td>\n",
              "      <td>0.0</td>\n",
              "      <td>0.0</td>\n",
              "      <td>0.0</td>\n",
              "      <td>0.0</td>\n",
              "    </tr>\n",
              "  </tbody>\n",
              "</table>\n",
              "<p>5 rows × 7905 columns</p>\n",
              "</div>\n",
              "      <button class=\"colab-df-convert\" onclick=\"convertToInteractive('df-27fb63a0-67ab-4f56-a53d-ee7a9cdea20e')\"\n",
              "              title=\"Convert this dataframe to an interactive table.\"\n",
              "              style=\"display:none;\">\n",
              "        \n",
              "  <svg xmlns=\"http://www.w3.org/2000/svg\" height=\"24px\"viewBox=\"0 0 24 24\"\n",
              "       width=\"24px\">\n",
              "    <path d=\"M0 0h24v24H0V0z\" fill=\"none\"/>\n",
              "    <path d=\"M18.56 5.44l.94 2.06.94-2.06 2.06-.94-2.06-.94-.94-2.06-.94 2.06-2.06.94zm-11 1L8.5 8.5l.94-2.06 2.06-.94-2.06-.94L8.5 2.5l-.94 2.06-2.06.94zm10 10l.94 2.06.94-2.06 2.06-.94-2.06-.94-.94-2.06-.94 2.06-2.06.94z\"/><path d=\"M17.41 7.96l-1.37-1.37c-.4-.4-.92-.59-1.43-.59-.52 0-1.04.2-1.43.59L10.3 9.45l-7.72 7.72c-.78.78-.78 2.05 0 2.83L4 21.41c.39.39.9.59 1.41.59.51 0 1.02-.2 1.41-.59l7.78-7.78 2.81-2.81c.8-.78.8-2.07 0-2.86zM5.41 20L4 18.59l7.72-7.72 1.47 1.35L5.41 20z\"/>\n",
              "  </svg>\n",
              "      </button>\n",
              "      \n",
              "  <style>\n",
              "    .colab-df-container {\n",
              "      display:flex;\n",
              "      flex-wrap:wrap;\n",
              "      gap: 12px;\n",
              "    }\n",
              "\n",
              "    .colab-df-convert {\n",
              "      background-color: #E8F0FE;\n",
              "      border: none;\n",
              "      border-radius: 50%;\n",
              "      cursor: pointer;\n",
              "      display: none;\n",
              "      fill: #1967D2;\n",
              "      height: 32px;\n",
              "      padding: 0 0 0 0;\n",
              "      width: 32px;\n",
              "    }\n",
              "\n",
              "    .colab-df-convert:hover {\n",
              "      background-color: #E2EBFA;\n",
              "      box-shadow: 0px 1px 2px rgba(60, 64, 67, 0.3), 0px 1px 3px 1px rgba(60, 64, 67, 0.15);\n",
              "      fill: #174EA6;\n",
              "    }\n",
              "\n",
              "    [theme=dark] .colab-df-convert {\n",
              "      background-color: #3B4455;\n",
              "      fill: #D2E3FC;\n",
              "    }\n",
              "\n",
              "    [theme=dark] .colab-df-convert:hover {\n",
              "      background-color: #434B5C;\n",
              "      box-shadow: 0px 1px 3px 1px rgba(0, 0, 0, 0.15);\n",
              "      filter: drop-shadow(0px 1px 2px rgba(0, 0, 0, 0.3));\n",
              "      fill: #FFFFFF;\n",
              "    }\n",
              "  </style>\n",
              "\n",
              "      <script>\n",
              "        const buttonEl =\n",
              "          document.querySelector('#df-27fb63a0-67ab-4f56-a53d-ee7a9cdea20e button.colab-df-convert');\n",
              "        buttonEl.style.display =\n",
              "          google.colab.kernel.accessAllowed ? 'block' : 'none';\n",
              "\n",
              "        async function convertToInteractive(key) {\n",
              "          const element = document.querySelector('#df-27fb63a0-67ab-4f56-a53d-ee7a9cdea20e');\n",
              "          const dataTable =\n",
              "            await google.colab.kernel.invokeFunction('convertToInteractive',\n",
              "                                                     [key], {});\n",
              "          if (!dataTable) return;\n",
              "\n",
              "          const docLinkHtml = 'Like what you see? Visit the ' +\n",
              "            '<a target=\"_blank\" href=https://colab.research.google.com/notebooks/data_table.ipynb>data table notebook</a>'\n",
              "            + ' to learn more about interactive tables.';\n",
              "          element.innerHTML = '';\n",
              "          dataTable['output_type'] = 'display_data';\n",
              "          await google.colab.output.renderOutput(dataTable, element);\n",
              "          const docLink = document.createElement('div');\n",
              "          docLink.innerHTML = docLinkHtml;\n",
              "          element.appendChild(docLink);\n",
              "        }\n",
              "      </script>\n",
              "    </div>\n",
              "  </div>\n",
              "  "
            ]
          },
          "metadata": {},
          "execution_count": 1818
        }
      ]
    },
    {
      "cell_type": "markdown",
      "source": [
        "### FEATURE SELECTION"
      ],
      "metadata": {
        "id": "pwLqgt4w4rXn"
      }
    },
    {
      "cell_type": "code",
      "source": [
        "from sklearn.feature_selection import SelectKBest\n",
        "from sklearn.feature_selection import chi2\n",
        "# Two features with highest chi-squared statistics are selected\n",
        "chi2_features = SelectKBest(chi2, k = 1000)\n",
        "X_kbest_features = chi2_features.fit_transform(u1, y)"
      ],
      "metadata": {
        "id": "g_l7FvT3kn1Q"
      },
      "execution_count": 1819,
      "outputs": []
    },
    {
      "cell_type": "code",
      "source": [
        "chi_support = chi2_features.get_support()"
      ],
      "metadata": {
        "id": "Dj7T8ZJUkoaY"
      },
      "execution_count": 1820,
      "outputs": []
    },
    {
      "cell_type": "code",
      "source": [
        "chi_feature = u1.loc[:,chi_support].columns.tolist()"
      ],
      "metadata": {
        "id": "ogBa4MS7koeK"
      },
      "execution_count": 1821,
      "outputs": []
    },
    {
      "cell_type": "code",
      "source": [
        "chi_feature"
      ],
      "metadata": {
        "colab": {
          "base_uri": "https://localhost:8080/"
        },
        "id": "XjhAwG8Dkohi",
        "outputId": "4a5fe419-771a-4b4a-a064-0994dbf5cb72"
      },
      "execution_count": 1822,
      "outputs": [
        {
          "output_type": "execute_result",
          "data": {
            "text/plain": [
              "['accept',\n",
              " 'accepted',\n",
              " 'accomidations',\n",
              " 'accommodated',\n",
              " 'accommodation',\n",
              " 'accomodations',\n",
              " 'according',\n",
              " 'accurate',\n",
              " 'acknowledged',\n",
              " 'acted',\n",
              " 'adding',\n",
              " 'address',\n",
              " 'adult',\n",
              " 'advantage',\n",
              " 'advertises',\n",
              " 'advisor',\n",
              " 'affair',\n",
              " 'affinia',\n",
              " 'affordability',\n",
              " 'agent',\n",
              " 'al',\n",
              " 'alive',\n",
              " 'allegro',\n",
              " 'allergenic',\n",
              " 'allergy',\n",
              " 'alley',\n",
              " 'allowed',\n",
              " 'amazing',\n",
              " 'ambassador',\n",
              " 'amenity',\n",
              " 'angie',\n",
              " 'angry',\n",
              " 'anniversary',\n",
              " 'annoying',\n",
              " 'anthony',\n",
              " 'anybody',\n",
              " 'appointed',\n",
              " 'april',\n",
              " 'architectes',\n",
              " 'arranging',\n",
              " 'ask',\n",
              " 'asleep',\n",
              " 'associate',\n",
              " 'assuming',\n",
              " 'atmosphere',\n",
              " 'attached',\n",
              " 'attack',\n",
              " 'attempted',\n",
              " 'attended',\n",
              " 'attending',\n",
              " 'attraction',\n",
              " 'attractive',\n",
              " 'aug',\n",
              " 'authorization',\n",
              " 'av',\n",
              " 'available',\n",
              " 'ave',\n",
              " 'aveda',\n",
              " 'avenue',\n",
              " 'award',\n",
              " 'aware',\n",
              " 'awful',\n",
              " 'bacon',\n",
              " 'badly',\n",
              " 'baggage',\n",
              " 'bakery',\n",
              " 'ball',\n",
              " 'bar',\n",
              " 'bare',\n",
              " 'bargain',\n",
              " 'barking',\n",
              " 'based',\n",
              " 'basement',\n",
              " 'basil',\n",
              " 'bath',\n",
              " 'bathroom',\n",
              " 'battery',\n",
              " 'beautiful',\n",
              " 'beautifull',\n",
              " 'beautifully',\n",
              " 'beauty',\n",
              " 'beck',\n",
              " 'bed',\n",
              " 'bedbug',\n",
              " 'bell',\n",
              " 'bellman',\n",
              " 'beverage',\n",
              " 'bid',\n",
              " 'bin',\n",
              " 'bistro',\n",
              " 'bit',\n",
              " 'bite',\n",
              " 'bitten',\n",
              " 'bland',\n",
              " 'bldg',\n",
              " 'block',\n",
              " 'boarding',\n",
              " 'boast',\n",
              " 'bolted',\n",
              " 'booked',\n",
              " 'bottle',\n",
              " 'bottled',\n",
              " 'box',\n",
              " 'breakfast',\n",
              " 'breaking',\n",
              " 'breath',\n",
              " 'brick',\n",
              " 'brief',\n",
              " 'bringing',\n",
              " 'broken',\n",
              " 'bubble',\n",
              " 'buffet',\n",
              " 'building',\n",
              " 'burnham',\n",
              " 'burnt',\n",
              " 'bus',\n",
              " 'bust',\n",
              " 'bustle',\n",
              " 'cab',\n",
              " 'cabinet',\n",
              " 'called',\n",
              " 'cam',\n",
              " 'cancel',\n",
              " 'capacity',\n",
              " 'car',\n",
              " 'card',\n",
              " 'cared',\n",
              " 'caring',\n",
              " 'carlton',\n",
              " 'castle',\n",
              " 'casual',\n",
              " 'celebrate',\n",
              " 'celebrated',\n",
              " 'centre',\n",
              " 'chair',\n",
              " 'chance',\n",
              " 'charge',\n",
              " 'charged',\n",
              " 'charm',\n",
              " 'cheesecake',\n",
              " 'chicago',\n",
              " 'child',\n",
              " 'chill',\n",
              " 'chinese',\n",
              " 'christmas',\n",
              " 'christopher',\n",
              " 'cigarette',\n",
              " 'cinema',\n",
              " 'city',\n",
              " 'claimed',\n",
              " 'classy',\n",
              " 'cleaned',\n",
              " 'cleaning',\n",
              " 'cleanliness',\n",
              " 'clerk',\n",
              " 'clientele',\n",
              " 'close',\n",
              " 'closer',\n",
              " 'closet',\n",
              " 'coffee',\n",
              " 'coffeepot',\n",
              " 'cold',\n",
              " 'colder',\n",
              " 'collection',\n",
              " 'color',\n",
              " 'com',\n",
              " 'combination',\n",
              " 'come',\n",
              " 'comforting',\n",
              " 'comfy',\n",
              " 'coming',\n",
              " 'comment',\n",
              " 'commitment',\n",
              " 'comparable',\n",
              " 'compared',\n",
              " 'complaint',\n",
              " 'compliment',\n",
              " 'complimentartry',\n",
              " 'computer',\n",
              " 'con',\n",
              " 'conceirge',\n",
              " 'concierge',\n",
              " 'condo',\n",
              " 'conference',\n",
              " 'confirmed',\n",
              " 'confused',\n",
              " 'consecutive',\n",
              " 'consierge',\n",
              " 'consisted',\n",
              " 'consists',\n",
              " 'construction',\n",
              " 'convenience',\n",
              " 'conveniently',\n",
              " 'convinced',\n",
              " 'cooked',\n",
              " 'cookie',\n",
              " 'cooky',\n",
              " 'cool',\n",
              " 'coordinate',\n",
              " 'corner',\n",
              " 'couch',\n",
              " 'counter',\n",
              " 'cousin',\n",
              " 'covered',\n",
              " 'cramped',\n",
              " 'cranky',\n",
              " 'cream',\n",
              " 'creates',\n",
              " 'credit',\n",
              " 'crib',\n",
              " 'croissant',\n",
              " 'cruise',\n",
              " 'cta',\n",
              " 'cuisine',\n",
              " 'cup',\n",
              " 'currently',\n",
              " 'curry',\n",
              " 'customer',\n",
              " 'cut',\n",
              " 'cutter',\n",
              " 'damn',\n",
              " 'dance',\n",
              " 'danish',\n",
              " 'dated',\n",
              " 'dave',\n",
              " 'dc',\n",
              " 'de',\n",
              " 'deal',\n",
              " 'dear',\n",
              " 'debris',\n",
              " 'dec',\n",
              " 'deceiving',\n",
              " 'december',\n",
              " 'decide',\n",
              " 'decided',\n",
              " 'decision',\n",
              " 'defiantly',\n",
              " 'definite',\n",
              " 'definitely',\n",
              " 'delayed',\n",
              " 'delicious',\n",
              " 'delight',\n",
              " 'delivered',\n",
              " 'demanded',\n",
              " 'design',\n",
              " 'designed',\n",
              " 'designer',\n",
              " 'desperate',\n",
              " 'device',\n",
              " 'die',\n",
              " 'dine',\n",
              " 'dined',\n",
              " 'dining',\n",
              " 'direct',\n",
              " 'directly',\n",
              " 'disappointing',\n",
              " 'disaster',\n",
              " 'display',\n",
              " 'displeased',\n",
              " 'disposal',\n",
              " 'dissappointed',\n",
              " 'dissatisfied',\n",
              " 'distance',\n",
              " 'distasteful',\n",
              " 'division',\n",
              " 'docking',\n",
              " 'doesnt',\n",
              " 'dog',\n",
              " 'donut',\n",
              " 'door',\n",
              " 'doorman',\n",
              " 'downside',\n",
              " 'downtown',\n",
              " 'drain',\n",
              " 'drake',\n",
              " 'dream',\n",
              " 'drink',\n",
              " 'driving',\n",
              " 'eager',\n",
              " 'early',\n",
              " 'earth',\n",
              " 'east',\n",
              " 'efficient',\n",
              " 'el',\n",
              " 'elegant',\n",
              " 'elevator',\n",
              " 'eliminated',\n",
              " 'elite',\n",
              " 'email',\n",
              " 'enjoy',\n",
              " 'enjoyable',\n",
              " 'enjoyed',\n",
              " 'entered',\n",
              " 'entering',\n",
              " 'entertainment',\n",
              " 'entirely',\n",
              " 'entree',\n",
              " 'environment',\n",
              " 'establishment',\n",
              " 'etc',\n",
              " 'european',\n",
              " 'eve',\n",
              " 'evening',\n",
              " 'excellent',\n",
              " 'exceptional',\n",
              " 'excited',\n",
              " 'exciting',\n",
              " 'excuse',\n",
              " 'exhaust',\n",
              " 'exhibit',\n",
              " 'exited',\n",
              " 'exotic',\n",
              " 'expected',\n",
              " 'expecting',\n",
              " 'expedia',\n",
              " 'experience',\n",
              " 'experince',\n",
              " 'exposed',\n",
              " 'exquisite',\n",
              " 'extensively',\n",
              " 'extravagant',\n",
              " 'faboulous',\n",
              " 'facing',\n",
              " 'factory',\n",
              " 'fallen',\n",
              " 'family',\n",
              " 'famous',\n",
              " 'fan',\n",
              " 'fancy',\n",
              " 'far',\n",
              " 'father',\n",
              " 'fault',\n",
              " 'favorite',\n",
              " 'favourite',\n",
              " 'feature',\n",
              " 'february',\n",
              " 'feel',\n",
              " 'felt',\n",
              " 'festival',\n",
              " 'fiancee',\n",
              " 'field',\n",
              " 'figure',\n",
              " 'file',\n",
              " 'fin',\n",
              " 'finally',\n",
              " 'finest',\n",
              " 'finished',\n",
              " 'firework',\n",
              " 'firstly',\n",
              " 'fitness',\n",
              " 'fitzpatrick',\n",
              " 'flooded',\n",
              " 'flooding',\n",
              " 'floor',\n",
              " 'flower',\n",
              " 'focus',\n",
              " 'followed',\n",
              " 'food',\n",
              " 'forever',\n",
              " 'forward',\n",
              " 'fowl',\n",
              " 'francisco',\n",
              " 'free',\n",
              " 'fridge',\n",
              " 'friendliness',\n",
              " 'fruit',\n",
              " 'ft',\n",
              " 'fully',\n",
              " 'funky',\n",
              " 'futon',\n",
              " 'gem',\n",
              " 'generally',\n",
              " 'genuine',\n",
              " 'gift',\n",
              " 'gino',\n",
              " 'glowing',\n",
              " 'golden',\n",
              " 'goldfish',\n",
              " 'good',\n",
              " 'goody',\n",
              " 'gorgeous',\n",
              " 'grade',\n",
              " 'grand',\n",
              " 'gratuity',\n",
              " 'grease',\n",
              " 'great',\n",
              " 'greeted',\n",
              " 'grooming',\n",
              " 'grout',\n",
              " 'guaranteed',\n",
              " 'guy',\n",
              " 'hair',\n",
              " 'hallway',\n",
              " 'hancock',\n",
              " 'handicapped',\n",
              " 'hanger',\n",
              " 'happened',\n",
              " 'hard',\n",
              " 'hare',\n",
              " 'hassle',\n",
              " 'hated',\n",
              " 'hear',\n",
              " 'heart',\n",
              " 'heat',\n",
              " 'heated',\n",
              " 'heaven',\n",
              " 'heavenly',\n",
              " 'helped',\n",
              " 'helpful',\n",
              " 'helping',\n",
              " 'hesitate',\n",
              " 'hesitation',\n",
              " 'highest',\n",
              " 'highway',\n",
              " 'hilton',\n",
              " 'historic',\n",
              " 'hit',\n",
              " 'hold',\n",
              " 'holder',\n",
              " 'home',\n",
              " 'homewood',\n",
              " 'honest',\n",
              " 'honeymoon',\n",
              " 'honor',\n",
              " 'hope',\n",
              " 'hoped',\n",
              " 'horrible',\n",
              " 'hors',\n",
              " 'hotel',\n",
              " 'hotwire',\n",
              " 'hour',\n",
              " 'housekeeping',\n",
              " 'hr',\n",
              " 'huge',\n",
              " 'husband',\n",
              " 'hustle',\n",
              " 'hvac',\n",
              " 'hypo',\n",
              " 'ice',\n",
              " 'impecable',\n",
              " 'impeccably',\n",
              " 'impersonal',\n",
              " 'impress',\n",
              " 'improve',\n",
              " 'improvement',\n",
              " 'inconvenient',\n",
              " 'incorrect',\n",
              " 'indoor',\n",
              " 'indoors',\n",
              " 'inn',\n",
              " 'inside',\n",
              " 'insisting',\n",
              " 'instance',\n",
              " 'intended',\n",
              " 'interior',\n",
              " 'international',\n",
              " 'interview',\n",
              " 'irritated',\n",
              " 'james',\n",
              " 'january',\n",
              " 'jaw',\n",
              " 'jet',\n",
              " 'jewel',\n",
              " 'joe',\n",
              " 'john',\n",
              " 'juice',\n",
              " 'july',\n",
              " 'jumping',\n",
              " 'june',\n",
              " 'keefer',\n",
              " 'kickback',\n",
              " 'kid',\n",
              " 'kimpton',\n",
              " 'kimptons',\n",
              " 'kind',\n",
              " 'kit',\n",
              " 'kitchenette',\n",
              " 'knickerbocker',\n",
              " 'knocking',\n",
              " 'known',\n",
              " 'la',\n",
              " 'lake',\n",
              " 'laptop',\n",
              " 'large',\n",
              " 'larger',\n",
              " 'largest',\n",
              " 'laundry',\n",
              " 'lavish',\n",
              " 'law',\n",
              " 'leaked',\n",
              " 'leave',\n",
              " 'lend',\n",
              " 'lid',\n",
              " 'life',\n",
              " 'lift',\n",
              " 'lightbulb',\n",
              " 'like',\n",
              " 'line',\n",
              " 'linnens',\n",
              " 'lite',\n",
              " 'little',\n",
              " 'load',\n",
              " 'lobby',\n",
              " 'local',\n",
              " 'located',\n",
              " 'location',\n",
              " 'lockwood',\n",
              " 'logo',\n",
              " 'london',\n",
              " 'long',\n",
              " 'look',\n",
              " 'looked',\n",
              " 'looking',\n",
              " 'loop',\n",
              " 'los',\n",
              " 'lot',\n",
              " 'lovely',\n",
              " 'low',\n",
              " 'lower',\n",
              " 'loyalty',\n",
              " 'luxuary',\n",
              " 'luxurious',\n",
              " 'luxury',\n",
              " 'macys',\n",
              " 'mad',\n",
              " 'magnificant',\n",
              " 'mail',\n",
              " 'main',\n",
              " 'maker',\n",
              " 'mall',\n",
              " 'manager',\n",
              " 'march',\n",
              " 'married',\n",
              " 'marriott',\n",
              " 'martini',\n",
              " 'massage',\n",
              " 'material',\n",
              " 'meal',\n",
              " 'meeting',\n",
              " 'membership',\n",
              " 'memorial',\n",
              " 'memory',\n",
              " 'mention',\n",
              " 'mentioned',\n",
              " 'met',\n",
              " 'metro',\n",
              " 'michigan',\n",
              " 'midway',\n",
              " 'mile',\n",
              " 'millenium',\n",
              " 'millennium',\n",
              " 'min',\n",
              " 'mini',\n",
              " 'minibar',\n",
              " 'moderate',\n",
              " 'modern',\n",
              " 'moment',\n",
              " 'mon',\n",
              " 'money',\n",
              " 'monoco',\n",
              " 'mood',\n",
              " 'morning',\n",
              " 'motel',\n",
              " 'musical',\n",
              " 'musty',\n",
              " 'narrow',\n",
              " 'navy',\n",
              " 'nbc',\n",
              " 'nd',\n",
              " 'neat',\n",
              " 'needed',\n",
              " 'needle',\n",
              " 'negative',\n",
              " 'neighborhood',\n",
              " 'newly',\n",
              " 'news',\n",
              " 'night',\n",
              " 'nightmare',\n",
              " 'nite',\n",
              " 'noisy',\n",
              " 'nominal',\n",
              " 'nook',\n",
              " 'nordstrom',\n",
              " 'north',\n",
              " 'note',\n",
              " 'noted',\n",
              " 'november',\n",
              " 'nyc',\n",
              " 'obvious',\n",
              " 'ocean',\n",
              " 'october',\n",
              " 'oddly',\n",
              " 'odor',\n",
              " 'offer',\n",
              " 'oh',\n",
              " 'ok',\n",
              " 'okay',\n",
              " 'old',\n",
              " 'older',\n",
              " 'open',\n",
              " 'opening',\n",
              " 'operating',\n",
              " 'operator',\n",
              " 'orange',\n",
              " 'organized',\n",
              " 'orginal',\n",
              " 'originally',\n",
              " 'ouch',\n",
              " 'outrageous',\n",
              " 'outrageously',\n",
              " 'oven',\n",
              " 'overall',\n",
              " 'package',\n",
              " 'packing',\n",
              " 'paid',\n",
              " 'painted',\n",
              " 'pamper',\n",
              " 'pampered',\n",
              " 'pantry',\n",
              " 'paris',\n",
              " 'parking',\n",
              " 'pas',\n",
              " 'peaceful',\n",
              " 'peeling',\n",
              " 'pen',\n",
              " 'peninsula',\n",
              " 'penninsula',\n",
              " 'perfection',\n",
              " 'perfectly',\n",
              " 'personal',\n",
              " 'pet',\n",
              " 'phone',\n",
              " 'picture',\n",
              " 'pictured',\n",
              " 'pipe',\n",
              " 'place',\n",
              " 'planned',\n",
              " 'planner',\n",
              " 'planning',\n",
              " 'plate',\n",
              " 'plenty',\n",
              " 'plush',\n",
              " 'pm',\n",
              " 'pocket',\n",
              " 'policy',\n",
              " 'pop',\n",
              " 'portray',\n",
              " 'portrayed',\n",
              " 'position',\n",
              " 'post',\n",
              " 'poster',\n",
              " 'practice',\n",
              " 'pre',\n",
              " 'prepare',\n",
              " 'presence',\n",
              " 'presidential',\n",
              " 'previous',\n",
              " 'priceline',\n",
              " 'print',\n",
              " 'printing',\n",
              " 'prior',\n",
              " 'prison',\n",
              " 'pro',\n",
              " 'product',\n",
              " 'professionally',\n",
              " 'program',\n",
              " 'property',\n",
              " 'provide',\n",
              " 'public',\n",
              " 'pull',\n",
              " 'pure',\n",
              " 'pushy',\n",
              " 'quiet',\n",
              " 'radio',\n",
              " 'rain',\n",
              " 'rate',\n",
              " 'rd',\n",
              " 'read',\n",
              " 'reading',\n",
              " 'ready',\n",
              " 'reality',\n",
              " 'realy',\n",
              " 'recent',\n",
              " 'recently',\n",
              " 'reception',\n",
              " 'recomend',\n",
              " 'recommend',\n",
              " 'recommending',\n",
              " 'reconsider',\n",
              " 'red',\n",
              " 'redecorated',\n",
              " 'redecorating',\n",
              " 'refund',\n",
              " 'refurbished',\n",
              " 'refused',\n",
              " 'regardless',\n",
              " 'regency',\n",
              " 'register',\n",
              " 'registration',\n",
              " 'regret',\n",
              " 'relax',\n",
              " 'relaxed',\n",
              " 'relaxing',\n",
              " 'relieved',\n",
              " 'removed',\n",
              " 'renovated',\n",
              " 'renovation',\n",
              " 'rental',\n",
              " 'repair',\n",
              " 'representation',\n",
              " 'research',\n",
              " 'reserved',\n",
              " 'respect',\n",
              " 'respectful',\n",
              " 'respond',\n",
              " 'rested',\n",
              " 'resturants',\n",
              " 'retreat',\n",
              " 'returned',\n",
              " 'returning',\n",
              " 'reunion',\n",
              " 'revealed',\n",
              " 'review',\n",
              " 'reviewer',\n",
              " 'rex',\n",
              " 'rich',\n",
              " 'ride',\n",
              " 'ritz',\n",
              " 'ritzy',\n",
              " 'river',\n",
              " 'robe',\n",
              " 'rock',\n",
              " 'roll',\n",
              " 'rollaway',\n",
              " 'romance',\n",
              " 'romantic',\n",
              " 'roof',\n",
              " 'roomy',\n",
              " 'rose',\n",
              " 'royalty',\n",
              " 'rude',\n",
              " 'running',\n",
              " 'rush',\n",
              " 'sale',\n",
              " 'sample',\n",
              " 'satisfaction',\n",
              " 'satisfied',\n",
              " 'saturday',\n",
              " 'scene',\n",
              " 'scenery',\n",
              " 'scored',\n",
              " 'scratchy',\n",
              " 'season',\n",
              " 'seat',\n",
              " 'seating',\n",
              " 'second',\n",
              " 'section',\n",
              " 'security',\n",
              " 'seeing',\n",
              " 'self',\n",
              " 'seminar',\n",
              " 'sensibility',\n",
              " 'separate',\n",
              " 'seperate',\n",
              " 'serenity',\n",
              " 'serf',\n",
              " 'service',\n",
              " 'serving',\n",
              " 'settle',\n",
              " 'settled',\n",
              " 'settling',\n",
              " 'setup',\n",
              " 'shabby',\n",
              " 'shared',\n",
              " 'sharing',\n",
              " 'shedd',\n",
              " 'sheet',\n",
              " 'shower',\n",
              " 'shown',\n",
              " 'sidewalk',\n",
              " 'sightseeing',\n",
              " 'signal',\n",
              " 'signing',\n",
              " 'siren',\n",
              " 'sit',\n",
              " 'sky',\n",
              " 'skyline',\n",
              " 'slam',\n",
              " 'slamming',\n",
              " 'sliding',\n",
              " 'slightly',\n",
              " 'small',\n",
              " 'smallest',\n",
              " 'smell',\n",
              " 'smelled',\n",
              " 'smelling',\n",
              " 'smoke',\n",
              " 'smoking',\n",
              " 'snobby',\n",
              " 'snooty',\n",
              " 'snow',\n",
              " 'snubbed',\n",
              " 'soda',\n",
              " 'sofa',\n",
              " 'sofitel',\n",
              " 'soft',\n",
              " 'sold',\n",
              " 'soldier',\n",
              " 'solution',\n",
              " 'soon',\n",
              " 'sophisticated',\n",
              " 'sophistication',\n",
              " 'sorely',\n",
              " 'south',\n",
              " 'spa',\n",
              " 'space',\n",
              " 'speed',\n",
              " 'spend',\n",
              " 'spg',\n",
              " 'splurge',\n",
              " 'spoon',\n",
              " 'sport',\n",
              " 'spot',\n",
              " 'spotlessly',\n",
              " 'st',\n",
              " 'stale',\n",
              " 'stall',\n",
              " 'stark',\n",
              " 'started',\n",
              " 'starving',\n",
              " 'starwood',\n",
              " 'stated',\n",
              " 'stating',\n",
              " 'station',\n",
              " 'staying',\n",
              " 'steak',\n",
              " 'steal',\n",
              " 'stephanie',\n",
              " 'stepping',\n",
              " 'sterile',\n",
              " 'stiff',\n",
              " 'stolen',\n",
              " 'storage',\n",
              " 'street',\n",
              " 'stress',\n",
              " 'striking',\n",
              " 'structure',\n",
              " 'study',\n",
              " 'subpar',\n",
              " 'subway',\n",
              " 'suggest',\n",
              " 'sun',\n",
              " 'sunday',\n",
              " 'sundecks',\n",
              " 'supplied',\n",
              " 'surely',\n",
              " 'surrounding',\n",
              " 'sushi',\n",
              " 'suspect',\n",
              " 'sutton',\n",
              " 'swept',\n",
              " 'swisshotel',\n",
              " 'ta',\n",
              " 'table',\n",
              " 'talking',\n",
              " 'tasteful',\n",
              " 'tax',\n",
              " 'television',\n",
              " 'telling',\n",
              " 'temp',\n",
              " 'terrible',\n",
              " 'terrific',\n",
              " 'test',\n",
              " 'texting',\n",
              " 'thanksgiving',\n",
              " 'thats',\n",
              " 'theater',\n",
              " 'therapy',\n",
              " 'threw',\n",
              " 'thumb',\n",
              " 'ticket',\n",
              " 'tile',\n",
              " 'time',\n",
              " 'tiny',\n",
              " 'toast',\n",
              " 'today',\n",
              " 'ton',\n",
              " 'took',\n",
              " 'topped',\n",
              " 'touch',\n",
              " 'tough',\n",
              " 'tout',\n",
              " 'touted',\n",
              " 'towel',\n",
              " 'traffic',\n",
              " 'train',\n",
              " 'trained',\n",
              " 'trait',\n",
              " 'transferred',\n",
              " 'transport',\n",
              " 'transportation',\n",
              " 'trash',\n",
              " 'traveling',\n",
              " 'travelled',\n",
              " 'travelzoo',\n",
              " 'treat',\n",
              " 'treated',\n",
              " 'treatment',\n",
              " 'tribune',\n",
              " 'trip',\n",
              " 'tripadvisor',\n",
              " 'trolley',\n",
              " 'trump',\n",
              " 'tub',\n",
              " 'tucked',\n",
              " 'turndown',\n",
              " 'turned',\n",
              " 'tv',\n",
              " 'ultimately',\n",
              " 'umbrella',\n",
              " 'unaccommodating',\n",
              " 'undergoing',\n",
              " 'underneath',\n",
              " 'unfailingly',\n",
              " 'unfriendly',\n",
              " 'union',\n",
              " 'unpleasant',\n",
              " 'unsatisfied',\n",
              " 'unwind',\n",
              " 'upcharge',\n",
              " 'upcoming',\n",
              " 'updated',\n",
              " 'updating',\n",
              " 'upgrade',\n",
              " 'upgraded',\n",
              " 'upmost',\n",
              " 'upscale',\n",
              " 'upside',\n",
              " 'urine',\n",
              " 'usa',\n",
              " 'usd',\n",
              " 'utmost',\n",
              " 'vacation',\n",
              " 'vacuum',\n",
              " 'valentine',\n",
              " 'valet',\n",
              " 'valuable',\n",
              " 'value',\n",
              " 'valued',\n",
              " 'veggie',\n",
              " 'vent',\n",
              " 'verify',\n",
              " 'vicinity',\n",
              " 'virtually',\n",
              " 'visit',\n",
              " 'visited',\n",
              " 'visiting',\n",
              " 'vomit',\n",
              " 'wacker',\n",
              " 'wait',\n",
              " 'waived',\n",
              " 'wake',\n",
              " 'walk',\n",
              " 'walkable',\n",
              " 'walking',\n",
              " 'wall',\n",
              " 'wallpaper',\n",
              " 'wander',\n",
              " 'wanted',\n",
              " 'washington',\n",
              " 'waste',\n",
              " 'water',\n",
              " 'waterfront',\n",
              " 'watertower',\n",
              " 'wear',\n",
              " 'website',\n",
              " 'wedding',\n",
              " 'went',\n",
              " 'westin',\n",
              " 'white',\n",
              " 'wicked',\n",
              " 'wife',\n",
              " 'window',\n",
              " 'windy',\n",
              " 'winning',\n",
              " 'winter',\n",
              " 'wishing',\n",
              " 'worn',\n",
              " 'worry',\n",
              " 'worst',\n",
              " 'wouldnt',\n",
              " 'wrigley',\n",
              " 'wrong',\n",
              " 'wrote',\n",
              " 'year',\n",
              " 'yellow',\n",
              " 'yes',\n",
              " 'young',\n",
              " 'yummy',\n",
              " 'zone']"
            ]
          },
          "metadata": {},
          "execution_count": 1822
        }
      ]
    },
    {
      "cell_type": "code",
      "source": [
        "X_kbest_features"
      ],
      "metadata": {
        "colab": {
          "base_uri": "https://localhost:8080/"
        },
        "id": "VDuFA-T1koke",
        "outputId": "b3bcc619-6927-4832-e043-f52d0570980f"
      },
      "execution_count": 1823,
      "outputs": [
        {
          "output_type": "execute_result",
          "data": {
            "text/plain": [
              "array([[0., 0., 0., ..., 0., 0., 0.],\n",
              "       [0., 0., 0., ..., 0., 0., 0.],\n",
              "       [0., 0., 0., ..., 0., 0., 0.],\n",
              "       ...,\n",
              "       [0., 0., 0., ..., 0., 0., 0.],\n",
              "       [0., 0., 0., ..., 0., 0., 0.],\n",
              "       [0., 0., 0., ..., 0., 0., 0.]])"
            ]
          },
          "metadata": {},
          "execution_count": 1823
        }
      ]
    },
    {
      "cell_type": "code",
      "source": [
        "u3 = pd.DataFrame(X_kbest_features, columns = chi_feature)\n",
        "u3.head()"
      ],
      "metadata": {
        "colab": {
          "base_uri": "https://localhost:8080/",
          "height": 299
        },
        "id": "059iYhdmkooB",
        "outputId": "1f11e44c-5b62-4c37-9d7c-9e74f897941f"
      },
      "execution_count": 1824,
      "outputs": [
        {
          "output_type": "execute_result",
          "data": {
            "text/plain": [
              "   accept  accepted  accomidations  accommodated  accommodation  \\\n",
              "0     0.0       0.0            0.0           0.0            0.0   \n",
              "1     0.0       0.0            0.0           0.0            0.0   \n",
              "2     0.0       0.0            0.0           0.0            0.0   \n",
              "3     0.0       0.0            0.0           0.0            0.0   \n",
              "4     0.0       0.0            0.0           0.0            0.0   \n",
              "\n",
              "   accomodations  according  accurate  acknowledged  acted  ...  wouldnt  \\\n",
              "0            0.0        0.0       0.0           0.0    0.0  ...      0.0   \n",
              "1            0.0        0.0       0.0           0.0    0.0  ...      0.0   \n",
              "2            0.0        0.0       0.0           0.0    0.0  ...      0.0   \n",
              "3            0.0        0.0       0.0           0.0    0.0  ...      0.0   \n",
              "4            0.0        0.0       0.0           0.0    0.0  ...      0.0   \n",
              "\n",
              "    wrigley  wrong  wrote  year  yellow  yes  young  yummy  zone  \n",
              "0  0.000000    0.0    0.0   0.0     0.0  0.0    0.0    0.0   0.0  \n",
              "1  0.247551    0.0    0.0   0.0     0.0  0.0    0.0    0.0   0.0  \n",
              "2  0.000000    0.0    0.0   0.0     0.0  0.0    0.0    0.0   0.0  \n",
              "3  0.000000    0.0    0.0   0.0     0.0  0.0    0.0    0.0   0.0  \n",
              "4  0.000000    0.0    0.0   0.0     0.0  0.0    0.0    0.0   0.0  \n",
              "\n",
              "[5 rows x 1000 columns]"
            ],
            "text/html": [
              "\n",
              "  <div id=\"df-606364a1-1603-4e62-8e70-26d995864bd5\">\n",
              "    <div class=\"colab-df-container\">\n",
              "      <div>\n",
              "<style scoped>\n",
              "    .dataframe tbody tr th:only-of-type {\n",
              "        vertical-align: middle;\n",
              "    }\n",
              "\n",
              "    .dataframe tbody tr th {\n",
              "        vertical-align: top;\n",
              "    }\n",
              "\n",
              "    .dataframe thead th {\n",
              "        text-align: right;\n",
              "    }\n",
              "</style>\n",
              "<table border=\"1\" class=\"dataframe\">\n",
              "  <thead>\n",
              "    <tr style=\"text-align: right;\">\n",
              "      <th></th>\n",
              "      <th>accept</th>\n",
              "      <th>accepted</th>\n",
              "      <th>accomidations</th>\n",
              "      <th>accommodated</th>\n",
              "      <th>accommodation</th>\n",
              "      <th>accomodations</th>\n",
              "      <th>according</th>\n",
              "      <th>accurate</th>\n",
              "      <th>acknowledged</th>\n",
              "      <th>acted</th>\n",
              "      <th>...</th>\n",
              "      <th>wouldnt</th>\n",
              "      <th>wrigley</th>\n",
              "      <th>wrong</th>\n",
              "      <th>wrote</th>\n",
              "      <th>year</th>\n",
              "      <th>yellow</th>\n",
              "      <th>yes</th>\n",
              "      <th>young</th>\n",
              "      <th>yummy</th>\n",
              "      <th>zone</th>\n",
              "    </tr>\n",
              "  </thead>\n",
              "  <tbody>\n",
              "    <tr>\n",
              "      <th>0</th>\n",
              "      <td>0.0</td>\n",
              "      <td>0.0</td>\n",
              "      <td>0.0</td>\n",
              "      <td>0.0</td>\n",
              "      <td>0.0</td>\n",
              "      <td>0.0</td>\n",
              "      <td>0.0</td>\n",
              "      <td>0.0</td>\n",
              "      <td>0.0</td>\n",
              "      <td>0.0</td>\n",
              "      <td>...</td>\n",
              "      <td>0.0</td>\n",
              "      <td>0.000000</td>\n",
              "      <td>0.0</td>\n",
              "      <td>0.0</td>\n",
              "      <td>0.0</td>\n",
              "      <td>0.0</td>\n",
              "      <td>0.0</td>\n",
              "      <td>0.0</td>\n",
              "      <td>0.0</td>\n",
              "      <td>0.0</td>\n",
              "    </tr>\n",
              "    <tr>\n",
              "      <th>1</th>\n",
              "      <td>0.0</td>\n",
              "      <td>0.0</td>\n",
              "      <td>0.0</td>\n",
              "      <td>0.0</td>\n",
              "      <td>0.0</td>\n",
              "      <td>0.0</td>\n",
              "      <td>0.0</td>\n",
              "      <td>0.0</td>\n",
              "      <td>0.0</td>\n",
              "      <td>0.0</td>\n",
              "      <td>...</td>\n",
              "      <td>0.0</td>\n",
              "      <td>0.247551</td>\n",
              "      <td>0.0</td>\n",
              "      <td>0.0</td>\n",
              "      <td>0.0</td>\n",
              "      <td>0.0</td>\n",
              "      <td>0.0</td>\n",
              "      <td>0.0</td>\n",
              "      <td>0.0</td>\n",
              "      <td>0.0</td>\n",
              "    </tr>\n",
              "    <tr>\n",
              "      <th>2</th>\n",
              "      <td>0.0</td>\n",
              "      <td>0.0</td>\n",
              "      <td>0.0</td>\n",
              "      <td>0.0</td>\n",
              "      <td>0.0</td>\n",
              "      <td>0.0</td>\n",
              "      <td>0.0</td>\n",
              "      <td>0.0</td>\n",
              "      <td>0.0</td>\n",
              "      <td>0.0</td>\n",
              "      <td>...</td>\n",
              "      <td>0.0</td>\n",
              "      <td>0.000000</td>\n",
              "      <td>0.0</td>\n",
              "      <td>0.0</td>\n",
              "      <td>0.0</td>\n",
              "      <td>0.0</td>\n",
              "      <td>0.0</td>\n",
              "      <td>0.0</td>\n",
              "      <td>0.0</td>\n",
              "      <td>0.0</td>\n",
              "    </tr>\n",
              "    <tr>\n",
              "      <th>3</th>\n",
              "      <td>0.0</td>\n",
              "      <td>0.0</td>\n",
              "      <td>0.0</td>\n",
              "      <td>0.0</td>\n",
              "      <td>0.0</td>\n",
              "      <td>0.0</td>\n",
              "      <td>0.0</td>\n",
              "      <td>0.0</td>\n",
              "      <td>0.0</td>\n",
              "      <td>0.0</td>\n",
              "      <td>...</td>\n",
              "      <td>0.0</td>\n",
              "      <td>0.000000</td>\n",
              "      <td>0.0</td>\n",
              "      <td>0.0</td>\n",
              "      <td>0.0</td>\n",
              "      <td>0.0</td>\n",
              "      <td>0.0</td>\n",
              "      <td>0.0</td>\n",
              "      <td>0.0</td>\n",
              "      <td>0.0</td>\n",
              "    </tr>\n",
              "    <tr>\n",
              "      <th>4</th>\n",
              "      <td>0.0</td>\n",
              "      <td>0.0</td>\n",
              "      <td>0.0</td>\n",
              "      <td>0.0</td>\n",
              "      <td>0.0</td>\n",
              "      <td>0.0</td>\n",
              "      <td>0.0</td>\n",
              "      <td>0.0</td>\n",
              "      <td>0.0</td>\n",
              "      <td>0.0</td>\n",
              "      <td>...</td>\n",
              "      <td>0.0</td>\n",
              "      <td>0.000000</td>\n",
              "      <td>0.0</td>\n",
              "      <td>0.0</td>\n",
              "      <td>0.0</td>\n",
              "      <td>0.0</td>\n",
              "      <td>0.0</td>\n",
              "      <td>0.0</td>\n",
              "      <td>0.0</td>\n",
              "      <td>0.0</td>\n",
              "    </tr>\n",
              "  </tbody>\n",
              "</table>\n",
              "<p>5 rows × 1000 columns</p>\n",
              "</div>\n",
              "      <button class=\"colab-df-convert\" onclick=\"convertToInteractive('df-606364a1-1603-4e62-8e70-26d995864bd5')\"\n",
              "              title=\"Convert this dataframe to an interactive table.\"\n",
              "              style=\"display:none;\">\n",
              "        \n",
              "  <svg xmlns=\"http://www.w3.org/2000/svg\" height=\"24px\"viewBox=\"0 0 24 24\"\n",
              "       width=\"24px\">\n",
              "    <path d=\"M0 0h24v24H0V0z\" fill=\"none\"/>\n",
              "    <path d=\"M18.56 5.44l.94 2.06.94-2.06 2.06-.94-2.06-.94-.94-2.06-.94 2.06-2.06.94zm-11 1L8.5 8.5l.94-2.06 2.06-.94-2.06-.94L8.5 2.5l-.94 2.06-2.06.94zm10 10l.94 2.06.94-2.06 2.06-.94-2.06-.94-.94-2.06-.94 2.06-2.06.94z\"/><path d=\"M17.41 7.96l-1.37-1.37c-.4-.4-.92-.59-1.43-.59-.52 0-1.04.2-1.43.59L10.3 9.45l-7.72 7.72c-.78.78-.78 2.05 0 2.83L4 21.41c.39.39.9.59 1.41.59.51 0 1.02-.2 1.41-.59l7.78-7.78 2.81-2.81c.8-.78.8-2.07 0-2.86zM5.41 20L4 18.59l7.72-7.72 1.47 1.35L5.41 20z\"/>\n",
              "  </svg>\n",
              "      </button>\n",
              "      \n",
              "  <style>\n",
              "    .colab-df-container {\n",
              "      display:flex;\n",
              "      flex-wrap:wrap;\n",
              "      gap: 12px;\n",
              "    }\n",
              "\n",
              "    .colab-df-convert {\n",
              "      background-color: #E8F0FE;\n",
              "      border: none;\n",
              "      border-radius: 50%;\n",
              "      cursor: pointer;\n",
              "      display: none;\n",
              "      fill: #1967D2;\n",
              "      height: 32px;\n",
              "      padding: 0 0 0 0;\n",
              "      width: 32px;\n",
              "    }\n",
              "\n",
              "    .colab-df-convert:hover {\n",
              "      background-color: #E2EBFA;\n",
              "      box-shadow: 0px 1px 2px rgba(60, 64, 67, 0.3), 0px 1px 3px 1px rgba(60, 64, 67, 0.15);\n",
              "      fill: #174EA6;\n",
              "    }\n",
              "\n",
              "    [theme=dark] .colab-df-convert {\n",
              "      background-color: #3B4455;\n",
              "      fill: #D2E3FC;\n",
              "    }\n",
              "\n",
              "    [theme=dark] .colab-df-convert:hover {\n",
              "      background-color: #434B5C;\n",
              "      box-shadow: 0px 1px 3px 1px rgba(0, 0, 0, 0.15);\n",
              "      filter: drop-shadow(0px 1px 2px rgba(0, 0, 0, 0.3));\n",
              "      fill: #FFFFFF;\n",
              "    }\n",
              "  </style>\n",
              "\n",
              "      <script>\n",
              "        const buttonEl =\n",
              "          document.querySelector('#df-606364a1-1603-4e62-8e70-26d995864bd5 button.colab-df-convert');\n",
              "        buttonEl.style.display =\n",
              "          google.colab.kernel.accessAllowed ? 'block' : 'none';\n",
              "\n",
              "        async function convertToInteractive(key) {\n",
              "          const element = document.querySelector('#df-606364a1-1603-4e62-8e70-26d995864bd5');\n",
              "          const dataTable =\n",
              "            await google.colab.kernel.invokeFunction('convertToInteractive',\n",
              "                                                     [key], {});\n",
              "          if (!dataTable) return;\n",
              "\n",
              "          const docLinkHtml = 'Like what you see? Visit the ' +\n",
              "            '<a target=\"_blank\" href=https://colab.research.google.com/notebooks/data_table.ipynb>data table notebook</a>'\n",
              "            + ' to learn more about interactive tables.';\n",
              "          element.innerHTML = '';\n",
              "          dataTable['output_type'] = 'display_data';\n",
              "          await google.colab.output.renderOutput(dataTable, element);\n",
              "          const docLink = document.createElement('div');\n",
              "          docLink.innerHTML = docLinkHtml;\n",
              "          element.appendChild(docLink);\n",
              "        }\n",
              "      </script>\n",
              "    </div>\n",
              "  </div>\n",
              "  "
            ]
          },
          "metadata": {},
          "execution_count": 1824
        }
      ]
    },
    {
      "cell_type": "code",
      "source": [
        "#from scipy.spatial.distance import cdist\n",
        "#s = cdist(u3, u3, 'euclid')\n",
        "#s"
      ],
      "metadata": {
        "id": "5VDboxsuxbEC"
      },
      "execution_count": 1825,
      "outputs": []
    },
    {
      "cell_type": "code",
      "source": [
        "#X1=pd.DataFrame(s)\n",
        "#X1"
      ],
      "metadata": {
        "id": "myrXoFOwxbHc"
      },
      "execution_count": 1826,
      "outputs": []
    },
    {
      "cell_type": "code",
      "source": [
        "# taking average\n",
        "y = np.average(u3)\n",
        "y"
      ],
      "metadata": {
        "colab": {
          "base_uri": "https://localhost:8080/"
        },
        "id": "sx4X04kBxbKl",
        "outputId": "7925f22e-2124-43c9-dc02-8edd527ecaa9"
      },
      "execution_count": 1827,
      "outputs": [
        {
          "output_type": "execute_result",
          "data": {
            "text/plain": [
              "0.0024009539206963"
            ]
          },
          "metadata": {},
          "execution_count": 1827
        }
      ]
    },
    {
      "cell_type": "code",
      "source": [
        "adjmat_df=u3.copy()"
      ],
      "metadata": {
        "id": "YZGTZT3BxbNt"
      },
      "execution_count": 1828,
      "outputs": []
    },
    {
      "cell_type": "code",
      "source": [
        "adjmat_df[adjmat_df < y]=0\n",
        "adjmat_df[adjmat_df >= y]=1"
      ],
      "metadata": {
        "id": "3Mbkgtx_x2j4"
      },
      "execution_count": 1829,
      "outputs": []
    },
    {
      "cell_type": "code",
      "source": [
        "adjmat_df"
      ],
      "metadata": {
        "colab": {
          "base_uri": "https://localhost:8080/",
          "height": 487
        },
        "id": "FJyd4Smbx2m_",
        "outputId": "3f3f1979-e529-44bd-af6b-5f805ce58385"
      },
      "execution_count": 1830,
      "outputs": [
        {
          "output_type": "execute_result",
          "data": {
            "text/plain": [
              "      accept  accepted  accomidations  accommodated  accommodation  \\\n",
              "0        0.0       0.0            0.0           0.0            0.0   \n",
              "1        0.0       0.0            0.0           0.0            0.0   \n",
              "2        0.0       0.0            0.0           0.0            0.0   \n",
              "3        0.0       0.0            0.0           0.0            0.0   \n",
              "4        0.0       0.0            0.0           0.0            0.0   \n",
              "...      ...       ...            ...           ...            ...   \n",
              "1595     0.0       0.0            0.0           0.0            0.0   \n",
              "1596     0.0       0.0            0.0           0.0            0.0   \n",
              "1597     0.0       0.0            0.0           0.0            1.0   \n",
              "1598     0.0       0.0            0.0           0.0            0.0   \n",
              "1599     0.0       0.0            0.0           0.0            0.0   \n",
              "\n",
              "      accomodations  according  accurate  acknowledged  acted  ...  wouldnt  \\\n",
              "0               0.0        0.0       0.0           0.0    0.0  ...      0.0   \n",
              "1               0.0        0.0       0.0           0.0    0.0  ...      0.0   \n",
              "2               0.0        0.0       0.0           0.0    0.0  ...      0.0   \n",
              "3               0.0        0.0       0.0           0.0    0.0  ...      0.0   \n",
              "4               0.0        0.0       0.0           0.0    0.0  ...      0.0   \n",
              "...             ...        ...       ...           ...    ...  ...      ...   \n",
              "1595            0.0        0.0       0.0           0.0    0.0  ...      0.0   \n",
              "1596            0.0        0.0       0.0           0.0    0.0  ...      0.0   \n",
              "1597            0.0        0.0       0.0           0.0    0.0  ...      0.0   \n",
              "1598            0.0        0.0       0.0           0.0    0.0  ...      0.0   \n",
              "1599            0.0        0.0       0.0           0.0    0.0  ...      0.0   \n",
              "\n",
              "      wrigley  wrong  wrote  year  yellow  yes  young  yummy  zone  \n",
              "0         0.0    0.0    0.0   0.0     0.0  0.0    0.0    0.0   0.0  \n",
              "1         1.0    0.0    0.0   0.0     0.0  0.0    0.0    0.0   0.0  \n",
              "2         0.0    0.0    0.0   0.0     0.0  0.0    0.0    0.0   0.0  \n",
              "3         0.0    0.0    0.0   0.0     0.0  0.0    0.0    0.0   0.0  \n",
              "4         0.0    0.0    0.0   0.0     0.0  0.0    0.0    0.0   0.0  \n",
              "...       ...    ...    ...   ...     ...  ...    ...    ...   ...  \n",
              "1595      0.0    0.0    0.0   0.0     0.0  0.0    0.0    0.0   0.0  \n",
              "1596      0.0    0.0    0.0   0.0     0.0  0.0    0.0    0.0   0.0  \n",
              "1597      0.0    0.0    0.0   0.0     0.0  0.0    0.0    0.0   0.0  \n",
              "1598      0.0    0.0    0.0   0.0     0.0  0.0    0.0    0.0   0.0  \n",
              "1599      0.0    0.0    0.0   0.0     0.0  0.0    0.0    0.0   0.0  \n",
              "\n",
              "[1600 rows x 1000 columns]"
            ],
            "text/html": [
              "\n",
              "  <div id=\"df-0cf8d178-1aab-481d-ad12-e5c0b8c01b1d\">\n",
              "    <div class=\"colab-df-container\">\n",
              "      <div>\n",
              "<style scoped>\n",
              "    .dataframe tbody tr th:only-of-type {\n",
              "        vertical-align: middle;\n",
              "    }\n",
              "\n",
              "    .dataframe tbody tr th {\n",
              "        vertical-align: top;\n",
              "    }\n",
              "\n",
              "    .dataframe thead th {\n",
              "        text-align: right;\n",
              "    }\n",
              "</style>\n",
              "<table border=\"1\" class=\"dataframe\">\n",
              "  <thead>\n",
              "    <tr style=\"text-align: right;\">\n",
              "      <th></th>\n",
              "      <th>accept</th>\n",
              "      <th>accepted</th>\n",
              "      <th>accomidations</th>\n",
              "      <th>accommodated</th>\n",
              "      <th>accommodation</th>\n",
              "      <th>accomodations</th>\n",
              "      <th>according</th>\n",
              "      <th>accurate</th>\n",
              "      <th>acknowledged</th>\n",
              "      <th>acted</th>\n",
              "      <th>...</th>\n",
              "      <th>wouldnt</th>\n",
              "      <th>wrigley</th>\n",
              "      <th>wrong</th>\n",
              "      <th>wrote</th>\n",
              "      <th>year</th>\n",
              "      <th>yellow</th>\n",
              "      <th>yes</th>\n",
              "      <th>young</th>\n",
              "      <th>yummy</th>\n",
              "      <th>zone</th>\n",
              "    </tr>\n",
              "  </thead>\n",
              "  <tbody>\n",
              "    <tr>\n",
              "      <th>0</th>\n",
              "      <td>0.0</td>\n",
              "      <td>0.0</td>\n",
              "      <td>0.0</td>\n",
              "      <td>0.0</td>\n",
              "      <td>0.0</td>\n",
              "      <td>0.0</td>\n",
              "      <td>0.0</td>\n",
              "      <td>0.0</td>\n",
              "      <td>0.0</td>\n",
              "      <td>0.0</td>\n",
              "      <td>...</td>\n",
              "      <td>0.0</td>\n",
              "      <td>0.0</td>\n",
              "      <td>0.0</td>\n",
              "      <td>0.0</td>\n",
              "      <td>0.0</td>\n",
              "      <td>0.0</td>\n",
              "      <td>0.0</td>\n",
              "      <td>0.0</td>\n",
              "      <td>0.0</td>\n",
              "      <td>0.0</td>\n",
              "    </tr>\n",
              "    <tr>\n",
              "      <th>1</th>\n",
              "      <td>0.0</td>\n",
              "      <td>0.0</td>\n",
              "      <td>0.0</td>\n",
              "      <td>0.0</td>\n",
              "      <td>0.0</td>\n",
              "      <td>0.0</td>\n",
              "      <td>0.0</td>\n",
              "      <td>0.0</td>\n",
              "      <td>0.0</td>\n",
              "      <td>0.0</td>\n",
              "      <td>...</td>\n",
              "      <td>0.0</td>\n",
              "      <td>1.0</td>\n",
              "      <td>0.0</td>\n",
              "      <td>0.0</td>\n",
              "      <td>0.0</td>\n",
              "      <td>0.0</td>\n",
              "      <td>0.0</td>\n",
              "      <td>0.0</td>\n",
              "      <td>0.0</td>\n",
              "      <td>0.0</td>\n",
              "    </tr>\n",
              "    <tr>\n",
              "      <th>2</th>\n",
              "      <td>0.0</td>\n",
              "      <td>0.0</td>\n",
              "      <td>0.0</td>\n",
              "      <td>0.0</td>\n",
              "      <td>0.0</td>\n",
              "      <td>0.0</td>\n",
              "      <td>0.0</td>\n",
              "      <td>0.0</td>\n",
              "      <td>0.0</td>\n",
              "      <td>0.0</td>\n",
              "      <td>...</td>\n",
              "      <td>0.0</td>\n",
              "      <td>0.0</td>\n",
              "      <td>0.0</td>\n",
              "      <td>0.0</td>\n",
              "      <td>0.0</td>\n",
              "      <td>0.0</td>\n",
              "      <td>0.0</td>\n",
              "      <td>0.0</td>\n",
              "      <td>0.0</td>\n",
              "      <td>0.0</td>\n",
              "    </tr>\n",
              "    <tr>\n",
              "      <th>3</th>\n",
              "      <td>0.0</td>\n",
              "      <td>0.0</td>\n",
              "      <td>0.0</td>\n",
              "      <td>0.0</td>\n",
              "      <td>0.0</td>\n",
              "      <td>0.0</td>\n",
              "      <td>0.0</td>\n",
              "      <td>0.0</td>\n",
              "      <td>0.0</td>\n",
              "      <td>0.0</td>\n",
              "      <td>...</td>\n",
              "      <td>0.0</td>\n",
              "      <td>0.0</td>\n",
              "      <td>0.0</td>\n",
              "      <td>0.0</td>\n",
              "      <td>0.0</td>\n",
              "      <td>0.0</td>\n",
              "      <td>0.0</td>\n",
              "      <td>0.0</td>\n",
              "      <td>0.0</td>\n",
              "      <td>0.0</td>\n",
              "    </tr>\n",
              "    <tr>\n",
              "      <th>4</th>\n",
              "      <td>0.0</td>\n",
              "      <td>0.0</td>\n",
              "      <td>0.0</td>\n",
              "      <td>0.0</td>\n",
              "      <td>0.0</td>\n",
              "      <td>0.0</td>\n",
              "      <td>0.0</td>\n",
              "      <td>0.0</td>\n",
              "      <td>0.0</td>\n",
              "      <td>0.0</td>\n",
              "      <td>...</td>\n",
              "      <td>0.0</td>\n",
              "      <td>0.0</td>\n",
              "      <td>0.0</td>\n",
              "      <td>0.0</td>\n",
              "      <td>0.0</td>\n",
              "      <td>0.0</td>\n",
              "      <td>0.0</td>\n",
              "      <td>0.0</td>\n",
              "      <td>0.0</td>\n",
              "      <td>0.0</td>\n",
              "    </tr>\n",
              "    <tr>\n",
              "      <th>...</th>\n",
              "      <td>...</td>\n",
              "      <td>...</td>\n",
              "      <td>...</td>\n",
              "      <td>...</td>\n",
              "      <td>...</td>\n",
              "      <td>...</td>\n",
              "      <td>...</td>\n",
              "      <td>...</td>\n",
              "      <td>...</td>\n",
              "      <td>...</td>\n",
              "      <td>...</td>\n",
              "      <td>...</td>\n",
              "      <td>...</td>\n",
              "      <td>...</td>\n",
              "      <td>...</td>\n",
              "      <td>...</td>\n",
              "      <td>...</td>\n",
              "      <td>...</td>\n",
              "      <td>...</td>\n",
              "      <td>...</td>\n",
              "      <td>...</td>\n",
              "    </tr>\n",
              "    <tr>\n",
              "      <th>1595</th>\n",
              "      <td>0.0</td>\n",
              "      <td>0.0</td>\n",
              "      <td>0.0</td>\n",
              "      <td>0.0</td>\n",
              "      <td>0.0</td>\n",
              "      <td>0.0</td>\n",
              "      <td>0.0</td>\n",
              "      <td>0.0</td>\n",
              "      <td>0.0</td>\n",
              "      <td>0.0</td>\n",
              "      <td>...</td>\n",
              "      <td>0.0</td>\n",
              "      <td>0.0</td>\n",
              "      <td>0.0</td>\n",
              "      <td>0.0</td>\n",
              "      <td>0.0</td>\n",
              "      <td>0.0</td>\n",
              "      <td>0.0</td>\n",
              "      <td>0.0</td>\n",
              "      <td>0.0</td>\n",
              "      <td>0.0</td>\n",
              "    </tr>\n",
              "    <tr>\n",
              "      <th>1596</th>\n",
              "      <td>0.0</td>\n",
              "      <td>0.0</td>\n",
              "      <td>0.0</td>\n",
              "      <td>0.0</td>\n",
              "      <td>0.0</td>\n",
              "      <td>0.0</td>\n",
              "      <td>0.0</td>\n",
              "      <td>0.0</td>\n",
              "      <td>0.0</td>\n",
              "      <td>0.0</td>\n",
              "      <td>...</td>\n",
              "      <td>0.0</td>\n",
              "      <td>0.0</td>\n",
              "      <td>0.0</td>\n",
              "      <td>0.0</td>\n",
              "      <td>0.0</td>\n",
              "      <td>0.0</td>\n",
              "      <td>0.0</td>\n",
              "      <td>0.0</td>\n",
              "      <td>0.0</td>\n",
              "      <td>0.0</td>\n",
              "    </tr>\n",
              "    <tr>\n",
              "      <th>1597</th>\n",
              "      <td>0.0</td>\n",
              "      <td>0.0</td>\n",
              "      <td>0.0</td>\n",
              "      <td>0.0</td>\n",
              "      <td>1.0</td>\n",
              "      <td>0.0</td>\n",
              "      <td>0.0</td>\n",
              "      <td>0.0</td>\n",
              "      <td>0.0</td>\n",
              "      <td>0.0</td>\n",
              "      <td>...</td>\n",
              "      <td>0.0</td>\n",
              "      <td>0.0</td>\n",
              "      <td>0.0</td>\n",
              "      <td>0.0</td>\n",
              "      <td>0.0</td>\n",
              "      <td>0.0</td>\n",
              "      <td>0.0</td>\n",
              "      <td>0.0</td>\n",
              "      <td>0.0</td>\n",
              "      <td>0.0</td>\n",
              "    </tr>\n",
              "    <tr>\n",
              "      <th>1598</th>\n",
              "      <td>0.0</td>\n",
              "      <td>0.0</td>\n",
              "      <td>0.0</td>\n",
              "      <td>0.0</td>\n",
              "      <td>0.0</td>\n",
              "      <td>0.0</td>\n",
              "      <td>0.0</td>\n",
              "      <td>0.0</td>\n",
              "      <td>0.0</td>\n",
              "      <td>0.0</td>\n",
              "      <td>...</td>\n",
              "      <td>0.0</td>\n",
              "      <td>0.0</td>\n",
              "      <td>0.0</td>\n",
              "      <td>0.0</td>\n",
              "      <td>0.0</td>\n",
              "      <td>0.0</td>\n",
              "      <td>0.0</td>\n",
              "      <td>0.0</td>\n",
              "      <td>0.0</td>\n",
              "      <td>0.0</td>\n",
              "    </tr>\n",
              "    <tr>\n",
              "      <th>1599</th>\n",
              "      <td>0.0</td>\n",
              "      <td>0.0</td>\n",
              "      <td>0.0</td>\n",
              "      <td>0.0</td>\n",
              "      <td>0.0</td>\n",
              "      <td>0.0</td>\n",
              "      <td>0.0</td>\n",
              "      <td>0.0</td>\n",
              "      <td>0.0</td>\n",
              "      <td>0.0</td>\n",
              "      <td>...</td>\n",
              "      <td>0.0</td>\n",
              "      <td>0.0</td>\n",
              "      <td>0.0</td>\n",
              "      <td>0.0</td>\n",
              "      <td>0.0</td>\n",
              "      <td>0.0</td>\n",
              "      <td>0.0</td>\n",
              "      <td>0.0</td>\n",
              "      <td>0.0</td>\n",
              "      <td>0.0</td>\n",
              "    </tr>\n",
              "  </tbody>\n",
              "</table>\n",
              "<p>1600 rows × 1000 columns</p>\n",
              "</div>\n",
              "      <button class=\"colab-df-convert\" onclick=\"convertToInteractive('df-0cf8d178-1aab-481d-ad12-e5c0b8c01b1d')\"\n",
              "              title=\"Convert this dataframe to an interactive table.\"\n",
              "              style=\"display:none;\">\n",
              "        \n",
              "  <svg xmlns=\"http://www.w3.org/2000/svg\" height=\"24px\"viewBox=\"0 0 24 24\"\n",
              "       width=\"24px\">\n",
              "    <path d=\"M0 0h24v24H0V0z\" fill=\"none\"/>\n",
              "    <path d=\"M18.56 5.44l.94 2.06.94-2.06 2.06-.94-2.06-.94-.94-2.06-.94 2.06-2.06.94zm-11 1L8.5 8.5l.94-2.06 2.06-.94-2.06-.94L8.5 2.5l-.94 2.06-2.06.94zm10 10l.94 2.06.94-2.06 2.06-.94-2.06-.94-.94-2.06-.94 2.06-2.06.94z\"/><path d=\"M17.41 7.96l-1.37-1.37c-.4-.4-.92-.59-1.43-.59-.52 0-1.04.2-1.43.59L10.3 9.45l-7.72 7.72c-.78.78-.78 2.05 0 2.83L4 21.41c.39.39.9.59 1.41.59.51 0 1.02-.2 1.41-.59l7.78-7.78 2.81-2.81c.8-.78.8-2.07 0-2.86zM5.41 20L4 18.59l7.72-7.72 1.47 1.35L5.41 20z\"/>\n",
              "  </svg>\n",
              "      </button>\n",
              "      \n",
              "  <style>\n",
              "    .colab-df-container {\n",
              "      display:flex;\n",
              "      flex-wrap:wrap;\n",
              "      gap: 12px;\n",
              "    }\n",
              "\n",
              "    .colab-df-convert {\n",
              "      background-color: #E8F0FE;\n",
              "      border: none;\n",
              "      border-radius: 50%;\n",
              "      cursor: pointer;\n",
              "      display: none;\n",
              "      fill: #1967D2;\n",
              "      height: 32px;\n",
              "      padding: 0 0 0 0;\n",
              "      width: 32px;\n",
              "    }\n",
              "\n",
              "    .colab-df-convert:hover {\n",
              "      background-color: #E2EBFA;\n",
              "      box-shadow: 0px 1px 2px rgba(60, 64, 67, 0.3), 0px 1px 3px 1px rgba(60, 64, 67, 0.15);\n",
              "      fill: #174EA6;\n",
              "    }\n",
              "\n",
              "    [theme=dark] .colab-df-convert {\n",
              "      background-color: #3B4455;\n",
              "      fill: #D2E3FC;\n",
              "    }\n",
              "\n",
              "    [theme=dark] .colab-df-convert:hover {\n",
              "      background-color: #434B5C;\n",
              "      box-shadow: 0px 1px 3px 1px rgba(0, 0, 0, 0.15);\n",
              "      filter: drop-shadow(0px 1px 2px rgba(0, 0, 0, 0.3));\n",
              "      fill: #FFFFFF;\n",
              "    }\n",
              "  </style>\n",
              "\n",
              "      <script>\n",
              "        const buttonEl =\n",
              "          document.querySelector('#df-0cf8d178-1aab-481d-ad12-e5c0b8c01b1d button.colab-df-convert');\n",
              "        buttonEl.style.display =\n",
              "          google.colab.kernel.accessAllowed ? 'block' : 'none';\n",
              "\n",
              "        async function convertToInteractive(key) {\n",
              "          const element = document.querySelector('#df-0cf8d178-1aab-481d-ad12-e5c0b8c01b1d');\n",
              "          const dataTable =\n",
              "            await google.colab.kernel.invokeFunction('convertToInteractive',\n",
              "                                                     [key], {});\n",
              "          if (!dataTable) return;\n",
              "\n",
              "          const docLinkHtml = 'Like what you see? Visit the ' +\n",
              "            '<a target=\"_blank\" href=https://colab.research.google.com/notebooks/data_table.ipynb>data table notebook</a>'\n",
              "            + ' to learn more about interactive tables.';\n",
              "          element.innerHTML = '';\n",
              "          dataTable['output_type'] = 'display_data';\n",
              "          await google.colab.output.renderOutput(dataTable, element);\n",
              "          const docLink = document.createElement('div');\n",
              "          docLink.innerHTML = docLinkHtml;\n",
              "          element.appendChild(docLink);\n",
              "        }\n",
              "      </script>\n",
              "    </div>\n",
              "  </div>\n",
              "  "
            ]
          },
          "metadata": {},
          "execution_count": 1830
        }
      ]
    },
    {
      "cell_type": "code",
      "source": [
        "q = adjmat_df.to_numpy()\n",
        "q"
      ],
      "metadata": {
        "colab": {
          "base_uri": "https://localhost:8080/"
        },
        "id": "MxMnwn7Jx2p-",
        "outputId": "72277e9d-c81a-4cc4-dc20-083f4c031a3a"
      },
      "execution_count": 1831,
      "outputs": [
        {
          "output_type": "execute_result",
          "data": {
            "text/plain": [
              "array([[0., 0., 0., ..., 0., 0., 0.],\n",
              "       [0., 0., 0., ..., 0., 0., 0.],\n",
              "       [0., 0., 0., ..., 0., 0., 0.],\n",
              "       ...,\n",
              "       [0., 0., 0., ..., 0., 0., 0.],\n",
              "       [0., 0., 0., ..., 0., 0., 0.],\n",
              "       [0., 0., 0., ..., 0., 0., 0.]])"
            ]
          },
          "metadata": {},
          "execution_count": 1831
        }
      ]
    },
    {
      "cell_type": "code",
      "source": [
        "# SOURCE : https://github.com/dmlc/dgl/issues/3364\n",
        "src, dst = np.nonzero(q)"
      ],
      "metadata": {
        "id": "P6OeMUnQZsrN"
      },
      "execution_count": 1832,
      "outputs": []
    },
    {
      "cell_type": "code",
      "source": [
        "src"
      ],
      "metadata": {
        "colab": {
          "base_uri": "https://localhost:8080/"
        },
        "id": "o9mbiGeJargk",
        "outputId": "1680c300-b900-4161-96b7-12cfde086b6c"
      },
      "execution_count": 1833,
      "outputs": [
        {
          "output_type": "execute_result",
          "data": {
            "text/plain": [
              "array([   0,    0,    0, ..., 1599, 1599, 1599])"
            ]
          },
          "metadata": {},
          "execution_count": 1833
        }
      ]
    },
    {
      "cell_type": "code",
      "source": [
        "dst"
      ],
      "metadata": {
        "colab": {
          "base_uri": "https://localhost:8080/"
        },
        "id": "ftpsumT5ataU",
        "outputId": "124c49a3-1765-418f-8bb2-d9e185ccca0e"
      },
      "execution_count": 1834,
      "outputs": [
        {
          "output_type": "execute_result",
          "data": {
            "text/plain": [
              "array([ 75, 103, 140, ..., 882, 893, 968])"
            ]
          },
          "metadata": {},
          "execution_count": 1834
        }
      ]
    },
    {
      "cell_type": "code",
      "source": [
        "g = dgl.graph((src, dst))"
      ],
      "metadata": {
        "id": "586xOg_vZvs8"
      },
      "execution_count": 1835,
      "outputs": []
    },
    {
      "cell_type": "code",
      "source": [
        "n_nodes = g.num_nodes()\n",
        "n_nodes"
      ],
      "metadata": {
        "colab": {
          "base_uri": "https://localhost:8080/"
        },
        "id": "1sx5KTl9PYUe",
        "outputId": "390c7cf4-cdf1-4f37-df70-1da25e2a7e94"
      },
      "execution_count": 1836,
      "outputs": [
        {
          "output_type": "execute_result",
          "data": {
            "text/plain": [
              "1600"
            ]
          },
          "metadata": {},
          "execution_count": 1836
        }
      ]
    },
    {
      "cell_type": "code",
      "source": [
        "nodes = g.nodes()\n",
        "nodes"
      ],
      "metadata": {
        "colab": {
          "base_uri": "https://localhost:8080/"
        },
        "id": "X966_YkOPYWw",
        "outputId": "04287b4d-e3d9-4734-cc95-a54276390b18"
      },
      "execution_count": 1837,
      "outputs": [
        {
          "output_type": "execute_result",
          "data": {
            "text/plain": [
              "tensor([   0,    1,    2,  ..., 1597, 1598, 1599])"
            ]
          },
          "metadata": {},
          "execution_count": 1837
        }
      ]
    },
    {
      "cell_type": "code",
      "source": [
        "n_nodes1 = g.number_of_nodes()\n",
        "n_nodes1"
      ],
      "metadata": {
        "colab": {
          "base_uri": "https://localhost:8080/"
        },
        "id": "eBfrj943UfIY",
        "outputId": "63e76268-955f-4ca0-b175-0a7bbc624c51"
      },
      "execution_count": 1838,
      "outputs": [
        {
          "output_type": "execute_result",
          "data": {
            "text/plain": [
              "1600"
            ]
          },
          "metadata": {},
          "execution_count": 1838
        }
      ]
    },
    {
      "cell_type": "code",
      "source": [
        "g.ndata['feat'] = torch.tensor(X_kbest_features)\n",
        "g.ndata['feat'] "
      ],
      "metadata": {
        "colab": {
          "base_uri": "https://localhost:8080/"
        },
        "id": "qO1Qsayh60X6",
        "outputId": "13539981-eb13-45e5-f8ff-c187d68128ed"
      },
      "execution_count": 1839,
      "outputs": [
        {
          "output_type": "execute_result",
          "data": {
            "text/plain": [
              "tensor([[0., 0., 0.,  ..., 0., 0., 0.],\n",
              "        [0., 0., 0.,  ..., 0., 0., 0.],\n",
              "        [0., 0., 0.,  ..., 0., 0., 0.],\n",
              "        ...,\n",
              "        [0., 0., 0.,  ..., 0., 0., 0.],\n",
              "        [0., 0., 0.,  ..., 0., 0., 0.],\n",
              "        [0., 0., 0.,  ..., 0., 0., 0.]], dtype=torch.float64)"
            ]
          },
          "metadata": {},
          "execution_count": 1839
        }
      ]
    },
    {
      "cell_type": "code",
      "source": [
        "n_train = int(n_nodes1 * 0.6)\n",
        "n_val = int(n_nodes1 * 0.2)"
      ],
      "metadata": {
        "id": "SZYQiQqEmXJb"
      },
      "execution_count": 1840,
      "outputs": []
    },
    {
      "cell_type": "code",
      "source": [
        "train_mask = torch.zeros(n_nodes, dtype=torch.bool)\n",
        "len(train_mask)\n",
        "train_mask"
      ],
      "metadata": {
        "colab": {
          "base_uri": "https://localhost:8080/"
        },
        "id": "PkJ5DhnOmy1K",
        "outputId": "2cb7060d-33f9-4309-8f46-09bec4927dfb"
      },
      "execution_count": 1841,
      "outputs": [
        {
          "output_type": "execute_result",
          "data": {
            "text/plain": [
              "tensor([False, False, False,  ..., False, False, False])"
            ]
          },
          "metadata": {},
          "execution_count": 1841
        }
      ]
    },
    {
      "cell_type": "code",
      "source": [
        "val_mask = torch.zeros(n_nodes, dtype=torch.bool)\n",
        "len(val_mask)\n",
        "val_mask"
      ],
      "metadata": {
        "colab": {
          "base_uri": "https://localhost:8080/"
        },
        "id": "G0v0Uq_Wm3eS",
        "outputId": "0837cbfb-44bf-4668-eb5a-6ca26e0c56ae"
      },
      "execution_count": 1842,
      "outputs": [
        {
          "output_type": "execute_result",
          "data": {
            "text/plain": [
              "tensor([False, False, False,  ..., False, False, False])"
            ]
          },
          "metadata": {},
          "execution_count": 1842
        }
      ]
    },
    {
      "cell_type": "code",
      "source": [
        "test_mask = torch.zeros(n_nodes, dtype=torch.bool)\n",
        "len(test_mask)\n",
        "test_mask"
      ],
      "metadata": {
        "colab": {
          "base_uri": "https://localhost:8080/"
        },
        "id": "cItnta9U5upn",
        "outputId": "974cd559-4f15-4bad-f464-d19180ca12f1"
      },
      "execution_count": 1843,
      "outputs": [
        {
          "output_type": "execute_result",
          "data": {
            "text/plain": [
              "tensor([False, False, False,  ..., False, False, False])"
            ]
          },
          "metadata": {},
          "execution_count": 1843
        }
      ]
    },
    {
      "cell_type": "code",
      "source": [
        "train_mask[:n_train] = True"
      ],
      "metadata": {
        "id": "x2aQxYaimXLj"
      },
      "execution_count": 1844,
      "outputs": []
    },
    {
      "cell_type": "code",
      "source": [
        "val_mask[n_train:n_train + n_val] = True"
      ],
      "metadata": {
        "id": "1TgTOVm0mXPd"
      },
      "execution_count": 1845,
      "outputs": []
    },
    {
      "cell_type": "code",
      "source": [
        "test_mask[n_train + n_val:] = True"
      ],
      "metadata": {
        "id": "zRYIR4H76FTA"
      },
      "execution_count": 1846,
      "outputs": []
    },
    {
      "cell_type": "code",
      "source": [
        "g.ndata['train_mask'] = train_mask"
      ],
      "metadata": {
        "id": "AoRuraDInRHu"
      },
      "execution_count": 1847,
      "outputs": []
    },
    {
      "cell_type": "code",
      "source": [
        "g.ndata['val_mask'] = val_mask"
      ],
      "metadata": {
        "id": "pU8Ro7FsntTY"
      },
      "execution_count": 1848,
      "outputs": []
    },
    {
      "cell_type": "code",
      "source": [
        "g.ndata['test_mask'] = test_mask"
      ],
      "metadata": {
        "id": "5vRy2Xsl6G4w"
      },
      "execution_count": 1849,
      "outputs": []
    },
    {
      "cell_type": "code",
      "source": [
        "s_array = df['Class'].to_numpy()\n",
        "s_array"
      ],
      "metadata": {
        "colab": {
          "base_uri": "https://localhost:8080/"
        },
        "id": "BeIWr8AMoNpQ",
        "outputId": "b873da16-3041-4c87-d562-52102608b674"
      },
      "execution_count": 1850,
      "outputs": [
        {
          "output_type": "execute_result",
          "data": {
            "text/plain": [
              "array([1, 1, 1, ..., 0, 0, 0])"
            ]
          },
          "metadata": {},
          "execution_count": 1850
        }
      ]
    },
    {
      "cell_type": "code",
      "source": [
        "t1 = torch.tensor(s_array)\n",
        "t1"
      ],
      "metadata": {
        "colab": {
          "base_uri": "https://localhost:8080/"
        },
        "id": "R97wW7EUoNrT",
        "outputId": "70de678a-ba76-47bb-cd67-6126f34e3b92"
      },
      "execution_count": 1851,
      "outputs": [
        {
          "output_type": "execute_result",
          "data": {
            "text/plain": [
              "tensor([1, 1, 1,  ..., 0, 0, 0])"
            ]
          },
          "metadata": {},
          "execution_count": 1851
        }
      ]
    },
    {
      "cell_type": "code",
      "source": [
        "g.ndata[\"label\"] =t1"
      ],
      "metadata": {
        "id": "hO8JibL0oNwE"
      },
      "execution_count": 1852,
      "outputs": []
    },
    {
      "cell_type": "code",
      "source": [
        "label = g.ndata[\"label\"]"
      ],
      "metadata": {
        "id": "G2mtSADLoNx9"
      },
      "execution_count": 1853,
      "outputs": []
    },
    {
      "cell_type": "code",
      "source": [
        "label[train_mask]"
      ],
      "metadata": {
        "colab": {
          "base_uri": "https://localhost:8080/"
        },
        "id": "YsuJWgi_eVHj",
        "outputId": "47966ac8-0cdc-48c7-852b-0652debde453"
      },
      "execution_count": 1854,
      "outputs": [
        {
          "output_type": "execute_result",
          "data": {
            "text/plain": [
              "tensor([1, 1, 1, 1, 1, 1, 1, 1, 1, 1, 1, 1, 1, 1, 1, 1, 1, 1, 1, 1, 1, 1, 1, 1,\n",
              "        1, 1, 1, 1, 1, 1, 1, 1, 1, 1, 1, 1, 1, 1, 1, 1, 1, 1, 1, 1, 1, 1, 1, 1,\n",
              "        1, 1, 1, 1, 1, 1, 1, 1, 1, 1, 1, 1, 1, 1, 1, 1, 1, 1, 1, 1, 1, 1, 1, 1,\n",
              "        1, 1, 1, 1, 1, 1, 1, 1, 1, 1, 1, 1, 1, 1, 1, 1, 1, 1, 1, 1, 1, 1, 1, 1,\n",
              "        1, 1, 1, 1, 1, 1, 1, 1, 1, 1, 1, 1, 1, 1, 1, 1, 1, 1, 1, 1, 1, 1, 1, 1,\n",
              "        1, 1, 1, 1, 1, 1, 1, 1, 1, 1, 1, 1, 1, 1, 1, 1, 1, 1, 1, 1, 1, 1, 1, 1,\n",
              "        1, 1, 1, 1, 1, 1, 1, 1, 1, 1, 1, 1, 1, 1, 1, 1, 1, 1, 1, 1, 1, 1, 1, 1,\n",
              "        1, 1, 1, 1, 1, 1, 1, 1, 1, 1, 1, 1, 1, 1, 1, 1, 1, 1, 1, 1, 1, 1, 1, 1,\n",
              "        1, 1, 1, 1, 1, 1, 1, 1, 1, 1, 1, 1, 1, 1, 1, 1, 1, 1, 1, 1, 1, 1, 1, 1,\n",
              "        1, 1, 1, 1, 1, 1, 1, 1, 1, 1, 1, 1, 1, 1, 1, 1, 1, 1, 1, 1, 1, 1, 1, 1,\n",
              "        1, 1, 1, 1, 1, 1, 1, 1, 1, 1, 1, 1, 1, 1, 1, 1, 1, 1, 1, 1, 1, 1, 1, 1,\n",
              "        1, 1, 1, 1, 1, 1, 1, 1, 1, 1, 1, 1, 1, 1, 1, 1, 1, 1, 1, 1, 1, 1, 1, 1,\n",
              "        1, 1, 1, 1, 1, 1, 1, 1, 1, 1, 1, 1, 1, 1, 1, 1, 1, 1, 1, 1, 1, 1, 1, 1,\n",
              "        1, 1, 1, 1, 1, 1, 1, 1, 1, 1, 1, 1, 1, 1, 1, 1, 1, 1, 1, 1, 1, 1, 1, 1,\n",
              "        1, 1, 1, 1, 1, 1, 1, 1, 1, 1, 1, 1, 1, 1, 1, 1, 1, 1, 1, 1, 1, 1, 1, 1,\n",
              "        1, 1, 1, 1, 1, 1, 1, 1, 1, 1, 1, 1, 1, 1, 1, 1, 1, 1, 1, 1, 1, 1, 1, 1,\n",
              "        1, 1, 1, 1, 1, 1, 1, 1, 1, 1, 1, 1, 1, 1, 1, 1, 0, 0, 0, 0, 0, 0, 0, 0,\n",
              "        0, 0, 0, 0, 0, 0, 0, 0, 0, 0, 0, 0, 0, 0, 0, 0, 0, 0, 0, 0, 0, 0, 0, 0,\n",
              "        0, 0, 0, 0, 0, 0, 0, 0, 0, 0, 0, 0, 0, 0, 0, 0, 0, 0, 0, 0, 0, 0, 0, 0,\n",
              "        0, 0, 0, 0, 0, 0, 0, 0, 0, 0, 0, 0, 0, 0, 0, 0, 0, 0, 0, 0, 0, 0, 0, 0,\n",
              "        0, 0, 0, 0, 0, 0, 0, 0, 0, 0, 0, 0, 0, 0, 0, 0, 0, 0, 0, 0, 0, 0, 0, 0,\n",
              "        0, 0, 0, 0, 0, 0, 0, 0, 0, 0, 0, 0, 0, 0, 0, 0, 0, 0, 0, 0, 0, 0, 0, 0,\n",
              "        0, 0, 0, 0, 0, 0, 0, 0, 0, 0, 0, 0, 0, 0, 0, 0, 0, 0, 0, 0, 0, 0, 0, 0,\n",
              "        0, 0, 0, 0, 0, 0, 0, 0, 0, 0, 0, 0, 0, 0, 0, 0, 0, 0, 0, 0, 0, 0, 0, 0,\n",
              "        0, 0, 0, 0, 0, 0, 0, 0, 0, 0, 0, 0, 0, 0, 0, 0, 0, 0, 0, 0, 0, 0, 0, 0,\n",
              "        0, 0, 0, 0, 0, 0, 0, 0, 0, 0, 0, 0, 0, 0, 0, 0, 0, 0, 0, 0, 0, 0, 0, 0,\n",
              "        0, 0, 0, 0, 0, 0, 0, 0, 0, 0, 0, 0, 0, 0, 0, 0, 0, 0, 0, 0, 0, 0, 0, 0,\n",
              "        0, 0, 0, 0, 0, 0, 0, 0, 0, 0, 0, 0, 0, 0, 0, 0, 0, 0, 0, 0, 0, 0, 0, 0,\n",
              "        0, 0, 0, 0, 0, 0, 0, 0, 0, 0, 0, 0, 0, 0, 0, 0, 0, 0, 0, 0, 0, 0, 0, 0,\n",
              "        0, 0, 0, 0, 0, 0, 0, 0, 0, 0, 0, 0, 0, 0, 0, 0, 0, 0, 0, 0, 0, 0, 0, 0,\n",
              "        0, 0, 0, 0, 0, 0, 0, 0, 0, 0, 0, 0, 0, 0, 0, 0, 0, 0, 0, 0, 0, 0, 0, 0,\n",
              "        0, 0, 0, 0, 0, 0, 0, 0, 0, 0, 0, 0, 0, 0, 0, 0, 0, 0, 0, 0, 0, 0, 0, 0,\n",
              "        0, 0, 0, 0, 0, 0, 0, 0, 0, 0, 0, 0, 0, 0, 0, 0, 0, 0, 0, 0, 0, 0, 0, 0,\n",
              "        0, 0, 0, 0, 0, 0, 0, 0, 1, 1, 1, 1, 1, 1, 1, 1, 1, 1, 1, 1, 1, 1, 1, 1,\n",
              "        1, 1, 1, 1, 1, 1, 1, 1, 1, 1, 1, 1, 1, 1, 1, 1, 1, 1, 1, 1, 1, 1, 1, 1,\n",
              "        1, 1, 1, 1, 1, 1, 1, 1, 1, 1, 1, 1, 1, 1, 1, 1, 1, 1, 1, 1, 1, 1, 1, 1,\n",
              "        1, 1, 1, 1, 1, 1, 1, 1, 1, 1, 1, 1, 1, 1, 1, 1, 1, 1, 1, 1, 1, 1, 1, 1,\n",
              "        1, 1, 1, 1, 1, 1, 1, 1, 1, 1, 1, 1, 1, 1, 1, 1, 1, 1, 1, 1, 1, 1, 1, 1,\n",
              "        1, 1, 1, 1, 1, 1, 1, 1, 1, 1, 1, 1, 1, 1, 1, 1, 1, 1, 1, 1, 1, 1, 1, 1,\n",
              "        1, 1, 1, 1, 1, 1, 1, 1, 1, 1, 1, 1, 1, 1, 1, 1, 1, 1, 1, 1, 1, 1, 1, 1])"
            ]
          },
          "metadata": {},
          "execution_count": 1854
        }
      ]
    },
    {
      "cell_type": "code",
      "source": [
        "label[val_mask]"
      ],
      "metadata": {
        "colab": {
          "base_uri": "https://localhost:8080/"
        },
        "id": "kvhuvz2hecjK",
        "outputId": "792ad9f1-5342-4c7d-f581-84817ee83ceb"
      },
      "execution_count": 1855,
      "outputs": [
        {
          "output_type": "execute_result",
          "data": {
            "text/plain": [
              "tensor([1, 1, 1, 1, 1, 1, 1, 1, 1, 1, 1, 1, 1, 1, 1, 1, 1, 1, 1, 1, 1, 1, 1, 1,\n",
              "        1, 1, 1, 1, 1, 1, 1, 1, 1, 1, 1, 1, 1, 1, 1, 1, 1, 1, 1, 1, 1, 1, 1, 1,\n",
              "        1, 1, 1, 1, 1, 1, 1, 1, 1, 1, 1, 1, 1, 1, 1, 1, 1, 1, 1, 1, 1, 1, 1, 1,\n",
              "        1, 1, 1, 1, 1, 1, 1, 1, 1, 1, 1, 1, 1, 1, 1, 1, 1, 1, 1, 1, 1, 1, 1, 1,\n",
              "        1, 1, 1, 1, 1, 1, 1, 1, 1, 1, 1, 1, 1, 1, 1, 1, 1, 1, 1, 1, 1, 1, 1, 1,\n",
              "        1, 1, 1, 1, 1, 1, 1, 1, 1, 1, 1, 1, 1, 1, 1, 1, 1, 1, 1, 1, 1, 1, 1, 1,\n",
              "        1, 1, 1, 1, 1, 1, 1, 1, 1, 1, 1, 1, 1, 1, 1, 1, 1, 1, 1, 1, 1, 1, 1, 1,\n",
              "        1, 1, 1, 1, 1, 1, 1, 1, 1, 1, 1, 1, 1, 1, 1, 1, 1, 1, 1, 1, 1, 1, 1, 1,\n",
              "        1, 1, 1, 1, 1, 1, 1, 1, 1, 1, 1, 1, 1, 1, 1, 1, 1, 1, 1, 1, 1, 1, 1, 1,\n",
              "        1, 1, 1, 1, 1, 1, 1, 1, 1, 1, 1, 1, 1, 1, 1, 1, 1, 1, 1, 1, 1, 1, 1, 1,\n",
              "        0, 0, 0, 0, 0, 0, 0, 0, 0, 0, 0, 0, 0, 0, 0, 0, 0, 0, 0, 0, 0, 0, 0, 0,\n",
              "        0, 0, 0, 0, 0, 0, 0, 0, 0, 0, 0, 0, 0, 0, 0, 0, 0, 0, 0, 0, 0, 0, 0, 0,\n",
              "        0, 0, 0, 0, 0, 0, 0, 0, 0, 0, 0, 0, 0, 0, 0, 0, 0, 0, 0, 0, 0, 0, 0, 0,\n",
              "        0, 0, 0, 0, 0, 0, 0, 0])"
            ]
          },
          "metadata": {},
          "execution_count": 1855
        }
      ]
    },
    {
      "cell_type": "code",
      "source": [
        "label[test_mask]"
      ],
      "metadata": {
        "colab": {
          "base_uri": "https://localhost:8080/"
        },
        "id": "xWAMRS8n6RIp",
        "outputId": "4b6790f6-c4f7-4438-c35d-ee0090dac2df"
      },
      "execution_count": 1856,
      "outputs": [
        {
          "output_type": "execute_result",
          "data": {
            "text/plain": [
              "tensor([0, 0, 0, 0, 0, 0, 0, 0, 0, 0, 0, 0, 0, 0, 0, 0, 0, 0, 0, 0, 0, 0, 0, 0,\n",
              "        0, 0, 0, 0, 0, 0, 0, 0, 0, 0, 0, 0, 0, 0, 0, 0, 0, 0, 0, 0, 0, 0, 0, 0,\n",
              "        0, 0, 0, 0, 0, 0, 0, 0, 0, 0, 0, 0, 0, 0, 0, 0, 0, 0, 0, 0, 0, 0, 0, 0,\n",
              "        0, 0, 0, 0, 0, 0, 0, 0, 0, 0, 0, 0, 0, 0, 0, 0, 0, 0, 0, 0, 0, 0, 0, 0,\n",
              "        0, 0, 0, 0, 0, 0, 0, 0, 0, 0, 0, 0, 0, 0, 0, 0, 0, 0, 0, 0, 0, 0, 0, 0,\n",
              "        0, 0, 0, 0, 0, 0, 0, 0, 0, 0, 0, 0, 0, 0, 0, 0, 0, 0, 0, 0, 0, 0, 0, 0,\n",
              "        0, 0, 0, 0, 0, 0, 0, 0, 0, 0, 0, 0, 0, 0, 0, 0, 0, 0, 0, 0, 0, 0, 0, 0,\n",
              "        0, 0, 0, 0, 0, 0, 0, 0, 0, 0, 0, 0, 0, 0, 0, 0, 0, 0, 0, 0, 0, 0, 0, 0,\n",
              "        0, 0, 0, 0, 0, 0, 0, 0, 0, 0, 0, 0, 0, 0, 0, 0, 0, 0, 0, 0, 0, 0, 0, 0,\n",
              "        0, 0, 0, 0, 0, 0, 0, 0, 0, 0, 0, 0, 0, 0, 0, 0, 0, 0, 0, 0, 0, 0, 0, 0,\n",
              "        0, 0, 0, 0, 0, 0, 0, 0, 0, 0, 0, 0, 0, 0, 0, 0, 0, 0, 0, 0, 0, 0, 0, 0,\n",
              "        0, 0, 0, 0, 0, 0, 0, 0, 0, 0, 0, 0, 0, 0, 0, 0, 0, 0, 0, 0, 0, 0, 0, 0,\n",
              "        0, 0, 0, 0, 0, 0, 0, 0, 0, 0, 0, 0, 0, 0, 0, 0, 0, 0, 0, 0, 0, 0, 0, 0,\n",
              "        0, 0, 0, 0, 0, 0, 0, 0])"
            ]
          },
          "metadata": {},
          "execution_count": 1856
        }
      ]
    },
    {
      "cell_type": "code",
      "source": [
        "train_mask"
      ],
      "metadata": {
        "colab": {
          "base_uri": "https://localhost:8080/"
        },
        "id": "3y5BqD8cn98w",
        "outputId": "8dd9750a-c124-4f4c-9eed-0aaeba54e6ad"
      },
      "execution_count": 1857,
      "outputs": [
        {
          "output_type": "execute_result",
          "data": {
            "text/plain": [
              "tensor([ True,  True,  True,  ..., False, False, False])"
            ]
          },
          "metadata": {},
          "execution_count": 1857
        }
      ]
    },
    {
      "cell_type": "code",
      "source": [
        "val_mask"
      ],
      "metadata": {
        "colab": {
          "base_uri": "https://localhost:8080/"
        },
        "id": "5KuQJLqCdLcy",
        "outputId": "c1ea3cd2-37f0-41c2-c34f-b84beeffa35c"
      },
      "execution_count": 1858,
      "outputs": [
        {
          "output_type": "execute_result",
          "data": {
            "text/plain": [
              "tensor([False, False, False,  ..., False, False, False])"
            ]
          },
          "metadata": {},
          "execution_count": 1858
        }
      ]
    },
    {
      "cell_type": "code",
      "source": [
        "test_mask"
      ],
      "metadata": {
        "colab": {
          "base_uri": "https://localhost:8080/"
        },
        "id": "PLvVKgSl6UvR",
        "outputId": "7c24ece6-9bf0-4272-907a-4cda0f59b8b4"
      },
      "execution_count": 1859,
      "outputs": [
        {
          "output_type": "execute_result",
          "data": {
            "text/plain": [
              "tensor([False, False, False,  ...,  True,  True,  True])"
            ]
          },
          "metadata": {},
          "execution_count": 1859
        }
      ]
    },
    {
      "cell_type": "code",
      "source": [
        "clf = LogisticRegression()\n",
        "clf.fit(g.ndata['feat'][train_mask], label[train_mask])\n",
        "\n",
        "#y_hat_val_lr = clf.predict_proba(X_kbest_features[val_mask,:])\n",
        "y_val_lr = clf.predict(g.ndata['feat'][val_mask])"
      ],
      "metadata": {
        "id": "UFj-vT9UNAE9"
      },
      "execution_count": 1883,
      "outputs": []
    },
    {
      "cell_type": "code",
      "source": [
        "accuracy_score(label[val_mask], y_val_lr)"
      ],
      "metadata": {
        "colab": {
          "base_uri": "https://localhost:8080/"
        },
        "id": "XO4SUnuUNAIh",
        "outputId": "f600f164-c89e-4f97-d632-e111eccca7b7"
      },
      "execution_count": 1884,
      "outputs": [
        {
          "output_type": "execute_result",
          "data": {
            "text/plain": [
              "0.809375"
            ]
          },
          "metadata": {},
          "execution_count": 1884
        }
      ]
    },
    {
      "cell_type": "code",
      "source": [
        "clf_balanced = LogisticRegression(class_weight='balanced', max_iter=1000)\n",
        "clf_balanced.fit(g.ndata['feat'][train_mask], label[train_mask])\n",
        "\n",
        "y_val_lrb = clf_balanced.predict(g.ndata['feat'][val_mask])\n",
        "accuracy_score(label[val_mask], y_val_lrb)"
      ],
      "metadata": {
        "colab": {
          "base_uri": "https://localhost:8080/"
        },
        "id": "bG3ModKdNAL7",
        "outputId": "1613d191-bb23-4e1a-e087-793421ae06ad"
      },
      "execution_count": 1885,
      "outputs": [
        {
          "output_type": "execute_result",
          "data": {
            "text/plain": [
              "0.825"
            ]
          },
          "metadata": {},
          "execution_count": 1885
        }
      ]
    },
    {
      "cell_type": "code",
      "source": [
        "rf = RandomForestClassifier(n_estimators=400)\n",
        "rf.fit(g.ndata['feat'][train_mask,:], label[train_mask])\n",
        "\n",
        "y_val_rf = rf.predict(g.ndata['feat'][val_mask,:])\n",
        "accuracy_score(label[val_mask], y_val_rf)"
      ],
      "metadata": {
        "colab": {
          "base_uri": "https://localhost:8080/"
        },
        "id": "L-WtXX_BNAO_",
        "outputId": "6ec12b86-2481-4acc-f5fb-37e7c2ceef06"
      },
      "execution_count": 1886,
      "outputs": [
        {
          "output_type": "execute_result",
          "data": {
            "text/plain": [
              "0.825"
            ]
          },
          "metadata": {},
          "execution_count": 1886
        }
      ]
    },
    {
      "cell_type": "code",
      "source": [
        "gb = GradientBoostingClassifier(n_estimators=300, learning_rate=1.0, max_depth=1, random_state=0)\n",
        "gb.fit(g.ndata['feat'][train_mask,:], label[train_mask])\n",
        "\n",
        "y_val_rf = gb.predict(g.ndata['feat'][val_mask,:])\n",
        "accuracy_score(label[val_mask], y_val_rf)"
      ],
      "metadata": {
        "colab": {
          "base_uri": "https://localhost:8080/"
        },
        "id": "pk1pg29uNLTT",
        "outputId": "c0ebbe11-b6bf-4715-98e5-b4a545d33782"
      },
      "execution_count": 1864,
      "outputs": [
        {
          "output_type": "execute_result",
          "data": {
            "text/plain": [
              "0.834375"
            ]
          },
          "metadata": {},
          "execution_count": 1864
        }
      ]
    },
    {
      "cell_type": "code",
      "source": [
        "ab = AdaBoostClassifier(n_estimators=400, random_state=0)\n",
        "ab.fit(g.ndata['feat'][train_mask,:], label[train_mask])\n",
        "\n",
        "y_val_rf = ab.predict(g.ndata['feat'][val_mask,:])\n",
        "accuracy_score(label[val_mask], y_val_rf)"
      ],
      "metadata": {
        "colab": {
          "base_uri": "https://localhost:8080/"
        },
        "id": "18ese6-HNLXs",
        "outputId": "aa7016bb-27a3-466d-b7c7-54ec4c19b750"
      },
      "execution_count": 1865,
      "outputs": [
        {
          "output_type": "execute_result",
          "data": {
            "text/plain": [
              "0.79375"
            ]
          },
          "metadata": {},
          "execution_count": 1865
        }
      ]
    },
    {
      "cell_type": "code",
      "source": [
        "from sklearn.model_selection import KFold\n",
        "from sklearn.model_selection import StratifiedKFold\n",
        "from sklearn.model_selection import cross_val_score\n",
        "cv = KFold(n_splits=10, random_state=7, shuffle=True)"
      ],
      "metadata": {
        "id": "sxwsxrFHNLbj"
      },
      "execution_count": 1866,
      "outputs": []
    },
    {
      "cell_type": "code",
      "source": [
        "from sklearn.linear_model import LogisticRegression\n",
        "log = LogisticRegression(max_iter=10000) \n",
        "scores = cross_val_score(log, g.ndata['feat'], label, cv=cv, n_jobs=-1)\n",
        "print(np.mean(scores))"
      ],
      "metadata": {
        "colab": {
          "base_uri": "https://localhost:8080/"
        },
        "id": "0a4zKi8CNLfE",
        "outputId": "ad7be739-06cd-42c6-9a1c-33035f9c2fb7"
      },
      "execution_count": 1867,
      "outputs": [
        {
          "output_type": "stream",
          "name": "stdout",
          "text": [
            "0.8956250000000001\n"
          ]
        }
      ]
    },
    {
      "cell_type": "code",
      "source": [
        "from sklearn.svm import LinearSVC\n",
        "lsvm = LinearSVC()\n",
        "scores = cross_val_score(lsvm, g.ndata['feat'], label, cv=cv, n_jobs=-1)\n",
        "print(np.mean(scores))"
      ],
      "metadata": {
        "colab": {
          "base_uri": "https://localhost:8080/"
        },
        "id": "JiwpGE2rNLkS",
        "outputId": "73506feb-0627-4817-a9dc-df4fd6cf0466"
      },
      "execution_count": 1868,
      "outputs": [
        {
          "output_type": "stream",
          "name": "stdout",
          "text": [
            "0.905\n"
          ]
        }
      ]
    },
    {
      "cell_type": "code",
      "source": [
        "from sklearn.linear_model import PassiveAggressiveClassifier\n",
        "pa=PassiveAggressiveClassifier(max_iter=1000, random_state=7, tol=1e-3)\n",
        "scores = cross_val_score(pa, g.ndata['feat'], label, cv=cv, n_jobs=-1)\n",
        "print(np.mean(scores))"
      ],
      "metadata": {
        "colab": {
          "base_uri": "https://localhost:8080/"
        },
        "id": "63xUMeXVNLwc",
        "outputId": "cd9acae2-5f15-48de-9d00-bbccfc29cf62"
      },
      "execution_count": 1869,
      "outputs": [
        {
          "output_type": "stream",
          "name": "stdout",
          "text": [
            "0.881875\n"
          ]
        }
      ]
    },
    {
      "cell_type": "code",
      "source": [
        "from sklearn.ensemble import RandomForestClassifier\n",
        "rf = RandomForestClassifier(n_estimators=300)\n",
        "scores = cross_val_score(rf, g.ndata['feat'], label, cv=cv, n_jobs=-1)\n",
        "print(np.mean(scores))"
      ],
      "metadata": {
        "colab": {
          "base_uri": "https://localhost:8080/"
        },
        "id": "g007IZlZNLzz",
        "outputId": "dd53a725-ea27-4401-9601-5717d94c3f11"
      },
      "execution_count": 1870,
      "outputs": [
        {
          "output_type": "stream",
          "name": "stdout",
          "text": [
            "0.8631249999999999\n"
          ]
        }
      ]
    },
    {
      "cell_type": "code",
      "source": [
        "from sklearn.ensemble import AdaBoostClassifier\n",
        "ab = AdaBoostClassifier(n_estimators=300)\n",
        "scores = cross_val_score(ab, g.ndata['feat'], label, cv=cv, n_jobs=-1)\n",
        "print(np.mean(scores))"
      ],
      "metadata": {
        "colab": {
          "base_uri": "https://localhost:8080/"
        },
        "id": "sdv41XFHNL2h",
        "outputId": "b8c740d2-9916-4328-8ded-ae1ba8b1bc6c"
      },
      "execution_count": 1871,
      "outputs": [
        {
          "output_type": "stream",
          "name": "stdout",
          "text": [
            "0.834375\n"
          ]
        }
      ]
    },
    {
      "cell_type": "code",
      "source": [
        "from sklearn.ensemble import GradientBoostingClassifier\n",
        "gb = GradientBoostingClassifier(n_estimators=300)\n",
        "scores = cross_val_score(gb, g.ndata['feat'], label, cv=cv, n_jobs=-1)\n",
        "print(np.mean(scores))"
      ],
      "metadata": {
        "colab": {
          "base_uri": "https://localhost:8080/"
        },
        "id": "Q_fg6s0jNAR8",
        "outputId": "46aedd03-d295-4005-b8a9-e1e80028ddbc"
      },
      "execution_count": 1872,
      "outputs": [
        {
          "output_type": "stream",
          "name": "stdout",
          "text": [
            "0.85\n"
          ]
        }
      ]
    },
    {
      "cell_type": "code",
      "source": [
        "import xgboost as xgb\n",
        "xgbc = xgb.XGBClassifier(base_score=0.5, booster='gbtree', colsample_bylevel=1,\n",
        "              colsample_bynode=1, colsample_bytree=1, \n",
        "              gamma=0,  importance_type='gain',\n",
        "              interaction_constraints='', learning_rate=0.300000012,\n",
        "              max_delta_step=0, max_depth=6, min_child_weight=1, \n",
        "             n_estimators=200, n_jobs=16,\n",
        "              num_parallel_tree=1, random_state=0,\n",
        "              reg_alpha=0, reg_lambda=1, subsample=1,\n",
        "              tree_method='exact', use_label_encoder=False\n",
        "              )\n",
        "scores = cross_val_score(xgbc, g.ndata['feat'], label, cv=cv, n_jobs=-1)\n",
        "print(np.mean(scores))"
      ],
      "metadata": {
        "colab": {
          "base_uri": "https://localhost:8080/"
        },
        "id": "F4fTHJstNhQx",
        "outputId": "791d6e39-ac28-4974-ca04-09b02d604c86"
      },
      "execution_count": 1873,
      "outputs": [
        {
          "output_type": "stream",
          "name": "stdout",
          "text": [
            "0.836875\n"
          ]
        }
      ]
    },
    {
      "cell_type": "code",
      "source": [
        "# Contruct a two-layer GNN model\n",
        "import dgl.nn as dglnn\n",
        "import torch.nn as nn\n",
        "import torch.nn.functional as F\n",
        "class SAGE(nn.Module):\n",
        "    def __init__(self, in_feats, hid_feats, out_feats):\n",
        "        super().__init__()\n",
        "        self.conv1 = dglnn.SAGEConv(\n",
        "            in_feats=in_feats, out_feats=hid_feats, aggregator_type='mean')\n",
        "        self.conv2 = dglnn.SAGEConv(\n",
        "            in_feats=hid_feats, out_feats=out_feats, aggregator_type='mean')\n",
        "\n",
        "    def forward(self, graph, inputs):\n",
        "        # inputs are features of nodes\n",
        "        h = self.conv1(graph, inputs)\n",
        "        h = F.relu(h)\n",
        "        h = self.conv2(graph, h)\n",
        "        return h"
      ],
      "metadata": {
        "id": "loFwUeF55eRu"
      },
      "execution_count": 1874,
      "outputs": []
    },
    {
      "cell_type": "code",
      "source": [
        "node_features = g.ndata['feat'].float()\n",
        "node_labels = g.ndata['label']\n",
        "train_mask = g.ndata['train_mask']\n",
        "valid_mask = g.ndata['val_mask']\n",
        "test_mask = g.ndata['test_mask']\n",
        "n_features = node_features.shape[1]\n",
        "n_labels = int(node_labels.max().item() + 1)"
      ],
      "metadata": {
        "id": "2evPH8TQ5eU9"
      },
      "execution_count": 1875,
      "outputs": []
    },
    {
      "cell_type": "code",
      "source": [
        "node_features"
      ],
      "metadata": {
        "colab": {
          "base_uri": "https://localhost:8080/"
        },
        "id": "5WImXqoT7fJR",
        "outputId": "fbec259a-e6b1-4cbe-e716-ff2ea59a27af"
      },
      "execution_count": 1876,
      "outputs": [
        {
          "output_type": "execute_result",
          "data": {
            "text/plain": [
              "tensor([[0., 0., 0.,  ..., 0., 0., 0.],\n",
              "        [0., 0., 0.,  ..., 0., 0., 0.],\n",
              "        [0., 0., 0.,  ..., 0., 0., 0.],\n",
              "        ...,\n",
              "        [0., 0., 0.,  ..., 0., 0., 0.],\n",
              "        [0., 0., 0.,  ..., 0., 0., 0.],\n",
              "        [0., 0., 0.,  ..., 0., 0., 0.]])"
            ]
          },
          "metadata": {},
          "execution_count": 1876
        }
      ]
    },
    {
      "cell_type": "code",
      "source": [
        "def evaluate(model, g, features, labels, mask):\n",
        "    model.eval()\n",
        "    with torch.no_grad():\n",
        "        logits = model(g, features)\n",
        "        logits = logits[mask]\n",
        "        labels = labels[mask]\n",
        "        _, indices = torch.max(logits, dim=1)\n",
        "        correct = torch.sum(indices == labels)\n",
        "        return correct.item() * 1.0 / len(labels)"
      ],
      "metadata": {
        "id": "1I3QmqAo5eYF"
      },
      "execution_count": 1877,
      "outputs": []
    },
    {
      "cell_type": "code",
      "source": [
        "model = SAGE(in_feats=n_features, hid_feats=100, out_feats=n_labels)\n",
        "opt = torch.optim.Adam(model.parameters())\n",
        "\n",
        "for epoch in range(50):\n",
        "    model.train()\n",
        "    # forward propagation by using all nodes\n",
        "    logits = model(g, node_features)\n",
        "    # compute loss\n",
        "    loss = F.cross_entropy(logits[train_mask], node_labels[train_mask])\n",
        "    # compute validation accuracy\n",
        "    acc = evaluate(model, g, node_features, node_labels, valid_mask)\n",
        "    print(acc)\n",
        "    # backward propagation\n",
        "    opt.zero_grad()\n",
        "    loss.backward()\n",
        "    opt.step()\n",
        "    #print(loss.item())\n",
        "\n",
        "    # Save model if necessary.  Omitted in this example."
      ],
      "metadata": {
        "colab": {
          "base_uri": "https://localhost:8080/"
        },
        "id": "g9NZBq095ea9",
        "outputId": "07e4d3d9-aeef-4ac0-d0ca-6e4a0d3434a5"
      },
      "execution_count": 1878,
      "outputs": [
        {
          "output_type": "stream",
          "name": "stdout",
          "text": [
            "0.440625\n",
            "0.565625\n",
            "0.65\n"
          ]
        },
        {
          "output_type": "stream",
          "name": "stderr",
          "text": [
            "/usr/local/lib/python3.7/dist-packages/torch/amp/autocast_mode.py:198: UserWarning: User provided device_type of 'cuda', but CUDA is not available. Disabling\n",
            "  warnings.warn('User provided device_type of \\'cuda\\', but CUDA is not available. Disabling')\n"
          ]
        },
        {
          "output_type": "stream",
          "name": "stdout",
          "text": [
            "0.71875\n",
            "0.765625\n",
            "0.76875\n",
            "0.78125\n",
            "0.78125\n",
            "0.78125\n",
            "0.784375\n",
            "0.7875\n",
            "0.790625\n",
            "0.79375\n",
            "0.8\n",
            "0.8\n",
            "0.803125\n",
            "0.81875\n",
            "0.81875\n",
            "0.828125\n",
            "0.834375\n",
            "0.83125\n",
            "0.83125\n",
            "0.83125\n",
            "0.834375\n",
            "0.8375\n",
            "0.840625\n",
            "0.840625\n",
            "0.840625\n",
            "0.840625\n",
            "0.840625\n",
            "0.840625\n",
            "0.840625\n",
            "0.840625\n",
            "0.840625\n",
            "0.840625\n",
            "0.84375\n",
            "0.84375\n",
            "0.84375\n",
            "0.84375\n",
            "0.84375\n",
            "0.84375\n",
            "0.840625\n",
            "0.840625\n",
            "0.840625\n",
            "0.84375\n",
            "0.840625\n",
            "0.840625\n",
            "0.840625\n",
            "0.840625\n",
            "0.840625\n"
          ]
        }
      ]
    }
  ],
  "metadata": {
    "colab": {
      "provenance": [],
      "collapsed_sections": []
    },
    "kernelspec": {
      "display_name": "Python 3",
      "language": "python",
      "name": "python3"
    },
    "language_info": {
      "codemirror_mode": {
        "name": "ipython",
        "version": 3
      },
      "file_extension": ".py",
      "mimetype": "text/x-python",
      "name": "python",
      "nbconvert_exporter": "python",
      "pygments_lexer": "ipython3",
      "version": "3.6.8"
    },
    "accelerator": "GPU"
  },
  "nbformat": 4,
  "nbformat_minor": 0
}