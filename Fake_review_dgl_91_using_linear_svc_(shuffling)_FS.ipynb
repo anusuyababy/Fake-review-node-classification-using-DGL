{
  "cells": [
    {
      "cell_type": "markdown",
      "metadata": {
        "id": "zicTH6Fi8rIf"
      },
      "source": [
        "# FAKE REVIEW NODE EMBEDDING"
      ]
    },
    {
      "cell_type": "code",
      "source": [
        "# importing all necessary libraries\n",
        "import networkx as nx\n",
        "import pandas as pd\n",
        "import numpy as np\n",
        "import matplotlib.pyplot as plt\n",
        "import seaborn as sns\n",
        "import string\n",
        "import os\n",
        "import networkx as nx\n",
        "from sklearn import preprocessing, model_selection\n",
        "from IPython.display import display, HTML\n",
        "import matplotlib.pyplot as plt\n",
        "from sklearn.decomposition import PCA\n",
        "#from node2vec import Node2Vec as n2v\n",
        "sns.set()\n",
        "\n",
        "%matplotlib inline"
      ],
      "metadata": {
        "id": "QnCy6AgP5iwy"
      },
      "execution_count": 1,
      "outputs": []
    },
    {
      "cell_type": "code",
      "source": [
        "import os, sys\n",
        "from copy import deepcopy\n",
        "import numpy as np\n",
        "import pandas as pd\n",
        "\n",
        "import torch as th\n",
        "import torch.nn as nn\n",
        "from torch import optim\n",
        "import torch.nn.functional as F\n",
        "\n",
        "import matplotlib.pyplot as plt\n",
        "%matplotlib inline"
      ],
      "metadata": {
        "id": "KTxBYEEjBBc4"
      },
      "execution_count": 2,
      "outputs": []
    },
    {
      "cell_type": "code",
      "source": [
        "print(f\"Torch version: {th.__version__}.  CUDA version: {th.version.cuda}\")"
      ],
      "metadata": {
        "colab": {
          "base_uri": "https://localhost:8080/"
        },
        "id": "WfZg4oZpBD4X",
        "outputId": "1faac386-5966-4eac-ea17-bca76faf7be4"
      },
      "execution_count": 3,
      "outputs": [
        {
          "output_type": "stream",
          "name": "stdout",
          "text": [
            "Torch version: 1.12.1+cu113.  CUDA version: 11.3\n"
          ]
        }
      ]
    },
    {
      "cell_type": "code",
      "source": [
        "dgl_version = f\"dgl-cu{th.version.cuda.replace('.', '')}==0.7.2\"\n",
        "dgl_version"
      ],
      "metadata": {
        "colab": {
          "base_uri": "https://localhost:8080/",
          "height": 36
        },
        "id": "twxQrYR2BD7P",
        "outputId": "690c89c7-276d-4504-fadc-fb62f5dc414e"
      },
      "execution_count": 4,
      "outputs": [
        {
          "output_type": "execute_result",
          "data": {
            "text/plain": [
              "'dgl-cu113==0.7.2'"
            ],
            "application/vnd.google.colaboratory.intrinsic+json": {
              "type": "string"
            }
          },
          "metadata": {},
          "execution_count": 4
        }
      ]
    },
    {
      "cell_type": "code",
      "source": [
        "# Follow instructions at https://www.dgl.ai/pages/start.html\n",
        "!{sys.executable} -m pip install {dgl_version} -f https://data.dgl.ai/wheels/repo.html"
      ],
      "metadata": {
        "colab": {
          "base_uri": "https://localhost:8080/"
        },
        "id": "yMMKD4XJBD-A",
        "outputId": "8adf21bd-d241-48f8-bd40-c740a5fc6740"
      },
      "execution_count": 5,
      "outputs": [
        {
          "output_type": "stream",
          "name": "stdout",
          "text": [
            "Looking in indexes: https://pypi.org/simple, https://us-python.pkg.dev/colab-wheels/public/simple/\n",
            "Looking in links: https://data.dgl.ai/wheels/repo.html\n",
            "Collecting dgl-cu113==0.7.2\n",
            "  Downloading https://data.dgl.ai/wheels/dgl_cu113-0.7.2-cp37-cp37m-manylinux1_x86_64.whl (152.9 MB)\n",
            "\u001b[K     |████████████████████████████████| 152.9 MB 45 kB/s \n",
            "\u001b[?25hRequirement already satisfied: requests>=2.19.0 in /usr/local/lib/python3.7/dist-packages (from dgl-cu113==0.7.2) (2.23.0)\n",
            "Requirement already satisfied: numpy>=1.14.0 in /usr/local/lib/python3.7/dist-packages (from dgl-cu113==0.7.2) (1.21.6)\n",
            "Requirement already satisfied: scipy>=1.1.0 in /usr/local/lib/python3.7/dist-packages (from dgl-cu113==0.7.2) (1.7.3)\n",
            "Requirement already satisfied: networkx>=2.1 in /usr/local/lib/python3.7/dist-packages (from dgl-cu113==0.7.2) (2.6.3)\n",
            "Requirement already satisfied: urllib3!=1.25.0,!=1.25.1,<1.26,>=1.21.1 in /usr/local/lib/python3.7/dist-packages (from requests>=2.19.0->dgl-cu113==0.7.2) (1.24.3)\n",
            "Requirement already satisfied: chardet<4,>=3.0.2 in /usr/local/lib/python3.7/dist-packages (from requests>=2.19.0->dgl-cu113==0.7.2) (3.0.4)\n",
            "Requirement already satisfied: idna<3,>=2.5 in /usr/local/lib/python3.7/dist-packages (from requests>=2.19.0->dgl-cu113==0.7.2) (2.10)\n",
            "Requirement already satisfied: certifi>=2017.4.17 in /usr/local/lib/python3.7/dist-packages (from requests>=2.19.0->dgl-cu113==0.7.2) (2022.9.24)\n",
            "Installing collected packages: dgl-cu113\n",
            "Successfully installed dgl-cu113-0.7.2\n"
          ]
        }
      ]
    },
    {
      "cell_type": "code",
      "source": [
        "os.environ['DGLBACKEND'] = 'pytorch'\n",
        "import dgl\n",
        "from dgl import function as fn"
      ],
      "metadata": {
        "id": "XtlC3DSzBM1X",
        "colab": {
          "base_uri": "https://localhost:8080/"
        },
        "outputId": "5ede1885-88f7-4f9c-d448-bde63f2139b5"
      },
      "execution_count": 6,
      "outputs": [
        {
          "output_type": "stream",
          "name": "stderr",
          "text": [
            "Using backend: pytorch\n"
          ]
        }
      ]
    },
    {
      "cell_type": "code",
      "source": [
        "dgl.__version__"
      ],
      "metadata": {
        "colab": {
          "base_uri": "https://localhost:8080/",
          "height": 36
        },
        "id": "lI7WmNtIBO4v",
        "outputId": "f78774f5-8b9e-42bf-9941-43ad8dac4b1b"
      },
      "execution_count": 7,
      "outputs": [
        {
          "output_type": "execute_result",
          "data": {
            "text/plain": [
              "'0.7.2'"
            ],
            "application/vnd.google.colaboratory.intrinsic+json": {
              "type": "string"
            }
          },
          "metadata": {},
          "execution_count": 7
        }
      ]
    },
    {
      "cell_type": "code",
      "source": [
        "from dgl.dataloading.pytorch import NodeDataLoader\n",
        "device = th.device('cuda' if th.cuda.is_available() else 'cpu')\n",
        "device"
      ],
      "metadata": {
        "colab": {
          "base_uri": "https://localhost:8080/"
        },
        "id": "KdAM2bOfBPlP",
        "outputId": "89ace6e7-13ac-4ba9-f827-3a096568a0a5"
      },
      "execution_count": 8,
      "outputs": [
        {
          "output_type": "execute_result",
          "data": {
            "text/plain": [
              "device(type='cuda')"
            ]
          },
          "metadata": {},
          "execution_count": 8
        }
      ]
    },
    {
      "cell_type": "code",
      "source": [
        "import torch\n",
        "import torch.nn as nn\n",
        "from sklearn.linear_model import LogisticRegression\n",
        "from torch.utils.data import DataLoader\n",
        "import argparse\n",
        "\n",
        "from dgl.sampling import node2vec_random_walk"
      ],
      "metadata": {
        "id": "uP4cYiv4BgRa"
      },
      "execution_count": 9,
      "outputs": []
    },
    {
      "cell_type": "code",
      "source": [
        "#importing libraries\n",
        "import numpy as np\n",
        "import pandas as pd\n",
        "import nltk\n",
        "import matplotlib.pyplot as plt\n",
        "import statistics\n",
        "import math\n",
        "import os\n",
        "from sklearn.model_selection import KFold, StratifiedKFold, cross_val_score\n",
        "from sklearn.metrics import confusion_matrix\n",
        "nltk.download('stopwords')\n",
        "nltk.download('punkt')\n",
        "nltk.download('wordnet')\n",
        "nltk.download('omw-1.4')\n",
        "#nltk.download('all')\n",
        "import re\n",
        "pd.set_option('max_colwidth', 800)\n",
        "\n",
        "\n",
        "#importing Libraies\n",
        "import networkx as nx\n",
        "import matplotlib.pyplot as plt\n",
        "from numpy import genfromtxt\n",
        "import collections\n",
        "from collections import OrderedDict\n",
        "\n",
        "import matplotlib.pyplot as plt\n",
        "%matplotlib inline\n",
        "from sklearn.model_selection import train_test_split\n",
        "from sklearn.model_selection import KFold\n",
        "from sklearn.model_selection import cross_val_score\n",
        "from sklearn.tree import DecisionTreeClassifier\n",
        "from sklearn.feature_selection import SelectFromModel\n",
        "from sklearn.svm import SVC\n",
        "from sklearn.preprocessing import StandardScaler,MinMaxScaler\n",
        "from sklearn.linear_model import LinearRegression,LogisticRegression, RidgeClassifier\n",
        "from sklearn.discriminant_analysis import LinearDiscriminantAnalysis, QuadraticDiscriminantAnalysis\n",
        "from sklearn.ensemble import RandomForestClassifier, GradientBoostingClassifier, AdaBoostClassifier\n",
        "from sklearn.preprocessing import LabelEncoder\n",
        "from sklearn.metrics import classification_report,accuracy_score"
      ],
      "metadata": {
        "colab": {
          "base_uri": "https://localhost:8080/"
        },
        "id": "zvMyzp-I1CU6",
        "outputId": "58ea5fd7-eb7e-4d51-ec30-5ee11fb118d6"
      },
      "execution_count": 10,
      "outputs": [
        {
          "output_type": "stream",
          "name": "stderr",
          "text": [
            "[nltk_data] Downloading package stopwords to /root/nltk_data...\n",
            "[nltk_data]   Unzipping corpora/stopwords.zip.\n",
            "[nltk_data] Downloading package punkt to /root/nltk_data...\n",
            "[nltk_data]   Unzipping tokenizers/punkt.zip.\n",
            "[nltk_data] Downloading package wordnet to /root/nltk_data...\n",
            "[nltk_data] Downloading package omw-1.4 to /root/nltk_data...\n"
          ]
        }
      ]
    },
    {
      "cell_type": "code",
      "source": [
        "#loading dataset\n",
        "df1=pd.read_csv('/content/deceptive.csv')\n",
        "df1.head()"
      ],
      "metadata": {
        "colab": {
          "base_uri": "https://localhost:8080/",
          "height": 510
        },
        "id": "56yBSCmN1CSB",
        "outputId": "bb0dde37-3d2d-4e57-e701-fe03b4c295db"
      },
      "execution_count": 11,
      "outputs": [
        {
          "output_type": "execute_result",
          "data": {
            "text/plain": [
              "  deceptive   hotel  polarity       source  \\\n",
              "0  truthful  conrad  positive  TripAdvisor   \n",
              "1  truthful   hyatt  positive  TripAdvisor   \n",
              "2  truthful   hyatt  positive  TripAdvisor   \n",
              "3  truthful    omni  positive  TripAdvisor   \n",
              "4  truthful   hyatt  positive  TripAdvisor   \n",
              "\n",
              "                                                                                                                                                                                                                                                                                                                                                                                                                                                                                                                                                                                                                                                                                                                                                                                                                              text  \\\n",
              "0                                                                                                                                                                                                                                    We stayed for a one night getaway with family on a thursday. Triple AAA rate of 173 was a steal. 7th floor room complete with 44in plasma TV bose stereo, voss and evian water, and gorgeous bathroom(no tub but was fine for us) Concierge was very helpful. You cannot beat this location... Only flaw was breakfast was pricey and service was very very slow(2hours for four kids and four adults on a friday morning) even though there were only two other tables in the restaurant. Food was very good so it was worth the wait. I would return in a heartbeat. A gem in chicago... \\n   \n",
              "1                                                                                                                                                                                                                                                                                                                                                                                                                                                                                                                                  Triple A rate with upgrade to view room was less than $200 which also included breakfast vouchers. Had a great view of river, lake, Wrigley Bldg. & Tribune Bldg. Most major restaurants, Shopping, Sightseeing attractions within walking distance. Large room with a very comfortable bed. \\n   \n",
              "2  This comes a little late as I'm finally catching up on my reviews from the past several months:) A dear friend and I stayed at the Hyatt Regency in late October 2007 for one night while visiting a friend and her husband from out of town. This hotel is perfect, IMO. Easy check in and check out. Lovely, clean, comfortable rooms with great views of the city. I know this area pretty well and it's very convenient to many downtown Chicago attractions. We had dinner and went clubing with our friends around Division St.. We had no problems getting cabs back and forth to the Hyatt and there's even public transportation right near by but we didn't bother since we only needed cabs from and to the hotel. Parking, as is usual for Chicago, was expensive but we were able to get our car out quickly (h...   \n",
              "3                                                                                             The Omni Chicago really delivers on all fronts, from the spaciousness of the rooms to the helpful staff to the prized location on Michigan Avenue. While this address in Chicago requires a high level of quality, the Omni delivers. Check in for myself and a whole group of people with me was under 3 minutes, the staff had plentiful recommendations for dining and events, and the rooms are some of the largest you'll find at this price range in Chicago. Even the 'standard' room has a separate living area and work desk. The fitness center has free weights, weight machines, and two rows of cardio equipment. I shared the room with 7 others and did not feel cramped in any way! All in all, a great property! \\n   \n",
              "4                                                                                                                                                                                                                                                                                                                                                                                                                                I asked for a high floor away from the elevator and that is what I got. The room was pleasantly decorated, functional and very clean. I didn't need a whole lot of service but when I did they were pleasant and prompt. I used the fitness center which was well equipped and everything was in working order. It is in a great location at one end of the Michigan Avenue shopping district. \\n   \n",
              "\n",
              "   Class  \n",
              "0      1  \n",
              "1      1  \n",
              "2      1  \n",
              "3      1  \n",
              "4      1  "
            ],
            "text/html": [
              "\n",
              "  <div id=\"df-0b522593-f542-4787-b809-2ab62f4e5207\">\n",
              "    <div class=\"colab-df-container\">\n",
              "      <div>\n",
              "<style scoped>\n",
              "    .dataframe tbody tr th:only-of-type {\n",
              "        vertical-align: middle;\n",
              "    }\n",
              "\n",
              "    .dataframe tbody tr th {\n",
              "        vertical-align: top;\n",
              "    }\n",
              "\n",
              "    .dataframe thead th {\n",
              "        text-align: right;\n",
              "    }\n",
              "</style>\n",
              "<table border=\"1\" class=\"dataframe\">\n",
              "  <thead>\n",
              "    <tr style=\"text-align: right;\">\n",
              "      <th></th>\n",
              "      <th>deceptive</th>\n",
              "      <th>hotel</th>\n",
              "      <th>polarity</th>\n",
              "      <th>source</th>\n",
              "      <th>text</th>\n",
              "      <th>Class</th>\n",
              "    </tr>\n",
              "  </thead>\n",
              "  <tbody>\n",
              "    <tr>\n",
              "      <th>0</th>\n",
              "      <td>truthful</td>\n",
              "      <td>conrad</td>\n",
              "      <td>positive</td>\n",
              "      <td>TripAdvisor</td>\n",
              "      <td>We stayed for a one night getaway with family on a thursday. Triple AAA rate of 173 was a steal. 7th floor room complete with 44in plasma TV bose stereo, voss and evian water, and gorgeous bathroom(no tub but was fine for us) Concierge was very helpful. You cannot beat this location... Only flaw was breakfast was pricey and service was very very slow(2hours for four kids and four adults on a friday morning) even though there were only two other tables in the restaurant. Food was very good so it was worth the wait. I would return in a heartbeat. A gem in chicago... \\n</td>\n",
              "      <td>1</td>\n",
              "    </tr>\n",
              "    <tr>\n",
              "      <th>1</th>\n",
              "      <td>truthful</td>\n",
              "      <td>hyatt</td>\n",
              "      <td>positive</td>\n",
              "      <td>TripAdvisor</td>\n",
              "      <td>Triple A rate with upgrade to view room was less than $200 which also included breakfast vouchers. Had a great view of river, lake, Wrigley Bldg. &amp; Tribune Bldg. Most major restaurants, Shopping, Sightseeing attractions within walking distance. Large room with a very comfortable bed. \\n</td>\n",
              "      <td>1</td>\n",
              "    </tr>\n",
              "    <tr>\n",
              "      <th>2</th>\n",
              "      <td>truthful</td>\n",
              "      <td>hyatt</td>\n",
              "      <td>positive</td>\n",
              "      <td>TripAdvisor</td>\n",
              "      <td>This comes a little late as I'm finally catching up on my reviews from the past several months:) A dear friend and I stayed at the Hyatt Regency in late October 2007 for one night while visiting a friend and her husband from out of town. This hotel is perfect, IMO. Easy check in and check out. Lovely, clean, comfortable rooms with great views of the city. I know this area pretty well and it's very convenient to many downtown Chicago attractions. We had dinner and went clubing with our friends around Division St.. We had no problems getting cabs back and forth to the Hyatt and there's even public transportation right near by but we didn't bother since we only needed cabs from and to the hotel. Parking, as is usual for Chicago, was expensive but we were able to get our car out quickly (h...</td>\n",
              "      <td>1</td>\n",
              "    </tr>\n",
              "    <tr>\n",
              "      <th>3</th>\n",
              "      <td>truthful</td>\n",
              "      <td>omni</td>\n",
              "      <td>positive</td>\n",
              "      <td>TripAdvisor</td>\n",
              "      <td>The Omni Chicago really delivers on all fronts, from the spaciousness of the rooms to the helpful staff to the prized location on Michigan Avenue. While this address in Chicago requires a high level of quality, the Omni delivers. Check in for myself and a whole group of people with me was under 3 minutes, the staff had plentiful recommendations for dining and events, and the rooms are some of the largest you'll find at this price range in Chicago. Even the 'standard' room has a separate living area and work desk. The fitness center has free weights, weight machines, and two rows of cardio equipment. I shared the room with 7 others and did not feel cramped in any way! All in all, a great property! \\n</td>\n",
              "      <td>1</td>\n",
              "    </tr>\n",
              "    <tr>\n",
              "      <th>4</th>\n",
              "      <td>truthful</td>\n",
              "      <td>hyatt</td>\n",
              "      <td>positive</td>\n",
              "      <td>TripAdvisor</td>\n",
              "      <td>I asked for a high floor away from the elevator and that is what I got. The room was pleasantly decorated, functional and very clean. I didn't need a whole lot of service but when I did they were pleasant and prompt. I used the fitness center which was well equipped and everything was in working order. It is in a great location at one end of the Michigan Avenue shopping district. \\n</td>\n",
              "      <td>1</td>\n",
              "    </tr>\n",
              "  </tbody>\n",
              "</table>\n",
              "</div>\n",
              "      <button class=\"colab-df-convert\" onclick=\"convertToInteractive('df-0b522593-f542-4787-b809-2ab62f4e5207')\"\n",
              "              title=\"Convert this dataframe to an interactive table.\"\n",
              "              style=\"display:none;\">\n",
              "        \n",
              "  <svg xmlns=\"http://www.w3.org/2000/svg\" height=\"24px\"viewBox=\"0 0 24 24\"\n",
              "       width=\"24px\">\n",
              "    <path d=\"M0 0h24v24H0V0z\" fill=\"none\"/>\n",
              "    <path d=\"M18.56 5.44l.94 2.06.94-2.06 2.06-.94-2.06-.94-.94-2.06-.94 2.06-2.06.94zm-11 1L8.5 8.5l.94-2.06 2.06-.94-2.06-.94L8.5 2.5l-.94 2.06-2.06.94zm10 10l.94 2.06.94-2.06 2.06-.94-2.06-.94-.94-2.06-.94 2.06-2.06.94z\"/><path d=\"M17.41 7.96l-1.37-1.37c-.4-.4-.92-.59-1.43-.59-.52 0-1.04.2-1.43.59L10.3 9.45l-7.72 7.72c-.78.78-.78 2.05 0 2.83L4 21.41c.39.39.9.59 1.41.59.51 0 1.02-.2 1.41-.59l7.78-7.78 2.81-2.81c.8-.78.8-2.07 0-2.86zM5.41 20L4 18.59l7.72-7.72 1.47 1.35L5.41 20z\"/>\n",
              "  </svg>\n",
              "      </button>\n",
              "      \n",
              "  <style>\n",
              "    .colab-df-container {\n",
              "      display:flex;\n",
              "      flex-wrap:wrap;\n",
              "      gap: 12px;\n",
              "    }\n",
              "\n",
              "    .colab-df-convert {\n",
              "      background-color: #E8F0FE;\n",
              "      border: none;\n",
              "      border-radius: 50%;\n",
              "      cursor: pointer;\n",
              "      display: none;\n",
              "      fill: #1967D2;\n",
              "      height: 32px;\n",
              "      padding: 0 0 0 0;\n",
              "      width: 32px;\n",
              "    }\n",
              "\n",
              "    .colab-df-convert:hover {\n",
              "      background-color: #E2EBFA;\n",
              "      box-shadow: 0px 1px 2px rgba(60, 64, 67, 0.3), 0px 1px 3px 1px rgba(60, 64, 67, 0.15);\n",
              "      fill: #174EA6;\n",
              "    }\n",
              "\n",
              "    [theme=dark] .colab-df-convert {\n",
              "      background-color: #3B4455;\n",
              "      fill: #D2E3FC;\n",
              "    }\n",
              "\n",
              "    [theme=dark] .colab-df-convert:hover {\n",
              "      background-color: #434B5C;\n",
              "      box-shadow: 0px 1px 3px 1px rgba(0, 0, 0, 0.15);\n",
              "      filter: drop-shadow(0px 1px 2px rgba(0, 0, 0, 0.3));\n",
              "      fill: #FFFFFF;\n",
              "    }\n",
              "  </style>\n",
              "\n",
              "      <script>\n",
              "        const buttonEl =\n",
              "          document.querySelector('#df-0b522593-f542-4787-b809-2ab62f4e5207 button.colab-df-convert');\n",
              "        buttonEl.style.display =\n",
              "          google.colab.kernel.accessAllowed ? 'block' : 'none';\n",
              "\n",
              "        async function convertToInteractive(key) {\n",
              "          const element = document.querySelector('#df-0b522593-f542-4787-b809-2ab62f4e5207');\n",
              "          const dataTable =\n",
              "            await google.colab.kernel.invokeFunction('convertToInteractive',\n",
              "                                                     [key], {});\n",
              "          if (!dataTable) return;\n",
              "\n",
              "          const docLinkHtml = 'Like what you see? Visit the ' +\n",
              "            '<a target=\"_blank\" href=https://colab.research.google.com/notebooks/data_table.ipynb>data table notebook</a>'\n",
              "            + ' to learn more about interactive tables.';\n",
              "          element.innerHTML = '';\n",
              "          dataTable['output_type'] = 'display_data';\n",
              "          await google.colab.output.renderOutput(dataTable, element);\n",
              "          const docLink = document.createElement('div');\n",
              "          docLink.innerHTML = docLinkHtml;\n",
              "          element.appendChild(docLink);\n",
              "        }\n",
              "      </script>\n",
              "    </div>\n",
              "  </div>\n",
              "  "
            ]
          },
          "metadata": {},
          "execution_count": 11
        }
      ]
    },
    {
      "cell_type": "code",
      "source": [
        "df1.shape"
      ],
      "metadata": {
        "colab": {
          "base_uri": "https://localhost:8080/"
        },
        "id": "L9sxSwAi1CPB",
        "outputId": "2d910443-f3f5-4088-f9e3-82c84609e863"
      },
      "execution_count": 12,
      "outputs": [
        {
          "output_type": "execute_result",
          "data": {
            "text/plain": [
              "(1600, 6)"
            ]
          },
          "metadata": {},
          "execution_count": 12
        }
      ]
    },
    {
      "cell_type": "code",
      "source": [
        "#df1.drop_duplicates(inplace=True)"
      ],
      "metadata": {
        "id": "uuW9lAve4GnJ"
      },
      "execution_count": 13,
      "outputs": []
    },
    {
      "cell_type": "code",
      "source": [
        "df1.shape"
      ],
      "metadata": {
        "colab": {
          "base_uri": "https://localhost:8080/"
        },
        "id": "PpBjZ6ZZ4qAp",
        "outputId": "f53f4766-7572-4b40-e284-97a74daa8bca"
      },
      "execution_count": 14,
      "outputs": [
        {
          "output_type": "execute_result",
          "data": {
            "text/plain": [
              "(1600, 6)"
            ]
          },
          "metadata": {},
          "execution_count": 14
        }
      ]
    },
    {
      "cell_type": "code",
      "source": [
        "df = df1.sample(frac=1, random_state=42).reset_index(drop=True)"
      ],
      "metadata": {
        "id": "ydjQBjajXhta"
      },
      "execution_count": 15,
      "outputs": []
    },
    {
      "cell_type": "code",
      "source": [
        "df.shape"
      ],
      "metadata": {
        "colab": {
          "base_uri": "https://localhost:8080/"
        },
        "id": "fhz_MORRXlrS",
        "outputId": "703f4aaf-1c3a-45a0-dfbd-ce54ab8e3d13"
      },
      "execution_count": 16,
      "outputs": [
        {
          "output_type": "execute_result",
          "data": {
            "text/plain": [
              "(1600, 6)"
            ]
          },
          "metadata": {},
          "execution_count": 16
        }
      ]
    },
    {
      "cell_type": "code",
      "source": [
        "df['Class'].value_counts()"
      ],
      "metadata": {
        "colab": {
          "base_uri": "https://localhost:8080/"
        },
        "id": "gIqg1tqk1CL5",
        "outputId": "85defbe8-14c2-465e-947f-4270d75523aa"
      },
      "execution_count": 17,
      "outputs": [
        {
          "output_type": "execute_result",
          "data": {
            "text/plain": [
              "0    800\n",
              "1    800\n",
              "Name: Class, dtype: int64"
            ]
          },
          "metadata": {},
          "execution_count": 17
        }
      ]
    },
    {
      "cell_type": "code",
      "source": [
        "# dropping unnecessary columns. \n",
        "df.drop(['deceptive', 'hotel', 'polarity', 'source'], axis = 1, inplace=True)\n",
        "df.head()"
      ],
      "metadata": {
        "colab": {
          "base_uri": "https://localhost:8080/",
          "height": 424
        },
        "id": "PCAf1wlZ1CI5",
        "outputId": "a2c110b0-e8ae-46cf-ad09-63042cc27b57"
      },
      "execution_count": 18,
      "outputs": [
        {
          "output_type": "execute_result",
          "data": {
            "text/plain": [
              "                                                                                                                                                                                                                                                                                                                                                                                                                                                                                                                                                                                                                                                                                                                                                                                                                              text  \\\n",
              "0                                                                                                                                                                                                                                                                                                                                                                                         This is the hotel for the discriminating business traveler. It offers spacious rooms that are elegant and refined. With a cozy area complete with chairs and fireplace, they are the perfect place to entertain clients or discuss strategy for a business meeting with a colleague. The restaurant offers just the location to impress a perspective client. And all of this elegance and refinement in the heart of downtown Chicago\\n   \n",
              "1                                                                                                                                                                                                                                                                                                                                                                         What a wonderful experience, super great, helpful, friendly staff. Angie at the front desk made sure my husbands birthday would be great. Our room was beautiful. Angie suggested we go to Sullivans for dinner..perfect choice, make the reservation for us.(best seat in the house and a special dessert) wow...Above and beyond what any other hotel or staff has done for us before..Looking forward to staying there again & again. THANKS AGAIN \\n   \n",
              "2                                                                                                                                                                                                                                                                                                                                                                                                                                                                                                                                    I stayed at the Talbott twice in the last few weeks. I was very pleased with every facet of my stays. The staff, from doormen to front desk, to concierge, to housekeeping, were wonderful. The rooms were nicely sized and clean, and well stocked. I will return to the Talbott anytime! \\n   \n",
              "3                                                                                                                                                                                                                                                                                                                                                                                                                                                                                                                                                                                                    My boyfriend and I were amazed by the breathtaking view of Lake Michigan! We are from Texas so the view of the city was very important to us. We had no problems at this hotel... rooms, service, location were top notch. \\n   \n",
              "4  Rude, rude, rude! We stayed here on July 4th weekend. We drove from Michigan, we called customer service to get directions from I-95 w/c is a major highway to Chicago-- calling them from a cellphone, telling them we're in a middle of a storm and that we're lost....we were put on hold, forwarded to another person who did not know how to get to the hotel and we were on hold again. Giving up we decided to just exit the highway and try our luck at a 7-11 store. When we finally arrived at the hotel at 2 am no one was there to take care of our car so we looked for parking ourselves. Checking in we were not greeted by anyone, even the receptionist did not greet us!! no welcome to the knickerbocker, nothing! The man at the reception was rude, which makes me think what kind of customer service ...   \n",
              "\n",
              "   Class  \n",
              "0      0  \n",
              "1      1  \n",
              "2      1  \n",
              "3      1  \n",
              "4      1  "
            ],
            "text/html": [
              "\n",
              "  <div id=\"df-20d4e3c7-8060-4800-af0a-9c9d724697f6\">\n",
              "    <div class=\"colab-df-container\">\n",
              "      <div>\n",
              "<style scoped>\n",
              "    .dataframe tbody tr th:only-of-type {\n",
              "        vertical-align: middle;\n",
              "    }\n",
              "\n",
              "    .dataframe tbody tr th {\n",
              "        vertical-align: top;\n",
              "    }\n",
              "\n",
              "    .dataframe thead th {\n",
              "        text-align: right;\n",
              "    }\n",
              "</style>\n",
              "<table border=\"1\" class=\"dataframe\">\n",
              "  <thead>\n",
              "    <tr style=\"text-align: right;\">\n",
              "      <th></th>\n",
              "      <th>text</th>\n",
              "      <th>Class</th>\n",
              "    </tr>\n",
              "  </thead>\n",
              "  <tbody>\n",
              "    <tr>\n",
              "      <th>0</th>\n",
              "      <td>This is the hotel for the discriminating business traveler. It offers spacious rooms that are elegant and refined. With a cozy area complete with chairs and fireplace, they are the perfect place to entertain clients or discuss strategy for a business meeting with a colleague. The restaurant offers just the location to impress a perspective client. And all of this elegance and refinement in the heart of downtown Chicago\\n</td>\n",
              "      <td>0</td>\n",
              "    </tr>\n",
              "    <tr>\n",
              "      <th>1</th>\n",
              "      <td>What a wonderful experience, super great, helpful, friendly staff. Angie at the front desk made sure my husbands birthday would be great. Our room was beautiful. Angie suggested we go to Sullivans for dinner..perfect choice, make the reservation for us.(best seat in the house and a special dessert) wow...Above and beyond what any other hotel or staff has done for us before..Looking forward to staying there again &amp; again. THANKS AGAIN \\n</td>\n",
              "      <td>1</td>\n",
              "    </tr>\n",
              "    <tr>\n",
              "      <th>2</th>\n",
              "      <td>I stayed at the Talbott twice in the last few weeks. I was very pleased with every facet of my stays. The staff, from doormen to front desk, to concierge, to housekeeping, were wonderful. The rooms were nicely sized and clean, and well stocked. I will return to the Talbott anytime! \\n</td>\n",
              "      <td>1</td>\n",
              "    </tr>\n",
              "    <tr>\n",
              "      <th>3</th>\n",
              "      <td>My boyfriend and I were amazed by the breathtaking view of Lake Michigan! We are from Texas so the view of the city was very important to us. We had no problems at this hotel... rooms, service, location were top notch. \\n</td>\n",
              "      <td>1</td>\n",
              "    </tr>\n",
              "    <tr>\n",
              "      <th>4</th>\n",
              "      <td>Rude, rude, rude! We stayed here on July 4th weekend. We drove from Michigan, we called customer service to get directions from I-95 w/c is a major highway to Chicago-- calling them from a cellphone, telling them we're in a middle of a storm and that we're lost....we were put on hold, forwarded to another person who did not know how to get to the hotel and we were on hold again. Giving up we decided to just exit the highway and try our luck at a 7-11 store. When we finally arrived at the hotel at 2 am no one was there to take care of our car so we looked for parking ourselves. Checking in we were not greeted by anyone, even the receptionist did not greet us!! no welcome to the knickerbocker, nothing! The man at the reception was rude, which makes me think what kind of customer service ...</td>\n",
              "      <td>1</td>\n",
              "    </tr>\n",
              "  </tbody>\n",
              "</table>\n",
              "</div>\n",
              "      <button class=\"colab-df-convert\" onclick=\"convertToInteractive('df-20d4e3c7-8060-4800-af0a-9c9d724697f6')\"\n",
              "              title=\"Convert this dataframe to an interactive table.\"\n",
              "              style=\"display:none;\">\n",
              "        \n",
              "  <svg xmlns=\"http://www.w3.org/2000/svg\" height=\"24px\"viewBox=\"0 0 24 24\"\n",
              "       width=\"24px\">\n",
              "    <path d=\"M0 0h24v24H0V0z\" fill=\"none\"/>\n",
              "    <path d=\"M18.56 5.44l.94 2.06.94-2.06 2.06-.94-2.06-.94-.94-2.06-.94 2.06-2.06.94zm-11 1L8.5 8.5l.94-2.06 2.06-.94-2.06-.94L8.5 2.5l-.94 2.06-2.06.94zm10 10l.94 2.06.94-2.06 2.06-.94-2.06-.94-.94-2.06-.94 2.06-2.06.94z\"/><path d=\"M17.41 7.96l-1.37-1.37c-.4-.4-.92-.59-1.43-.59-.52 0-1.04.2-1.43.59L10.3 9.45l-7.72 7.72c-.78.78-.78 2.05 0 2.83L4 21.41c.39.39.9.59 1.41.59.51 0 1.02-.2 1.41-.59l7.78-7.78 2.81-2.81c.8-.78.8-2.07 0-2.86zM5.41 20L4 18.59l7.72-7.72 1.47 1.35L5.41 20z\"/>\n",
              "  </svg>\n",
              "      </button>\n",
              "      \n",
              "  <style>\n",
              "    .colab-df-container {\n",
              "      display:flex;\n",
              "      flex-wrap:wrap;\n",
              "      gap: 12px;\n",
              "    }\n",
              "\n",
              "    .colab-df-convert {\n",
              "      background-color: #E8F0FE;\n",
              "      border: none;\n",
              "      border-radius: 50%;\n",
              "      cursor: pointer;\n",
              "      display: none;\n",
              "      fill: #1967D2;\n",
              "      height: 32px;\n",
              "      padding: 0 0 0 0;\n",
              "      width: 32px;\n",
              "    }\n",
              "\n",
              "    .colab-df-convert:hover {\n",
              "      background-color: #E2EBFA;\n",
              "      box-shadow: 0px 1px 2px rgba(60, 64, 67, 0.3), 0px 1px 3px 1px rgba(60, 64, 67, 0.15);\n",
              "      fill: #174EA6;\n",
              "    }\n",
              "\n",
              "    [theme=dark] .colab-df-convert {\n",
              "      background-color: #3B4455;\n",
              "      fill: #D2E3FC;\n",
              "    }\n",
              "\n",
              "    [theme=dark] .colab-df-convert:hover {\n",
              "      background-color: #434B5C;\n",
              "      box-shadow: 0px 1px 3px 1px rgba(0, 0, 0, 0.15);\n",
              "      filter: drop-shadow(0px 1px 2px rgba(0, 0, 0, 0.3));\n",
              "      fill: #FFFFFF;\n",
              "    }\n",
              "  </style>\n",
              "\n",
              "      <script>\n",
              "        const buttonEl =\n",
              "          document.querySelector('#df-20d4e3c7-8060-4800-af0a-9c9d724697f6 button.colab-df-convert');\n",
              "        buttonEl.style.display =\n",
              "          google.colab.kernel.accessAllowed ? 'block' : 'none';\n",
              "\n",
              "        async function convertToInteractive(key) {\n",
              "          const element = document.querySelector('#df-20d4e3c7-8060-4800-af0a-9c9d724697f6');\n",
              "          const dataTable =\n",
              "            await google.colab.kernel.invokeFunction('convertToInteractive',\n",
              "                                                     [key], {});\n",
              "          if (!dataTable) return;\n",
              "\n",
              "          const docLinkHtml = 'Like what you see? Visit the ' +\n",
              "            '<a target=\"_blank\" href=https://colab.research.google.com/notebooks/data_table.ipynb>data table notebook</a>'\n",
              "            + ' to learn more about interactive tables.';\n",
              "          element.innerHTML = '';\n",
              "          dataTable['output_type'] = 'display_data';\n",
              "          await google.colab.output.renderOutput(dataTable, element);\n",
              "          const docLink = document.createElement('div');\n",
              "          docLink.innerHTML = docLinkHtml;\n",
              "          element.appendChild(docLink);\n",
              "        }\n",
              "      </script>\n",
              "    </div>\n",
              "  </div>\n",
              "  "
            ]
          },
          "metadata": {},
          "execution_count": 18
        }
      ]
    },
    {
      "cell_type": "code",
      "source": [
        "# Cleaning Raw tweets\n",
        "def clean_text(text):\n",
        "    \n",
        "    #remove emails\n",
        "    text = ' '.join([i for i in text.split() if '@' not in i])\n",
        "    \n",
        "    #remove web address\n",
        "    text = re.sub('http[s]?://\\S+', '', text)\n",
        "\n",
        "    #remove brackets and parantheses (and removing the text inside the brackets and parantheses)\n",
        "    text = re.sub(\"[\\(\\[].*?[\\)\\]]\", \"\", text)\n",
        "\n",
        "    #remove punctuations\n",
        "    text = re.sub(r'[^\\w\\s]', ' ', text)\n",
        "    \n",
        "    #Filter to allow only alphabets and numbers\n",
        "    text = re.sub(r'[^a-zA-Z\\']', ' ', text)\n",
        "    \n",
        "    #Remove Unicode characters\n",
        "    text = re.sub(r'[^\\x00-\\x7F]+', '', text)\n",
        "\n",
        "    #remove double spaces \n",
        "    text = re.sub('\\s+', ' ', text)\n",
        "    \n",
        "    return text"
      ],
      "metadata": {
        "id": "iFvbHYi_1CFx"
      },
      "execution_count": 19,
      "outputs": []
    },
    {
      "cell_type": "code",
      "source": [
        "# applying that into function.\n",
        "df[\"clean_text\"] = df['text'].apply(lambda x: clean_text(x))\n",
        "df.head(10)"
      ],
      "metadata": {
        "colab": {
          "base_uri": "https://localhost:8080/",
          "height": 1000
        },
        "id": "v6Mp22wd1CCr",
        "outputId": "14a0fc9d-4539-4568-dd06-cf5498da8b0a"
      },
      "execution_count": 20,
      "outputs": [
        {
          "output_type": "execute_result",
          "data": {
            "text/plain": [
              "                                                                                                                                                                                                                                                                                                                                                                                                                                                                                                                                                                                                                                                                                                                                                                                                                              text  \\\n",
              "0                                                                                                                                                                                                                                                                                                                                                                                         This is the hotel for the discriminating business traveler. It offers spacious rooms that are elegant and refined. With a cozy area complete with chairs and fireplace, they are the perfect place to entertain clients or discuss strategy for a business meeting with a colleague. The restaurant offers just the location to impress a perspective client. And all of this elegance and refinement in the heart of downtown Chicago\\n   \n",
              "1                                                                                                                                                                                                                                                                                                                                                                         What a wonderful experience, super great, helpful, friendly staff. Angie at the front desk made sure my husbands birthday would be great. Our room was beautiful. Angie suggested we go to Sullivans for dinner..perfect choice, make the reservation for us.(best seat in the house and a special dessert) wow...Above and beyond what any other hotel or staff has done for us before..Looking forward to staying there again & again. THANKS AGAIN \\n   \n",
              "2                                                                                                                                                                                                                                                                                                                                                                                                                                                                                                                                    I stayed at the Talbott twice in the last few weeks. I was very pleased with every facet of my stays. The staff, from doormen to front desk, to concierge, to housekeeping, were wonderful. The rooms were nicely sized and clean, and well stocked. I will return to the Talbott anytime! \\n   \n",
              "3                                                                                                                                                                                                                                                                                                                                                                                                                                                                                                                                                                                                    My boyfriend and I were amazed by the breathtaking view of Lake Michigan! We are from Texas so the view of the city was very important to us. We had no problems at this hotel... rooms, service, location were top notch. \\n   \n",
              "4  Rude, rude, rude! We stayed here on July 4th weekend. We drove from Michigan, we called customer service to get directions from I-95 w/c is a major highway to Chicago-- calling them from a cellphone, telling them we're in a middle of a storm and that we're lost....we were put on hold, forwarded to another person who did not know how to get to the hotel and we were on hold again. Giving up we decided to just exit the highway and try our luck at a 7-11 store. When we finally arrived at the hotel at 2 am no one was there to take care of our car so we looked for parking ourselves. Checking in we were not greeted by anyone, even the receptionist did not greet us!! no welcome to the knickerbocker, nothing! The man at the reception was rude, which makes me think what kind of customer service ...   \n",
              "5  My husband and I stayed at this hotel the weekend of Sept. 17-18, 2011. When we were planning our vacation, we were impressed with the hotel. The exterior is very lovely and we looked forward to enjoying the view from our room. We first started to wonder if we'd made the right choice when there was no one waiting to help us with our bags. We had to carry our luggage up to our room ourselves as the hotel was in the middle of a shift change. This seems like something a supposedly 'world class' hotel should be able to avoid. The good: Our room did have a nice view and when I sat down on the bed it was like sitting on a cloud. The shower was very pleasant. The bad: The room was very small and the bed was not the King size we had requested. We felt very cramped and uncomfortable throughout ...   \n",
              "6  I was extremely disappointed with my stay at the Omni Chicago Hotel. It was a hot summer day and I turned on the shower and only drips of hot water came out. I called to complain and they assured me that someone would be in my room to fix the shower or show me how to use it. I felt the person I spoke to was rude to me. They were not accepting responsibility, but talking down to me as if I was stupid. After waiting 30 minutes a bell hop came up to show me how to use the shower. This was not a service person. He could not get the shower to work either and apologized for the problem I was having. He expected a tip and complained when I did not give him one. Nobody came up after that. I was told I could switch to a different room, so I had to pack up my belongings and move to another floor...   \n",
              "7                                                                                                                                                                                                                                                                                                                                                                                                                                                                                                                         We visited for my 40th birthday. We had never been to Chicago so was not sure where to stay. Found the deal on this hotel from Travelzoo. Great rate, staff was awesome, very helpful and nice, location was great. Enjoyed our stay but still like NYC better. Great, great hotel. Would stay again. \\n   \n",
              "8                                        My experience at the Hyatt Regency Chicago was simply amazing. I had a wonderful stay there will my husband. My husband has allergy problems nearly everywhere we go, and we were worried about that so we talked to the desk clerk there. They were able to provide us with a Hyatt allergy-friendly room. We were so relieved and the room was beautiful. The furniture in the room was actually cleaned with pure tea tree oil. It was the most comfortable stay we have ever had. On top of that my husband had to spend some time in the room working on some business, so the high speed internet they provided was very convenient. We took full advantage of the 24 hour room service. I will definitely stay there again. It is a vacation simply staying in your hotel room. \\n   \n",
              "9                                                                                                                                                                                                                                                                                             I would like to add a comment, maybe this will help others when choosing for a wedding destination. My daughter was married in May of 2010 and we decided to have the special event at the Sofitel Water Tower; we were amazed. She always wanted a ballroom type of wedding, and Sofitel made this happen for her. They took care of all the invitations, cake decor, and so much more. The special day for my daughter was worth everything. If you are going to be in the Chicago area, check them out; you will not regret it!\\n   \n",
              "\n",
              "   Class  \\\n",
              "0      0   \n",
              "1      1   \n",
              "2      1   \n",
              "3      1   \n",
              "4      1   \n",
              "5      0   \n",
              "6      0   \n",
              "7      1   \n",
              "8      0   \n",
              "9      0   \n",
              "\n",
              "                                                                                                                                                                                                                                                                                                                                                                                                                                                                                                                                                                                                                                                                                                                                                                                                                        clean_text  \n",
              "0                                                                                                                                                                                                                                                                                                                                                                                                This is the hotel for the discriminating business traveler It offers spacious rooms that are elegant and refined With a cozy area complete with chairs and fireplace they are the perfect place to entertain clients or discuss strategy for a business meeting with a colleague The restaurant offers just the location to impress a perspective client And all of this elegance and refinement in the heart of downtown Chicago  \n",
              "1                                                                                                                                                                                                                                                                                                                                                                                                                                         What a wonderful experience super great helpful friendly staff Angie at the front desk made sure my husbands birthday would be great Our room was beautiful Angie suggested we go to Sullivans for dinner perfect choice make the reservation for us wow Above and beyond what any other hotel or staff has done for us before Looking forward to staying there again again THANKS AGAIN  \n",
              "2                                                                                                                                                                                                                                                                                                                                                                                                                                                                                                                                                I stayed at the Talbott twice in the last few weeks I was very pleased with every facet of my stays The staff from doormen to front desk to concierge to housekeeping were wonderful The rooms were nicely sized and clean and well stocked I will return to the Talbott anytime   \n",
              "3                                                                                                                                                                                                                                                                                                                                                                                                                                                                                                                                                                                                              My boyfriend and I were amazed by the breathtaking view of Lake Michigan We are from Texas so the view of the city was very important to us We had no problems at this hotel rooms service location were top notch   \n",
              "4  Rude rude rude We stayed here on July th weekend We drove from Michigan we called customer service to get directions from I w c is a major highway to Chicago calling them from a cellphone telling them we re in a middle of a storm and that we re lost we were put on hold forwarded to another person who did not know how to get to the hotel and we were on hold again Giving up we decided to just exit the highway and try our luck at a store When we finally arrived at the hotel at am no one was there to take care of our car so we looked for parking ourselves Checking in we were not greeted by anyone even the receptionist did not greet us no welcome to the knickerbocker nothing The man at the reception was rude which makes me think what kind of customer service training this hotel has The guy ...  \n",
              "5  My husband and I stayed at this hotel the weekend of Sept When we were planning our vacation we were impressed with the hotel The exterior is very lovely and we looked forward to enjoying the view from our room We first started to wonder if we d made the right choice when there was no one waiting to help us with our bags We had to carry our luggage up to our room ourselves as the hotel was in the middle of a shift change This seems like something a supposedly world class hotel should be able to avoid The good Our room did have a nice view and when I sat down on the bed it was like sitting on a cloud The shower was very pleasant The bad The room was very small and the bed was not the King size we had requested We felt very cramped and uncomfortable throughout our stay We have stayed at ...  \n",
              "6  I was extremely disappointed with my stay at the Omni Chicago Hotel It was a hot summer day and I turned on the shower and only drips of hot water came out I called to complain and they assured me that someone would be in my room to fix the shower or show me how to use it I felt the person I spoke to was rude to me They were not accepting responsibility but talking down to me as if I was stupid After waiting minutes a bell hop came up to show me how to use the shower This was not a service person He could not get the shower to work either and apologized for the problem I was having He expected a tip and complained when I did not give him one Nobody came up after that I was told I could switch to a different room so I had to pack up my belongings and move to another floor The shower did...  \n",
              "7                                                                                                                                                                                                                                                                                                                                                                                                                                                                                                                                        We visited for my th birthday We had never been to Chicago so was not sure where to stay Found the deal on this hotel from Travelzoo Great rate staff was awesome very helpful and nice location was great Enjoyed our stay but still like NYC better Great great hotel Would stay again   \n",
              "8                                                          My experience at the Hyatt Regency Chicago was simply amazing I had a wonderful stay there will my husband My husband has allergy problems nearly everywhere we go and we were worried about that so we talked to the desk clerk there They were able to provide us with a Hyatt allergy friendly room We were so relieved and the room was beautiful The furniture in the room was actually cleaned with pure tea tree oil It was the most comfortable stay we have ever had On top of that my husband had to spend some time in the room working on some business so the high speed internet they provided was very convenient We took full advantage of the hour room service I will definitely stay there again It is a vacation simply staying in your hotel room   \n",
              "9                                                                                                                                                                                                                                                                                                                I would like to add a comment maybe this will help others when choosing for a wedding destination My daughter was married in May of and we decided to have the special event at the Sofitel Water Tower we were amazed She always wanted a ballroom type of wedding and Sofitel made this happen for her They took care of all the invitations cake decor and so much more The special day for my daughter was worth everything If you are going to be in the Chicago area check them out you will not regret it   "
            ],
            "text/html": [
              "\n",
              "  <div id=\"df-fca99735-7f05-4717-8927-8a6edab476ea\">\n",
              "    <div class=\"colab-df-container\">\n",
              "      <div>\n",
              "<style scoped>\n",
              "    .dataframe tbody tr th:only-of-type {\n",
              "        vertical-align: middle;\n",
              "    }\n",
              "\n",
              "    .dataframe tbody tr th {\n",
              "        vertical-align: top;\n",
              "    }\n",
              "\n",
              "    .dataframe thead th {\n",
              "        text-align: right;\n",
              "    }\n",
              "</style>\n",
              "<table border=\"1\" class=\"dataframe\">\n",
              "  <thead>\n",
              "    <tr style=\"text-align: right;\">\n",
              "      <th></th>\n",
              "      <th>text</th>\n",
              "      <th>Class</th>\n",
              "      <th>clean_text</th>\n",
              "    </tr>\n",
              "  </thead>\n",
              "  <tbody>\n",
              "    <tr>\n",
              "      <th>0</th>\n",
              "      <td>This is the hotel for the discriminating business traveler. It offers spacious rooms that are elegant and refined. With a cozy area complete with chairs and fireplace, they are the perfect place to entertain clients or discuss strategy for a business meeting with a colleague. The restaurant offers just the location to impress a perspective client. And all of this elegance and refinement in the heart of downtown Chicago\\n</td>\n",
              "      <td>0</td>\n",
              "      <td>This is the hotel for the discriminating business traveler It offers spacious rooms that are elegant and refined With a cozy area complete with chairs and fireplace they are the perfect place to entertain clients or discuss strategy for a business meeting with a colleague The restaurant offers just the location to impress a perspective client And all of this elegance and refinement in the heart of downtown Chicago</td>\n",
              "    </tr>\n",
              "    <tr>\n",
              "      <th>1</th>\n",
              "      <td>What a wonderful experience, super great, helpful, friendly staff. Angie at the front desk made sure my husbands birthday would be great. Our room was beautiful. Angie suggested we go to Sullivans for dinner..perfect choice, make the reservation for us.(best seat in the house and a special dessert) wow...Above and beyond what any other hotel or staff has done for us before..Looking forward to staying there again &amp; again. THANKS AGAIN \\n</td>\n",
              "      <td>1</td>\n",
              "      <td>What a wonderful experience super great helpful friendly staff Angie at the front desk made sure my husbands birthday would be great Our room was beautiful Angie suggested we go to Sullivans for dinner perfect choice make the reservation for us wow Above and beyond what any other hotel or staff has done for us before Looking forward to staying there again again THANKS AGAIN</td>\n",
              "    </tr>\n",
              "    <tr>\n",
              "      <th>2</th>\n",
              "      <td>I stayed at the Talbott twice in the last few weeks. I was very pleased with every facet of my stays. The staff, from doormen to front desk, to concierge, to housekeeping, were wonderful. The rooms were nicely sized and clean, and well stocked. I will return to the Talbott anytime! \\n</td>\n",
              "      <td>1</td>\n",
              "      <td>I stayed at the Talbott twice in the last few weeks I was very pleased with every facet of my stays The staff from doormen to front desk to concierge to housekeeping were wonderful The rooms were nicely sized and clean and well stocked I will return to the Talbott anytime</td>\n",
              "    </tr>\n",
              "    <tr>\n",
              "      <th>3</th>\n",
              "      <td>My boyfriend and I were amazed by the breathtaking view of Lake Michigan! We are from Texas so the view of the city was very important to us. We had no problems at this hotel... rooms, service, location were top notch. \\n</td>\n",
              "      <td>1</td>\n",
              "      <td>My boyfriend and I were amazed by the breathtaking view of Lake Michigan We are from Texas so the view of the city was very important to us We had no problems at this hotel rooms service location were top notch</td>\n",
              "    </tr>\n",
              "    <tr>\n",
              "      <th>4</th>\n",
              "      <td>Rude, rude, rude! We stayed here on July 4th weekend. We drove from Michigan, we called customer service to get directions from I-95 w/c is a major highway to Chicago-- calling them from a cellphone, telling them we're in a middle of a storm and that we're lost....we were put on hold, forwarded to another person who did not know how to get to the hotel and we were on hold again. Giving up we decided to just exit the highway and try our luck at a 7-11 store. When we finally arrived at the hotel at 2 am no one was there to take care of our car so we looked for parking ourselves. Checking in we were not greeted by anyone, even the receptionist did not greet us!! no welcome to the knickerbocker, nothing! The man at the reception was rude, which makes me think what kind of customer service ...</td>\n",
              "      <td>1</td>\n",
              "      <td>Rude rude rude We stayed here on July th weekend We drove from Michigan we called customer service to get directions from I w c is a major highway to Chicago calling them from a cellphone telling them we re in a middle of a storm and that we re lost we were put on hold forwarded to another person who did not know how to get to the hotel and we were on hold again Giving up we decided to just exit the highway and try our luck at a store When we finally arrived at the hotel at am no one was there to take care of our car so we looked for parking ourselves Checking in we were not greeted by anyone even the receptionist did not greet us no welcome to the knickerbocker nothing The man at the reception was rude which makes me think what kind of customer service training this hotel has The guy ...</td>\n",
              "    </tr>\n",
              "    <tr>\n",
              "      <th>5</th>\n",
              "      <td>My husband and I stayed at this hotel the weekend of Sept. 17-18, 2011. When we were planning our vacation, we were impressed with the hotel. The exterior is very lovely and we looked forward to enjoying the view from our room. We first started to wonder if we'd made the right choice when there was no one waiting to help us with our bags. We had to carry our luggage up to our room ourselves as the hotel was in the middle of a shift change. This seems like something a supposedly 'world class' hotel should be able to avoid. The good: Our room did have a nice view and when I sat down on the bed it was like sitting on a cloud. The shower was very pleasant. The bad: The room was very small and the bed was not the King size we had requested. We felt very cramped and uncomfortable throughout ...</td>\n",
              "      <td>0</td>\n",
              "      <td>My husband and I stayed at this hotel the weekend of Sept When we were planning our vacation we were impressed with the hotel The exterior is very lovely and we looked forward to enjoying the view from our room We first started to wonder if we d made the right choice when there was no one waiting to help us with our bags We had to carry our luggage up to our room ourselves as the hotel was in the middle of a shift change This seems like something a supposedly world class hotel should be able to avoid The good Our room did have a nice view and when I sat down on the bed it was like sitting on a cloud The shower was very pleasant The bad The room was very small and the bed was not the King size we had requested We felt very cramped and uncomfortable throughout our stay We have stayed at ...</td>\n",
              "    </tr>\n",
              "    <tr>\n",
              "      <th>6</th>\n",
              "      <td>I was extremely disappointed with my stay at the Omni Chicago Hotel. It was a hot summer day and I turned on the shower and only drips of hot water came out. I called to complain and they assured me that someone would be in my room to fix the shower or show me how to use it. I felt the person I spoke to was rude to me. They were not accepting responsibility, but talking down to me as if I was stupid. After waiting 30 minutes a bell hop came up to show me how to use the shower. This was not a service person. He could not get the shower to work either and apologized for the problem I was having. He expected a tip and complained when I did not give him one. Nobody came up after that. I was told I could switch to a different room, so I had to pack up my belongings and move to another floor...</td>\n",
              "      <td>0</td>\n",
              "      <td>I was extremely disappointed with my stay at the Omni Chicago Hotel It was a hot summer day and I turned on the shower and only drips of hot water came out I called to complain and they assured me that someone would be in my room to fix the shower or show me how to use it I felt the person I spoke to was rude to me They were not accepting responsibility but talking down to me as if I was stupid After waiting minutes a bell hop came up to show me how to use the shower This was not a service person He could not get the shower to work either and apologized for the problem I was having He expected a tip and complained when I did not give him one Nobody came up after that I was told I could switch to a different room so I had to pack up my belongings and move to another floor The shower did...</td>\n",
              "    </tr>\n",
              "    <tr>\n",
              "      <th>7</th>\n",
              "      <td>We visited for my 40th birthday. We had never been to Chicago so was not sure where to stay. Found the deal on this hotel from Travelzoo. Great rate, staff was awesome, very helpful and nice, location was great. Enjoyed our stay but still like NYC better. Great, great hotel. Would stay again. \\n</td>\n",
              "      <td>1</td>\n",
              "      <td>We visited for my th birthday We had never been to Chicago so was not sure where to stay Found the deal on this hotel from Travelzoo Great rate staff was awesome very helpful and nice location was great Enjoyed our stay but still like NYC better Great great hotel Would stay again</td>\n",
              "    </tr>\n",
              "    <tr>\n",
              "      <th>8</th>\n",
              "      <td>My experience at the Hyatt Regency Chicago was simply amazing. I had a wonderful stay there will my husband. My husband has allergy problems nearly everywhere we go, and we were worried about that so we talked to the desk clerk there. They were able to provide us with a Hyatt allergy-friendly room. We were so relieved and the room was beautiful. The furniture in the room was actually cleaned with pure tea tree oil. It was the most comfortable stay we have ever had. On top of that my husband had to spend some time in the room working on some business, so the high speed internet they provided was very convenient. We took full advantage of the 24 hour room service. I will definitely stay there again. It is a vacation simply staying in your hotel room. \\n</td>\n",
              "      <td>0</td>\n",
              "      <td>My experience at the Hyatt Regency Chicago was simply amazing I had a wonderful stay there will my husband My husband has allergy problems nearly everywhere we go and we were worried about that so we talked to the desk clerk there They were able to provide us with a Hyatt allergy friendly room We were so relieved and the room was beautiful The furniture in the room was actually cleaned with pure tea tree oil It was the most comfortable stay we have ever had On top of that my husband had to spend some time in the room working on some business so the high speed internet they provided was very convenient We took full advantage of the hour room service I will definitely stay there again It is a vacation simply staying in your hotel room</td>\n",
              "    </tr>\n",
              "    <tr>\n",
              "      <th>9</th>\n",
              "      <td>I would like to add a comment, maybe this will help others when choosing for a wedding destination. My daughter was married in May of 2010 and we decided to have the special event at the Sofitel Water Tower; we were amazed. She always wanted a ballroom type of wedding, and Sofitel made this happen for her. They took care of all the invitations, cake decor, and so much more. The special day for my daughter was worth everything. If you are going to be in the Chicago area, check them out; you will not regret it!\\n</td>\n",
              "      <td>0</td>\n",
              "      <td>I would like to add a comment maybe this will help others when choosing for a wedding destination My daughter was married in May of and we decided to have the special event at the Sofitel Water Tower we were amazed She always wanted a ballroom type of wedding and Sofitel made this happen for her They took care of all the invitations cake decor and so much more The special day for my daughter was worth everything If you are going to be in the Chicago area check them out you will not regret it</td>\n",
              "    </tr>\n",
              "  </tbody>\n",
              "</table>\n",
              "</div>\n",
              "      <button class=\"colab-df-convert\" onclick=\"convertToInteractive('df-fca99735-7f05-4717-8927-8a6edab476ea')\"\n",
              "              title=\"Convert this dataframe to an interactive table.\"\n",
              "              style=\"display:none;\">\n",
              "        \n",
              "  <svg xmlns=\"http://www.w3.org/2000/svg\" height=\"24px\"viewBox=\"0 0 24 24\"\n",
              "       width=\"24px\">\n",
              "    <path d=\"M0 0h24v24H0V0z\" fill=\"none\"/>\n",
              "    <path d=\"M18.56 5.44l.94 2.06.94-2.06 2.06-.94-2.06-.94-.94-2.06-.94 2.06-2.06.94zm-11 1L8.5 8.5l.94-2.06 2.06-.94-2.06-.94L8.5 2.5l-.94 2.06-2.06.94zm10 10l.94 2.06.94-2.06 2.06-.94-2.06-.94-.94-2.06-.94 2.06-2.06.94z\"/><path d=\"M17.41 7.96l-1.37-1.37c-.4-.4-.92-.59-1.43-.59-.52 0-1.04.2-1.43.59L10.3 9.45l-7.72 7.72c-.78.78-.78 2.05 0 2.83L4 21.41c.39.39.9.59 1.41.59.51 0 1.02-.2 1.41-.59l7.78-7.78 2.81-2.81c.8-.78.8-2.07 0-2.86zM5.41 20L4 18.59l7.72-7.72 1.47 1.35L5.41 20z\"/>\n",
              "  </svg>\n",
              "      </button>\n",
              "      \n",
              "  <style>\n",
              "    .colab-df-container {\n",
              "      display:flex;\n",
              "      flex-wrap:wrap;\n",
              "      gap: 12px;\n",
              "    }\n",
              "\n",
              "    .colab-df-convert {\n",
              "      background-color: #E8F0FE;\n",
              "      border: none;\n",
              "      border-radius: 50%;\n",
              "      cursor: pointer;\n",
              "      display: none;\n",
              "      fill: #1967D2;\n",
              "      height: 32px;\n",
              "      padding: 0 0 0 0;\n",
              "      width: 32px;\n",
              "    }\n",
              "\n",
              "    .colab-df-convert:hover {\n",
              "      background-color: #E2EBFA;\n",
              "      box-shadow: 0px 1px 2px rgba(60, 64, 67, 0.3), 0px 1px 3px 1px rgba(60, 64, 67, 0.15);\n",
              "      fill: #174EA6;\n",
              "    }\n",
              "\n",
              "    [theme=dark] .colab-df-convert {\n",
              "      background-color: #3B4455;\n",
              "      fill: #D2E3FC;\n",
              "    }\n",
              "\n",
              "    [theme=dark] .colab-df-convert:hover {\n",
              "      background-color: #434B5C;\n",
              "      box-shadow: 0px 1px 3px 1px rgba(0, 0, 0, 0.15);\n",
              "      filter: drop-shadow(0px 1px 2px rgba(0, 0, 0, 0.3));\n",
              "      fill: #FFFFFF;\n",
              "    }\n",
              "  </style>\n",
              "\n",
              "      <script>\n",
              "        const buttonEl =\n",
              "          document.querySelector('#df-fca99735-7f05-4717-8927-8a6edab476ea button.colab-df-convert');\n",
              "        buttonEl.style.display =\n",
              "          google.colab.kernel.accessAllowed ? 'block' : 'none';\n",
              "\n",
              "        async function convertToInteractive(key) {\n",
              "          const element = document.querySelector('#df-fca99735-7f05-4717-8927-8a6edab476ea');\n",
              "          const dataTable =\n",
              "            await google.colab.kernel.invokeFunction('convertToInteractive',\n",
              "                                                     [key], {});\n",
              "          if (!dataTable) return;\n",
              "\n",
              "          const docLinkHtml = 'Like what you see? Visit the ' +\n",
              "            '<a target=\"_blank\" href=https://colab.research.google.com/notebooks/data_table.ipynb>data table notebook</a>'\n",
              "            + ' to learn more about interactive tables.';\n",
              "          element.innerHTML = '';\n",
              "          dataTable['output_type'] = 'display_data';\n",
              "          await google.colab.output.renderOutput(dataTable, element);\n",
              "          const docLink = document.createElement('div');\n",
              "          docLink.innerHTML = docLinkHtml;\n",
              "          element.appendChild(docLink);\n",
              "        }\n",
              "      </script>\n",
              "    </div>\n",
              "  </div>\n",
              "  "
            ]
          },
          "metadata": {},
          "execution_count": 20
        }
      ]
    },
    {
      "cell_type": "code",
      "source": [
        "# dropping the uncleaned text column \"text\"\n",
        "df = df.drop(['text'], axis=1)"
      ],
      "metadata": {
        "id": "8Z23FwIO1B_Z"
      },
      "execution_count": 21,
      "outputs": []
    },
    {
      "cell_type": "code",
      "source": [
        "# renaming the column\n",
        "df.rename(columns = {'clean_text':'text'}, inplace = True)\n",
        "df.head()"
      ],
      "metadata": {
        "colab": {
          "base_uri": "https://localhost:8080/",
          "height": 406
        },
        "id": "PA6IV9PC1B8B",
        "outputId": "6fd8daa7-5dad-4120-d331-8057029691ae"
      },
      "execution_count": 22,
      "outputs": [
        {
          "output_type": "execute_result",
          "data": {
            "text/plain": [
              "   Class  \\\n",
              "0      0   \n",
              "1      1   \n",
              "2      1   \n",
              "3      1   \n",
              "4      1   \n",
              "\n",
              "                                                                                                                                                                                                                                                                                                                                                                                                                                                                                                                                                                                                                                                                                                                                                                                                                              text  \n",
              "0                                                                                                                                                                                                                                                                                                                                                                                                This is the hotel for the discriminating business traveler It offers spacious rooms that are elegant and refined With a cozy area complete with chairs and fireplace they are the perfect place to entertain clients or discuss strategy for a business meeting with a colleague The restaurant offers just the location to impress a perspective client And all of this elegance and refinement in the heart of downtown Chicago  \n",
              "1                                                                                                                                                                                                                                                                                                                                                                                                                                         What a wonderful experience super great helpful friendly staff Angie at the front desk made sure my husbands birthday would be great Our room was beautiful Angie suggested we go to Sullivans for dinner perfect choice make the reservation for us wow Above and beyond what any other hotel or staff has done for us before Looking forward to staying there again again THANKS AGAIN  \n",
              "2                                                                                                                                                                                                                                                                                                                                                                                                                                                                                                                                                I stayed at the Talbott twice in the last few weeks I was very pleased with every facet of my stays The staff from doormen to front desk to concierge to housekeeping were wonderful The rooms were nicely sized and clean and well stocked I will return to the Talbott anytime   \n",
              "3                                                                                                                                                                                                                                                                                                                                                                                                                                                                                                                                                                                                              My boyfriend and I were amazed by the breathtaking view of Lake Michigan We are from Texas so the view of the city was very important to us We had no problems at this hotel rooms service location were top notch   \n",
              "4  Rude rude rude We stayed here on July th weekend We drove from Michigan we called customer service to get directions from I w c is a major highway to Chicago calling them from a cellphone telling them we re in a middle of a storm and that we re lost we were put on hold forwarded to another person who did not know how to get to the hotel and we were on hold again Giving up we decided to just exit the highway and try our luck at a store When we finally arrived at the hotel at am no one was there to take care of our car so we looked for parking ourselves Checking in we were not greeted by anyone even the receptionist did not greet us no welcome to the knickerbocker nothing The man at the reception was rude which makes me think what kind of customer service training this hotel has The guy ...  "
            ],
            "text/html": [
              "\n",
              "  <div id=\"df-72db58fb-5590-46fd-8165-b95db85b1663\">\n",
              "    <div class=\"colab-df-container\">\n",
              "      <div>\n",
              "<style scoped>\n",
              "    .dataframe tbody tr th:only-of-type {\n",
              "        vertical-align: middle;\n",
              "    }\n",
              "\n",
              "    .dataframe tbody tr th {\n",
              "        vertical-align: top;\n",
              "    }\n",
              "\n",
              "    .dataframe thead th {\n",
              "        text-align: right;\n",
              "    }\n",
              "</style>\n",
              "<table border=\"1\" class=\"dataframe\">\n",
              "  <thead>\n",
              "    <tr style=\"text-align: right;\">\n",
              "      <th></th>\n",
              "      <th>Class</th>\n",
              "      <th>text</th>\n",
              "    </tr>\n",
              "  </thead>\n",
              "  <tbody>\n",
              "    <tr>\n",
              "      <th>0</th>\n",
              "      <td>0</td>\n",
              "      <td>This is the hotel for the discriminating business traveler It offers spacious rooms that are elegant and refined With a cozy area complete with chairs and fireplace they are the perfect place to entertain clients or discuss strategy for a business meeting with a colleague The restaurant offers just the location to impress a perspective client And all of this elegance and refinement in the heart of downtown Chicago</td>\n",
              "    </tr>\n",
              "    <tr>\n",
              "      <th>1</th>\n",
              "      <td>1</td>\n",
              "      <td>What a wonderful experience super great helpful friendly staff Angie at the front desk made sure my husbands birthday would be great Our room was beautiful Angie suggested we go to Sullivans for dinner perfect choice make the reservation for us wow Above and beyond what any other hotel or staff has done for us before Looking forward to staying there again again THANKS AGAIN</td>\n",
              "    </tr>\n",
              "    <tr>\n",
              "      <th>2</th>\n",
              "      <td>1</td>\n",
              "      <td>I stayed at the Talbott twice in the last few weeks I was very pleased with every facet of my stays The staff from doormen to front desk to concierge to housekeeping were wonderful The rooms were nicely sized and clean and well stocked I will return to the Talbott anytime</td>\n",
              "    </tr>\n",
              "    <tr>\n",
              "      <th>3</th>\n",
              "      <td>1</td>\n",
              "      <td>My boyfriend and I were amazed by the breathtaking view of Lake Michigan We are from Texas so the view of the city was very important to us We had no problems at this hotel rooms service location were top notch</td>\n",
              "    </tr>\n",
              "    <tr>\n",
              "      <th>4</th>\n",
              "      <td>1</td>\n",
              "      <td>Rude rude rude We stayed here on July th weekend We drove from Michigan we called customer service to get directions from I w c is a major highway to Chicago calling them from a cellphone telling them we re in a middle of a storm and that we re lost we were put on hold forwarded to another person who did not know how to get to the hotel and we were on hold again Giving up we decided to just exit the highway and try our luck at a store When we finally arrived at the hotel at am no one was there to take care of our car so we looked for parking ourselves Checking in we were not greeted by anyone even the receptionist did not greet us no welcome to the knickerbocker nothing The man at the reception was rude which makes me think what kind of customer service training this hotel has The guy ...</td>\n",
              "    </tr>\n",
              "  </tbody>\n",
              "</table>\n",
              "</div>\n",
              "      <button class=\"colab-df-convert\" onclick=\"convertToInteractive('df-72db58fb-5590-46fd-8165-b95db85b1663')\"\n",
              "              title=\"Convert this dataframe to an interactive table.\"\n",
              "              style=\"display:none;\">\n",
              "        \n",
              "  <svg xmlns=\"http://www.w3.org/2000/svg\" height=\"24px\"viewBox=\"0 0 24 24\"\n",
              "       width=\"24px\">\n",
              "    <path d=\"M0 0h24v24H0V0z\" fill=\"none\"/>\n",
              "    <path d=\"M18.56 5.44l.94 2.06.94-2.06 2.06-.94-2.06-.94-.94-2.06-.94 2.06-2.06.94zm-11 1L8.5 8.5l.94-2.06 2.06-.94-2.06-.94L8.5 2.5l-.94 2.06-2.06.94zm10 10l.94 2.06.94-2.06 2.06-.94-2.06-.94-.94-2.06-.94 2.06-2.06.94z\"/><path d=\"M17.41 7.96l-1.37-1.37c-.4-.4-.92-.59-1.43-.59-.52 0-1.04.2-1.43.59L10.3 9.45l-7.72 7.72c-.78.78-.78 2.05 0 2.83L4 21.41c.39.39.9.59 1.41.59.51 0 1.02-.2 1.41-.59l7.78-7.78 2.81-2.81c.8-.78.8-2.07 0-2.86zM5.41 20L4 18.59l7.72-7.72 1.47 1.35L5.41 20z\"/>\n",
              "  </svg>\n",
              "      </button>\n",
              "      \n",
              "  <style>\n",
              "    .colab-df-container {\n",
              "      display:flex;\n",
              "      flex-wrap:wrap;\n",
              "      gap: 12px;\n",
              "    }\n",
              "\n",
              "    .colab-df-convert {\n",
              "      background-color: #E8F0FE;\n",
              "      border: none;\n",
              "      border-radius: 50%;\n",
              "      cursor: pointer;\n",
              "      display: none;\n",
              "      fill: #1967D2;\n",
              "      height: 32px;\n",
              "      padding: 0 0 0 0;\n",
              "      width: 32px;\n",
              "    }\n",
              "\n",
              "    .colab-df-convert:hover {\n",
              "      background-color: #E2EBFA;\n",
              "      box-shadow: 0px 1px 2px rgba(60, 64, 67, 0.3), 0px 1px 3px 1px rgba(60, 64, 67, 0.15);\n",
              "      fill: #174EA6;\n",
              "    }\n",
              "\n",
              "    [theme=dark] .colab-df-convert {\n",
              "      background-color: #3B4455;\n",
              "      fill: #D2E3FC;\n",
              "    }\n",
              "\n",
              "    [theme=dark] .colab-df-convert:hover {\n",
              "      background-color: #434B5C;\n",
              "      box-shadow: 0px 1px 3px 1px rgba(0, 0, 0, 0.15);\n",
              "      filter: drop-shadow(0px 1px 2px rgba(0, 0, 0, 0.3));\n",
              "      fill: #FFFFFF;\n",
              "    }\n",
              "  </style>\n",
              "\n",
              "      <script>\n",
              "        const buttonEl =\n",
              "          document.querySelector('#df-72db58fb-5590-46fd-8165-b95db85b1663 button.colab-df-convert');\n",
              "        buttonEl.style.display =\n",
              "          google.colab.kernel.accessAllowed ? 'block' : 'none';\n",
              "\n",
              "        async function convertToInteractive(key) {\n",
              "          const element = document.querySelector('#df-72db58fb-5590-46fd-8165-b95db85b1663');\n",
              "          const dataTable =\n",
              "            await google.colab.kernel.invokeFunction('convertToInteractive',\n",
              "                                                     [key], {});\n",
              "          if (!dataTable) return;\n",
              "\n",
              "          const docLinkHtml = 'Like what you see? Visit the ' +\n",
              "            '<a target=\"_blank\" href=https://colab.research.google.com/notebooks/data_table.ipynb>data table notebook</a>'\n",
              "            + ' to learn more about interactive tables.';\n",
              "          element.innerHTML = '';\n",
              "          dataTable['output_type'] = 'display_data';\n",
              "          await google.colab.output.renderOutput(dataTable, element);\n",
              "          const docLink = document.createElement('div');\n",
              "          docLink.innerHTML = docLinkHtml;\n",
              "          element.appendChild(docLink);\n",
              "        }\n",
              "      </script>\n",
              "    </div>\n",
              "  </div>\n",
              "  "
            ]
          },
          "metadata": {},
          "execution_count": 22
        }
      ]
    },
    {
      "cell_type": "code",
      "source": [
        "import spacy\n",
        "#loading the english language small model of spacy\n",
        "en = spacy.load('en_core_web_sm')\n",
        "sw_spacy = en.Defaults.stop_words\n",
        "print(sw_spacy)"
      ],
      "metadata": {
        "colab": {
          "base_uri": "https://localhost:8080/"
        },
        "id": "TS03aaDy1B4p",
        "outputId": "c05a6892-7c8d-4262-ac55-4e878b83d4b7"
      },
      "execution_count": 23,
      "outputs": [
        {
          "output_type": "stream",
          "name": "stdout",
          "text": [
            "{'yours', 'they', 'go', 'from', 'via', \"'m\", 'upon', 'five', 'being', 'doing', 'along', 'seemed', 'either', 'serious', 'seem', 'all', 'if', 'yet', 'elsewhere', 'afterwards', 'some', 'other', 'its', 'however', '’ve', 'fifty', 'out', 'sometimes', 'herself', 'but', 'except', 'formerly', 'herein', 'you', 'anything', 'seems', 'due', 'enough', 'ourselves', 'unless', 'noone', 'above', 'therein', \"'ll\", 'after', 'ever', 'quite', 'not', 'anywhere', 'mostly', 'yourselves', 'becomes', 'is', '’d', 'off', 'take', 'am', 'somehow', 'wherein', 'wherever', 'and', 'me', 'name', 'perhaps', 'though', 'both', 'few', 'third', 'anyhow', 'still', 'have', 'call', 'eight', 'hundred', 'something', 'no', 'forty', 'than', 'as', 'else', 'last', 'only', 'already', 'rather', 'while', 'she', '’ll', 'when', 'cannot', 'together', 'whereby', '’m', 'even', 'does', 'any', 'also', 'are', \"'ve\", 'often', 'none', 'anyone', 'various', 'mine', 'get', 'to', 'others', 'below', 'how', 'nobody', 'then', 'used', 'whom', 'fifteen', 'two', 'put', 'several', 'twenty', 'about', 'whither', 'in', 'amongst', 'their', 'full', 'the', 'latter', 'see', 'or', 'give', 'seeming', 'without', '’re', \"'s\", 'done', 'side', 'just', 'whereas', 'move', 'again', 'namely', 'us', 'more', 'were', 'really', 'itself', 'make', 'hence', 'show', 'since', 'ours', '‘ve', 'thereupon', 'there', 'between', 'who', \"n't\", '‘m', 'front', 'everyone', 'became', 'meanwhile', 'alone', 'among', 'beyond', 'next', 'although', 'which', 'we', 'beforehand', 'therefore', 'one', 'made', 'former', 'eleven', 'her', 'toward', 'that', 'around', 'our', 'themselves', 'so', 'can', 'through', 'first', 'otherwise', 'less', 'with', 'had', 'ten', 'everything', 'whatever', 'this', 'did', 'down', 'always', 'top', 'neither', 'a', 'whereafter', 'nowhere', 'across', 'thence', 'onto', 'sixty', 'must', \"'d\", 'here', 'keep', 'of', 'will', 'every', 'six', 'someone', '‘s', 'whose', '‘re', 'n’t', 'against', 'an', 'them', 'nevertheless', 'whence', '‘ll', 'before', 'anyway', 'nor', 'sometime', 'by', 'per', 'bottom', 're', 'why', 'now', 'nothing', 'whole', 'regarding', 'his', 'him', 'another', 'during', 'same', 'might', 'i', 'towards', 'further', 'could', 'hers', 'ca', 'well', 'hereby', 'be', 'yourself', 'become', 'three', 'besides', '‘d', 'somewhere', 'latterly', 'such', 'becoming', 'throughout', 'your', 'never', 'whereupon', 'too', 'hereafter', 'hereupon', 'because', 'thereby', 'up', 'what', 'amount', 'n‘t', 'many', 'behind', 'nine', 'once', 'everywhere', 'twelve', 'it', 'myself', 'at', 'over', 'part', 'whether', 'thus', 'should', 'until', 'least', 'beside', 'thru', 'has', 'much', 'whenever', 'empty', 'would', 'himself', 'please', 'most', 'been', 'say', 'back', 'each', 'my', 'thereafter', 'whoever', 'indeed', '’s', 'moreover', 'where', \"'re\", 'into', 'very', 'four', 'these', 'may', 'he', 'on', 'was', 'under', 'for', 'almost', 'those', 'do', 'own', 'within', 'using'}\n"
          ]
        }
      ]
    },
    {
      "cell_type": "code",
      "source": [
        "import nltk\n",
        "from nltk.corpus import stopwords\n",
        "sw_nltk = stopwords.words('english')\n",
        "print(sw_nltk)"
      ],
      "metadata": {
        "colab": {
          "base_uri": "https://localhost:8080/"
        },
        "id": "HQ43oOMR1B1N",
        "outputId": "edc1486c-074d-4bc7-c2ac-39411f9b83e2"
      },
      "execution_count": 24,
      "outputs": [
        {
          "output_type": "stream",
          "name": "stdout",
          "text": [
            "['i', 'me', 'my', 'myself', 'we', 'our', 'ours', 'ourselves', 'you', \"you're\", \"you've\", \"you'll\", \"you'd\", 'your', 'yours', 'yourself', 'yourselves', 'he', 'him', 'his', 'himself', 'she', \"she's\", 'her', 'hers', 'herself', 'it', \"it's\", 'its', 'itself', 'they', 'them', 'their', 'theirs', 'themselves', 'what', 'which', 'who', 'whom', 'this', 'that', \"that'll\", 'these', 'those', 'am', 'is', 'are', 'was', 'were', 'be', 'been', 'being', 'have', 'has', 'had', 'having', 'do', 'does', 'did', 'doing', 'a', 'an', 'the', 'and', 'but', 'if', 'or', 'because', 'as', 'until', 'while', 'of', 'at', 'by', 'for', 'with', 'about', 'against', 'between', 'into', 'through', 'during', 'before', 'after', 'above', 'below', 'to', 'from', 'up', 'down', 'in', 'out', 'on', 'off', 'over', 'under', 'again', 'further', 'then', 'once', 'here', 'there', 'when', 'where', 'why', 'how', 'all', 'any', 'both', 'each', 'few', 'more', 'most', 'other', 'some', 'such', 'no', 'nor', 'not', 'only', 'own', 'same', 'so', 'than', 'too', 'very', 's', 't', 'can', 'will', 'just', 'don', \"don't\", 'should', \"should've\", 'now', 'd', 'll', 'm', 'o', 're', 've', 'y', 'ain', 'aren', \"aren't\", 'couldn', \"couldn't\", 'didn', \"didn't\", 'doesn', \"doesn't\", 'hadn', \"hadn't\", 'hasn', \"hasn't\", 'haven', \"haven't\", 'isn', \"isn't\", 'ma', 'mightn', \"mightn't\", 'mustn', \"mustn't\", 'needn', \"needn't\", 'shan', \"shan't\", 'shouldn', \"shouldn't\", 'wasn', \"wasn't\", 'weren', \"weren't\", 'won', \"won't\", 'wouldn', \"wouldn't\"]\n"
          ]
        }
      ]
    },
    {
      "cell_type": "code",
      "source": [
        "sw_nltk.extend(['th','stay'])\n",
        "print(len(sw_nltk))"
      ],
      "metadata": {
        "colab": {
          "base_uri": "https://localhost:8080/"
        },
        "id": "OedFNhJ01BxZ",
        "outputId": "9677cff0-6dbc-4f03-b157-4a52a6eae85c"
      },
      "execution_count": 25,
      "outputs": [
        {
          "output_type": "stream",
          "name": "stdout",
          "text": [
            "181\n"
          ]
        }
      ]
    },
    {
      "cell_type": "code",
      "source": [
        "# preprocessing the data (removing stopwords, convert the sentence to lower case, and also applying lemmatization to get meaningful words )\n",
        "from nltk.corpus import stopwords\n",
        "from nltk.stem import WordNetLemmatizer, PorterStemmer\n",
        "#stop_words = set(stopwords.words('english'))\n",
        "ps=PorterStemmer()\n",
        "wnl=WordNetLemmatizer()\n",
        "def clean_lemma(review):\n",
        "    review = review.lower()\n",
        "    review = review.split()\n",
        "    review = [wnl.lemmatize(word) for word in review if word not in sw_nltk]\n",
        "    review = [wnl.lemmatize(word) for word in review if word not in sw_spacy]\n",
        "    review = ' '.join(review)\n",
        "    return review"
      ],
      "metadata": {
        "id": "NllSe3Fh1Bt7"
      },
      "execution_count": 26,
      "outputs": []
    },
    {
      "cell_type": "code",
      "source": [
        "# using lemmatization\n",
        "df['text']=df['text'].apply(clean_lemma)\n",
        "df.head()"
      ],
      "metadata": {
        "colab": {
          "base_uri": "https://localhost:8080/",
          "height": 319
        },
        "id": "JYZt0NMn1Bqx",
        "outputId": "9569df40-b4f6-47b8-9015-b239bbcb1735"
      },
      "execution_count": 27,
      "outputs": [
        {
          "output_type": "execute_result",
          "data": {
            "text/plain": [
              "   Class  \\\n",
              "0      0   \n",
              "1      1   \n",
              "2      1   \n",
              "3      1   \n",
              "4      1   \n",
              "\n",
              "                                                                                                                                                                                                                                                                                                                                                                                                                                                                                                                                                             text  \n",
              "0                                                                                                                                                                                                                                                                         hotel discriminating business traveler offer spacious room elegant refined cozy area complete chair fireplace perfect place entertain client discus strategy business meeting colleague restaurant offer location impress perspective client elegance refinement heart downtown chicago  \n",
              "1                                                                                                                                                                                                                                                                                                                                     wonderful experience super great helpful friendly staff angie desk sure husband birthday great room beautiful angie suggested sullivan dinner perfect choice reservation u wow hotel staff u looking forward staying thanks  \n",
              "2                                                                                                                                                                                                                                                                                                                                                                                                         stayed talbott twice week pleased facet stay staff doorman desk concierge housekeeping wonderful room nicely sized clean stocked return talbott anytime  \n",
              "3                                                                                                                                                                                                                                                                                                                                                                                                                                          boyfriend amazed breathtaking view lake michigan texas view city important u problem hotel room service location notch  \n",
              "4  rude rude rude stayed july weekend drove michigan called customer service direction w c major highway chicago calling cellphone telling middle storm lost hold forwarded person know hotel hold giving decided exit highway try luck store finally arrived hotel care car looked parking checking greeted receptionist greet u welcome knickerbocker man reception rude think kind customer service training hotel guy find reservation frustrated checking able u direction maybe hour earlier room spectacular small probably little bigger walk closet risk  "
            ],
            "text/html": [
              "\n",
              "  <div id=\"df-74e5ef14-3caf-4d37-a1e6-30a1613c27fd\">\n",
              "    <div class=\"colab-df-container\">\n",
              "      <div>\n",
              "<style scoped>\n",
              "    .dataframe tbody tr th:only-of-type {\n",
              "        vertical-align: middle;\n",
              "    }\n",
              "\n",
              "    .dataframe tbody tr th {\n",
              "        vertical-align: top;\n",
              "    }\n",
              "\n",
              "    .dataframe thead th {\n",
              "        text-align: right;\n",
              "    }\n",
              "</style>\n",
              "<table border=\"1\" class=\"dataframe\">\n",
              "  <thead>\n",
              "    <tr style=\"text-align: right;\">\n",
              "      <th></th>\n",
              "      <th>Class</th>\n",
              "      <th>text</th>\n",
              "    </tr>\n",
              "  </thead>\n",
              "  <tbody>\n",
              "    <tr>\n",
              "      <th>0</th>\n",
              "      <td>0</td>\n",
              "      <td>hotel discriminating business traveler offer spacious room elegant refined cozy area complete chair fireplace perfect place entertain client discus strategy business meeting colleague restaurant offer location impress perspective client elegance refinement heart downtown chicago</td>\n",
              "    </tr>\n",
              "    <tr>\n",
              "      <th>1</th>\n",
              "      <td>1</td>\n",
              "      <td>wonderful experience super great helpful friendly staff angie desk sure husband birthday great room beautiful angie suggested sullivan dinner perfect choice reservation u wow hotel staff u looking forward staying thanks</td>\n",
              "    </tr>\n",
              "    <tr>\n",
              "      <th>2</th>\n",
              "      <td>1</td>\n",
              "      <td>stayed talbott twice week pleased facet stay staff doorman desk concierge housekeeping wonderful room nicely sized clean stocked return talbott anytime</td>\n",
              "    </tr>\n",
              "    <tr>\n",
              "      <th>3</th>\n",
              "      <td>1</td>\n",
              "      <td>boyfriend amazed breathtaking view lake michigan texas view city important u problem hotel room service location notch</td>\n",
              "    </tr>\n",
              "    <tr>\n",
              "      <th>4</th>\n",
              "      <td>1</td>\n",
              "      <td>rude rude rude stayed july weekend drove michigan called customer service direction w c major highway chicago calling cellphone telling middle storm lost hold forwarded person know hotel hold giving decided exit highway try luck store finally arrived hotel care car looked parking checking greeted receptionist greet u welcome knickerbocker man reception rude think kind customer service training hotel guy find reservation frustrated checking able u direction maybe hour earlier room spectacular small probably little bigger walk closet risk</td>\n",
              "    </tr>\n",
              "  </tbody>\n",
              "</table>\n",
              "</div>\n",
              "      <button class=\"colab-df-convert\" onclick=\"convertToInteractive('df-74e5ef14-3caf-4d37-a1e6-30a1613c27fd')\"\n",
              "              title=\"Convert this dataframe to an interactive table.\"\n",
              "              style=\"display:none;\">\n",
              "        \n",
              "  <svg xmlns=\"http://www.w3.org/2000/svg\" height=\"24px\"viewBox=\"0 0 24 24\"\n",
              "       width=\"24px\">\n",
              "    <path d=\"M0 0h24v24H0V0z\" fill=\"none\"/>\n",
              "    <path d=\"M18.56 5.44l.94 2.06.94-2.06 2.06-.94-2.06-.94-.94-2.06-.94 2.06-2.06.94zm-11 1L8.5 8.5l.94-2.06 2.06-.94-2.06-.94L8.5 2.5l-.94 2.06-2.06.94zm10 10l.94 2.06.94-2.06 2.06-.94-2.06-.94-.94-2.06-.94 2.06-2.06.94z\"/><path d=\"M17.41 7.96l-1.37-1.37c-.4-.4-.92-.59-1.43-.59-.52 0-1.04.2-1.43.59L10.3 9.45l-7.72 7.72c-.78.78-.78 2.05 0 2.83L4 21.41c.39.39.9.59 1.41.59.51 0 1.02-.2 1.41-.59l7.78-7.78 2.81-2.81c.8-.78.8-2.07 0-2.86zM5.41 20L4 18.59l7.72-7.72 1.47 1.35L5.41 20z\"/>\n",
              "  </svg>\n",
              "      </button>\n",
              "      \n",
              "  <style>\n",
              "    .colab-df-container {\n",
              "      display:flex;\n",
              "      flex-wrap:wrap;\n",
              "      gap: 12px;\n",
              "    }\n",
              "\n",
              "    .colab-df-convert {\n",
              "      background-color: #E8F0FE;\n",
              "      border: none;\n",
              "      border-radius: 50%;\n",
              "      cursor: pointer;\n",
              "      display: none;\n",
              "      fill: #1967D2;\n",
              "      height: 32px;\n",
              "      padding: 0 0 0 0;\n",
              "      width: 32px;\n",
              "    }\n",
              "\n",
              "    .colab-df-convert:hover {\n",
              "      background-color: #E2EBFA;\n",
              "      box-shadow: 0px 1px 2px rgba(60, 64, 67, 0.3), 0px 1px 3px 1px rgba(60, 64, 67, 0.15);\n",
              "      fill: #174EA6;\n",
              "    }\n",
              "\n",
              "    [theme=dark] .colab-df-convert {\n",
              "      background-color: #3B4455;\n",
              "      fill: #D2E3FC;\n",
              "    }\n",
              "\n",
              "    [theme=dark] .colab-df-convert:hover {\n",
              "      background-color: #434B5C;\n",
              "      box-shadow: 0px 1px 3px 1px rgba(0, 0, 0, 0.15);\n",
              "      filter: drop-shadow(0px 1px 2px rgba(0, 0, 0, 0.3));\n",
              "      fill: #FFFFFF;\n",
              "    }\n",
              "  </style>\n",
              "\n",
              "      <script>\n",
              "        const buttonEl =\n",
              "          document.querySelector('#df-74e5ef14-3caf-4d37-a1e6-30a1613c27fd button.colab-df-convert');\n",
              "        buttonEl.style.display =\n",
              "          google.colab.kernel.accessAllowed ? 'block' : 'none';\n",
              "\n",
              "        async function convertToInteractive(key) {\n",
              "          const element = document.querySelector('#df-74e5ef14-3caf-4d37-a1e6-30a1613c27fd');\n",
              "          const dataTable =\n",
              "            await google.colab.kernel.invokeFunction('convertToInteractive',\n",
              "                                                     [key], {});\n",
              "          if (!dataTable) return;\n",
              "\n",
              "          const docLinkHtml = 'Like what you see? Visit the ' +\n",
              "            '<a target=\"_blank\" href=https://colab.research.google.com/notebooks/data_table.ipynb>data table notebook</a>'\n",
              "            + ' to learn more about interactive tables.';\n",
              "          element.innerHTML = '';\n",
              "          dataTable['output_type'] = 'display_data';\n",
              "          await google.colab.output.renderOutput(dataTable, element);\n",
              "          const docLink = document.createElement('div');\n",
              "          docLink.innerHTML = docLinkHtml;\n",
              "          element.appendChild(docLink);\n",
              "        }\n",
              "      </script>\n",
              "    </div>\n",
              "  </div>\n",
              "  "
            ]
          },
          "metadata": {},
          "execution_count": 27
        }
      ]
    },
    {
      "cell_type": "markdown",
      "source": [
        "### FEATURE EXTRACTION"
      ],
      "metadata": {
        "id": "016Fipdd4nou"
      }
    },
    {
      "cell_type": "code",
      "source": [
        "x = df['text']\n",
        "y = df['Class']"
      ],
      "metadata": {
        "id": "dxOXDi2I1Bnh"
      },
      "execution_count": 28,
      "outputs": []
    },
    {
      "cell_type": "code",
      "source": [
        "from sklearn.feature_extraction.text import TfidfVectorizer, CountVectorizer \n",
        "from sklearn.feature_extraction.text import TfidfVectorizer\n",
        "cv=TfidfVectorizer()\n",
        "corpii=cv.fit_transform(x) "
      ],
      "metadata": {
        "id": "SVvh5gy31Bkh"
      },
      "execution_count": 29,
      "outputs": []
    },
    {
      "cell_type": "code",
      "source": [
        "feature_names = cv.get_feature_names()\n",
        "#feature_names"
      ],
      "metadata": {
        "colab": {
          "base_uri": "https://localhost:8080/"
        },
        "id": "y40il7AW1Bhr",
        "outputId": "bb04fb70-a8d2-4f48-96a3-1a192c180fc2"
      },
      "execution_count": 30,
      "outputs": [
        {
          "output_type": "stream",
          "name": "stderr",
          "text": [
            "/usr/local/lib/python3.7/dist-packages/sklearn/utils/deprecation.py:87: FutureWarning: Function get_feature_names is deprecated; get_feature_names is deprecated in 1.0 and will be removed in 1.2. Please use get_feature_names_out instead.\n",
            "  warnings.warn(msg, category=FutureWarning)\n"
          ]
        }
      ]
    },
    {
      "cell_type": "code",
      "source": [
        "len(feature_names)"
      ],
      "metadata": {
        "colab": {
          "base_uri": "https://localhost:8080/"
        },
        "id": "-zsmP-Z61BfD",
        "outputId": "0bcca85a-3c73-4b79-acc8-4ee9baddc0da"
      },
      "execution_count": 31,
      "outputs": [
        {
          "output_type": "execute_result",
          "data": {
            "text/plain": [
              "7905"
            ]
          },
          "metadata": {},
          "execution_count": 31
        }
      ]
    },
    {
      "cell_type": "code",
      "source": [
        "u1 = pd.DataFrame(corpii.toarray(), columns=feature_names)\n",
        "u1.head()"
      ],
      "metadata": {
        "colab": {
          "base_uri": "https://localhost:8080/",
          "height": 235
        },
        "id": "WXXwZCVq1BcM",
        "outputId": "2a5ceec7-2599-47f8-fc21-33f5af828737"
      },
      "execution_count": 32,
      "outputs": [
        {
          "output_type": "execute_result",
          "data": {
            "text/plain": [
              "   aaa  aaahed  aback  abassador  abd  ability      able  abound  abrupt  \\\n",
              "0  0.0     0.0    0.0        0.0  0.0      0.0  0.000000     0.0     0.0   \n",
              "1  0.0     0.0    0.0        0.0  0.0      0.0  0.000000     0.0     0.0   \n",
              "2  0.0     0.0    0.0        0.0  0.0      0.0  0.000000     0.0     0.0   \n",
              "3  0.0     0.0    0.0        0.0  0.0      0.0  0.000000     0.0     0.0   \n",
              "4  0.0     0.0    0.0        0.0  0.0      0.0  0.080368     0.0     0.0   \n",
              "\n",
              "   abruptly  ...  yucky  yummo  yummy  yunan  yup  zagat  zest  zipped  zone  \\\n",
              "0       0.0  ...    0.0    0.0    0.0    0.0  0.0    0.0   0.0     0.0   0.0   \n",
              "1       0.0  ...    0.0    0.0    0.0    0.0  0.0    0.0   0.0     0.0   0.0   \n",
              "2       0.0  ...    0.0    0.0    0.0    0.0  0.0    0.0   0.0     0.0   0.0   \n",
              "3       0.0  ...    0.0    0.0    0.0    0.0  0.0    0.0   0.0     0.0   0.0   \n",
              "4       0.0  ...    0.0    0.0    0.0    0.0  0.0    0.0   0.0     0.0   0.0   \n",
              "\n",
              "   zoo  \n",
              "0  0.0  \n",
              "1  0.0  \n",
              "2  0.0  \n",
              "3  0.0  \n",
              "4  0.0  \n",
              "\n",
              "[5 rows x 7905 columns]"
            ],
            "text/html": [
              "\n",
              "  <div id=\"df-15d6c297-f4cb-4047-b093-b0e4b82f1cd7\">\n",
              "    <div class=\"colab-df-container\">\n",
              "      <div>\n",
              "<style scoped>\n",
              "    .dataframe tbody tr th:only-of-type {\n",
              "        vertical-align: middle;\n",
              "    }\n",
              "\n",
              "    .dataframe tbody tr th {\n",
              "        vertical-align: top;\n",
              "    }\n",
              "\n",
              "    .dataframe thead th {\n",
              "        text-align: right;\n",
              "    }\n",
              "</style>\n",
              "<table border=\"1\" class=\"dataframe\">\n",
              "  <thead>\n",
              "    <tr style=\"text-align: right;\">\n",
              "      <th></th>\n",
              "      <th>aaa</th>\n",
              "      <th>aaahed</th>\n",
              "      <th>aback</th>\n",
              "      <th>abassador</th>\n",
              "      <th>abd</th>\n",
              "      <th>ability</th>\n",
              "      <th>able</th>\n",
              "      <th>abound</th>\n",
              "      <th>abrupt</th>\n",
              "      <th>abruptly</th>\n",
              "      <th>...</th>\n",
              "      <th>yucky</th>\n",
              "      <th>yummo</th>\n",
              "      <th>yummy</th>\n",
              "      <th>yunan</th>\n",
              "      <th>yup</th>\n",
              "      <th>zagat</th>\n",
              "      <th>zest</th>\n",
              "      <th>zipped</th>\n",
              "      <th>zone</th>\n",
              "      <th>zoo</th>\n",
              "    </tr>\n",
              "  </thead>\n",
              "  <tbody>\n",
              "    <tr>\n",
              "      <th>0</th>\n",
              "      <td>0.0</td>\n",
              "      <td>0.0</td>\n",
              "      <td>0.0</td>\n",
              "      <td>0.0</td>\n",
              "      <td>0.0</td>\n",
              "      <td>0.0</td>\n",
              "      <td>0.000000</td>\n",
              "      <td>0.0</td>\n",
              "      <td>0.0</td>\n",
              "      <td>0.0</td>\n",
              "      <td>...</td>\n",
              "      <td>0.0</td>\n",
              "      <td>0.0</td>\n",
              "      <td>0.0</td>\n",
              "      <td>0.0</td>\n",
              "      <td>0.0</td>\n",
              "      <td>0.0</td>\n",
              "      <td>0.0</td>\n",
              "      <td>0.0</td>\n",
              "      <td>0.0</td>\n",
              "      <td>0.0</td>\n",
              "    </tr>\n",
              "    <tr>\n",
              "      <th>1</th>\n",
              "      <td>0.0</td>\n",
              "      <td>0.0</td>\n",
              "      <td>0.0</td>\n",
              "      <td>0.0</td>\n",
              "      <td>0.0</td>\n",
              "      <td>0.0</td>\n",
              "      <td>0.000000</td>\n",
              "      <td>0.0</td>\n",
              "      <td>0.0</td>\n",
              "      <td>0.0</td>\n",
              "      <td>...</td>\n",
              "      <td>0.0</td>\n",
              "      <td>0.0</td>\n",
              "      <td>0.0</td>\n",
              "      <td>0.0</td>\n",
              "      <td>0.0</td>\n",
              "      <td>0.0</td>\n",
              "      <td>0.0</td>\n",
              "      <td>0.0</td>\n",
              "      <td>0.0</td>\n",
              "      <td>0.0</td>\n",
              "    </tr>\n",
              "    <tr>\n",
              "      <th>2</th>\n",
              "      <td>0.0</td>\n",
              "      <td>0.0</td>\n",
              "      <td>0.0</td>\n",
              "      <td>0.0</td>\n",
              "      <td>0.0</td>\n",
              "      <td>0.0</td>\n",
              "      <td>0.000000</td>\n",
              "      <td>0.0</td>\n",
              "      <td>0.0</td>\n",
              "      <td>0.0</td>\n",
              "      <td>...</td>\n",
              "      <td>0.0</td>\n",
              "      <td>0.0</td>\n",
              "      <td>0.0</td>\n",
              "      <td>0.0</td>\n",
              "      <td>0.0</td>\n",
              "      <td>0.0</td>\n",
              "      <td>0.0</td>\n",
              "      <td>0.0</td>\n",
              "      <td>0.0</td>\n",
              "      <td>0.0</td>\n",
              "    </tr>\n",
              "    <tr>\n",
              "      <th>3</th>\n",
              "      <td>0.0</td>\n",
              "      <td>0.0</td>\n",
              "      <td>0.0</td>\n",
              "      <td>0.0</td>\n",
              "      <td>0.0</td>\n",
              "      <td>0.0</td>\n",
              "      <td>0.000000</td>\n",
              "      <td>0.0</td>\n",
              "      <td>0.0</td>\n",
              "      <td>0.0</td>\n",
              "      <td>...</td>\n",
              "      <td>0.0</td>\n",
              "      <td>0.0</td>\n",
              "      <td>0.0</td>\n",
              "      <td>0.0</td>\n",
              "      <td>0.0</td>\n",
              "      <td>0.0</td>\n",
              "      <td>0.0</td>\n",
              "      <td>0.0</td>\n",
              "      <td>0.0</td>\n",
              "      <td>0.0</td>\n",
              "    </tr>\n",
              "    <tr>\n",
              "      <th>4</th>\n",
              "      <td>0.0</td>\n",
              "      <td>0.0</td>\n",
              "      <td>0.0</td>\n",
              "      <td>0.0</td>\n",
              "      <td>0.0</td>\n",
              "      <td>0.0</td>\n",
              "      <td>0.080368</td>\n",
              "      <td>0.0</td>\n",
              "      <td>0.0</td>\n",
              "      <td>0.0</td>\n",
              "      <td>...</td>\n",
              "      <td>0.0</td>\n",
              "      <td>0.0</td>\n",
              "      <td>0.0</td>\n",
              "      <td>0.0</td>\n",
              "      <td>0.0</td>\n",
              "      <td>0.0</td>\n",
              "      <td>0.0</td>\n",
              "      <td>0.0</td>\n",
              "      <td>0.0</td>\n",
              "      <td>0.0</td>\n",
              "    </tr>\n",
              "  </tbody>\n",
              "</table>\n",
              "<p>5 rows × 7905 columns</p>\n",
              "</div>\n",
              "      <button class=\"colab-df-convert\" onclick=\"convertToInteractive('df-15d6c297-f4cb-4047-b093-b0e4b82f1cd7')\"\n",
              "              title=\"Convert this dataframe to an interactive table.\"\n",
              "              style=\"display:none;\">\n",
              "        \n",
              "  <svg xmlns=\"http://www.w3.org/2000/svg\" height=\"24px\"viewBox=\"0 0 24 24\"\n",
              "       width=\"24px\">\n",
              "    <path d=\"M0 0h24v24H0V0z\" fill=\"none\"/>\n",
              "    <path d=\"M18.56 5.44l.94 2.06.94-2.06 2.06-.94-2.06-.94-.94-2.06-.94 2.06-2.06.94zm-11 1L8.5 8.5l.94-2.06 2.06-.94-2.06-.94L8.5 2.5l-.94 2.06-2.06.94zm10 10l.94 2.06.94-2.06 2.06-.94-2.06-.94-.94-2.06-.94 2.06-2.06.94z\"/><path d=\"M17.41 7.96l-1.37-1.37c-.4-.4-.92-.59-1.43-.59-.52 0-1.04.2-1.43.59L10.3 9.45l-7.72 7.72c-.78.78-.78 2.05 0 2.83L4 21.41c.39.39.9.59 1.41.59.51 0 1.02-.2 1.41-.59l7.78-7.78 2.81-2.81c.8-.78.8-2.07 0-2.86zM5.41 20L4 18.59l7.72-7.72 1.47 1.35L5.41 20z\"/>\n",
              "  </svg>\n",
              "      </button>\n",
              "      \n",
              "  <style>\n",
              "    .colab-df-container {\n",
              "      display:flex;\n",
              "      flex-wrap:wrap;\n",
              "      gap: 12px;\n",
              "    }\n",
              "\n",
              "    .colab-df-convert {\n",
              "      background-color: #E8F0FE;\n",
              "      border: none;\n",
              "      border-radius: 50%;\n",
              "      cursor: pointer;\n",
              "      display: none;\n",
              "      fill: #1967D2;\n",
              "      height: 32px;\n",
              "      padding: 0 0 0 0;\n",
              "      width: 32px;\n",
              "    }\n",
              "\n",
              "    .colab-df-convert:hover {\n",
              "      background-color: #E2EBFA;\n",
              "      box-shadow: 0px 1px 2px rgba(60, 64, 67, 0.3), 0px 1px 3px 1px rgba(60, 64, 67, 0.15);\n",
              "      fill: #174EA6;\n",
              "    }\n",
              "\n",
              "    [theme=dark] .colab-df-convert {\n",
              "      background-color: #3B4455;\n",
              "      fill: #D2E3FC;\n",
              "    }\n",
              "\n",
              "    [theme=dark] .colab-df-convert:hover {\n",
              "      background-color: #434B5C;\n",
              "      box-shadow: 0px 1px 3px 1px rgba(0, 0, 0, 0.15);\n",
              "      filter: drop-shadow(0px 1px 2px rgba(0, 0, 0, 0.3));\n",
              "      fill: #FFFFFF;\n",
              "    }\n",
              "  </style>\n",
              "\n",
              "      <script>\n",
              "        const buttonEl =\n",
              "          document.querySelector('#df-15d6c297-f4cb-4047-b093-b0e4b82f1cd7 button.colab-df-convert');\n",
              "        buttonEl.style.display =\n",
              "          google.colab.kernel.accessAllowed ? 'block' : 'none';\n",
              "\n",
              "        async function convertToInteractive(key) {\n",
              "          const element = document.querySelector('#df-15d6c297-f4cb-4047-b093-b0e4b82f1cd7');\n",
              "          const dataTable =\n",
              "            await google.colab.kernel.invokeFunction('convertToInteractive',\n",
              "                                                     [key], {});\n",
              "          if (!dataTable) return;\n",
              "\n",
              "          const docLinkHtml = 'Like what you see? Visit the ' +\n",
              "            '<a target=\"_blank\" href=https://colab.research.google.com/notebooks/data_table.ipynb>data table notebook</a>'\n",
              "            + ' to learn more about interactive tables.';\n",
              "          element.innerHTML = '';\n",
              "          dataTable['output_type'] = 'display_data';\n",
              "          await google.colab.output.renderOutput(dataTable, element);\n",
              "          const docLink = document.createElement('div');\n",
              "          docLink.innerHTML = docLinkHtml;\n",
              "          element.appendChild(docLink);\n",
              "        }\n",
              "      </script>\n",
              "    </div>\n",
              "  </div>\n",
              "  "
            ]
          },
          "metadata": {},
          "execution_count": 32
        }
      ]
    },
    {
      "cell_type": "markdown",
      "source": [
        "### FEATURE SELECTION"
      ],
      "metadata": {
        "id": "pwLqgt4w4rXn"
      }
    },
    {
      "cell_type": "code",
      "source": [
        "from sklearn.feature_selection import SelectKBest\n",
        "from sklearn.feature_selection import chi2\n",
        "# Two features with highest chi-squared statistics are selected\n",
        "chi2_features = SelectKBest(chi2, k = 1000)\n",
        "X_kbest_features = chi2_features.fit_transform(u1, y)"
      ],
      "metadata": {
        "id": "g_l7FvT3kn1Q"
      },
      "execution_count": 33,
      "outputs": []
    },
    {
      "cell_type": "code",
      "source": [
        "chi_support = chi2_features.get_support()"
      ],
      "metadata": {
        "id": "Dj7T8ZJUkoaY"
      },
      "execution_count": 34,
      "outputs": []
    },
    {
      "cell_type": "code",
      "source": [
        "chi_feature = u1.loc[:,chi_support].columns.tolist()"
      ],
      "metadata": {
        "id": "ogBa4MS7koeK"
      },
      "execution_count": 35,
      "outputs": []
    },
    {
      "cell_type": "code",
      "source": [
        "chi_feature"
      ],
      "metadata": {
        "colab": {
          "base_uri": "https://localhost:8080/"
        },
        "id": "XjhAwG8Dkohi",
        "outputId": "13ca18c7-cc10-4979-b0ca-cbdbd48a61a4"
      },
      "execution_count": 36,
      "outputs": [
        {
          "output_type": "execute_result",
          "data": {
            "text/plain": [
              "['accept',\n",
              " 'accepted',\n",
              " 'accomidations',\n",
              " 'accommodated',\n",
              " 'accommodation',\n",
              " 'accomodations',\n",
              " 'according',\n",
              " 'accurate',\n",
              " 'acknowledged',\n",
              " 'acted',\n",
              " 'adding',\n",
              " 'address',\n",
              " 'adult',\n",
              " 'advantage',\n",
              " 'advertises',\n",
              " 'advisor',\n",
              " 'affair',\n",
              " 'affinia',\n",
              " 'affordability',\n",
              " 'agent',\n",
              " 'al',\n",
              " 'alive',\n",
              " 'allegro',\n",
              " 'allergenic',\n",
              " 'allergy',\n",
              " 'alley',\n",
              " 'allowed',\n",
              " 'amazing',\n",
              " 'ambassador',\n",
              " 'amenity',\n",
              " 'angie',\n",
              " 'angry',\n",
              " 'anniversary',\n",
              " 'annoying',\n",
              " 'anthony',\n",
              " 'anybody',\n",
              " 'appointed',\n",
              " 'april',\n",
              " 'architectes',\n",
              " 'arranging',\n",
              " 'ask',\n",
              " 'asleep',\n",
              " 'associate',\n",
              " 'assuming',\n",
              " 'atmosphere',\n",
              " 'attached',\n",
              " 'attack',\n",
              " 'attempted',\n",
              " 'attended',\n",
              " 'attending',\n",
              " 'attraction',\n",
              " 'attractive',\n",
              " 'aug',\n",
              " 'authorization',\n",
              " 'av',\n",
              " 'available',\n",
              " 'ave',\n",
              " 'aveda',\n",
              " 'avenue',\n",
              " 'award',\n",
              " 'aware',\n",
              " 'awful',\n",
              " 'bacon',\n",
              " 'badly',\n",
              " 'baggage',\n",
              " 'bakery',\n",
              " 'ball',\n",
              " 'bar',\n",
              " 'bare',\n",
              " 'bargain',\n",
              " 'barking',\n",
              " 'based',\n",
              " 'basement',\n",
              " 'basil',\n",
              " 'bath',\n",
              " 'bathroom',\n",
              " 'battery',\n",
              " 'beautiful',\n",
              " 'beautifull',\n",
              " 'beautifully',\n",
              " 'beauty',\n",
              " 'beck',\n",
              " 'bed',\n",
              " 'bedbug',\n",
              " 'bell',\n",
              " 'bellman',\n",
              " 'beverage',\n",
              " 'bid',\n",
              " 'bin',\n",
              " 'bistro',\n",
              " 'bit',\n",
              " 'bite',\n",
              " 'bitten',\n",
              " 'bland',\n",
              " 'bldg',\n",
              " 'block',\n",
              " 'boarding',\n",
              " 'boast',\n",
              " 'bolted',\n",
              " 'booked',\n",
              " 'bottle',\n",
              " 'bottled',\n",
              " 'box',\n",
              " 'breakfast',\n",
              " 'breaking',\n",
              " 'breath',\n",
              " 'brick',\n",
              " 'brief',\n",
              " 'bringing',\n",
              " 'broken',\n",
              " 'bubble',\n",
              " 'buffet',\n",
              " 'building',\n",
              " 'burnham',\n",
              " 'burnt',\n",
              " 'bus',\n",
              " 'bust',\n",
              " 'bustle',\n",
              " 'cab',\n",
              " 'cabinet',\n",
              " 'called',\n",
              " 'cam',\n",
              " 'cancel',\n",
              " 'capacity',\n",
              " 'car',\n",
              " 'card',\n",
              " 'cared',\n",
              " 'caring',\n",
              " 'carlton',\n",
              " 'castle',\n",
              " 'casual',\n",
              " 'celebrate',\n",
              " 'celebrated',\n",
              " 'centre',\n",
              " 'chair',\n",
              " 'chance',\n",
              " 'charge',\n",
              " 'charged',\n",
              " 'charm',\n",
              " 'cheesecake',\n",
              " 'chicago',\n",
              " 'child',\n",
              " 'chill',\n",
              " 'chinese',\n",
              " 'christmas',\n",
              " 'christopher',\n",
              " 'cigarette',\n",
              " 'cinema',\n",
              " 'city',\n",
              " 'claimed',\n",
              " 'classy',\n",
              " 'cleaned',\n",
              " 'cleaning',\n",
              " 'cleanliness',\n",
              " 'clerk',\n",
              " 'clientele',\n",
              " 'close',\n",
              " 'closer',\n",
              " 'closet',\n",
              " 'coffee',\n",
              " 'coffeepot',\n",
              " 'cold',\n",
              " 'colder',\n",
              " 'collection',\n",
              " 'color',\n",
              " 'com',\n",
              " 'combination',\n",
              " 'come',\n",
              " 'comforting',\n",
              " 'comfy',\n",
              " 'coming',\n",
              " 'comment',\n",
              " 'commitment',\n",
              " 'comparable',\n",
              " 'compared',\n",
              " 'complaint',\n",
              " 'compliment',\n",
              " 'complimentartry',\n",
              " 'computer',\n",
              " 'con',\n",
              " 'conceirge',\n",
              " 'concierge',\n",
              " 'condo',\n",
              " 'conference',\n",
              " 'confirmed',\n",
              " 'confused',\n",
              " 'consecutive',\n",
              " 'consierge',\n",
              " 'consisted',\n",
              " 'consists',\n",
              " 'construction',\n",
              " 'convenience',\n",
              " 'conveniently',\n",
              " 'convinced',\n",
              " 'cooked',\n",
              " 'cookie',\n",
              " 'cooky',\n",
              " 'cool',\n",
              " 'coordinate',\n",
              " 'corner',\n",
              " 'couch',\n",
              " 'counter',\n",
              " 'cousin',\n",
              " 'covered',\n",
              " 'cramped',\n",
              " 'cranky',\n",
              " 'cream',\n",
              " 'creates',\n",
              " 'credit',\n",
              " 'crib',\n",
              " 'croissant',\n",
              " 'cruise',\n",
              " 'cta',\n",
              " 'cuisine',\n",
              " 'cup',\n",
              " 'currently',\n",
              " 'curry',\n",
              " 'customer',\n",
              " 'cut',\n",
              " 'cutter',\n",
              " 'damn',\n",
              " 'dance',\n",
              " 'danish',\n",
              " 'dated',\n",
              " 'dave',\n",
              " 'dc',\n",
              " 'de',\n",
              " 'deal',\n",
              " 'dear',\n",
              " 'debris',\n",
              " 'dec',\n",
              " 'deceiving',\n",
              " 'december',\n",
              " 'decide',\n",
              " 'decided',\n",
              " 'decision',\n",
              " 'defiantly',\n",
              " 'definite',\n",
              " 'definitely',\n",
              " 'delayed',\n",
              " 'delicious',\n",
              " 'delight',\n",
              " 'delivered',\n",
              " 'demanded',\n",
              " 'design',\n",
              " 'designed',\n",
              " 'designer',\n",
              " 'desperate',\n",
              " 'device',\n",
              " 'die',\n",
              " 'dine',\n",
              " 'dined',\n",
              " 'dining',\n",
              " 'direct',\n",
              " 'directly',\n",
              " 'disappointing',\n",
              " 'disaster',\n",
              " 'display',\n",
              " 'displeased',\n",
              " 'disposal',\n",
              " 'dissappointed',\n",
              " 'dissatisfied',\n",
              " 'distance',\n",
              " 'distasteful',\n",
              " 'division',\n",
              " 'docking',\n",
              " 'doesnt',\n",
              " 'dog',\n",
              " 'donut',\n",
              " 'door',\n",
              " 'doorman',\n",
              " 'downside',\n",
              " 'downtown',\n",
              " 'drain',\n",
              " 'drake',\n",
              " 'dream',\n",
              " 'drink',\n",
              " 'driving',\n",
              " 'eager',\n",
              " 'early',\n",
              " 'earth',\n",
              " 'east',\n",
              " 'efficient',\n",
              " 'el',\n",
              " 'elegant',\n",
              " 'elevator',\n",
              " 'eliminated',\n",
              " 'elite',\n",
              " 'email',\n",
              " 'enjoy',\n",
              " 'enjoyable',\n",
              " 'enjoyed',\n",
              " 'entered',\n",
              " 'entering',\n",
              " 'entertainment',\n",
              " 'entirely',\n",
              " 'entree',\n",
              " 'environment',\n",
              " 'establishment',\n",
              " 'etc',\n",
              " 'european',\n",
              " 'eve',\n",
              " 'evening',\n",
              " 'excellent',\n",
              " 'exceptional',\n",
              " 'excited',\n",
              " 'exciting',\n",
              " 'excuse',\n",
              " 'exhaust',\n",
              " 'exhibit',\n",
              " 'exited',\n",
              " 'exotic',\n",
              " 'expected',\n",
              " 'expecting',\n",
              " 'expedia',\n",
              " 'experience',\n",
              " 'experince',\n",
              " 'exposed',\n",
              " 'exquisite',\n",
              " 'extensively',\n",
              " 'extravagant',\n",
              " 'faboulous',\n",
              " 'facing',\n",
              " 'factory',\n",
              " 'fallen',\n",
              " 'family',\n",
              " 'famous',\n",
              " 'fan',\n",
              " 'fancy',\n",
              " 'far',\n",
              " 'father',\n",
              " 'fault',\n",
              " 'favorite',\n",
              " 'favourite',\n",
              " 'feature',\n",
              " 'february',\n",
              " 'feel',\n",
              " 'felt',\n",
              " 'festival',\n",
              " 'fiancee',\n",
              " 'field',\n",
              " 'figure',\n",
              " 'file',\n",
              " 'fin',\n",
              " 'finally',\n",
              " 'finest',\n",
              " 'finished',\n",
              " 'firework',\n",
              " 'firstly',\n",
              " 'fitness',\n",
              " 'fitzpatrick',\n",
              " 'flooded',\n",
              " 'flooding',\n",
              " 'floor',\n",
              " 'flower',\n",
              " 'focus',\n",
              " 'followed',\n",
              " 'food',\n",
              " 'forever',\n",
              " 'forward',\n",
              " 'fowl',\n",
              " 'francisco',\n",
              " 'free',\n",
              " 'fridge',\n",
              " 'friendliness',\n",
              " 'fruit',\n",
              " 'ft',\n",
              " 'fully',\n",
              " 'funky',\n",
              " 'futon',\n",
              " 'gem',\n",
              " 'generally',\n",
              " 'genuine',\n",
              " 'gift',\n",
              " 'gino',\n",
              " 'glowing',\n",
              " 'golden',\n",
              " 'goldfish',\n",
              " 'good',\n",
              " 'goody',\n",
              " 'gorgeous',\n",
              " 'grade',\n",
              " 'grand',\n",
              " 'gratuity',\n",
              " 'grease',\n",
              " 'great',\n",
              " 'greeted',\n",
              " 'grooming',\n",
              " 'grout',\n",
              " 'guaranteed',\n",
              " 'guy',\n",
              " 'hair',\n",
              " 'hallway',\n",
              " 'hancock',\n",
              " 'handicapped',\n",
              " 'hanger',\n",
              " 'happened',\n",
              " 'hard',\n",
              " 'hare',\n",
              " 'hassle',\n",
              " 'hated',\n",
              " 'hear',\n",
              " 'heart',\n",
              " 'heat',\n",
              " 'heated',\n",
              " 'heaven',\n",
              " 'heavenly',\n",
              " 'helped',\n",
              " 'helpful',\n",
              " 'helping',\n",
              " 'hesitate',\n",
              " 'hesitation',\n",
              " 'highest',\n",
              " 'highway',\n",
              " 'hilton',\n",
              " 'historic',\n",
              " 'hit',\n",
              " 'hold',\n",
              " 'holder',\n",
              " 'home',\n",
              " 'homewood',\n",
              " 'honest',\n",
              " 'honeymoon',\n",
              " 'honor',\n",
              " 'hope',\n",
              " 'hoped',\n",
              " 'horrible',\n",
              " 'hors',\n",
              " 'hotel',\n",
              " 'hotwire',\n",
              " 'hour',\n",
              " 'housekeeping',\n",
              " 'hr',\n",
              " 'huge',\n",
              " 'husband',\n",
              " 'hustle',\n",
              " 'hvac',\n",
              " 'hypo',\n",
              " 'ice',\n",
              " 'impecable',\n",
              " 'impeccably',\n",
              " 'impersonal',\n",
              " 'impress',\n",
              " 'improve',\n",
              " 'improvement',\n",
              " 'inconvenient',\n",
              " 'incorrect',\n",
              " 'indoor',\n",
              " 'indoors',\n",
              " 'inn',\n",
              " 'inside',\n",
              " 'insisting',\n",
              " 'instance',\n",
              " 'intended',\n",
              " 'interior',\n",
              " 'international',\n",
              " 'interview',\n",
              " 'irritated',\n",
              " 'james',\n",
              " 'january',\n",
              " 'jaw',\n",
              " 'jet',\n",
              " 'jewel',\n",
              " 'joe',\n",
              " 'john',\n",
              " 'juice',\n",
              " 'july',\n",
              " 'jumping',\n",
              " 'june',\n",
              " 'keefer',\n",
              " 'kickback',\n",
              " 'kid',\n",
              " 'kimpton',\n",
              " 'kimptons',\n",
              " 'kind',\n",
              " 'kit',\n",
              " 'kitchenette',\n",
              " 'knickerbocker',\n",
              " 'knocking',\n",
              " 'known',\n",
              " 'la',\n",
              " 'lake',\n",
              " 'laptop',\n",
              " 'large',\n",
              " 'larger',\n",
              " 'largest',\n",
              " 'laundry',\n",
              " 'lavish',\n",
              " 'law',\n",
              " 'leaked',\n",
              " 'leave',\n",
              " 'lend',\n",
              " 'lid',\n",
              " 'life',\n",
              " 'lift',\n",
              " 'lightbulb',\n",
              " 'like',\n",
              " 'line',\n",
              " 'linnens',\n",
              " 'lite',\n",
              " 'little',\n",
              " 'load',\n",
              " 'lobby',\n",
              " 'local',\n",
              " 'located',\n",
              " 'location',\n",
              " 'lockwood',\n",
              " 'logo',\n",
              " 'london',\n",
              " 'long',\n",
              " 'look',\n",
              " 'looked',\n",
              " 'looking',\n",
              " 'loop',\n",
              " 'los',\n",
              " 'lot',\n",
              " 'lovely',\n",
              " 'low',\n",
              " 'lower',\n",
              " 'loyalty',\n",
              " 'luxuary',\n",
              " 'luxurious',\n",
              " 'luxury',\n",
              " 'macys',\n",
              " 'mad',\n",
              " 'magnificant',\n",
              " 'mail',\n",
              " 'main',\n",
              " 'maker',\n",
              " 'mall',\n",
              " 'manager',\n",
              " 'march',\n",
              " 'married',\n",
              " 'marriott',\n",
              " 'martini',\n",
              " 'massage',\n",
              " 'material',\n",
              " 'meal',\n",
              " 'meeting',\n",
              " 'membership',\n",
              " 'memorial',\n",
              " 'memory',\n",
              " 'mention',\n",
              " 'mentioned',\n",
              " 'met',\n",
              " 'metro',\n",
              " 'michigan',\n",
              " 'midway',\n",
              " 'mile',\n",
              " 'millenium',\n",
              " 'millennium',\n",
              " 'min',\n",
              " 'mini',\n",
              " 'minibar',\n",
              " 'moderate',\n",
              " 'modern',\n",
              " 'moment',\n",
              " 'mon',\n",
              " 'money',\n",
              " 'monoco',\n",
              " 'mood',\n",
              " 'morning',\n",
              " 'motel',\n",
              " 'musical',\n",
              " 'musty',\n",
              " 'narrow',\n",
              " 'navy',\n",
              " 'nbc',\n",
              " 'nd',\n",
              " 'neat',\n",
              " 'needed',\n",
              " 'needle',\n",
              " 'negative',\n",
              " 'neighborhood',\n",
              " 'newly',\n",
              " 'news',\n",
              " 'night',\n",
              " 'nightmare',\n",
              " 'nite',\n",
              " 'noisy',\n",
              " 'nominal',\n",
              " 'nook',\n",
              " 'nordstrom',\n",
              " 'north',\n",
              " 'note',\n",
              " 'noted',\n",
              " 'november',\n",
              " 'nyc',\n",
              " 'obvious',\n",
              " 'ocean',\n",
              " 'october',\n",
              " 'oddly',\n",
              " 'odor',\n",
              " 'offer',\n",
              " 'oh',\n",
              " 'ok',\n",
              " 'okay',\n",
              " 'old',\n",
              " 'older',\n",
              " 'open',\n",
              " 'opening',\n",
              " 'operating',\n",
              " 'operator',\n",
              " 'orange',\n",
              " 'organized',\n",
              " 'orginal',\n",
              " 'originally',\n",
              " 'ouch',\n",
              " 'outrageous',\n",
              " 'outrageously',\n",
              " 'oven',\n",
              " 'overall',\n",
              " 'package',\n",
              " 'packing',\n",
              " 'paid',\n",
              " 'painted',\n",
              " 'pamper',\n",
              " 'pampered',\n",
              " 'pantry',\n",
              " 'paris',\n",
              " 'parking',\n",
              " 'pas',\n",
              " 'peaceful',\n",
              " 'peeling',\n",
              " 'pen',\n",
              " 'peninsula',\n",
              " 'penninsula',\n",
              " 'perfection',\n",
              " 'perfectly',\n",
              " 'personal',\n",
              " 'pet',\n",
              " 'phone',\n",
              " 'picture',\n",
              " 'pictured',\n",
              " 'pipe',\n",
              " 'place',\n",
              " 'planned',\n",
              " 'planner',\n",
              " 'planning',\n",
              " 'plate',\n",
              " 'plenty',\n",
              " 'plush',\n",
              " 'pm',\n",
              " 'pocket',\n",
              " 'policy',\n",
              " 'pop',\n",
              " 'portray',\n",
              " 'portrayed',\n",
              " 'position',\n",
              " 'post',\n",
              " 'poster',\n",
              " 'practice',\n",
              " 'pre',\n",
              " 'prepare',\n",
              " 'presence',\n",
              " 'presidential',\n",
              " 'previous',\n",
              " 'priceline',\n",
              " 'print',\n",
              " 'printing',\n",
              " 'prior',\n",
              " 'prison',\n",
              " 'pro',\n",
              " 'product',\n",
              " 'professionally',\n",
              " 'program',\n",
              " 'property',\n",
              " 'provide',\n",
              " 'public',\n",
              " 'pull',\n",
              " 'pure',\n",
              " 'pushy',\n",
              " 'quiet',\n",
              " 'radio',\n",
              " 'rain',\n",
              " 'rate',\n",
              " 'rd',\n",
              " 'read',\n",
              " 'reading',\n",
              " 'ready',\n",
              " 'reality',\n",
              " 'realy',\n",
              " 'recent',\n",
              " 'recently',\n",
              " 'reception',\n",
              " 'recomend',\n",
              " 'recommend',\n",
              " 'recommending',\n",
              " 'reconsider',\n",
              " 'red',\n",
              " 'redecorated',\n",
              " 'redecorating',\n",
              " 'refund',\n",
              " 'refurbished',\n",
              " 'refused',\n",
              " 'regardless',\n",
              " 'regency',\n",
              " 'register',\n",
              " 'registration',\n",
              " 'regret',\n",
              " 'relax',\n",
              " 'relaxed',\n",
              " 'relaxing',\n",
              " 'relieved',\n",
              " 'removed',\n",
              " 'renovated',\n",
              " 'renovation',\n",
              " 'rental',\n",
              " 'repair',\n",
              " 'representation',\n",
              " 'research',\n",
              " 'reserved',\n",
              " 'respect',\n",
              " 'respectful',\n",
              " 'respond',\n",
              " 'rested',\n",
              " 'resturants',\n",
              " 'retreat',\n",
              " 'returned',\n",
              " 'returning',\n",
              " 'reunion',\n",
              " 'revealed',\n",
              " 'review',\n",
              " 'reviewer',\n",
              " 'rex',\n",
              " 'rich',\n",
              " 'ride',\n",
              " 'ritz',\n",
              " 'ritzy',\n",
              " 'river',\n",
              " 'robe',\n",
              " 'rock',\n",
              " 'roll',\n",
              " 'rollaway',\n",
              " 'romance',\n",
              " 'romantic',\n",
              " 'roof',\n",
              " 'roomy',\n",
              " 'rose',\n",
              " 'royalty',\n",
              " 'rude',\n",
              " 'running',\n",
              " 'rush',\n",
              " 'sale',\n",
              " 'sample',\n",
              " 'satisfaction',\n",
              " 'satisfied',\n",
              " 'saturday',\n",
              " 'scene',\n",
              " 'scenery',\n",
              " 'scored',\n",
              " 'scratchy',\n",
              " 'season',\n",
              " 'seat',\n",
              " 'seating',\n",
              " 'second',\n",
              " 'section',\n",
              " 'security',\n",
              " 'seeing',\n",
              " 'self',\n",
              " 'seminar',\n",
              " 'sensibility',\n",
              " 'separate',\n",
              " 'seperate',\n",
              " 'serenity',\n",
              " 'serf',\n",
              " 'service',\n",
              " 'serving',\n",
              " 'settle',\n",
              " 'settled',\n",
              " 'settling',\n",
              " 'setup',\n",
              " 'shabby',\n",
              " 'shared',\n",
              " 'sharing',\n",
              " 'shedd',\n",
              " 'sheet',\n",
              " 'shower',\n",
              " 'shown',\n",
              " 'sidewalk',\n",
              " 'sightseeing',\n",
              " 'signal',\n",
              " 'signing',\n",
              " 'siren',\n",
              " 'sit',\n",
              " 'sky',\n",
              " 'skyline',\n",
              " 'slam',\n",
              " 'slamming',\n",
              " 'sliding',\n",
              " 'slightly',\n",
              " 'small',\n",
              " 'smallest',\n",
              " 'smell',\n",
              " 'smelled',\n",
              " 'smelling',\n",
              " 'smoke',\n",
              " 'smoking',\n",
              " 'snobby',\n",
              " 'snooty',\n",
              " 'snow',\n",
              " 'snubbed',\n",
              " 'soda',\n",
              " 'sofa',\n",
              " 'sofitel',\n",
              " 'soft',\n",
              " 'sold',\n",
              " 'soldier',\n",
              " 'solution',\n",
              " 'soon',\n",
              " 'sophisticated',\n",
              " 'sophistication',\n",
              " 'sorely',\n",
              " 'south',\n",
              " 'spa',\n",
              " 'space',\n",
              " 'speed',\n",
              " 'spend',\n",
              " 'spg',\n",
              " 'splurge',\n",
              " 'spoon',\n",
              " 'sport',\n",
              " 'spot',\n",
              " 'spotlessly',\n",
              " 'st',\n",
              " 'stale',\n",
              " 'stall',\n",
              " 'stark',\n",
              " 'started',\n",
              " 'starving',\n",
              " 'starwood',\n",
              " 'stated',\n",
              " 'stating',\n",
              " 'station',\n",
              " 'staying',\n",
              " 'steak',\n",
              " 'steal',\n",
              " 'stephanie',\n",
              " 'stepping',\n",
              " 'sterile',\n",
              " 'stiff',\n",
              " 'stolen',\n",
              " 'storage',\n",
              " 'street',\n",
              " 'stress',\n",
              " 'striking',\n",
              " 'structure',\n",
              " 'study',\n",
              " 'subpar',\n",
              " 'subway',\n",
              " 'suggest',\n",
              " 'sun',\n",
              " 'sunday',\n",
              " 'sundecks',\n",
              " 'supplied',\n",
              " 'surely',\n",
              " 'surrounding',\n",
              " 'sushi',\n",
              " 'suspect',\n",
              " 'sutton',\n",
              " 'swept',\n",
              " 'swisshotel',\n",
              " 'ta',\n",
              " 'table',\n",
              " 'talking',\n",
              " 'tasteful',\n",
              " 'tax',\n",
              " 'television',\n",
              " 'telling',\n",
              " 'temp',\n",
              " 'terrible',\n",
              " 'terrific',\n",
              " 'test',\n",
              " 'texting',\n",
              " 'thanksgiving',\n",
              " 'thats',\n",
              " 'theater',\n",
              " 'therapy',\n",
              " 'threw',\n",
              " 'thumb',\n",
              " 'ticket',\n",
              " 'tile',\n",
              " 'time',\n",
              " 'tiny',\n",
              " 'toast',\n",
              " 'today',\n",
              " 'ton',\n",
              " 'took',\n",
              " 'topped',\n",
              " 'touch',\n",
              " 'tough',\n",
              " 'tout',\n",
              " 'touted',\n",
              " 'towel',\n",
              " 'traffic',\n",
              " 'train',\n",
              " 'trained',\n",
              " 'trait',\n",
              " 'transferred',\n",
              " 'transport',\n",
              " 'transportation',\n",
              " 'trash',\n",
              " 'traveling',\n",
              " 'travelled',\n",
              " 'travelzoo',\n",
              " 'treat',\n",
              " 'treated',\n",
              " 'treatment',\n",
              " 'tribune',\n",
              " 'trip',\n",
              " 'tripadvisor',\n",
              " 'trolley',\n",
              " 'trump',\n",
              " 'tub',\n",
              " 'tucked',\n",
              " 'turndown',\n",
              " 'turned',\n",
              " 'tv',\n",
              " 'ultimately',\n",
              " 'umbrella',\n",
              " 'unaccommodating',\n",
              " 'undergoing',\n",
              " 'underneath',\n",
              " 'unfailingly',\n",
              " 'unfriendly',\n",
              " 'union',\n",
              " 'unpleasant',\n",
              " 'unsatisfied',\n",
              " 'unwind',\n",
              " 'upcharge',\n",
              " 'upcoming',\n",
              " 'updated',\n",
              " 'updating',\n",
              " 'upgrade',\n",
              " 'upgraded',\n",
              " 'upmost',\n",
              " 'upscale',\n",
              " 'upside',\n",
              " 'urine',\n",
              " 'usa',\n",
              " 'usd',\n",
              " 'utmost',\n",
              " 'vacation',\n",
              " 'vacuum',\n",
              " 'valentine',\n",
              " 'valet',\n",
              " 'valuable',\n",
              " 'value',\n",
              " 'valued',\n",
              " 'veggie',\n",
              " 'vent',\n",
              " 'verify',\n",
              " 'vicinity',\n",
              " 'virtually',\n",
              " 'visit',\n",
              " 'visited',\n",
              " 'visiting',\n",
              " 'vomit',\n",
              " 'wacker',\n",
              " 'wait',\n",
              " 'waived',\n",
              " 'wake',\n",
              " 'walk',\n",
              " 'walkable',\n",
              " 'walking',\n",
              " 'wall',\n",
              " 'wallpaper',\n",
              " 'wander',\n",
              " 'wanted',\n",
              " 'washington',\n",
              " 'waste',\n",
              " 'water',\n",
              " 'waterfront',\n",
              " 'watertower',\n",
              " 'wear',\n",
              " 'website',\n",
              " 'wedding',\n",
              " 'went',\n",
              " 'westin',\n",
              " 'white',\n",
              " 'wicked',\n",
              " 'wife',\n",
              " 'window',\n",
              " 'windy',\n",
              " 'winning',\n",
              " 'winter',\n",
              " 'wishing',\n",
              " 'worn',\n",
              " 'worry',\n",
              " 'worst',\n",
              " 'wouldnt',\n",
              " 'wrigley',\n",
              " 'wrong',\n",
              " 'wrote',\n",
              " 'year',\n",
              " 'yellow',\n",
              " 'yes',\n",
              " 'young',\n",
              " 'yummy',\n",
              " 'zone']"
            ]
          },
          "metadata": {},
          "execution_count": 36
        }
      ]
    },
    {
      "cell_type": "code",
      "source": [
        "X_kbest_features"
      ],
      "metadata": {
        "colab": {
          "base_uri": "https://localhost:8080/"
        },
        "id": "VDuFA-T1koke",
        "outputId": "74bfc4af-0c44-4329-d9d5-ed14edc4b430"
      },
      "execution_count": 37,
      "outputs": [
        {
          "output_type": "execute_result",
          "data": {
            "text/plain": [
              "array([[0., 0., 0., ..., 0., 0., 0.],\n",
              "       [0., 0., 0., ..., 0., 0., 0.],\n",
              "       [0., 0., 0., ..., 0., 0., 0.],\n",
              "       ...,\n",
              "       [0., 0., 0., ..., 0., 0., 0.],\n",
              "       [0., 0., 0., ..., 0., 0., 0.],\n",
              "       [0., 0., 0., ..., 0., 0., 0.]])"
            ]
          },
          "metadata": {},
          "execution_count": 37
        }
      ]
    },
    {
      "cell_type": "code",
      "source": [
        "u3 = pd.DataFrame(X_kbest_features, columns = chi_feature)\n",
        "u3.head()"
      ],
      "metadata": {
        "colab": {
          "base_uri": "https://localhost:8080/",
          "height": 299
        },
        "id": "059iYhdmkooB",
        "outputId": "342b4281-9a75-439d-c87a-da6582ac7f48"
      },
      "execution_count": 38,
      "outputs": [
        {
          "output_type": "execute_result",
          "data": {
            "text/plain": [
              "   accept  accepted  accomidations  accommodated  accommodation  \\\n",
              "0     0.0       0.0            0.0           0.0            0.0   \n",
              "1     0.0       0.0            0.0           0.0            0.0   \n",
              "2     0.0       0.0            0.0           0.0            0.0   \n",
              "3     0.0       0.0            0.0           0.0            0.0   \n",
              "4     0.0       0.0            0.0           0.0            0.0   \n",
              "\n",
              "   accomodations  according  accurate  acknowledged  acted  ...  wouldnt  \\\n",
              "0            0.0        0.0       0.0           0.0    0.0  ...      0.0   \n",
              "1            0.0        0.0       0.0           0.0    0.0  ...      0.0   \n",
              "2            0.0        0.0       0.0           0.0    0.0  ...      0.0   \n",
              "3            0.0        0.0       0.0           0.0    0.0  ...      0.0   \n",
              "4            0.0        0.0       0.0           0.0    0.0  ...      0.0   \n",
              "\n",
              "   wrigley  wrong  wrote  year  yellow  yes  young  yummy  zone  \n",
              "0      0.0    0.0    0.0   0.0     0.0  0.0    0.0    0.0   0.0  \n",
              "1      0.0    0.0    0.0   0.0     0.0  0.0    0.0    0.0   0.0  \n",
              "2      0.0    0.0    0.0   0.0     0.0  0.0    0.0    0.0   0.0  \n",
              "3      0.0    0.0    0.0   0.0     0.0  0.0    0.0    0.0   0.0  \n",
              "4      0.0    0.0    0.0   0.0     0.0  0.0    0.0    0.0   0.0  \n",
              "\n",
              "[5 rows x 1000 columns]"
            ],
            "text/html": [
              "\n",
              "  <div id=\"df-31295b17-9688-4372-bbdd-87b44bddec64\">\n",
              "    <div class=\"colab-df-container\">\n",
              "      <div>\n",
              "<style scoped>\n",
              "    .dataframe tbody tr th:only-of-type {\n",
              "        vertical-align: middle;\n",
              "    }\n",
              "\n",
              "    .dataframe tbody tr th {\n",
              "        vertical-align: top;\n",
              "    }\n",
              "\n",
              "    .dataframe thead th {\n",
              "        text-align: right;\n",
              "    }\n",
              "</style>\n",
              "<table border=\"1\" class=\"dataframe\">\n",
              "  <thead>\n",
              "    <tr style=\"text-align: right;\">\n",
              "      <th></th>\n",
              "      <th>accept</th>\n",
              "      <th>accepted</th>\n",
              "      <th>accomidations</th>\n",
              "      <th>accommodated</th>\n",
              "      <th>accommodation</th>\n",
              "      <th>accomodations</th>\n",
              "      <th>according</th>\n",
              "      <th>accurate</th>\n",
              "      <th>acknowledged</th>\n",
              "      <th>acted</th>\n",
              "      <th>...</th>\n",
              "      <th>wouldnt</th>\n",
              "      <th>wrigley</th>\n",
              "      <th>wrong</th>\n",
              "      <th>wrote</th>\n",
              "      <th>year</th>\n",
              "      <th>yellow</th>\n",
              "      <th>yes</th>\n",
              "      <th>young</th>\n",
              "      <th>yummy</th>\n",
              "      <th>zone</th>\n",
              "    </tr>\n",
              "  </thead>\n",
              "  <tbody>\n",
              "    <tr>\n",
              "      <th>0</th>\n",
              "      <td>0.0</td>\n",
              "      <td>0.0</td>\n",
              "      <td>0.0</td>\n",
              "      <td>0.0</td>\n",
              "      <td>0.0</td>\n",
              "      <td>0.0</td>\n",
              "      <td>0.0</td>\n",
              "      <td>0.0</td>\n",
              "      <td>0.0</td>\n",
              "      <td>0.0</td>\n",
              "      <td>...</td>\n",
              "      <td>0.0</td>\n",
              "      <td>0.0</td>\n",
              "      <td>0.0</td>\n",
              "      <td>0.0</td>\n",
              "      <td>0.0</td>\n",
              "      <td>0.0</td>\n",
              "      <td>0.0</td>\n",
              "      <td>0.0</td>\n",
              "      <td>0.0</td>\n",
              "      <td>0.0</td>\n",
              "    </tr>\n",
              "    <tr>\n",
              "      <th>1</th>\n",
              "      <td>0.0</td>\n",
              "      <td>0.0</td>\n",
              "      <td>0.0</td>\n",
              "      <td>0.0</td>\n",
              "      <td>0.0</td>\n",
              "      <td>0.0</td>\n",
              "      <td>0.0</td>\n",
              "      <td>0.0</td>\n",
              "      <td>0.0</td>\n",
              "      <td>0.0</td>\n",
              "      <td>...</td>\n",
              "      <td>0.0</td>\n",
              "      <td>0.0</td>\n",
              "      <td>0.0</td>\n",
              "      <td>0.0</td>\n",
              "      <td>0.0</td>\n",
              "      <td>0.0</td>\n",
              "      <td>0.0</td>\n",
              "      <td>0.0</td>\n",
              "      <td>0.0</td>\n",
              "      <td>0.0</td>\n",
              "    </tr>\n",
              "    <tr>\n",
              "      <th>2</th>\n",
              "      <td>0.0</td>\n",
              "      <td>0.0</td>\n",
              "      <td>0.0</td>\n",
              "      <td>0.0</td>\n",
              "      <td>0.0</td>\n",
              "      <td>0.0</td>\n",
              "      <td>0.0</td>\n",
              "      <td>0.0</td>\n",
              "      <td>0.0</td>\n",
              "      <td>0.0</td>\n",
              "      <td>...</td>\n",
              "      <td>0.0</td>\n",
              "      <td>0.0</td>\n",
              "      <td>0.0</td>\n",
              "      <td>0.0</td>\n",
              "      <td>0.0</td>\n",
              "      <td>0.0</td>\n",
              "      <td>0.0</td>\n",
              "      <td>0.0</td>\n",
              "      <td>0.0</td>\n",
              "      <td>0.0</td>\n",
              "    </tr>\n",
              "    <tr>\n",
              "      <th>3</th>\n",
              "      <td>0.0</td>\n",
              "      <td>0.0</td>\n",
              "      <td>0.0</td>\n",
              "      <td>0.0</td>\n",
              "      <td>0.0</td>\n",
              "      <td>0.0</td>\n",
              "      <td>0.0</td>\n",
              "      <td>0.0</td>\n",
              "      <td>0.0</td>\n",
              "      <td>0.0</td>\n",
              "      <td>...</td>\n",
              "      <td>0.0</td>\n",
              "      <td>0.0</td>\n",
              "      <td>0.0</td>\n",
              "      <td>0.0</td>\n",
              "      <td>0.0</td>\n",
              "      <td>0.0</td>\n",
              "      <td>0.0</td>\n",
              "      <td>0.0</td>\n",
              "      <td>0.0</td>\n",
              "      <td>0.0</td>\n",
              "    </tr>\n",
              "    <tr>\n",
              "      <th>4</th>\n",
              "      <td>0.0</td>\n",
              "      <td>0.0</td>\n",
              "      <td>0.0</td>\n",
              "      <td>0.0</td>\n",
              "      <td>0.0</td>\n",
              "      <td>0.0</td>\n",
              "      <td>0.0</td>\n",
              "      <td>0.0</td>\n",
              "      <td>0.0</td>\n",
              "      <td>0.0</td>\n",
              "      <td>...</td>\n",
              "      <td>0.0</td>\n",
              "      <td>0.0</td>\n",
              "      <td>0.0</td>\n",
              "      <td>0.0</td>\n",
              "      <td>0.0</td>\n",
              "      <td>0.0</td>\n",
              "      <td>0.0</td>\n",
              "      <td>0.0</td>\n",
              "      <td>0.0</td>\n",
              "      <td>0.0</td>\n",
              "    </tr>\n",
              "  </tbody>\n",
              "</table>\n",
              "<p>5 rows × 1000 columns</p>\n",
              "</div>\n",
              "      <button class=\"colab-df-convert\" onclick=\"convertToInteractive('df-31295b17-9688-4372-bbdd-87b44bddec64')\"\n",
              "              title=\"Convert this dataframe to an interactive table.\"\n",
              "              style=\"display:none;\">\n",
              "        \n",
              "  <svg xmlns=\"http://www.w3.org/2000/svg\" height=\"24px\"viewBox=\"0 0 24 24\"\n",
              "       width=\"24px\">\n",
              "    <path d=\"M0 0h24v24H0V0z\" fill=\"none\"/>\n",
              "    <path d=\"M18.56 5.44l.94 2.06.94-2.06 2.06-.94-2.06-.94-.94-2.06-.94 2.06-2.06.94zm-11 1L8.5 8.5l.94-2.06 2.06-.94-2.06-.94L8.5 2.5l-.94 2.06-2.06.94zm10 10l.94 2.06.94-2.06 2.06-.94-2.06-.94-.94-2.06-.94 2.06-2.06.94z\"/><path d=\"M17.41 7.96l-1.37-1.37c-.4-.4-.92-.59-1.43-.59-.52 0-1.04.2-1.43.59L10.3 9.45l-7.72 7.72c-.78.78-.78 2.05 0 2.83L4 21.41c.39.39.9.59 1.41.59.51 0 1.02-.2 1.41-.59l7.78-7.78 2.81-2.81c.8-.78.8-2.07 0-2.86zM5.41 20L4 18.59l7.72-7.72 1.47 1.35L5.41 20z\"/>\n",
              "  </svg>\n",
              "      </button>\n",
              "      \n",
              "  <style>\n",
              "    .colab-df-container {\n",
              "      display:flex;\n",
              "      flex-wrap:wrap;\n",
              "      gap: 12px;\n",
              "    }\n",
              "\n",
              "    .colab-df-convert {\n",
              "      background-color: #E8F0FE;\n",
              "      border: none;\n",
              "      border-radius: 50%;\n",
              "      cursor: pointer;\n",
              "      display: none;\n",
              "      fill: #1967D2;\n",
              "      height: 32px;\n",
              "      padding: 0 0 0 0;\n",
              "      width: 32px;\n",
              "    }\n",
              "\n",
              "    .colab-df-convert:hover {\n",
              "      background-color: #E2EBFA;\n",
              "      box-shadow: 0px 1px 2px rgba(60, 64, 67, 0.3), 0px 1px 3px 1px rgba(60, 64, 67, 0.15);\n",
              "      fill: #174EA6;\n",
              "    }\n",
              "\n",
              "    [theme=dark] .colab-df-convert {\n",
              "      background-color: #3B4455;\n",
              "      fill: #D2E3FC;\n",
              "    }\n",
              "\n",
              "    [theme=dark] .colab-df-convert:hover {\n",
              "      background-color: #434B5C;\n",
              "      box-shadow: 0px 1px 3px 1px rgba(0, 0, 0, 0.15);\n",
              "      filter: drop-shadow(0px 1px 2px rgba(0, 0, 0, 0.3));\n",
              "      fill: #FFFFFF;\n",
              "    }\n",
              "  </style>\n",
              "\n",
              "      <script>\n",
              "        const buttonEl =\n",
              "          document.querySelector('#df-31295b17-9688-4372-bbdd-87b44bddec64 button.colab-df-convert');\n",
              "        buttonEl.style.display =\n",
              "          google.colab.kernel.accessAllowed ? 'block' : 'none';\n",
              "\n",
              "        async function convertToInteractive(key) {\n",
              "          const element = document.querySelector('#df-31295b17-9688-4372-bbdd-87b44bddec64');\n",
              "          const dataTable =\n",
              "            await google.colab.kernel.invokeFunction('convertToInteractive',\n",
              "                                                     [key], {});\n",
              "          if (!dataTable) return;\n",
              "\n",
              "          const docLinkHtml = 'Like what you see? Visit the ' +\n",
              "            '<a target=\"_blank\" href=https://colab.research.google.com/notebooks/data_table.ipynb>data table notebook</a>'\n",
              "            + ' to learn more about interactive tables.';\n",
              "          element.innerHTML = '';\n",
              "          dataTable['output_type'] = 'display_data';\n",
              "          await google.colab.output.renderOutput(dataTable, element);\n",
              "          const docLink = document.createElement('div');\n",
              "          docLink.innerHTML = docLinkHtml;\n",
              "          element.appendChild(docLink);\n",
              "        }\n",
              "      </script>\n",
              "    </div>\n",
              "  </div>\n",
              "  "
            ]
          },
          "metadata": {},
          "execution_count": 38
        }
      ]
    },
    {
      "cell_type": "code",
      "source": [
        "u4 = pd.DataFrame(X_kbest_features)\n",
        "u4.head()"
      ],
      "metadata": {
        "colab": {
          "base_uri": "https://localhost:8080/",
          "height": 235
        },
        "id": "wTHpqtAt6uZP",
        "outputId": "731f85ef-73da-4c11-a325-ac0628c4a341"
      },
      "execution_count": 39,
      "outputs": [
        {
          "output_type": "execute_result",
          "data": {
            "text/plain": [
              "   0    1    2    3    4    5    6    7    8    9    ...  990  991  992  993  \\\n",
              "0  0.0  0.0  0.0  0.0  0.0  0.0  0.0  0.0  0.0  0.0  ...  0.0  0.0  0.0  0.0   \n",
              "1  0.0  0.0  0.0  0.0  0.0  0.0  0.0  0.0  0.0  0.0  ...  0.0  0.0  0.0  0.0   \n",
              "2  0.0  0.0  0.0  0.0  0.0  0.0  0.0  0.0  0.0  0.0  ...  0.0  0.0  0.0  0.0   \n",
              "3  0.0  0.0  0.0  0.0  0.0  0.0  0.0  0.0  0.0  0.0  ...  0.0  0.0  0.0  0.0   \n",
              "4  0.0  0.0  0.0  0.0  0.0  0.0  0.0  0.0  0.0  0.0  ...  0.0  0.0  0.0  0.0   \n",
              "\n",
              "   994  995  996  997  998  999  \n",
              "0  0.0  0.0  0.0  0.0  0.0  0.0  \n",
              "1  0.0  0.0  0.0  0.0  0.0  0.0  \n",
              "2  0.0  0.0  0.0  0.0  0.0  0.0  \n",
              "3  0.0  0.0  0.0  0.0  0.0  0.0  \n",
              "4  0.0  0.0  0.0  0.0  0.0  0.0  \n",
              "\n",
              "[5 rows x 1000 columns]"
            ],
            "text/html": [
              "\n",
              "  <div id=\"df-77f94c3c-0570-444a-b8a0-b32b82eb1b34\">\n",
              "    <div class=\"colab-df-container\">\n",
              "      <div>\n",
              "<style scoped>\n",
              "    .dataframe tbody tr th:only-of-type {\n",
              "        vertical-align: middle;\n",
              "    }\n",
              "\n",
              "    .dataframe tbody tr th {\n",
              "        vertical-align: top;\n",
              "    }\n",
              "\n",
              "    .dataframe thead th {\n",
              "        text-align: right;\n",
              "    }\n",
              "</style>\n",
              "<table border=\"1\" class=\"dataframe\">\n",
              "  <thead>\n",
              "    <tr style=\"text-align: right;\">\n",
              "      <th></th>\n",
              "      <th>0</th>\n",
              "      <th>1</th>\n",
              "      <th>2</th>\n",
              "      <th>3</th>\n",
              "      <th>4</th>\n",
              "      <th>5</th>\n",
              "      <th>6</th>\n",
              "      <th>7</th>\n",
              "      <th>8</th>\n",
              "      <th>9</th>\n",
              "      <th>...</th>\n",
              "      <th>990</th>\n",
              "      <th>991</th>\n",
              "      <th>992</th>\n",
              "      <th>993</th>\n",
              "      <th>994</th>\n",
              "      <th>995</th>\n",
              "      <th>996</th>\n",
              "      <th>997</th>\n",
              "      <th>998</th>\n",
              "      <th>999</th>\n",
              "    </tr>\n",
              "  </thead>\n",
              "  <tbody>\n",
              "    <tr>\n",
              "      <th>0</th>\n",
              "      <td>0.0</td>\n",
              "      <td>0.0</td>\n",
              "      <td>0.0</td>\n",
              "      <td>0.0</td>\n",
              "      <td>0.0</td>\n",
              "      <td>0.0</td>\n",
              "      <td>0.0</td>\n",
              "      <td>0.0</td>\n",
              "      <td>0.0</td>\n",
              "      <td>0.0</td>\n",
              "      <td>...</td>\n",
              "      <td>0.0</td>\n",
              "      <td>0.0</td>\n",
              "      <td>0.0</td>\n",
              "      <td>0.0</td>\n",
              "      <td>0.0</td>\n",
              "      <td>0.0</td>\n",
              "      <td>0.0</td>\n",
              "      <td>0.0</td>\n",
              "      <td>0.0</td>\n",
              "      <td>0.0</td>\n",
              "    </tr>\n",
              "    <tr>\n",
              "      <th>1</th>\n",
              "      <td>0.0</td>\n",
              "      <td>0.0</td>\n",
              "      <td>0.0</td>\n",
              "      <td>0.0</td>\n",
              "      <td>0.0</td>\n",
              "      <td>0.0</td>\n",
              "      <td>0.0</td>\n",
              "      <td>0.0</td>\n",
              "      <td>0.0</td>\n",
              "      <td>0.0</td>\n",
              "      <td>...</td>\n",
              "      <td>0.0</td>\n",
              "      <td>0.0</td>\n",
              "      <td>0.0</td>\n",
              "      <td>0.0</td>\n",
              "      <td>0.0</td>\n",
              "      <td>0.0</td>\n",
              "      <td>0.0</td>\n",
              "      <td>0.0</td>\n",
              "      <td>0.0</td>\n",
              "      <td>0.0</td>\n",
              "    </tr>\n",
              "    <tr>\n",
              "      <th>2</th>\n",
              "      <td>0.0</td>\n",
              "      <td>0.0</td>\n",
              "      <td>0.0</td>\n",
              "      <td>0.0</td>\n",
              "      <td>0.0</td>\n",
              "      <td>0.0</td>\n",
              "      <td>0.0</td>\n",
              "      <td>0.0</td>\n",
              "      <td>0.0</td>\n",
              "      <td>0.0</td>\n",
              "      <td>...</td>\n",
              "      <td>0.0</td>\n",
              "      <td>0.0</td>\n",
              "      <td>0.0</td>\n",
              "      <td>0.0</td>\n",
              "      <td>0.0</td>\n",
              "      <td>0.0</td>\n",
              "      <td>0.0</td>\n",
              "      <td>0.0</td>\n",
              "      <td>0.0</td>\n",
              "      <td>0.0</td>\n",
              "    </tr>\n",
              "    <tr>\n",
              "      <th>3</th>\n",
              "      <td>0.0</td>\n",
              "      <td>0.0</td>\n",
              "      <td>0.0</td>\n",
              "      <td>0.0</td>\n",
              "      <td>0.0</td>\n",
              "      <td>0.0</td>\n",
              "      <td>0.0</td>\n",
              "      <td>0.0</td>\n",
              "      <td>0.0</td>\n",
              "      <td>0.0</td>\n",
              "      <td>...</td>\n",
              "      <td>0.0</td>\n",
              "      <td>0.0</td>\n",
              "      <td>0.0</td>\n",
              "      <td>0.0</td>\n",
              "      <td>0.0</td>\n",
              "      <td>0.0</td>\n",
              "      <td>0.0</td>\n",
              "      <td>0.0</td>\n",
              "      <td>0.0</td>\n",
              "      <td>0.0</td>\n",
              "    </tr>\n",
              "    <tr>\n",
              "      <th>4</th>\n",
              "      <td>0.0</td>\n",
              "      <td>0.0</td>\n",
              "      <td>0.0</td>\n",
              "      <td>0.0</td>\n",
              "      <td>0.0</td>\n",
              "      <td>0.0</td>\n",
              "      <td>0.0</td>\n",
              "      <td>0.0</td>\n",
              "      <td>0.0</td>\n",
              "      <td>0.0</td>\n",
              "      <td>...</td>\n",
              "      <td>0.0</td>\n",
              "      <td>0.0</td>\n",
              "      <td>0.0</td>\n",
              "      <td>0.0</td>\n",
              "      <td>0.0</td>\n",
              "      <td>0.0</td>\n",
              "      <td>0.0</td>\n",
              "      <td>0.0</td>\n",
              "      <td>0.0</td>\n",
              "      <td>0.0</td>\n",
              "    </tr>\n",
              "  </tbody>\n",
              "</table>\n",
              "<p>5 rows × 1000 columns</p>\n",
              "</div>\n",
              "      <button class=\"colab-df-convert\" onclick=\"convertToInteractive('df-77f94c3c-0570-444a-b8a0-b32b82eb1b34')\"\n",
              "              title=\"Convert this dataframe to an interactive table.\"\n",
              "              style=\"display:none;\">\n",
              "        \n",
              "  <svg xmlns=\"http://www.w3.org/2000/svg\" height=\"24px\"viewBox=\"0 0 24 24\"\n",
              "       width=\"24px\">\n",
              "    <path d=\"M0 0h24v24H0V0z\" fill=\"none\"/>\n",
              "    <path d=\"M18.56 5.44l.94 2.06.94-2.06 2.06-.94-2.06-.94-.94-2.06-.94 2.06-2.06.94zm-11 1L8.5 8.5l.94-2.06 2.06-.94-2.06-.94L8.5 2.5l-.94 2.06-2.06.94zm10 10l.94 2.06.94-2.06 2.06-.94-2.06-.94-.94-2.06-.94 2.06-2.06.94z\"/><path d=\"M17.41 7.96l-1.37-1.37c-.4-.4-.92-.59-1.43-.59-.52 0-1.04.2-1.43.59L10.3 9.45l-7.72 7.72c-.78.78-.78 2.05 0 2.83L4 21.41c.39.39.9.59 1.41.59.51 0 1.02-.2 1.41-.59l7.78-7.78 2.81-2.81c.8-.78.8-2.07 0-2.86zM5.41 20L4 18.59l7.72-7.72 1.47 1.35L5.41 20z\"/>\n",
              "  </svg>\n",
              "      </button>\n",
              "      \n",
              "  <style>\n",
              "    .colab-df-container {\n",
              "      display:flex;\n",
              "      flex-wrap:wrap;\n",
              "      gap: 12px;\n",
              "    }\n",
              "\n",
              "    .colab-df-convert {\n",
              "      background-color: #E8F0FE;\n",
              "      border: none;\n",
              "      border-radius: 50%;\n",
              "      cursor: pointer;\n",
              "      display: none;\n",
              "      fill: #1967D2;\n",
              "      height: 32px;\n",
              "      padding: 0 0 0 0;\n",
              "      width: 32px;\n",
              "    }\n",
              "\n",
              "    .colab-df-convert:hover {\n",
              "      background-color: #E2EBFA;\n",
              "      box-shadow: 0px 1px 2px rgba(60, 64, 67, 0.3), 0px 1px 3px 1px rgba(60, 64, 67, 0.15);\n",
              "      fill: #174EA6;\n",
              "    }\n",
              "\n",
              "    [theme=dark] .colab-df-convert {\n",
              "      background-color: #3B4455;\n",
              "      fill: #D2E3FC;\n",
              "    }\n",
              "\n",
              "    [theme=dark] .colab-df-convert:hover {\n",
              "      background-color: #434B5C;\n",
              "      box-shadow: 0px 1px 3px 1px rgba(0, 0, 0, 0.15);\n",
              "      filter: drop-shadow(0px 1px 2px rgba(0, 0, 0, 0.3));\n",
              "      fill: #FFFFFF;\n",
              "    }\n",
              "  </style>\n",
              "\n",
              "      <script>\n",
              "        const buttonEl =\n",
              "          document.querySelector('#df-77f94c3c-0570-444a-b8a0-b32b82eb1b34 button.colab-df-convert');\n",
              "        buttonEl.style.display =\n",
              "          google.colab.kernel.accessAllowed ? 'block' : 'none';\n",
              "\n",
              "        async function convertToInteractive(key) {\n",
              "          const element = document.querySelector('#df-77f94c3c-0570-444a-b8a0-b32b82eb1b34');\n",
              "          const dataTable =\n",
              "            await google.colab.kernel.invokeFunction('convertToInteractive',\n",
              "                                                     [key], {});\n",
              "          if (!dataTable) return;\n",
              "\n",
              "          const docLinkHtml = 'Like what you see? Visit the ' +\n",
              "            '<a target=\"_blank\" href=https://colab.research.google.com/notebooks/data_table.ipynb>data table notebook</a>'\n",
              "            + ' to learn more about interactive tables.';\n",
              "          element.innerHTML = '';\n",
              "          dataTable['output_type'] = 'display_data';\n",
              "          await google.colab.output.renderOutput(dataTable, element);\n",
              "          const docLink = document.createElement('div');\n",
              "          docLink.innerHTML = docLinkHtml;\n",
              "          element.appendChild(docLink);\n",
              "        }\n",
              "      </script>\n",
              "    </div>\n",
              "  </div>\n",
              "  "
            ]
          },
          "metadata": {},
          "execution_count": 39
        }
      ]
    },
    {
      "cell_type": "code",
      "source": [
        "# SOURCE : https://github.com/dmlc/dgl/issues/3364\n",
        "src, dst = np.nonzero(X_kbest_features)"
      ],
      "metadata": {
        "id": "P6OeMUnQZsrN"
      },
      "execution_count": 40,
      "outputs": []
    },
    {
      "cell_type": "code",
      "source": [
        "src"
      ],
      "metadata": {
        "colab": {
          "base_uri": "https://localhost:8080/"
        },
        "id": "o9mbiGeJargk",
        "outputId": "0474061d-14f6-4d47-b78b-100b7a3e0fab"
      },
      "execution_count": 41,
      "outputs": [
        {
          "output_type": "execute_result",
          "data": {
            "text/plain": [
              "array([   0,    0,    0, ..., 1599, 1599, 1599])"
            ]
          },
          "metadata": {},
          "execution_count": 41
        }
      ]
    },
    {
      "cell_type": "code",
      "source": [
        "dst"
      ],
      "metadata": {
        "colab": {
          "base_uri": "https://localhost:8080/"
        },
        "id": "ftpsumT5ataU",
        "outputId": "ec8f731b-7205-4df5-ecce-5cc636d4afc0"
      },
      "execution_count": 42,
      "outputs": [
        {
          "output_type": "execute_result",
          "data": {
            "text/plain": [
              "array([134, 140, 272, ..., 933, 965, 996])"
            ]
          },
          "metadata": {},
          "execution_count": 42
        }
      ]
    },
    {
      "cell_type": "code",
      "source": [
        "g = dgl.graph((src, dst))"
      ],
      "metadata": {
        "id": "586xOg_vZvs8"
      },
      "execution_count": 43,
      "outputs": []
    },
    {
      "cell_type": "code",
      "source": [
        "#g.ndata\n",
        "g.ndata['feat'] = torch.tensor(X_kbest_features)\n",
        "g.ndata['feat'] "
      ],
      "metadata": {
        "colab": {
          "base_uri": "https://localhost:8080/"
        },
        "id": "PJAJEsbkFd4I",
        "outputId": "2ea391dd-5652-4bb3-9981-6af5cefd5fbb"
      },
      "execution_count": 44,
      "outputs": [
        {
          "output_type": "execute_result",
          "data": {
            "text/plain": [
              "tensor([[0., 0., 0.,  ..., 0., 0., 0.],\n",
              "        [0., 0., 0.,  ..., 0., 0., 0.],\n",
              "        [0., 0., 0.,  ..., 0., 0., 0.],\n",
              "        ...,\n",
              "        [0., 0., 0.,  ..., 0., 0., 0.],\n",
              "        [0., 0., 0.,  ..., 0., 0., 0.],\n",
              "        [0., 0., 0.,  ..., 0., 0., 0.]], dtype=torch.float64)"
            ]
          },
          "metadata": {},
          "execution_count": 44
        }
      ]
    },
    {
      "cell_type": "code",
      "source": [
        "n_nodes = g.num_nodes()\n",
        "n_nodes"
      ],
      "metadata": {
        "colab": {
          "base_uri": "https://localhost:8080/"
        },
        "id": "1sx5KTl9PYUe",
        "outputId": "cf8e485f-70e5-4418-bb11-6e088841777c"
      },
      "execution_count": 45,
      "outputs": [
        {
          "output_type": "execute_result",
          "data": {
            "text/plain": [
              "1600"
            ]
          },
          "metadata": {},
          "execution_count": 45
        }
      ]
    },
    {
      "cell_type": "code",
      "source": [
        "nodes = g.nodes()\n",
        "nodes"
      ],
      "metadata": {
        "colab": {
          "base_uri": "https://localhost:8080/"
        },
        "id": "X966_YkOPYWw",
        "outputId": "58abbdcc-4685-4da6-e915-e4c3e8c594d9"
      },
      "execution_count": 46,
      "outputs": [
        {
          "output_type": "execute_result",
          "data": {
            "text/plain": [
              "tensor([   0,    1,    2,  ..., 1597, 1598, 1599])"
            ]
          },
          "metadata": {},
          "execution_count": 46
        }
      ]
    },
    {
      "cell_type": "code",
      "source": [
        "n_nodes1 = g.number_of_nodes()\n",
        "n_nodes1"
      ],
      "metadata": {
        "colab": {
          "base_uri": "https://localhost:8080/"
        },
        "id": "eBfrj943UfIY",
        "outputId": "98a626b0-6ca6-4750-ad2e-d835bed28ab6"
      },
      "execution_count": 47,
      "outputs": [
        {
          "output_type": "execute_result",
          "data": {
            "text/plain": [
              "1600"
            ]
          },
          "metadata": {},
          "execution_count": 47
        }
      ]
    },
    {
      "cell_type": "code",
      "source": [
        "n_train = int(n_nodes1 * 0.9)\n",
        "n_val = int(n_nodes1 * 0.1)"
      ],
      "metadata": {
        "id": "SZYQiQqEmXJb"
      },
      "execution_count": 48,
      "outputs": []
    },
    {
      "cell_type": "code",
      "source": [
        "train_mask = torch.zeros(n_nodes, dtype=torch.bool)\n",
        "len(train_mask)\n",
        "train_mask"
      ],
      "metadata": {
        "colab": {
          "base_uri": "https://localhost:8080/"
        },
        "id": "PkJ5DhnOmy1K",
        "outputId": "5cb95c6d-b0ce-4aa7-a3b9-6279b7593f65"
      },
      "execution_count": 49,
      "outputs": [
        {
          "output_type": "execute_result",
          "data": {
            "text/plain": [
              "tensor([False, False, False,  ..., False, False, False])"
            ]
          },
          "metadata": {},
          "execution_count": 49
        }
      ]
    },
    {
      "cell_type": "code",
      "source": [
        "val_mask = torch.zeros(n_nodes, dtype=torch.bool)\n",
        "len(val_mask)\n",
        "val_mask"
      ],
      "metadata": {
        "colab": {
          "base_uri": "https://localhost:8080/"
        },
        "id": "G0v0Uq_Wm3eS",
        "outputId": "5dc3687d-b861-4064-daf2-67b8af20ae9c"
      },
      "execution_count": 50,
      "outputs": [
        {
          "output_type": "execute_result",
          "data": {
            "text/plain": [
              "tensor([False, False, False,  ..., False, False, False])"
            ]
          },
          "metadata": {},
          "execution_count": 50
        }
      ]
    },
    {
      "cell_type": "code",
      "source": [
        "train_mask[:n_train] = True"
      ],
      "metadata": {
        "id": "x2aQxYaimXLj"
      },
      "execution_count": 51,
      "outputs": []
    },
    {
      "cell_type": "code",
      "source": [
        "val_mask[n_train:] = True\n"
      ],
      "metadata": {
        "id": "1TgTOVm0mXPd"
      },
      "execution_count": 52,
      "outputs": []
    },
    {
      "cell_type": "code",
      "source": [
        "g.ndata['train_mask'] = train_mask"
      ],
      "metadata": {
        "id": "AoRuraDInRHu"
      },
      "execution_count": 53,
      "outputs": []
    },
    {
      "cell_type": "code",
      "source": [
        "g.ndata['val_mask'] = val_mask"
      ],
      "metadata": {
        "id": "pU8Ro7FsntTY"
      },
      "execution_count": 54,
      "outputs": []
    },
    {
      "cell_type": "code",
      "source": [
        "s_array = df['Class'].to_numpy()\n",
        "s_array"
      ],
      "metadata": {
        "colab": {
          "base_uri": "https://localhost:8080/"
        },
        "id": "BeIWr8AMoNpQ",
        "outputId": "1ed7936e-4c67-4a82-e237-8093d0473e5f"
      },
      "execution_count": 55,
      "outputs": [
        {
          "output_type": "execute_result",
          "data": {
            "text/plain": [
              "array([0, 1, 1, ..., 1, 0, 1])"
            ]
          },
          "metadata": {},
          "execution_count": 55
        }
      ]
    },
    {
      "cell_type": "code",
      "source": [
        "t1 = torch.tensor(s_array)\n",
        "t1"
      ],
      "metadata": {
        "colab": {
          "base_uri": "https://localhost:8080/"
        },
        "id": "R97wW7EUoNrT",
        "outputId": "75bda741-a0a5-4071-b767-f5657d3efe44"
      },
      "execution_count": 56,
      "outputs": [
        {
          "output_type": "execute_result",
          "data": {
            "text/plain": [
              "tensor([0, 1, 1,  ..., 1, 0, 1])"
            ]
          },
          "metadata": {},
          "execution_count": 56
        }
      ]
    },
    {
      "cell_type": "code",
      "source": [
        "g.ndata[\"label\"] =t1"
      ],
      "metadata": {
        "id": "hO8JibL0oNwE"
      },
      "execution_count": 57,
      "outputs": []
    },
    {
      "cell_type": "code",
      "source": [
        "label = g.ndata[\"label\"]"
      ],
      "metadata": {
        "id": "G2mtSADLoNx9"
      },
      "execution_count": 58,
      "outputs": []
    },
    {
      "cell_type": "code",
      "source": [
        "label[train_mask]"
      ],
      "metadata": {
        "colab": {
          "base_uri": "https://localhost:8080/"
        },
        "id": "YsuJWgi_eVHj",
        "outputId": "a77a0648-e531-4c51-aa84-31bac7677fe0"
      },
      "execution_count": 59,
      "outputs": [
        {
          "output_type": "execute_result",
          "data": {
            "text/plain": [
              "tensor([0, 1, 1,  ..., 0, 1, 0])"
            ]
          },
          "metadata": {},
          "execution_count": 59
        }
      ]
    },
    {
      "cell_type": "code",
      "source": [
        "label[val_mask]"
      ],
      "metadata": {
        "colab": {
          "base_uri": "https://localhost:8080/"
        },
        "id": "kvhuvz2hecjK",
        "outputId": "69805a31-05c3-4296-bcc2-b360cc5c72ec"
      },
      "execution_count": 60,
      "outputs": [
        {
          "output_type": "execute_result",
          "data": {
            "text/plain": [
              "tensor([0, 0, 0, 1, 1, 0, 0, 0, 1, 1, 1, 1, 1, 0, 1, 1, 0, 0, 0, 1, 0, 0, 1, 0,\n",
              "        0, 1, 1, 0, 0, 1, 1, 1, 0, 1, 1, 1, 1, 1, 1, 1, 1, 0, 1, 0, 1, 1, 0, 1,\n",
              "        0, 0, 1, 1, 1, 1, 0, 1, 1, 0, 1, 0, 1, 1, 1, 0, 1, 1, 0, 0, 0, 0, 1, 1,\n",
              "        1, 1, 1, 0, 0, 0, 0, 1, 0, 0, 1, 1, 0, 1, 1, 1, 0, 0, 0, 0, 0, 0, 1, 0,\n",
              "        1, 0, 0, 0, 1, 1, 1, 0, 1, 0, 1, 1, 1, 0, 0, 1, 0, 1, 0, 0, 0, 0, 1, 1,\n",
              "        1, 0, 0, 0, 1, 0, 1, 0, 1, 1, 0, 0, 1, 1, 1, 0, 1, 1, 0, 0, 1, 0, 0, 1,\n",
              "        1, 1, 0, 1, 0, 1, 0, 0, 1, 1, 1, 1, 0, 1, 0, 1])"
            ]
          },
          "metadata": {},
          "execution_count": 60
        }
      ]
    },
    {
      "cell_type": "code",
      "source": [
        "g.ndata"
      ],
      "metadata": {
        "colab": {
          "base_uri": "https://localhost:8080/"
        },
        "id": "qulmKwjmn4QZ",
        "outputId": "a19eedf8-7276-416c-d3aa-aeb1092c1a88"
      },
      "execution_count": 61,
      "outputs": [
        {
          "output_type": "execute_result",
          "data": {
            "text/plain": [
              "{'feat': tensor([[0., 0., 0.,  ..., 0., 0., 0.],\n",
              "        [0., 0., 0.,  ..., 0., 0., 0.],\n",
              "        [0., 0., 0.,  ..., 0., 0., 0.],\n",
              "        ...,\n",
              "        [0., 0., 0.,  ..., 0., 0., 0.],\n",
              "        [0., 0., 0.,  ..., 0., 0., 0.],\n",
              "        [0., 0., 0.,  ..., 0., 0., 0.]], dtype=torch.float64), 'train_mask': tensor([ True,  True,  True,  ..., False, False, False]), 'val_mask': tensor([False, False, False,  ...,  True,  True,  True]), 'label': tensor([0, 1, 1,  ..., 1, 0, 1])}"
            ]
          },
          "metadata": {},
          "execution_count": 61
        }
      ]
    },
    {
      "cell_type": "code",
      "source": [
        "train_mask"
      ],
      "metadata": {
        "colab": {
          "base_uri": "https://localhost:8080/"
        },
        "id": "3y5BqD8cn98w",
        "outputId": "fb2dc14e-52b3-4d43-edfa-2c60b3a8e163"
      },
      "execution_count": 62,
      "outputs": [
        {
          "output_type": "execute_result",
          "data": {
            "text/plain": [
              "tensor([ True,  True,  True,  ..., False, False, False])"
            ]
          },
          "metadata": {},
          "execution_count": 62
        }
      ]
    },
    {
      "cell_type": "code",
      "source": [
        "val_mask"
      ],
      "metadata": {
        "colab": {
          "base_uri": "https://localhost:8080/"
        },
        "id": "5KuQJLqCdLcy",
        "outputId": "f8a72b87-14ec-4b57-9f00-c977b71d1e50"
      },
      "execution_count": 63,
      "outputs": [
        {
          "output_type": "execute_result",
          "data": {
            "text/plain": [
              "tensor([False, False, False,  ...,  True,  True,  True])"
            ]
          },
          "metadata": {},
          "execution_count": 63
        }
      ]
    },
    {
      "cell_type": "code",
      "source": [
        "clf = LogisticRegression()\n",
        "clf.fit(g.ndata['feat'][train_mask,:], label[train_mask])\n",
        "\n",
        "#y_hat_val_lr = clf.predict_proba(X_kbest_features[val_mask,:])\n",
        "y_val_lr = clf.predict(g.ndata['feat'][val_mask,:])"
      ],
      "metadata": {
        "id": "BdBvTy7lel4j"
      },
      "execution_count": 64,
      "outputs": []
    },
    {
      "cell_type": "code",
      "source": [
        "accuracy_score(label[val_mask], y_val_lr)"
      ],
      "metadata": {
        "colab": {
          "base_uri": "https://localhost:8080/"
        },
        "id": "zdTuFzygeupD",
        "outputId": "e41d4159-b642-4e2c-e5ba-ef2a60cbc33d"
      },
      "execution_count": 65,
      "outputs": [
        {
          "output_type": "execute_result",
          "data": {
            "text/plain": [
              "0.88125"
            ]
          },
          "metadata": {},
          "execution_count": 65
        }
      ]
    },
    {
      "cell_type": "code",
      "source": [
        "clf_balanced = LogisticRegression(class_weight='balanced', max_iter=1000)\n",
        "clf_balanced.fit(g.ndata['feat'][train_mask,:], label[train_mask])\n",
        "\n",
        "y_val_lrb = clf_balanced.predict(g.ndata['feat'][val_mask,:])"
      ],
      "metadata": {
        "id": "vrZr6kjJdPfi"
      },
      "execution_count": 66,
      "outputs": []
    },
    {
      "cell_type": "code",
      "source": [
        "accuracy_score(label[val_mask], y_val_lrb)"
      ],
      "metadata": {
        "colab": {
          "base_uri": "https://localhost:8080/"
        },
        "id": "0_u19X0DdPjQ",
        "outputId": "542a052f-18e3-42b5-e262-37111a0593de"
      },
      "execution_count": 67,
      "outputs": [
        {
          "output_type": "execute_result",
          "data": {
            "text/plain": [
              "0.88125"
            ]
          },
          "metadata": {},
          "execution_count": 67
        }
      ]
    },
    {
      "cell_type": "code",
      "source": [
        "rf = RandomForestClassifier(n_estimators=400)\n",
        "rf.fit(g.ndata['feat'][train_mask,:], label[train_mask])\n",
        "\n",
        "y_val_rf = rf.predict(g.ndata['feat'][val_mask,:])\n",
        "accuracy_score(label[val_mask], y_val_rf)\n"
      ],
      "metadata": {
        "colab": {
          "base_uri": "https://localhost:8080/"
        },
        "id": "dUHGG5bUdPmp",
        "outputId": "e7a54c8d-3b26-4fa8-f70e-63b6e78e6dc0"
      },
      "execution_count": 68,
      "outputs": [
        {
          "output_type": "execute_result",
          "data": {
            "text/plain": [
              "0.84375"
            ]
          },
          "metadata": {},
          "execution_count": 68
        }
      ]
    },
    {
      "cell_type": "code",
      "source": [
        "gb = GradientBoostingClassifier(n_estimators=300, learning_rate=1.0, max_depth=1, random_state=0)\n",
        "gb.fit(g.ndata['feat'][train_mask,:], label[train_mask])\n",
        "\n",
        "y_val_rf = gb.predict(g.ndata['feat'][val_mask,:])\n",
        "accuracy_score(label[val_mask], y_val_rf)"
      ],
      "metadata": {
        "colab": {
          "base_uri": "https://localhost:8080/"
        },
        "id": "yn4dNSPXgJuy",
        "outputId": "08b22c1a-9aae-4bb7-c6c1-45d5f2e2e111"
      },
      "execution_count": 69,
      "outputs": [
        {
          "output_type": "execute_result",
          "data": {
            "text/plain": [
              "0.8125"
            ]
          },
          "metadata": {},
          "execution_count": 69
        }
      ]
    },
    {
      "cell_type": "code",
      "source": [
        "ab = AdaBoostClassifier(n_estimators=400, random_state=0)\n",
        "ab.fit(g.ndata['feat'][train_mask,:], label[train_mask])\n",
        "\n",
        "y_val_rf = ab.predict(g.ndata['feat'][val_mask,:])\n",
        "accuracy_score(label[val_mask], y_val_rf)"
      ],
      "metadata": {
        "colab": {
          "base_uri": "https://localhost:8080/"
        },
        "id": "7QYFwyqhgJyg",
        "outputId": "cb9a9833-b3c3-45ec-8b20-fac38e86fb8f"
      },
      "execution_count": 70,
      "outputs": [
        {
          "output_type": "execute_result",
          "data": {
            "text/plain": [
              "0.825"
            ]
          },
          "metadata": {},
          "execution_count": 70
        }
      ]
    },
    {
      "cell_type": "code",
      "source": [
        "from sklearn.model_selection import KFold\n",
        "from sklearn.model_selection import StratifiedKFold\n",
        "from sklearn.model_selection import cross_val_score\n",
        "cv = KFold(n_splits=10, random_state=1, shuffle=True)"
      ],
      "metadata": {
        "id": "oiJqzNz2hZIp"
      },
      "execution_count": 71,
      "outputs": []
    },
    {
      "cell_type": "code",
      "source": [
        "from sklearn.linear_model import LogisticRegression\n",
        "log = LogisticRegression(max_iter=10000) \n",
        "scores = cross_val_score(log, g.ndata['feat'], label, cv=cv, n_jobs=-1)\n",
        "print(np.mean(scores))"
      ],
      "metadata": {
        "colab": {
          "base_uri": "https://localhost:8080/"
        },
        "id": "6cJGco59gJ1p",
        "outputId": "d924d80d-bc76-4229-80a0-200a11a609ad"
      },
      "execution_count": 72,
      "outputs": [
        {
          "output_type": "stream",
          "name": "stdout",
          "text": [
            "0.8912500000000001\n"
          ]
        }
      ]
    },
    {
      "cell_type": "code",
      "source": [
        "from sklearn.svm import LinearSVC\n",
        "lsvm = LinearSVC()\n",
        "scores = cross_val_score(lsvm, g.ndata['feat'], label, cv=cv, n_jobs=-1)\n",
        "print(np.mean(scores))"
      ],
      "metadata": {
        "colab": {
          "base_uri": "https://localhost:8080/"
        },
        "id": "YX_3WXWPgJ5C",
        "outputId": "19555a70-0ab9-47fe-b2ec-fae3c20ed814"
      },
      "execution_count": 73,
      "outputs": [
        {
          "output_type": "stream",
          "name": "stdout",
          "text": [
            "0.9093749999999998\n"
          ]
        }
      ]
    },
    {
      "cell_type": "code",
      "source": [
        "from sklearn.linear_model import PassiveAggressiveClassifier\n",
        "pa=PassiveAggressiveClassifier(max_iter=1000, random_state=7, tol=1e-3)\n",
        "scores = cross_val_score(pa, g.ndata['feat'], label, cv=cv, n_jobs=-1)\n",
        "print(np.mean(scores))"
      ],
      "metadata": {
        "colab": {
          "base_uri": "https://localhost:8080/"
        },
        "id": "1s3b_2xfhsng",
        "outputId": "cf39b3c4-90d1-4938-b90d-7acc5709776d"
      },
      "execution_count": 74,
      "outputs": [
        {
          "output_type": "stream",
          "name": "stdout",
          "text": [
            "0.8868750000000001\n"
          ]
        }
      ]
    },
    {
      "cell_type": "code",
      "source": [
        "from sklearn.ensemble import RandomForestClassifier\n",
        "rf = RandomForestClassifier(n_estimators=300)\n",
        "scores = cross_val_score(rf, g.ndata['feat'], label, cv=cv, n_jobs=-1)\n",
        "print(np.mean(scores))"
      ],
      "metadata": {
        "colab": {
          "base_uri": "https://localhost:8080/"
        },
        "id": "CXg80GkUhsrr",
        "outputId": "743e6e28-2732-43f1-ec5f-796236072803"
      },
      "execution_count": 75,
      "outputs": [
        {
          "output_type": "stream",
          "name": "stdout",
          "text": [
            "0.86625\n"
          ]
        }
      ]
    },
    {
      "cell_type": "code",
      "source": [
        "import xgboost as xgb\n",
        "xgbc = xgb.XGBClassifier(base_score=0.5, booster='gbtree', colsample_bylevel=1,\n",
        "              colsample_bynode=1, colsample_bytree=1, \n",
        "              gamma=0,  importance_type='gain',\n",
        "              interaction_constraints='', learning_rate=0.300000012,\n",
        "              max_delta_step=0, max_depth=6, min_child_weight=1, \n",
        "             n_estimators=200, n_jobs=16,\n",
        "              num_parallel_tree=1, random_state=0,\n",
        "              reg_alpha=0, reg_lambda=1, subsample=1,\n",
        "              tree_method='exact', use_label_encoder=False\n",
        "              )\n",
        "scores = cross_val_score(xgbc, g.ndata['feat'], label, cv=cv, n_jobs=-1)\n",
        "print(np.mean(scores))"
      ],
      "metadata": {
        "colab": {
          "base_uri": "https://localhost:8080/"
        },
        "id": "w0JUReguhsv3",
        "outputId": "d5281d68-9ee8-4baf-fb8d-babeee2d8707"
      },
      "execution_count": 76,
      "outputs": [
        {
          "output_type": "stream",
          "name": "stdout",
          "text": [
            "0.8518749999999999\n"
          ]
        }
      ]
    }
  ],
  "metadata": {
    "colab": {
      "provenance": [],
      "collapsed_sections": []
    },
    "kernelspec": {
      "display_name": "Python 3",
      "language": "python",
      "name": "python3"
    },
    "language_info": {
      "codemirror_mode": {
        "name": "ipython",
        "version": 3
      },
      "file_extension": ".py",
      "mimetype": "text/x-python",
      "name": "python",
      "nbconvert_exporter": "python",
      "pygments_lexer": "ipython3",
      "version": "3.6.8"
    },
    "accelerator": "GPU"
  },
  "nbformat": 4,
  "nbformat_minor": 0
}